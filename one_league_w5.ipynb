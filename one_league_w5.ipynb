{
  "nbformat": 4,
  "nbformat_minor": 0,
  "metadata": {
    "colab": {
      "provenance": [],
      "include_colab_link": true
    },
    "kernelspec": {
      "name": "python3",
      "display_name": "Python 3"
    },
    "language_info": {
      "name": "python"
    }
  },
  "cells": [
    {
      "cell_type": "markdown",
      "metadata": {
        "id": "view-in-github",
        "colab_type": "text"
      },
      "source": [
        "<a href=\"https://colab.research.google.com/github/iPrinka/MITx-Micromasters-Statistics-Data-Science/blob/main/one_league_w5.ipynb\" target=\"_parent\"><img src=\"https://colab.research.google.com/assets/colab-badge.svg\" alt=\"Open In Colab\"/></a>"
      ]
    },
    {
      "cell_type": "markdown",
      "source": [
        "### Classifying Handwritten Digits\n",
        "\n",
        "**OBJECTIVES**\n",
        "\n",
        "- Use SVM to classifiy handwritten digits\n",
        "- Explore different kernels in SVM\n",
        "- Use `sklearn` to fine tune estimators performance\n",
        "- Use `Pipeline` and `GridSearchCV` in sklearn to optimize performance"
      ],
      "metadata": {
        "id": "li6WRo-jX3Mx"
      }
    },
    {
      "cell_type": "code",
      "source": [
        "import matplotlib.pyplot as plt\n",
        "import numpy as np\n",
        "import pandas as pd\n",
        "import seaborn as sns\n",
        "\n",
        "from sklearn.linear_model import LogisticRegression, Perceptron, LinearRegression\n",
        "from sklearn.svm import LinearSVC, SVC\n",
        "from sklearn.preprocessing import StandardScaler\n",
        "from sklearn.decomposition import PCA \n",
        "from sklearn.metrics import accuracy_score"
      ],
      "metadata": {
        "id": "A0fdV1_JYtC0"
      },
      "execution_count": null,
      "outputs": []
    },
    {
      "cell_type": "code",
      "source": [
        "from keras.datasets import mnist"
      ],
      "metadata": {
        "id": "0txBhVvhZZEb"
      },
      "execution_count": null,
      "outputs": []
    },
    {
      "cell_type": "code",
      "source": [
        "#load the data\n",
        "(x_train, y_train), (x_test, y_test) = mnist.load_data()"
      ],
      "metadata": {
        "id": "uMOWe3VjZ3c9"
      },
      "execution_count": null,
      "outputs": []
    },
    {
      "cell_type": "code",
      "source": [
        "#visualize the first datapoint\n",
        "plt.imshow(x_train[0], cmap = 'gray');"
      ],
      "metadata": {
        "id": "FtSumFNIZ884"
      },
      "execution_count": null,
      "outputs": []
    },
    {
      "cell_type": "code",
      "source": [
        "#examine unique values in y\n"
      ],
      "metadata": {
        "id": "XZhzanN1cSyi"
      },
      "execution_count": null,
      "outputs": []
    },
    {
      "cell_type": "code",
      "source": [],
      "metadata": {
        "id": "ajcVAeKLc81D"
      },
      "execution_count": null,
      "outputs": []
    },
    {
      "cell_type": "markdown",
      "source": [
        "#### Preparing the Data\n",
        "\n",
        "- Flatten the images\n",
        "- Scale the data\n"
      ],
      "metadata": {
        "id": "Ye31b3-8c8WI"
      }
    },
    {
      "cell_type": "code",
      "source": [
        "#examine the shape\n"
      ],
      "metadata": {
        "id": "4VZQ3Y9gdIJa"
      },
      "execution_count": null,
      "outputs": []
    },
    {
      "cell_type": "code",
      "source": [
        "#reshape x_train\n"
      ],
      "metadata": {
        "id": "hgN3p7tudIEe"
      },
      "execution_count": null,
      "outputs": []
    },
    {
      "cell_type": "code",
      "source": [
        "#reshape x_test\n"
      ],
      "metadata": {
        "id": "xvZJF1oPdH-_"
      },
      "execution_count": null,
      "outputs": []
    },
    {
      "cell_type": "markdown",
      "source": [
        "**StandardScaler**\n",
        "\n",
        "$$x_i = \\frac{x_i - \\mu}{\\sigma}$$"
      ],
      "metadata": {
        "id": "xhE2sluUdHyw"
      }
    },
    {
      "cell_type": "code",
      "source": [
        "#by hand - find mean and standard deviation\n"
      ],
      "metadata": {
        "id": "uaN2X9_Kdsld"
      },
      "execution_count": null,
      "outputs": []
    },
    {
      "cell_type": "code",
      "source": [
        "#apply them\n"
      ],
      "metadata": {
        "id": "HIWi4aH2du3O"
      },
      "execution_count": null,
      "outputs": []
    },
    {
      "cell_type": "code",
      "source": [
        "#using sklearn -- instantiate\n"
      ],
      "metadata": {
        "id": "MZwc2d3IdyhQ"
      },
      "execution_count": null,
      "outputs": []
    },
    {
      "cell_type": "code",
      "source": [
        "#fit\n"
      ],
      "metadata": {
        "id": "IBzLX_tyd85Z"
      },
      "execution_count": null,
      "outputs": []
    },
    {
      "cell_type": "code",
      "source": [
        "#transform\n"
      ],
      "metadata": {
        "id": "7286jDEFd9bP"
      },
      "execution_count": null,
      "outputs": []
    },
    {
      "cell_type": "code",
      "source": [
        "#all in one with fit_transform\n"
      ],
      "metadata": {
        "id": "AVVBvwmtd-PG"
      },
      "execution_count": null,
      "outputs": []
    },
    {
      "cell_type": "markdown",
      "source": [
        "#### `LinearRegression`"
      ],
      "metadata": {
        "id": "r_Glb9E3eAWV"
      }
    },
    {
      "cell_type": "code",
      "source": [
        "#instantiate\n"
      ],
      "metadata": {
        "id": "Pho7oV2IePh3"
      },
      "execution_count": null,
      "outputs": []
    },
    {
      "cell_type": "code",
      "source": [
        "#fit\n"
      ],
      "metadata": {
        "id": "RlJeVV2teRa-"
      },
      "execution_count": null,
      "outputs": []
    },
    {
      "cell_type": "code",
      "source": [
        "#predict\n"
      ],
      "metadata": {
        "id": "THJgBPb5eSWN"
      },
      "execution_count": null,
      "outputs": []
    },
    {
      "cell_type": "code",
      "source": [
        "#score it\n"
      ],
      "metadata": {
        "id": "C3Owjt2peTg6"
      },
      "execution_count": null,
      "outputs": []
    },
    {
      "cell_type": "markdown",
      "source": [
        "#### `LinearSVC`"
      ],
      "metadata": {
        "id": "CeNlT_PEeVwn"
      }
    },
    {
      "cell_type": "code",
      "source": [
        "#instantiate\n"
      ],
      "metadata": {
        "id": "VEYjnKAMffcT"
      },
      "execution_count": null,
      "outputs": []
    },
    {
      "cell_type": "code",
      "source": [
        "#fit\n"
      ],
      "metadata": {
        "id": "rANXiAXGfg03"
      },
      "execution_count": null,
      "outputs": []
    },
    {
      "cell_type": "code",
      "source": [
        "#score\n"
      ],
      "metadata": {
        "id": "I3VCgtJvfhXp"
      },
      "execution_count": null,
      "outputs": []
    },
    {
      "cell_type": "markdown",
      "source": [
        "#### `LogisticRegression`\n",
        "\n",
        "How to implement a multinomial model?  Inspect the documentation [here](https://scikit-learn.org/stable/modules/generated/sklearn.linear_model.LogisticRegression.html) and implement `LogisticRegression` as a multi-class model using multinomial regression.  "
      ],
      "metadata": {
        "id": "oWhuVKCNficd"
      }
    },
    {
      "cell_type": "code",
      "source": [
        "#instantiate\n"
      ],
      "metadata": {
        "id": "lSvDrR3Mfmg3"
      },
      "execution_count": null,
      "outputs": []
    },
    {
      "cell_type": "code",
      "source": [
        "#fit\n"
      ],
      "metadata": {
        "id": "mpOERoD6gULH"
      },
      "execution_count": null,
      "outputs": []
    },
    {
      "cell_type": "code",
      "source": [
        "#score on train and test\n"
      ],
      "metadata": {
        "id": "lbZYpllhgUul"
      },
      "execution_count": null,
      "outputs": []
    },
    {
      "cell_type": "markdown",
      "source": [
        "### Dimensionality Reduction with `PCA`\n",
        "\n",
        "Important notes:\n",
        "\n",
        "- Data should be scaled\n",
        "- Transformer with `fit` and `transform` methods\n",
        "\n",
        "[docs](https://scikit-learn.org/stable/modules/generated/sklearn.decomposition.PCA.html)"
      ],
      "metadata": {
        "id": "s4GjW4fggV-X"
      }
    },
    {
      "cell_type": "code",
      "source": [
        "#instantiate\n"
      ],
      "metadata": {
        "id": "RjkU1zyHhg3n"
      },
      "execution_count": null,
      "outputs": []
    },
    {
      "cell_type": "code",
      "source": [
        "#fit\n"
      ],
      "metadata": {
        "id": "WPcaKmAshp4H"
      },
      "execution_count": null,
      "outputs": []
    },
    {
      "cell_type": "code",
      "source": [
        "#transform\n"
      ],
      "metadata": {
        "id": "BICuxOAOhqck"
      },
      "execution_count": null,
      "outputs": []
    },
    {
      "cell_type": "code",
      "source": [
        "#shape of results?\n"
      ],
      "metadata": {
        "id": "x6NemXx8hrKa"
      },
      "execution_count": null,
      "outputs": []
    },
    {
      "cell_type": "code",
      "source": [
        "#redo with 10 principal components -- instantiate\n"
      ],
      "metadata": {
        "id": "TUVkhPnbhtpF"
      },
      "execution_count": null,
      "outputs": []
    },
    {
      "cell_type": "code",
      "source": [
        "#transform\n"
      ],
      "metadata": {
        "id": "QRsIE5FYhz5e"
      },
      "execution_count": null,
      "outputs": []
    },
    {
      "cell_type": "code",
      "source": [
        "#visualize first two components with classes\n"
      ],
      "metadata": {
        "id": "z3DVZALGiKMI"
      },
      "execution_count": null,
      "outputs": []
    },
    {
      "cell_type": "markdown",
      "source": [
        "#### SVM with Polynomial kernel\n",
        "\n",
        "Examine the documentation for the `SVC` classifier [here](https://scikit-learn.org/stable/modules/generated/sklearn.svm.SVC.html).  Implement a polynomial kernel with degree 3 on the PCA data from above and score this on the test data.  Compare this to an SVC with a gaussian (`rbf`) kernel.  Which performed. better?"
      ],
      "metadata": {
        "id": "W8C9Iwf_iOFE"
      }
    },
    {
      "cell_type": "code",
      "source": [
        "#instantiate model with polynomial degree 3\n"
      ],
      "metadata": {
        "id": "zdSb6sjMijPm"
      },
      "execution_count": null,
      "outputs": []
    },
    {
      "cell_type": "code",
      "source": [
        "#fit on training data\n"
      ],
      "metadata": {
        "id": "10LgjmRWjOxT"
      },
      "execution_count": null,
      "outputs": []
    },
    {
      "cell_type": "code",
      "source": [
        "#score on test data\n"
      ],
      "metadata": {
        "id": "Lhb3dQdWjQot"
      },
      "execution_count": null,
      "outputs": []
    },
    {
      "cell_type": "code",
      "source": [
        "#instantitate other model with rbf kernel\n"
      ],
      "metadata": {
        "id": "VxPbv9eEjSBL"
      },
      "execution_count": null,
      "outputs": []
    },
    {
      "cell_type": "code",
      "source": [
        "#fit \n"
      ],
      "metadata": {
        "id": "qamUvOw8jgov"
      },
      "execution_count": null,
      "outputs": []
    },
    {
      "cell_type": "code",
      "source": [
        "#score\n"
      ],
      "metadata": {
        "id": "SLY3LhsOjh5e"
      },
      "execution_count": null,
      "outputs": []
    },
    {
      "cell_type": "markdown",
      "source": [
        "#### Streamlining the Modeling Process\n",
        "\n",
        "- `Pipeline` to combine transformations and preprocessing steps\n",
        "- `GridSearchCV` to search different parameter combinations"
      ],
      "metadata": {
        "id": "v34528cQjifN"
      }
    },
    {
      "cell_type": "code",
      "source": [
        "#Pipeline to scale, pca, svc\n"
      ],
      "metadata": {
        "id": "AABz9E5jlBZ7"
      },
      "execution_count": null,
      "outputs": []
    },
    {
      "cell_type": "code",
      "source": [
        "#parameter grid to search \n"
      ],
      "metadata": {
        "id": "lZBqpr8wlEmP"
      },
      "execution_count": null,
      "outputs": []
    },
    {
      "cell_type": "code",
      "source": [
        "#grid search with pipeline\n"
      ],
      "metadata": {
        "id": "4uLonWT9lmaV"
      },
      "execution_count": null,
      "outputs": []
    },
    {
      "cell_type": "markdown",
      "source": [
        "#### Practice: FashionMNIST\n",
        "\n",
        "Below, a dataset of images of fashion items is loaded and displayed.  Your goal is to build a Support Vector Machine classifier considering different kernels and preprocessing variations."
      ],
      "metadata": {
        "id": "-VhECYOLlo10"
      }
    },
    {
      "cell_type": "code",
      "source": [
        "from keras.datasets import fashion_mnist"
      ],
      "metadata": {
        "id": "_40R3HPxmH1h"
      },
      "execution_count": null,
      "outputs": []
    },
    {
      "cell_type": "code",
      "source": [
        "(x_train, y_train), (x_test, y_test) = fashion_mnist.load_data()"
      ],
      "metadata": {
        "id": "JQB2bruEmP4i"
      },
      "execution_count": null,
      "outputs": []
    },
    {
      "cell_type": "code",
      "source": [
        "fig, ax = plt.subplots(1, 5, figsize = (25, 5))\n",
        "for i in range(5):\n",
        "  ax[i].imshow(x_train[i], cmap = 'gray')"
      ],
      "metadata": {
        "id": "zyFDhAoDmVBY"
      },
      "execution_count": null,
      "outputs": []
    },
    {
      "cell_type": "code",
      "source": [
        "x_train.shape"
      ],
      "metadata": {
        "id": "caU3FfNUmWVf"
      },
      "execution_count": null,
      "outputs": []
    },
    {
      "cell_type": "code",
      "source": [],
      "metadata": {
        "id": "cWwwdm72mno4"
      },
      "execution_count": null,
      "outputs": []
    },
    {
      "cell_type": "code",
      "source": [],
      "metadata": {
        "id": "S0EZXigPmnmS"
      },
      "execution_count": null,
      "outputs": []
    },
    {
      "cell_type": "code",
      "source": [],
      "metadata": {
        "id": "QHmtqoN9mnjp"
      },
      "execution_count": null,
      "outputs": []
    },
    {
      "cell_type": "code",
      "source": [],
      "metadata": {
        "id": "uMuNxZr7mnhB"
      },
      "execution_count": null,
      "outputs": []
    },
    {
      "cell_type": "code",
      "source": [],
      "metadata": {
        "id": "M9Yf0UW8mnep"
      },
      "execution_count": null,
      "outputs": []
    },
    {
      "cell_type": "code",
      "source": [],
      "metadata": {
        "id": "VXxgywqXmnby"
      },
      "execution_count": null,
      "outputs": []
    },
    {
      "cell_type": "code",
      "source": [],
      "metadata": {
        "id": "lCWgqivDmnZG"
      },
      "execution_count": null,
      "outputs": []
    },
    {
      "cell_type": "code",
      "source": [],
      "metadata": {
        "id": "1eVXzzrSmlxe"
      },
      "execution_count": null,
      "outputs": []
    }
  ]
}