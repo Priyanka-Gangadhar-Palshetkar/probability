{
  "nbformat": 4,
  "nbformat_minor": 0,
  "metadata": {
    "colab": {
      "provenance": [],
      "collapsed_sections": [],
      "include_colab_link": true
    },
    "kernelspec": {
      "name": "python3",
      "display_name": "Python 3"
    },
    "language_info": {
      "name": "python"
    }
  },
  "cells": [
    {
      "cell_type": "markdown",
      "metadata": {
        "id": "view-in-github",
        "colab_type": "text"
      },
      "source": [
        "<a href=\"https://colab.research.google.com/github/Priyanka-Gangadhar-Palshetkar/probability/blob/main/Junior_Analyst_(exercise).ipynb\" target=\"_parent\"><img src=\"https://colab.research.google.com/assets/colab-badge.svg\" alt=\"Open In Colab\"/></a>"
      ]
    },
    {
      "cell_type": "markdown",
      "source": [
        "# The Junior Analyst problem\n",
        "\n",
        "To recap, the rules:\n",
        "\n",
        "1. There is a single position to fill.\n",
        "2. There are $n$ applicants for the position, and the value of $n$ is known.\n",
        "3. The applicants, if seen altogether, can be ranked from best to worst unambiguously.\n",
        "4. The applicants are interviewed sequentially in random order, with each order being equally likely.\n",
        "5. Immediately after an interview, the interviewed applicant is either accepted or rejected, and the decision is irrevocable.\n",
        "6. The decision to accept or reject an applicant can be based only on the relative ranks of the applicants interviewed so far.\n",
        "\n",
        "The objective of the general solution is to have the highest probability of selecting the best applicant of the whole group. This is the same as maximizing the expected payoff, with payoff defined to be one for the best applicant and zero otherwise.\n",
        "\n",
        "## Discovering the optimal strategy\n",
        "\n",
        "In the previous class we discussed that, to gauge the general level of candidates, there will have to be some number of rejections, after which the strategy will be to accept the first candidate that reaches a some threshold of performance. What is the \"optimal\" number of rejections?"
      ],
      "metadata": {
        "id": "jkc1LqJO9RnI"
      }
    },
    {
      "cell_type": "markdown",
      "source": [
        "## Task 1\n",
        "\n",
        "Fix some $n$, say $n=20$ (rule 2), and simulate some random order (rule 4). Since we need to distinguish the candidates from best to worst (rule 3), simulating an order is equivalent to assigning distinct performance scores 1, ..., n (or 0, ..., n-1 for ease of programming). \n",
        "\n",
        "To start, let's consider the policy of always selecting the first candidate. By simulating different orderings for a large number of recruitment scenarios (say, 1,000 or 10,000), compute the fraction of simulations where the first candidate is the best. Does this correspond to your probabilistic intuition?\n",
        "\n"
      ],
      "metadata": {
        "id": "kNVkrqNQO74v"
      }
    },
    {
      "cell_type": "code",
      "source": [
        "import numpy as np\n",
        "\n",
        "n = 20\n",
        "\n",
        "first_best = 0\n",
        "for _ in range(10000):\n",
        "  # simulating a random ordering of candidates in terms of their performance scores\n",
        "  perm = np.random.permutation(n)\n",
        "\n",
        "  # check if the strategy of hiring first candidate succeeds (which means that the first candidate was best and has the highest score)\n",
        "  if perm[0] == 19:\n",
        "    first_best += 1\n",
        "\n",
        "# return how many times the first candidate was indeed best out of all experiments\n",
        "first_best / 10000"
      ],
      "metadata": {
        "id": "Mw9MVY_2k90e",
        "colab": {
          "base_uri": "https://localhost:8080/"
        },
        "outputId": "bbb66337-3278-4a65-cb76-8b9dba030aae"
      },
      "execution_count": null,
      "outputs": [
        {
          "output_type": "execute_result",
          "data": {
            "text/plain": [
              "0.0509"
            ]
          },
          "metadata": {},
          "execution_count": 1
        }
      ]
    },
    {
      "cell_type": "markdown",
      "source": [
        "Similarly, explore what happens when you observe all the candidates and accept the last one (which needs to happen irrespective of the score: in order to observe the last candidate, everyone else had to be rejected). What is the probability of accepting the best candidate then?"
      ],
      "metadata": {
        "id": "fLJ-V8ZaY3zE"
      }
    },
    {
      "cell_type": "code",
      "source": [
        "last_best = 0\n",
        "for _ in range(10000):\n",
        "  # simulating a random ordering of candidates in terms of their performance scores\n",
        "  perm = np.random.permutation(n)\n",
        "\n",
        "  # check if the strategy of hiring last candidate succeeds (which means that the last candidate was best and has the highest score)\n",
        "  if perm[19] == 19:\n",
        "    last_best += 1\n",
        "\n",
        "# return how many times the last candidate was indeed best out of all experiments\n",
        "last_best / 10000"
      ],
      "metadata": {
        "id": "AFODgtSlk-Kk",
        "colab": {
          "base_uri": "https://localhost:8080/"
        },
        "outputId": "fc7d4dd5-93e8-4c8b-9f55-ffb2b864674b"
      },
      "execution_count": null,
      "outputs": [
        {
          "output_type": "execute_result",
          "data": {
            "text/plain": [
              "0.0527"
            ]
          },
          "metadata": {},
          "execution_count": 2
        }
      ]
    },
    {
      "cell_type": "markdown",
      "source": [
        "## Task 2\n",
        "\n",
        "Clearly, neither strategy uses the information of observing the relative rankings of _some_ number of candidates before making the decision. \n",
        "\n",
        "To address this, suppose we now reject the first $r-1$ candidates to gauge the level of candidates and make the decision starting with the $r$-th candidate. \n",
        "\n",
        "We do not want to accept the $r$-th candidate who is not at least as good as the best candidate we have seen so far (who has obtained a reference score $s$). What is the probability that the $r$-th candidate is the best candidate among the candidates observed? How does this value change with $r$?\n",
        "\n",
        "Try computing the probability for a fixed $r$ and then experiment with different values of $r$. What can you conclude from this?\n"
      ],
      "metadata": {
        "id": "pdhayba-ZcuV"
      }
    },
    {
      "cell_type": "code",
      "source": [
        "import numpy as np\n",
        "\n",
        "n=20\n",
        "for r in range(1,n):\n",
        "  rth_best=0\n",
        "  for _ in range(10000):\n",
        "    # simulating a random ordering of candidates in terms of their performance scores\n",
        "    perm = np.random.permutation(n)\n",
        "    before_r = perm[:r]\n",
        "    max = np.max(before_r)\n",
        "\n",
        "    if max < perm[r]:\n",
        "      rth_best +=1\n",
        "  print(r, rth_best/10000)\n"
      ],
      "metadata": {
        "id": "5X-OU8aIk1of",
        "colab": {
          "base_uri": "https://localhost:8080/"
        },
        "outputId": "4a4f4d2b-0643-4499-f174-e1b4055ad5e4"
      },
      "execution_count": null,
      "outputs": [
        {
          "output_type": "stream",
          "name": "stdout",
          "text": [
            "1 0.5099\n",
            "2 0.3341\n",
            "3 0.2512\n",
            "4 0.2059\n",
            "5 0.1618\n",
            "6 0.142\n",
            "7 0.1253\n",
            "8 0.1089\n",
            "9 0.1005\n",
            "10 0.0925\n",
            "11 0.0822\n",
            "12 0.0757\n",
            "13 0.0721\n",
            "14 0.0668\n",
            "15 0.0638\n",
            "16 0.0594\n",
            "17 0.0571\n",
            "18 0.0534\n",
            "19 0.0482\n"
          ]
        }
      ]
    },
    {
      "cell_type": "markdown",
      "source": [
        "## Task 3\n",
        "\n",
        "If the $r$-th observed candidate is not among the best, we could choose to keep rejecting the candidates until we find the first one that outperforms the candidate of the reference score. \n",
        "\n",
        "Simulate this process. \n",
        "* For a fixed $r$ and $n$, what is the probability of accepting the best candidate?\n",
        "* For a fixed $n$, what is the $r$ that maximises that probability?"
      ],
      "metadata": {
        "id": "UB81ogOOeotu"
      }
    },
    {
      "cell_type": "code",
      "source": [
        "import numpy as np\n",
        "\n",
        "def func_find_best(r,n):\n",
        "  found_best=0   \n",
        "  best = 0\n",
        "  picked = 0             \n",
        "  for _ in range(10000):\n",
        "    perm = np.random.permutation(n) # complete list of ranks - # 1 7 19 18 ..............\n",
        "    before_r = perm[:r] \n",
        "    max = np.max(before_r) # this is the best among the rejected r\n",
        "\n",
        "    best = np.argmax(perm) # position of the best candidate in all n\n",
        "  \n",
        "    for k in range(r,n): \n",
        "      if (perm[k] > max):   \n",
        "        picked = k          # position of our picked candidate\n",
        "        break\n",
        "\n",
        "    if picked==best:\n",
        "      found_best+=1\n",
        "  \n",
        "  return found_best/10000"
      ],
      "metadata": {
        "id": "MPEwnfPzk2pm"
      },
      "execution_count": null,
      "outputs": []
    },
    {
      "cell_type": "code",
      "source": [
        "from matplotlib import pyplot as plt\n",
        "def best_r_for_n(n):\n",
        "  best_prob = 0\n",
        "  best_r = 0\n",
        "  r_list = []\n",
        "  prob_list = []\n",
        "  for r in range(1,n):\n",
        "    r_list.append(r)\n",
        "    prob_list.append(func_find_best(r, n))\n",
        "    if best_prob < func_find_best(r, n):\n",
        "      best_prob = func_find_best(r, n)\n",
        "      best_r = r\n",
        "  \n",
        "  # plt.plot(r_list, prob_list)\n",
        "  # plt.show()\n",
        "  return best_r, best_prob"
      ],
      "metadata": {
        "id": "Tte7HyAa3lN4"
      },
      "execution_count": null,
      "outputs": []
    },
    {
      "cell_type": "code",
      "source": [
        "best_r_for_n(30)"
      ],
      "metadata": {
        "id": "P_3Sf9HYyiIJ",
        "colab": {
          "base_uri": "https://localhost:8080/",
          "height": 282
        },
        "outputId": "3905adbe-1b25-4c78-986a-d68d328af6c1"
      },
      "execution_count": null,
      "outputs": [
        {
          "output_type": "display_data",
          "data": {
            "text/plain": [
              "<Figure size 432x288 with 1 Axes>"
            ],
            "image/png": "[encoded data removed]"
          },
          "metadata": {
            "needs_background": "light"
          }
        },
        {
          "output_type": "execute_result",
          "data": {
            "text/plain": [
              "11"
            ]
          },
          "metadata": {},
          "execution_count": 91
        }
      ]
    },
    {
      "cell_type": "markdown",
      "source": [
        "## Task 4\n",
        "\n",
        "Experimenting with larger values of $n$, find the corresponding best threshold $r$. Try plotting the pattern of the best $r$s for different $n$s. \n",
        "\n",
        "Can you observe a pattern?\n",
        "\n",
        "_Note_: this might take a while, depending on the number of simulations and $n$."
      ],
      "metadata": {
        "id": "4dx6Gpvlii0Y"
      }
    },
    {
      "cell_type": "code",
      "source": [
        "from matplotlib import pyplot as plt # n vs best r\n",
        "def plot_best():\n",
        "  N = np.arange(2,50,1)\n",
        "  n = []\n",
        "  r = []\n",
        "  prob = []\n",
        "  for i in N:\n",
        "    n.append(i)\n",
        "    best_r = best_r_for_n(i)\n",
        "    r.append(best_r[0])\n",
        "    prob.append(best_r[1])\n",
        "\n",
        "  plt.subplot(1, 2, 1)\n",
        "  plt.plot(n,r)\n",
        "\n",
        "  plt.subplot(1, 2, 2)\n",
        "  plt.plot(n,prob)\n",
        "\n",
        "  plt.show()"
      ],
      "metadata": {
        "id": "Aah8N7PNk5HI"
      },
      "execution_count": null,
      "outputs": []
    },
    {
      "cell_type": "code",
      "source": [
        "plot_best()"
      ],
      "metadata": {
        "id": "T9KG2gsFT1TQ",
        "colab": {
          "base_uri": "https://localhost:8080/"
        },
        "outputId": "35ba9354-c2de-4ea4-8ef6-0b1139dfa5de"
      },
      "execution_count": null,
      "outputs": [
        {
          "output_type": "display_data",
          "data": {
            "text/plain": [
              "<Figure size 432x288 with 2 Axes>"
            ],
            "image/png": "[encoded data removed]"
          },
          "metadata": {
            "needs_background": "light"
          }
        }
      ]
    }
  ]
}