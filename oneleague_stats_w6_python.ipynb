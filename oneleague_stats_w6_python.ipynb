{
  "nbformat": 4,
  "nbformat_minor": 0,
  "metadata": {
    "colab": {
      "provenance": [],
      "include_colab_link": true
    },
    "kernelspec": {
      "name": "python3",
      "display_name": "Python 3"
    },
    "language_info": {
      "name": "python"
    }
  },
  "cells": [
    {
      "cell_type": "markdown",
      "metadata": {
        "id": "view-in-github",
        "colab_type": "text"
      },
      "source": [
        "<a href=\"https://colab.research.google.com/github/iPrinka/MITx-Micromasters-Statistics-Data-Science/blob/main/oneleague_stats_w6_python.ipynb\" target=\"_parent\"><img src=\"https://colab.research.google.com/assets/colab-badge.svg\" alt=\"Open In Colab\"/></a>"
      ]
    },
    {
      "cell_type": "markdown",
      "source": [
        "### Maximum Likelihood Estimation with Python"
      ],
      "metadata": {
        "id": "E80EF6zOBZDT"
      }
    },
    {
      "cell_type": "code",
      "source": [
        "import numpy as np\n",
        "import matplotlib.pyplot as plt\n",
        "import seaborn as sns\n",
        "import pandas as pd\n",
        "import scipy.stats as stats"
      ],
      "metadata": {
        "id": "VhPCNTSBBgXc"
      },
      "execution_count": null,
      "outputs": []
    },
    {
      "cell_type": "code",
      "source": [
        "d1 = stats.binom(20, .9)"
      ],
      "metadata": {
        "id": "XYrt9pCIGqPr"
      },
      "execution_count": null,
      "outputs": []
    },
    {
      "cell_type": "code",
      "source": [
        "tosses = d1.rvs(100)\n",
        "tosses"
      ],
      "metadata": {
        "colab": {
          "base_uri": "https://localhost:8080/"
        },
        "id": "qeogxQO7Gpgg",
        "outputId": "9a052e02-3eed-4766-d28f-3d942eff64bb"
      },
      "execution_count": null,
      "outputs": [
        {
          "output_type": "execute_result",
          "data": {
            "text/plain": [
              "array([18, 19, 18, 15, 17, 16, 18, 16, 17, 19, 19, 19, 20, 19, 18, 19, 19,\n",
              "       17, 17, 20, 19, 19, 19, 18, 16, 18, 19, 19, 19, 17, 18, 19, 17, 19,\n",
              "       20, 16, 17, 19, 17, 17, 18, 18, 18, 17, 19, 19, 16, 17, 18, 20, 19,\n",
              "       18, 20, 19, 19, 20, 19, 19, 17, 17, 17, 16, 18, 19, 19, 20, 19, 18,\n",
              "       20, 18, 18, 19, 18, 20, 20, 20, 20, 18, 19, 19, 18, 19, 18, 17, 19,\n",
              "       18, 17, 15, 17, 19, 19, 20, 17, 19, 19, 19, 15, 16, 19, 17])"
            ]
          },
          "metadata": {},
          "execution_count": 7
        }
      ]
    },
    {
      "cell_type": "code",
      "source": [
        "stats.fit(stats.binom, data = tosses, bounds = [(10, 30), (0, 1)])"
      ],
      "metadata": {
        "colab": {
          "base_uri": "https://localhost:8080/"
        },
        "id": "Oeulwi-rGpdI",
        "outputId": "69b17d15-a83e-45b7-9b2a-22262b8640e9"
      },
      "execution_count": null,
      "outputs": [
        {
          "output_type": "execute_result",
          "data": {
            "text/plain": [
              "  params: FitParams(n=20.0, p=0.9104999950378693, loc=0.0)\n",
              " success: True\n",
              " message: 'Optimization terminated successfully.'"
            ]
          },
          "metadata": {},
          "execution_count": 8
        }
      ]
    },
    {
      "cell_type": "code",
      "source": [
        "d2 = stats.norm(loc = 20, scale = 3)\n",
        "scores = d2.rvs(100)"
      ],
      "metadata": {
        "id": "cRnx8bKBGpZw"
      },
      "execution_count": null,
      "outputs": []
    },
    {
      "cell_type": "code",
      "source": [
        "scores.mean()"
      ],
      "metadata": {
        "colab": {
          "base_uri": "https://localhost:8080/"
        },
        "id": "pWGIlpndGpW5",
        "outputId": "a3bd2ec4-6981-4672-fdcf-2ea82aa1066d"
      },
      "execution_count": null,
      "outputs": [
        {
          "output_type": "execute_result",
          "data": {
            "text/plain": [
              "20.415768378391984"
            ]
          },
          "metadata": {},
          "execution_count": 10
        }
      ]
    },
    {
      "cell_type": "code",
      "source": [
        "scores.std()"
      ],
      "metadata": {
        "colab": {
          "base_uri": "https://localhost:8080/"
        },
        "id": "8N9YYuSGGpUB",
        "outputId": "9e81117d-72ec-4315-c56c-f17fc3854201"
      },
      "execution_count": null,
      "outputs": [
        {
          "output_type": "execute_result",
          "data": {
            "text/plain": [
              "2.786037823961707"
            ]
          },
          "metadata": {},
          "execution_count": 11
        }
      ]
    },
    {
      "cell_type": "code",
      "source": [
        "stats.fit(stats.norm, scores, bounds = [(10, 30), (1, 10)])"
      ],
      "metadata": {
        "colab": {
          "base_uri": "https://localhost:8080/"
        },
        "id": "40D_4IgBGpMc",
        "outputId": "b785e5f0-4bbe-4f1f-d92f-733e29337f41"
      },
      "execution_count": null,
      "outputs": [
        {
          "output_type": "execute_result",
          "data": {
            "text/plain": [
              "  params: FitParams(loc=20.415768182015707, scale=2.786037848445078)\n",
              " success: True\n",
              " message: 'Optimization terminated successfully.'"
            ]
          },
          "metadata": {},
          "execution_count": 13
        }
      ]
    },
    {
      "cell_type": "code",
      "source": [],
      "metadata": {
        "id": "OyQYu5SPGpJ2"
      },
      "execution_count": null,
      "outputs": []
    },
    {
      "cell_type": "code",
      "source": [],
      "metadata": {
        "id": "kjw7KCatGpHQ"
      },
      "execution_count": null,
      "outputs": []
    },
    {
      "cell_type": "code",
      "source": [],
      "metadata": {
        "id": "h_umrfwFCSo6"
      },
      "execution_count": null,
      "outputs": []
    }
  ]
}