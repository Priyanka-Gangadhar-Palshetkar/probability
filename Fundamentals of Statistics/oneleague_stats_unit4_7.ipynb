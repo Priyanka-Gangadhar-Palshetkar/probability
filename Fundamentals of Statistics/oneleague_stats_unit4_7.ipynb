{
  "nbformat": 4,
  "nbformat_minor": 0,
  "metadata": {
    "colab": {
      "provenance": [],
      "include_colab_link": true
    },
    "kernelspec": {
      "name": "ir",
      "display_name": "R"
    },
    "language_info": {
      "name": "R"
    }
  },
  "cells": [
    {
      "cell_type": "markdown",
      "metadata": {
        "id": "view-in-github",
        "colab_type": "text"
      },
      "source": [
        "<a href=\"https://colab.research.google.com/github/iPrinka/MITx-Micromasters-Statistics-Data-Science/blob/main/oneleague_stats_unit4_7.ipynb\" target=\"_parent\"><img src=\"https://colab.research.google.com/assets/colab-badge.svg\" alt=\"Open In Colab\"/></a>"
      ]
    },
    {
      "cell_type": "markdown",
      "source": [
        "### More with hypothesis tests and modeling"
      ],
      "metadata": {
        "id": "Li0VrPPuP0_J"
      }
    },
    {
      "cell_type": "code",
      "source": [
        "library(tidyverse)"
      ],
      "metadata": {
        "colab": {
          "base_uri": "https://localhost:8080/"
        },
        "id": "XO3qfVjKRB3M",
        "outputId": "29f89149-d39b-4b00-9b5a-8da225d0baeb"
      },
      "execution_count": 65,
      "outputs": [
        {
          "output_type": "stream",
          "name": "stderr",
          "text": [
            "── \u001b[1mAttaching packages\u001b[22m ─────────────────────────────────────── tidyverse 1.3.1 ──\n",
            "\n",
            "\u001b[32m✔\u001b[39m \u001b[34mggplot2\u001b[39m 3.4.2     \u001b[32m✔\u001b[39m \u001b[34mpurrr  \u001b[39m 1.0.1\n",
            "\u001b[32m✔\u001b[39m \u001b[34mtibble \u001b[39m 3.2.1     \u001b[32m✔\u001b[39m \u001b[34mdplyr  \u001b[39m 1.1.2\n",
            "\u001b[32m✔\u001b[39m \u001b[34mtidyr  \u001b[39m 1.3.0     \u001b[32m✔\u001b[39m \u001b[34mstringr\u001b[39m 1.5.0\n",
            "\u001b[32m✔\u001b[39m \u001b[34mreadr  \u001b[39m 2.1.4     \u001b[32m✔\u001b[39m \u001b[34mforcats\u001b[39m 1.0.0\n",
            "\n",
            "── \u001b[1mConflicts\u001b[22m ────────────────────────────────────────── tidyverse_conflicts() ──\n",
            "\u001b[31m✖\u001b[39m \u001b[34mdplyr\u001b[39m::\u001b[32mfilter()\u001b[39m masks \u001b[34mstats\u001b[39m::filter()\n",
            "\u001b[31m✖\u001b[39m \u001b[34mdplyr\u001b[39m::\u001b[32mlag()\u001b[39m    masks \u001b[34mstats\u001b[39m::lag()\n",
            "\n"
          ]
        }
      ]
    },
    {
      "cell_type": "code",
      "source": [
        "df <- read.csv('GRADES.csv')"
      ],
      "metadata": {
        "id": "Ah5jFn7jRDwn"
      },
      "execution_count": null,
      "outputs": []
    },
    {
      "cell_type": "code",
      "source": [
        "head(df)"
      ],
      "metadata": {
        "colab": {
          "base_uri": "https://localhost:8080/",
          "height": 286
        },
        "id": "k6Wwq5zmRHb7",
        "outputId": "5a1b3835-1890-436f-d383-da951d9ed7ea"
      },
      "execution_count": null,
      "outputs": [
        {
          "output_type": "display_data",
          "data": {
            "text/html": [
              "<table class=\"dataframe\">\n",
              "<caption>A data.frame: 6 × 5</caption>\n",
              "<thead>\n",
              "\t<tr><th></th><th scope=col>ID</th><th scope=col>GPA</th><th scope=col>IQ</th><th scope=col>Gender</th><th scope=col>SelfConcept</th></tr>\n",
              "\t<tr><th></th><th scope=col>&lt;int&gt;</th><th scope=col>&lt;dbl&gt;</th><th scope=col>&lt;int&gt;</th><th scope=col>&lt;int&gt;</th><th scope=col>&lt;int&gt;</th></tr>\n",
              "</thead>\n",
              "<tbody>\n",
              "\t<tr><th scope=row>1</th><td>1</td><td>7.940</td><td>111</td><td>2</td><td>67</td></tr>\n",
              "\t<tr><th scope=row>2</th><td>2</td><td>8.292</td><td>107</td><td>2</td><td>43</td></tr>\n",
              "\t<tr><th scope=row>3</th><td>3</td><td>4.643</td><td>100</td><td>2</td><td>52</td></tr>\n",
              "\t<tr><th scope=row>4</th><td>4</td><td>7.470</td><td>107</td><td>2</td><td>66</td></tr>\n",
              "\t<tr><th scope=row>5</th><td>5</td><td>8.882</td><td>114</td><td>1</td><td>58</td></tr>\n",
              "\t<tr><th scope=row>6</th><td>6</td><td>7.585</td><td>115</td><td>2</td><td>51</td></tr>\n",
              "</tbody>\n",
              "</table>\n"
            ],
            "text/markdown": "\nA data.frame: 6 × 5\n\n| <!--/--> | ID &lt;int&gt; | GPA &lt;dbl&gt; | IQ &lt;int&gt; | Gender &lt;int&gt; | SelfConcept &lt;int&gt; |\n|---|---|---|---|---|---|\n| 1 | 1 | 7.940 | 111 | 2 | 67 |\n| 2 | 2 | 8.292 | 107 | 2 | 43 |\n| 3 | 3 | 4.643 | 100 | 2 | 52 |\n| 4 | 4 | 7.470 | 107 | 2 | 66 |\n| 5 | 5 | 8.882 | 114 | 1 | 58 |\n| 6 | 6 | 7.585 | 115 | 2 | 51 |\n\n",
            "text/latex": "A data.frame: 6 × 5\n\\begin{tabular}{r|lllll}\n  & ID & GPA & IQ & Gender & SelfConcept\\\\\n  & <int> & <dbl> & <int> & <int> & <int>\\\\\n\\hline\n\t1 & 1 & 7.940 & 111 & 2 & 67\\\\\n\t2 & 2 & 8.292 & 107 & 2 & 43\\\\\n\t3 & 3 & 4.643 & 100 & 2 & 52\\\\\n\t4 & 4 & 7.470 & 107 & 2 & 66\\\\\n\t5 & 5 & 8.882 & 114 & 1 & 58\\\\\n\t6 & 6 & 7.585 & 115 & 2 & 51\\\\\n\\end{tabular}\n",
            "text/plain": [
              "  ID GPA   IQ  Gender SelfConcept\n",
              "1 1  7.940 111 2      67         \n",
              "2 2  8.292 107 2      43         \n",
              "3 3  4.643 100 2      52         \n",
              "4 4  7.470 107 2      66         \n",
              "5 5  8.882 114 1      58         \n",
              "6 6  7.585 115 2      51         "
            ]
          },
          "metadata": {}
        }
      ]
    },
    {
      "cell_type": "markdown",
      "source": [
        "What hypothesis tests are possible with the data?  List out different ideas and perform these tests, clearly stating the null hypothesis."
      ],
      "metadata": {
        "id": "J7pMXp1SR7zk"
      }
    },
    {
      "cell_type": "code",
      "source": [
        "t.test(GPA ~ Gender, data=df)"
      ],
      "metadata": {
        "id": "v8e2ZIYeRIwT",
        "colab": {
          "base_uri": "https://localhost:8080/",
          "height": 219
        },
        "outputId": "1f99598b-c616-4561-959f-ccd7478aa346"
      },
      "execution_count": null,
      "outputs": [
        {
          "output_type": "display_data",
          "data": {
            "text/plain": [
              "\n",
              "\tWelch Two Sample t-test\n",
              "\n",
              "data:  GPA by Gender\n",
              "t = 0.90553, df = 74.862, p-value = 0.3681\n",
              "alternative hypothesis: true difference in means between group 1 and group 2 is not equal to 0\n",
              "95 percent confidence interval:\n",
              " -0.4978876  1.3277078\n",
              "sample estimates:\n",
              "mean in group 1 mean in group 2 \n",
              "       7.696548        7.281638 \n"
            ]
          },
          "metadata": {}
        }
      ]
    },
    {
      "cell_type": "code",
      "source": [
        "t.test(IQ ~ Gender, data=df)"
      ],
      "metadata": {
        "id": "aUGVjWtZSImv",
        "colab": {
          "base_uri": "https://localhost:8080/",
          "height": 219
        },
        "outputId": "da4dbc42-b332-4585-bb75-5c8acc4219ec"
      },
      "execution_count": null,
      "outputs": [
        {
          "output_type": "display_data",
          "data": {
            "text/plain": [
              "\n",
              "\tWelch Two Sample t-test\n",
              "\n",
              "data:  IQ by Gender\n",
              "t = -1.6439, df = 56.932, p-value = 0.1057\n",
              "alternative hypothesis: true difference in means between group 1 and group 2 is not equal to 0\n",
              "95 percent confidence interval:\n",
              " -11.354215   1.116741\n",
              "sample estimates:\n",
              "mean in group 1 mean in group 2 \n",
              "       105.8387        110.9574 \n"
            ]
          },
          "metadata": {}
        }
      ]
    },
    {
      "cell_type": "code",
      "source": [
        "t.test(SelfConcept ~ Gender, data=df)"
      ],
      "metadata": {
        "id": "rofMJXcdSIi2",
        "colab": {
          "base_uri": "https://localhost:8080/",
          "height": 219
        },
        "outputId": "6d85e4b0-9d2d-40dd-8407-54431f6d82b3"
      },
      "execution_count": null,
      "outputs": [
        {
          "output_type": "display_data",
          "data": {
            "text/plain": [
              "\n",
              "\tWelch Two Sample t-test\n",
              "\n",
              "data:  SelfConcept by Gender\n",
              "t = -0.82764, df = 62.784, p-value = 0.411\n",
              "alternative hypothesis: true difference in means between group 1 and group 2 is not equal to 0\n",
              "95 percent confidence interval:\n",
              " -8.191000  3.393471\n",
              "sample estimates:\n",
              "mean in group 1 mean in group 2 \n",
              "       55.51613        57.91489 \n"
            ]
          },
          "metadata": {}
        }
      ]
    },
    {
      "cell_type": "code",
      "source": [
        "t.test(GPA ~ Gender, data=df, alternative = 'greater')"
      ],
      "metadata": {
        "id": "XXYMaySPSIfb",
        "colab": {
          "base_uri": "https://localhost:8080/",
          "height": 219
        },
        "outputId": "6e539f1e-ef70-4a9c-c2dd-593426152706"
      },
      "execution_count": null,
      "outputs": [
        {
          "output_type": "display_data",
          "data": {
            "text/plain": [
              "\n",
              "\tWelch Two Sample t-test\n",
              "\n",
              "data:  GPA by Gender\n",
              "t = 0.90553, df = 74.862, p-value = 0.184\n",
              "alternative hypothesis: true difference in means between group 1 and group 2 is greater than 0\n",
              "95 percent confidence interval:\n",
              " -0.3481962        Inf\n",
              "sample estimates:\n",
              "mean in group 1 mean in group 2 \n",
              "       7.696548        7.281638 \n"
            ]
          },
          "metadata": {}
        }
      ]
    },
    {
      "cell_type": "code",
      "source": [],
      "metadata": {
        "id": "buz4vovpSIb-"
      },
      "execution_count": null,
      "outputs": []
    },
    {
      "cell_type": "markdown",
      "source": [
        "#### Predicting Dropout\n",
        "\n",
        "Below, a dataset containing information on college dropouts is loaded and displayed.  Your goal is to predict whether or a student will dropout or graduate.  First, you will use logistic regression and interpret the results of hypothesis tests on the coefficients.  Next, you will use `carat` to build a model that is most accurate."
      ],
      "metadata": {
        "id": "MCRkdXtGSUHC"
      }
    },
    {
      "cell_type": "code",
      "source": [
        "dropout <- read.delim('college_dropout.csv', sep=';')"
      ],
      "metadata": {
        "id": "JwU_98b7SXLZ"
      },
      "execution_count": 66,
      "outputs": []
    },
    {
      "cell_type": "code",
      "source": [
        "head(dropout)"
      ],
      "metadata": {
        "id": "MBKo8IN0SXIA",
        "colab": {
          "base_uri": "https://localhost:8080/",
          "height": 306
        },
        "outputId": "29875701-8db7-4cbe-8da0-032df19da9fc"
      },
      "execution_count": 67,
      "outputs": [
        {
          "output_type": "display_data",
          "data": {
            "text/html": [
              "<table class=\"dataframe\">\n",
              "<caption>A data.frame: 6 × 37</caption>\n",
              "<thead>\n",
              "\t<tr><th></th><th scope=col>Marital.status</th><th scope=col>Application.mode</th><th scope=col>Application.order</th><th scope=col>Course</th><th scope=col>Daytime.evening.attendance.</th><th scope=col>Previous.qualification</th><th scope=col>Previous.qualification..grade.</th><th scope=col>Nacionality</th><th scope=col>Mother.s.qualification</th><th scope=col>Father.s.qualification</th><th scope=col>⋯</th><th scope=col>Curricular.units.2nd.sem..credited.</th><th scope=col>Curricular.units.2nd.sem..enrolled.</th><th scope=col>Curricular.units.2nd.sem..evaluations.</th><th scope=col>Curricular.units.2nd.sem..approved.</th><th scope=col>Curricular.units.2nd.sem..grade.</th><th scope=col>Curricular.units.2nd.sem..without.evaluations.</th><th scope=col>Unemployment.rate</th><th scope=col>Inflation.rate</th><th scope=col>GDP</th><th scope=col>Target</th></tr>\n",
              "\t<tr><th></th><th scope=col>&lt;int&gt;</th><th scope=col>&lt;int&gt;</th><th scope=col>&lt;int&gt;</th><th scope=col>&lt;int&gt;</th><th scope=col>&lt;int&gt;</th><th scope=col>&lt;int&gt;</th><th scope=col>&lt;dbl&gt;</th><th scope=col>&lt;int&gt;</th><th scope=col>&lt;int&gt;</th><th scope=col>&lt;int&gt;</th><th scope=col>⋯</th><th scope=col>&lt;int&gt;</th><th scope=col>&lt;int&gt;</th><th scope=col>&lt;int&gt;</th><th scope=col>&lt;int&gt;</th><th scope=col>&lt;dbl&gt;</th><th scope=col>&lt;int&gt;</th><th scope=col>&lt;dbl&gt;</th><th scope=col>&lt;dbl&gt;</th><th scope=col>&lt;dbl&gt;</th><th scope=col>&lt;chr&gt;</th></tr>\n",
              "</thead>\n",
              "<tbody>\n",
              "\t<tr><th scope=row>1</th><td>1</td><td>17</td><td>5</td><td> 171</td><td>1</td><td> 1</td><td>122.0</td><td>1</td><td>19</td><td>12</td><td>⋯</td><td>0</td><td>0</td><td> 0</td><td>0</td><td> 0.00000</td><td>0</td><td>10.8</td><td> 1.4</td><td> 1.74</td><td>Dropout </td></tr>\n",
              "\t<tr><th scope=row>2</th><td>1</td><td>15</td><td>1</td><td>9254</td><td>1</td><td> 1</td><td>160.0</td><td>1</td><td> 1</td><td> 3</td><td>⋯</td><td>0</td><td>6</td><td> 6</td><td>6</td><td>13.66667</td><td>0</td><td>13.9</td><td>-0.3</td><td> 0.79</td><td>Graduate</td></tr>\n",
              "\t<tr><th scope=row>3</th><td>1</td><td> 1</td><td>5</td><td>9070</td><td>1</td><td> 1</td><td>122.0</td><td>1</td><td>37</td><td>37</td><td>⋯</td><td>0</td><td>6</td><td> 0</td><td>0</td><td> 0.00000</td><td>0</td><td>10.8</td><td> 1.4</td><td> 1.74</td><td>Dropout </td></tr>\n",
              "\t<tr><th scope=row>4</th><td>1</td><td>17</td><td>2</td><td>9773</td><td>1</td><td> 1</td><td>122.0</td><td>1</td><td>38</td><td>37</td><td>⋯</td><td>0</td><td>6</td><td>10</td><td>5</td><td>12.40000</td><td>0</td><td> 9.4</td><td>-0.8</td><td>-3.12</td><td>Graduate</td></tr>\n",
              "\t<tr><th scope=row>5</th><td>2</td><td>39</td><td>1</td><td>8014</td><td>0</td><td> 1</td><td>100.0</td><td>1</td><td>37</td><td>38</td><td>⋯</td><td>0</td><td>6</td><td> 6</td><td>6</td><td>13.00000</td><td>0</td><td>13.9</td><td>-0.3</td><td> 0.79</td><td>Graduate</td></tr>\n",
              "\t<tr><th scope=row>6</th><td>2</td><td>39</td><td>1</td><td>9991</td><td>0</td><td>19</td><td>133.1</td><td>1</td><td>37</td><td>37</td><td>⋯</td><td>0</td><td>5</td><td>17</td><td>5</td><td>11.50000</td><td>5</td><td>16.2</td><td> 0.3</td><td>-0.92</td><td>Graduate</td></tr>\n",
              "</tbody>\n",
              "</table>\n"
            ],
            "text/markdown": "\nA data.frame: 6 × 37\n\n| <!--/--> | Marital.status &lt;int&gt; | Application.mode &lt;int&gt; | Application.order &lt;int&gt; | Course &lt;int&gt; | Daytime.evening.attendance. &lt;int&gt; | Previous.qualification &lt;int&gt; | Previous.qualification..grade. &lt;dbl&gt; | Nacionality &lt;int&gt; | Mother.s.qualification &lt;int&gt; | Father.s.qualification &lt;int&gt; | ⋯ ⋯ | Curricular.units.2nd.sem..credited. &lt;int&gt; | Curricular.units.2nd.sem..enrolled. &lt;int&gt; | Curricular.units.2nd.sem..evaluations. &lt;int&gt; | Curricular.units.2nd.sem..approved. &lt;int&gt; | Curricular.units.2nd.sem..grade. &lt;dbl&gt; | Curricular.units.2nd.sem..without.evaluations. &lt;int&gt; | Unemployment.rate &lt;dbl&gt; | Inflation.rate &lt;dbl&gt; | GDP &lt;dbl&gt; | Target &lt;chr&gt; |\n|---|---|---|---|---|---|---|---|---|---|---|---|---|---|---|---|---|---|---|---|---|---|\n| 1 | 1 | 17 | 5 |  171 | 1 |  1 | 122.0 | 1 | 19 | 12 | ⋯ | 0 | 0 |  0 | 0 |  0.00000 | 0 | 10.8 |  1.4 |  1.74 | Dropout  |\n| 2 | 1 | 15 | 1 | 9254 | 1 |  1 | 160.0 | 1 |  1 |  3 | ⋯ | 0 | 6 |  6 | 6 | 13.66667 | 0 | 13.9 | -0.3 |  0.79 | Graduate |\n| 3 | 1 |  1 | 5 | 9070 | 1 |  1 | 122.0 | 1 | 37 | 37 | ⋯ | 0 | 6 |  0 | 0 |  0.00000 | 0 | 10.8 |  1.4 |  1.74 | Dropout  |\n| 4 | 1 | 17 | 2 | 9773 | 1 |  1 | 122.0 | 1 | 38 | 37 | ⋯ | 0 | 6 | 10 | 5 | 12.40000 | 0 |  9.4 | -0.8 | -3.12 | Graduate |\n| 5 | 2 | 39 | 1 | 8014 | 0 |  1 | 100.0 | 1 | 37 | 38 | ⋯ | 0 | 6 |  6 | 6 | 13.00000 | 0 | 13.9 | -0.3 |  0.79 | Graduate |\n| 6 | 2 | 39 | 1 | 9991 | 0 | 19 | 133.1 | 1 | 37 | 37 | ⋯ | 0 | 5 | 17 | 5 | 11.50000 | 5 | 16.2 |  0.3 | -0.92 | Graduate |\n\n",
            "text/latex": "A data.frame: 6 × 37\n\\begin{tabular}{r|lllllllllllllllllllll}\n  & Marital.status & Application.mode & Application.order & Course & Daytime.evening.attendance. & Previous.qualification & Previous.qualification..grade. & Nacionality & Mother.s.qualification & Father.s.qualification & ⋯ & Curricular.units.2nd.sem..credited. & Curricular.units.2nd.sem..enrolled. & Curricular.units.2nd.sem..evaluations. & Curricular.units.2nd.sem..approved. & Curricular.units.2nd.sem..grade. & Curricular.units.2nd.sem..without.evaluations. & Unemployment.rate & Inflation.rate & GDP & Target\\\\\n  & <int> & <int> & <int> & <int> & <int> & <int> & <dbl> & <int> & <int> & <int> & ⋯ & <int> & <int> & <int> & <int> & <dbl> & <int> & <dbl> & <dbl> & <dbl> & <chr>\\\\\n\\hline\n\t1 & 1 & 17 & 5 &  171 & 1 &  1 & 122.0 & 1 & 19 & 12 & ⋯ & 0 & 0 &  0 & 0 &  0.00000 & 0 & 10.8 &  1.4 &  1.74 & Dropout \\\\\n\t2 & 1 & 15 & 1 & 9254 & 1 &  1 & 160.0 & 1 &  1 &  3 & ⋯ & 0 & 6 &  6 & 6 & 13.66667 & 0 & 13.9 & -0.3 &  0.79 & Graduate\\\\\n\t3 & 1 &  1 & 5 & 9070 & 1 &  1 & 122.0 & 1 & 37 & 37 & ⋯ & 0 & 6 &  0 & 0 &  0.00000 & 0 & 10.8 &  1.4 &  1.74 & Dropout \\\\\n\t4 & 1 & 17 & 2 & 9773 & 1 &  1 & 122.0 & 1 & 38 & 37 & ⋯ & 0 & 6 & 10 & 5 & 12.40000 & 0 &  9.4 & -0.8 & -3.12 & Graduate\\\\\n\t5 & 2 & 39 & 1 & 8014 & 0 &  1 & 100.0 & 1 & 37 & 38 & ⋯ & 0 & 6 &  6 & 6 & 13.00000 & 0 & 13.9 & -0.3 &  0.79 & Graduate\\\\\n\t6 & 2 & 39 & 1 & 9991 & 0 & 19 & 133.1 & 1 & 37 & 37 & ⋯ & 0 & 5 & 17 & 5 & 11.50000 & 5 & 16.2 &  0.3 & -0.92 & Graduate\\\\\n\\end{tabular}\n",
            "text/plain": [
              "  Marital.status Application.mode Application.order Course\n",
              "1 1              17               5                  171  \n",
              "2 1              15               1                 9254  \n",
              "3 1               1               5                 9070  \n",
              "4 1              17               2                 9773  \n",
              "5 2              39               1                 8014  \n",
              "6 2              39               1                 9991  \n",
              "  Daytime.evening.attendance. Previous.qualification\n",
              "1 1                            1                    \n",
              "2 1                            1                    \n",
              "3 1                            1                    \n",
              "4 1                            1                    \n",
              "5 0                            1                    \n",
              "6 0                           19                    \n",
              "  Previous.qualification..grade. Nacionality Mother.s.qualification\n",
              "1 122.0                          1           19                    \n",
              "2 160.0                          1            1                    \n",
              "3 122.0                          1           37                    \n",
              "4 122.0                          1           38                    \n",
              "5 100.0                          1           37                    \n",
              "6 133.1                          1           37                    \n",
              "  Father.s.qualification ⋯ Curricular.units.2nd.sem..credited.\n",
              "1 12                     ⋯ 0                                  \n",
              "2  3                     ⋯ 0                                  \n",
              "3 37                     ⋯ 0                                  \n",
              "4 37                     ⋯ 0                                  \n",
              "5 38                     ⋯ 0                                  \n",
              "6 37                     ⋯ 0                                  \n",
              "  Curricular.units.2nd.sem..enrolled. Curricular.units.2nd.sem..evaluations.\n",
              "1 0                                    0                                    \n",
              "2 6                                    6                                    \n",
              "3 6                                    0                                    \n",
              "4 6                                   10                                    \n",
              "5 6                                    6                                    \n",
              "6 5                                   17                                    \n",
              "  Curricular.units.2nd.sem..approved. Curricular.units.2nd.sem..grade.\n",
              "1 0                                    0.00000                        \n",
              "2 6                                   13.66667                        \n",
              "3 0                                    0.00000                        \n",
              "4 5                                   12.40000                        \n",
              "5 6                                   13.00000                        \n",
              "6 5                                   11.50000                        \n",
              "  Curricular.units.2nd.sem..without.evaluations. Unemployment.rate\n",
              "1 0                                              10.8             \n",
              "2 0                                              13.9             \n",
              "3 0                                              10.8             \n",
              "4 0                                               9.4             \n",
              "5 0                                              13.9             \n",
              "6 5                                              16.2             \n",
              "  Inflation.rate GDP   Target  \n",
              "1  1.4            1.74 Dropout \n",
              "2 -0.3            0.79 Graduate\n",
              "3  1.4            1.74 Dropout \n",
              "4 -0.8           -3.12 Graduate\n",
              "5 -0.3            0.79 Graduate\n",
              "6  0.3           -0.92 Graduate"
            ]
          },
          "metadata": {}
        }
      ]
    },
    {
      "cell_type": "code",
      "source": [
        "describe(dropout)"
      ],
      "metadata": {
        "colab": {
          "base_uri": "https://localhost:8080/",
          "height": 97
        },
        "id": "mad7cB5ktTqf",
        "outputId": "243adc6c-809e-41c5-e1ea-0b52bda0c88d"
      },
      "execution_count": 87,
      "outputs": [
        {
          "output_type": "error",
          "ename": "ERROR",
          "evalue": "ignored",
          "traceback": [
            "Error in describe(dropout): could not find function \"describe\"\nTraceback:\n"
          ]
        }
      ]
    },
    {
      "cell_type": "code",
      "source": [
        "unique(dropout$Target)"
      ],
      "metadata": {
        "id": "p1pTHIrjSXE7",
        "colab": {
          "base_uri": "https://localhost:8080/",
          "height": 34
        },
        "outputId": "303b0c00-136f-4bbe-f3f3-363b9987d7a6"
      },
      "execution_count": 68,
      "outputs": [
        {
          "output_type": "display_data",
          "data": {
            "text/html": [
              "<style>\n",
              ".list-inline {list-style: none; margin:0; padding: 0}\n",
              ".list-inline>li {display: inline-block}\n",
              ".list-inline>li:not(:last-child)::after {content: \"\\00b7\"; padding: 0 .5ex}\n",
              "</style>\n",
              "<ol class=list-inline><li>'Dropout'</li><li>'Graduate'</li><li>'Enrolled'</li></ol>\n"
            ],
            "text/markdown": "1. 'Dropout'\n2. 'Graduate'\n3. 'Enrolled'\n\n\n",
            "text/latex": "\\begin{enumerate*}\n\\item 'Dropout'\n\\item 'Graduate'\n\\item 'Enrolled'\n\\end{enumerate*}\n",
            "text/plain": [
              "[1] \"Dropout\"  \"Graduate\" \"Enrolled\""
            ]
          },
          "metadata": {}
        }
      ]
    },
    {
      "cell_type": "code",
      "source": [
        "clean_df <- filter(dropout, Target != 'Enrolled')"
      ],
      "metadata": {
        "id": "kbUxU6gZSXBf"
      },
      "execution_count": 74,
      "outputs": []
    },
    {
      "cell_type": "code",
      "source": [
        "t.test(GDP~Target,data = clean_df)"
      ],
      "metadata": {
        "id": "kn4e1vANS15R",
        "colab": {
          "base_uri": "https://localhost:8080/",
          "height": 219
        },
        "outputId": "c31263f8-6f09-4081-9ccc-26387898ac40"
      },
      "execution_count": 70,
      "outputs": [
        {
          "output_type": "display_data",
          "data": {
            "text/plain": [
              "\n",
              "\tWelch Two Sample t-test\n",
              "\n",
              "data:  GDP by Target\n",
              "t = -3.0339, df = 3037.6, p-value = 0.002435\n",
              "alternative hypothesis: true difference in means between group Dropout and group Graduate is not equal to 0\n",
              "95 percent confidence interval:\n",
              " -0.3830777 -0.0823062\n",
              "sample estimates:\n",
              " mean in group Dropout mean in group Graduate \n",
              "           -0.15085855             0.08183341 \n"
            ]
          },
          "metadata": {}
        }
      ]
    },
    {
      "cell_type": "code",
      "source": [
        "clean_df$Num_Target <- ifelse(clean_df$Target == 'Dropout',1, 0)"
      ],
      "metadata": {
        "id": "u91Jw6Uzp-OC"
      },
      "execution_count": 75,
      "outputs": []
    },
    {
      "cell_type": "code",
      "source": [
        "lgr_model <- glm(Num_Target ~ GDP, data=clean_df, family='binomial')"
      ],
      "metadata": {
        "id": "diLKt9_oS11p"
      },
      "execution_count": 78,
      "outputs": []
    },
    {
      "cell_type": "code",
      "source": [
        "summary(lgr_model)"
      ],
      "metadata": {
        "id": "NyaqDZRkSVyU",
        "colab": {
          "base_uri": "https://localhost:8080/",
          "height": 348
        },
        "outputId": "89c352ac-700e-4ee3-93e7-88620ffeec5a"
      },
      "execution_count": 77,
      "outputs": [
        {
          "output_type": "display_data",
          "data": {
            "text/plain": [
              "\n",
              "Call:\n",
              "glm(formula = Num_Target ~ GDP, family = \"binomial\", data = clean_df)\n",
              "\n",
              "Coefficients:\n",
              "            Estimate Std. Error z value Pr(>|z|)    \n",
              "(Intercept) -0.44271    0.03406 -12.998  < 2e-16 ***\n",
              "GDP         -0.04545    0.01502  -3.025  0.00248 ** \n",
              "---\n",
              "Signif. codes:  0 ‘***’ 0.001 ‘**’ 0.01 ‘*’ 0.05 ‘.’ 0.1 ‘ ’ 1\n",
              "\n",
              "(Dispersion parameter for binomial family taken to be 1)\n",
              "\n",
              "    Null deviance: 4859.8  on 3629  degrees of freedom\n",
              "Residual deviance: 4850.7  on 3628  degrees of freedom\n",
              "AIC: 4854.7\n",
              "\n",
              "Number of Fisher Scoring iterations: 4\n"
            ]
          },
          "metadata": {}
        }
      ]
    },
    {
      "cell_type": "code",
      "source": [
        "#Inflation.rate - Fail to reject the null -> Inflation rate has no impact on Dropout rate\n",
        "\n",
        "model2 <- glm(Num_Target ~ Inflation.rate, data=clean_df, family='binomial')\n",
        "summary(model2)"
      ],
      "metadata": {
        "colab": {
          "base_uri": "https://localhost:8080/",
          "height": 366
        },
        "id": "_WxqgtUhqrq0",
        "outputId": "ea8b5756-64a7-47dc-88e3-ddd34d51d62b"
      },
      "execution_count": 80,
      "outputs": [
        {
          "output_type": "display_data",
          "data": {
            "text/plain": [
              "\n",
              "Call:\n",
              "glm(formula = Num_Target ~ Inflation.rate, family = \"binomial\", \n",
              "    data = clean_df)\n",
              "\n",
              "Coefficients:\n",
              "               Estimate Std. Error z value Pr(>|z|)    \n",
              "(Intercept)    -0.49679    0.04581 -10.846   <2e-16 ***\n",
              "Inflation.rate  0.04482    0.02454   1.827   0.0678 .  \n",
              "---\n",
              "Signif. codes:  0 ‘***’ 0.001 ‘**’ 0.01 ‘*’ 0.05 ‘.’ 0.1 ‘ ’ 1\n",
              "\n",
              "(Dispersion parameter for binomial family taken to be 1)\n",
              "\n",
              "    Null deviance: 4859.8  on 3629  degrees of freedom\n",
              "Residual deviance: 4856.5  on 3628  degrees of freedom\n",
              "AIC: 4860.5\n",
              "\n",
              "Number of Fisher Scoring iterations: 4\n"
            ]
          },
          "metadata": {}
        }
      ]
    },
    {
      "cell_type": "code",
      "source": [
        "#Unemployment.rate - Fail to reject the null -> Unemployment rate has no impact on Dropout rate\n",
        "\n",
        "model3 <- glm(Num_Target ~ Unemployment.rate, data=clean_df, family='binomial')\n",
        "summary(model3)"
      ],
      "metadata": {
        "colab": {
          "base_uri": "https://localhost:8080/",
          "height": 366
        },
        "id": "9S5NboIgqNmn",
        "outputId": "fbc16633-ca63-430b-ab1a-ad88e72bcdf1"
      },
      "execution_count": 82,
      "outputs": [
        {
          "output_type": "display_data",
          "data": {
            "text/plain": [
              "\n",
              "Call:\n",
              "glm(formula = Num_Target ~ Unemployment.rate, family = \"binomial\", \n",
              "    data = clean_df)\n",
              "\n",
              "Coefficients:\n",
              "                   Estimate Std. Error z value Pr(>|z|)   \n",
              "(Intercept)       -0.403675   0.152096  -2.654  0.00795 **\n",
              "Unemployment.rate -0.003225   0.012752  -0.253  0.80032   \n",
              "---\n",
              "Signif. codes:  0 ‘***’ 0.001 ‘**’ 0.01 ‘*’ 0.05 ‘.’ 0.1 ‘ ’ 1\n",
              "\n",
              "(Dispersion parameter for binomial family taken to be 1)\n",
              "\n",
              "    Null deviance: 4859.8  on 3629  degrees of freedom\n",
              "Residual deviance: 4859.8  on 3628  degrees of freedom\n",
              "AIC: 4863.8\n",
              "\n",
              "Number of Fisher Scoring iterations: 4\n"
            ]
          },
          "metadata": {}
        }
      ]
    },
    {
      "cell_type": "code",
      "source": [
        "# Daytime.evening.attendance. - Reject null - Evening attendance has an impact\n",
        "\n",
        "model4 <- glm(Num_Target ~ Daytime.evening.attendance., data=clean_df, family='binomial')\n",
        "summary(model4)"
      ],
      "metadata": {
        "colab": {
          "base_uri": "https://localhost:8080/",
          "height": 366
        },
        "id": "rIHrTtzWsYQw",
        "outputId": "1e0bf8d1-9453-47ae-8875-d5ef1083b603"
      },
      "execution_count": 84,
      "outputs": [
        {
          "output_type": "display_data",
          "data": {
            "text/plain": [
              "\n",
              "Call:\n",
              "glm(formula = Num_Target ~ Daytime.evening.attendance., family = \"binomial\", \n",
              "    data = clean_df)\n",
              "\n",
              "Coefficients:\n",
              "                            Estimate Std. Error z value Pr(>|z|)    \n",
              "(Intercept)                  0.02941    0.09903   0.297    0.766    \n",
              "Daytime.evening.attendance. -0.53263    0.10549  -5.049 4.44e-07 ***\n",
              "---\n",
              "Signif. codes:  0 ‘***’ 0.001 ‘**’ 0.01 ‘*’ 0.05 ‘.’ 0.1 ‘ ’ 1\n",
              "\n",
              "(Dispersion parameter for binomial family taken to be 1)\n",
              "\n",
              "    Null deviance: 4859.8  on 3629  degrees of freedom\n",
              "Residual deviance: 4834.5  on 3628  degrees of freedom\n",
              "AIC: 4838.5\n",
              "\n",
              "Number of Fisher Scoring iterations: 4\n"
            ]
          },
          "metadata": {}
        }
      ]
    },
    {
      "cell_type": "code",
      "source": [
        "# Application.mode - Reject null - Application.mode has a significant impact\n",
        "\n",
        "model5 <- glm(Num_Target ~ Application.mode , data=clean_df, family='binomial')\n",
        "summary(model5)"
      ],
      "metadata": {
        "colab": {
          "base_uri": "https://localhost:8080/",
          "height": 366
        },
        "id": "jxZIlVfOsyTK",
        "outputId": "a3b55976-c193-4b5d-e247-b1a6818d8c69"
      },
      "execution_count": 85,
      "outputs": [
        {
          "output_type": "display_data",
          "data": {
            "text/plain": [
              "\n",
              "Call:\n",
              "glm(formula = Num_Target ~ Application.mode, family = \"binomial\", \n",
              "    data = clean_df)\n",
              "\n",
              "Coefficients:\n",
              "                  Estimate Std. Error z value Pr(>|z|)    \n",
              "(Intercept)      -1.003117   0.053339  -18.81   <2e-16 ***\n",
              "Application.mode  0.029199   0.002016   14.49   <2e-16 ***\n",
              "---\n",
              "Signif. codes:  0 ‘***’ 0.001 ‘**’ 0.01 ‘*’ 0.05 ‘.’ 0.1 ‘ ’ 1\n",
              "\n",
              "(Dispersion parameter for binomial family taken to be 1)\n",
              "\n",
              "    Null deviance: 4859.8  on 3629  degrees of freedom\n",
              "Residual deviance: 4642.4  on 3628  degrees of freedom\n",
              "AIC: 4646.4\n",
              "\n",
              "Number of Fisher Scoring iterations: 4\n"
            ]
          },
          "metadata": {}
        }
      ]
    },
    {
      "cell_type": "code",
      "source": [
        "## Marital Status -> Reject null  -> Significant impact\n",
        "model6 <- glm(Num_Target ~ Marital.status , data=clean_df, family='binomial')\n",
        "summary(model6)"
      ],
      "metadata": {
        "colab": {
          "base_uri": "https://localhost:8080/",
          "height": 366
        },
        "id": "0VBv5QSPtiSB",
        "outputId": "efb67024-e269-4eac-db45-c4726e68fa57"
      },
      "execution_count": 88,
      "outputs": [
        {
          "output_type": "display_data",
          "data": {
            "text/plain": [
              "\n",
              "Call:\n",
              "glm(formula = Num_Target ~ Marital.status, family = \"binomial\", \n",
              "    data = clean_df)\n",
              "\n",
              "Coefficients:\n",
              "               Estimate Std. Error z value Pr(>|z|)    \n",
              "(Intercept)    -0.83418    0.07544 -11.058  < 2e-16 ***\n",
              "Marital.status  0.33053    0.05675   5.824 5.74e-09 ***\n",
              "---\n",
              "Signif. codes:  0 ‘***’ 0.001 ‘**’ 0.01 ‘*’ 0.05 ‘.’ 0.1 ‘ ’ 1\n",
              "\n",
              "(Dispersion parameter for binomial family taken to be 1)\n",
              "\n",
              "    Null deviance: 4859.8  on 3629  degrees of freedom\n",
              "Residual deviance: 4824.0  on 3628  degrees of freedom\n",
              "AIC: 4828\n",
              "\n",
              "Number of Fisher Scoring iterations: 4\n"
            ]
          },
          "metadata": {}
        }
      ]
    },
    {
      "cell_type": "code",
      "source": [
        "##Educational.special.needs - Fail to reject -> no impact\n",
        "model6 <- glm(Num_Target ~ Educational.special.needs, data=clean_df, family='binomial')\n",
        "summary(model6)"
      ],
      "metadata": {
        "colab": {
          "base_uri": "https://localhost:8080/",
          "height": 366
        },
        "id": "FRBhsKcZt1bm",
        "outputId": "35586f83-8cfb-4046-9c06-298c2b28d682"
      },
      "execution_count": 90,
      "outputs": [
        {
          "output_type": "display_data",
          "data": {
            "text/plain": [
              "\n",
              "Call:\n",
              "glm(formula = Num_Target ~ Educational.special.needs, family = \"binomial\", \n",
              "    data = clean_df)\n",
              "\n",
              "Coefficients:\n",
              "                          Estimate Std. Error z value Pr(>|z|)    \n",
              "(Intercept)                -0.4427     0.0342 -12.945   <2e-16 ***\n",
              "Educational.special.needs   0.1405     0.3217   0.437    0.662    \n",
              "---\n",
              "Signif. codes:  0 ‘***’ 0.001 ‘**’ 0.01 ‘*’ 0.05 ‘.’ 0.1 ‘ ’ 1\n",
              "\n",
              "(Dispersion parameter for binomial family taken to be 1)\n",
              "\n",
              "    Null deviance: 4859.8  on 3629  degrees of freedom\n",
              "Residual deviance: 4859.6  on 3628  degrees of freedom\n",
              "AIC: 4863.6\n",
              "\n",
              "Number of Fisher Scoring iterations: 4\n"
            ]
          },
          "metadata": {}
        }
      ]
    },
    {
      "cell_type": "code",
      "source": [
        "## Course - reject Null -> Has an impact\n",
        "model7 <- glm(Num_Target ~ Course, data=clean_df, family='binomial')\n",
        "summary(model7)"
      ],
      "metadata": {
        "colab": {
          "base_uri": "https://localhost:8080/",
          "height": 348
        },
        "id": "GR37_QQjt9-B",
        "outputId": "217d89b4-d47b-4b06-f2b4-baf04365311e"
      },
      "execution_count": 92,
      "outputs": [
        {
          "output_type": "display_data",
          "data": {
            "text/plain": [
              "\n",
              "Call:\n",
              "glm(formula = Num_Target ~ Course, family = \"binomial\", data = clean_df)\n",
              "\n",
              "Coefficients:\n",
              "              Estimate Std. Error z value Pr(>|z|)  \n",
              "(Intercept) -1.151e-01  1.463e-01  -0.787   0.4313  \n",
              "Course      -3.688e-05  1.611e-05  -2.289   0.0221 *\n",
              "---\n",
              "Signif. codes:  0 ‘***’ 0.001 ‘**’ 0.01 ‘*’ 0.05 ‘.’ 0.1 ‘ ’ 1\n",
              "\n",
              "(Dispersion parameter for binomial family taken to be 1)\n",
              "\n",
              "    Null deviance: 4859.8  on 3629  degrees of freedom\n",
              "Residual deviance: 4854.6  on 3628  degrees of freedom\n",
              "AIC: 4858.6\n",
              "\n",
              "Number of Fisher Scoring iterations: 4\n"
            ]
          },
          "metadata": {}
        }
      ]
    },
    {
      "cell_type": "code",
      "source": [
        "unique(clean_df$Course)"
      ],
      "metadata": {
        "colab": {
          "base_uri": "https://localhost:8080/",
          "height": 34
        },
        "id": "5h2MR4h9vf0u",
        "outputId": "68c2c574-e2a9-494f-885d-c9f7f2a000a4"
      },
      "execution_count": 95,
      "outputs": [
        {
          "output_type": "display_data",
          "data": {
            "text/html": [
              "<style>\n",
              ".list-inline {list-style: none; margin:0; padding: 0}\n",
              ".list-inline>li {display: inline-block}\n",
              ".list-inline>li:not(:last-child)::after {content: \"\\00b7\"; padding: 0 .5ex}\n",
              "</style>\n",
              "<ol class=list-inline><li>171</li><li>9254</li><li>9070</li><li>9773</li><li>8014</li><li>9991</li><li>9500</li><li>9238</li><li>9670</li><li>9853</li><li>9085</li><li>9130</li><li>9147</li><li>33</li><li>9119</li><li>9003</li><li>9556</li></ol>\n"
            ],
            "text/markdown": "1. 171\n2. 9254\n3. 9070\n4. 9773\n5. 8014\n6. 9991\n7. 9500\n8. 9238\n9. 9670\n10. 9853\n11. 9085\n12. 9130\n13. 9147\n14. 33\n15. 9119\n16. 9003\n17. 9556\n\n\n",
            "text/latex": "\\begin{enumerate*}\n\\item 171\n\\item 9254\n\\item 9070\n\\item 9773\n\\item 8014\n\\item 9991\n\\item 9500\n\\item 9238\n\\item 9670\n\\item 9853\n\\item 9085\n\\item 9130\n\\item 9147\n\\item 33\n\\item 9119\n\\item 9003\n\\item 9556\n\\end{enumerate*}\n",
            "text/plain": [
              " [1]  171 9254 9070 9773 8014 9991 9500 9238 9670 9853 9085 9130 9147   33 9119\n",
              "[16] 9003 9556"
            ]
          },
          "metadata": {}
        }
      ]
    },
    {
      "cell_type": "markdown",
      "source": [
        "\n",
        "\n",
        "* Change Class Timings\n",
        "* Course change\n",
        "* Previous qualification grade -> revise admissions criteria\n",
        "\n"
      ],
      "metadata": {
        "id": "xj-zT28Zug0s"
      }
    },
    {
      "cell_type": "code",
      "source": [
        "## Previous.qualification..grade - Reject null -> has an impact\n",
        "\n",
        "model8 <- glm(Num_Target ~ Previous.qualification..grade., data=clean_df, family='binomial')\n",
        "summary(model8)"
      ],
      "metadata": {
        "colab": {
          "base_uri": "https://localhost:8080/",
          "height": 366
        },
        "id": "xWI3bV_yuqO2",
        "outputId": "ef8536e2-20f2-4673-e052-5b6e7dfcc15f"
      },
      "execution_count": 97,
      "outputs": [
        {
          "output_type": "display_data",
          "data": {
            "text/plain": [
              "\n",
              "Call:\n",
              "glm(formula = Num_Target ~ Previous.qualification..grade., family = \"binomial\", \n",
              "    data = clean_df)\n",
              "\n",
              "Coefficients:\n",
              "                                Estimate Std. Error z value Pr(>|z|)    \n",
              "(Intercept)                     1.855794   0.351622   5.278 1.31e-07 ***\n",
              "Previous.qualification..grade. -0.017325   0.002646  -6.547 5.87e-11 ***\n",
              "---\n",
              "Signif. codes:  0 ‘***’ 0.001 ‘**’ 0.01 ‘*’ 0.05 ‘.’ 0.1 ‘ ’ 1\n",
              "\n",
              "(Dispersion parameter for binomial family taken to be 1)\n",
              "\n",
              "    Null deviance: 4859.8  on 3629  degrees of freedom\n",
              "Residual deviance: 4815.8  on 3628  degrees of freedom\n",
              "AIC: 4819.8\n",
              "\n",
              "Number of Fisher Scoring iterations: 4\n"
            ]
          },
          "metadata": {}
        }
      ]
    },
    {
      "cell_type": "code",
      "source": [
        "colnames(dropout)"
      ],
      "metadata": {
        "colab": {
          "base_uri": "https://localhost:8080/",
          "height": 104
        },
        "id": "E6OtwCtGvplV",
        "outputId": "0d14a856-4a51-4ef7-9def-7a7e7128f3de"
      },
      "execution_count": 96,
      "outputs": [
        {
          "output_type": "display_data",
          "data": {
            "text/html": [
              "<style>\n",
              ".list-inline {list-style: none; margin:0; padding: 0}\n",
              ".list-inline>li {display: inline-block}\n",
              ".list-inline>li:not(:last-child)::after {content: \"\\00b7\"; padding: 0 .5ex}\n",
              "</style>\n",
              "<ol class=list-inline><li>'Marital.status'</li><li>'Application.mode'</li><li>'Application.order'</li><li>'Course'</li><li>'Daytime.evening.attendance.'</li><li>'Previous.qualification'</li><li>'Previous.qualification..grade.'</li><li>'Nacionality'</li><li>'Mother.s.qualification'</li><li>'Father.s.qualification'</li><li>'Mother.s.occupation'</li><li>'Father.s.occupation'</li><li>'Admission.grade'</li><li>'Displaced'</li><li>'Educational.special.needs'</li><li>'Debtor'</li><li>'Tuition.fees.up.to.date'</li><li>'Gender'</li><li>'Scholarship.holder'</li><li>'Age.at.enrollment'</li><li>'International'</li><li>'Curricular.units.1st.sem..credited.'</li><li>'Curricular.units.1st.sem..enrolled.'</li><li>'Curricular.units.1st.sem..evaluations.'</li><li>'Curricular.units.1st.sem..approved.'</li><li>'Curricular.units.1st.sem..grade.'</li><li>'Curricular.units.1st.sem..without.evaluations.'</li><li>'Curricular.units.2nd.sem..credited.'</li><li>'Curricular.units.2nd.sem..enrolled.'</li><li>'Curricular.units.2nd.sem..evaluations.'</li><li>'Curricular.units.2nd.sem..approved.'</li><li>'Curricular.units.2nd.sem..grade.'</li><li>'Curricular.units.2nd.sem..without.evaluations.'</li><li>'Unemployment.rate'</li><li>'Inflation.rate'</li><li>'GDP'</li><li>'Target'</li></ol>\n"
            ],
            "text/markdown": "1. 'Marital.status'\n2. 'Application.mode'\n3. 'Application.order'\n4. 'Course'\n5. 'Daytime.evening.attendance.'\n6. 'Previous.qualification'\n7. 'Previous.qualification..grade.'\n8. 'Nacionality'\n9. 'Mother.s.qualification'\n10. 'Father.s.qualification'\n11. 'Mother.s.occupation'\n12. 'Father.s.occupation'\n13. 'Admission.grade'\n14. 'Displaced'\n15. 'Educational.special.needs'\n16. 'Debtor'\n17. 'Tuition.fees.up.to.date'\n18. 'Gender'\n19. 'Scholarship.holder'\n20. 'Age.at.enrollment'\n21. 'International'\n22. 'Curricular.units.1st.sem..credited.'\n23. 'Curricular.units.1st.sem..enrolled.'\n24. 'Curricular.units.1st.sem..evaluations.'\n25. 'Curricular.units.1st.sem..approved.'\n26. 'Curricular.units.1st.sem..grade.'\n27. 'Curricular.units.1st.sem..without.evaluations.'\n28. 'Curricular.units.2nd.sem..credited.'\n29. 'Curricular.units.2nd.sem..enrolled.'\n30. 'Curricular.units.2nd.sem..evaluations.'\n31. 'Curricular.units.2nd.sem..approved.'\n32. 'Curricular.units.2nd.sem..grade.'\n33. 'Curricular.units.2nd.sem..without.evaluations.'\n34. 'Unemployment.rate'\n35. 'Inflation.rate'\n36. 'GDP'\n37. 'Target'\n\n\n",
            "text/latex": "\\begin{enumerate*}\n\\item 'Marital.status'\n\\item 'Application.mode'\n\\item 'Application.order'\n\\item 'Course'\n\\item 'Daytime.evening.attendance.'\n\\item 'Previous.qualification'\n\\item 'Previous.qualification..grade.'\n\\item 'Nacionality'\n\\item 'Mother.s.qualification'\n\\item 'Father.s.qualification'\n\\item 'Mother.s.occupation'\n\\item 'Father.s.occupation'\n\\item 'Admission.grade'\n\\item 'Displaced'\n\\item 'Educational.special.needs'\n\\item 'Debtor'\n\\item 'Tuition.fees.up.to.date'\n\\item 'Gender'\n\\item 'Scholarship.holder'\n\\item 'Age.at.enrollment'\n\\item 'International'\n\\item 'Curricular.units.1st.sem..credited.'\n\\item 'Curricular.units.1st.sem..enrolled.'\n\\item 'Curricular.units.1st.sem..evaluations.'\n\\item 'Curricular.units.1st.sem..approved.'\n\\item 'Curricular.units.1st.sem..grade.'\n\\item 'Curricular.units.1st.sem..without.evaluations.'\n\\item 'Curricular.units.2nd.sem..credited.'\n\\item 'Curricular.units.2nd.sem..enrolled.'\n\\item 'Curricular.units.2nd.sem..evaluations.'\n\\item 'Curricular.units.2nd.sem..approved.'\n\\item 'Curricular.units.2nd.sem..grade.'\n\\item 'Curricular.units.2nd.sem..without.evaluations.'\n\\item 'Unemployment.rate'\n\\item 'Inflation.rate'\n\\item 'GDP'\n\\item 'Target'\n\\end{enumerate*}\n",
            "text/plain": [
              " [1] \"Marital.status\"                                \n",
              " [2] \"Application.mode\"                              \n",
              " [3] \"Application.order\"                             \n",
              " [4] \"Course\"                                        \n",
              " [5] \"Daytime.evening.attendance.\"                   \n",
              " [6] \"Previous.qualification\"                        \n",
              " [7] \"Previous.qualification..grade.\"                \n",
              " [8] \"Nacionality\"                                   \n",
              " [9] \"Mother.s.qualification\"                        \n",
              "[10] \"Father.s.qualification\"                        \n",
              "[11] \"Mother.s.occupation\"                           \n",
              "[12] \"Father.s.occupation\"                           \n",
              "[13] \"Admission.grade\"                               \n",
              "[14] \"Displaced\"                                     \n",
              "[15] \"Educational.special.needs\"                     \n",
              "[16] \"Debtor\"                                        \n",
              "[17] \"Tuition.fees.up.to.date\"                       \n",
              "[18] \"Gender\"                                        \n",
              "[19] \"Scholarship.holder\"                            \n",
              "[20] \"Age.at.enrollment\"                             \n",
              "[21] \"International\"                                 \n",
              "[22] \"Curricular.units.1st.sem..credited.\"           \n",
              "[23] \"Curricular.units.1st.sem..enrolled.\"           \n",
              "[24] \"Curricular.units.1st.sem..evaluations.\"        \n",
              "[25] \"Curricular.units.1st.sem..approved.\"           \n",
              "[26] \"Curricular.units.1st.sem..grade.\"              \n",
              "[27] \"Curricular.units.1st.sem..without.evaluations.\"\n",
              "[28] \"Curricular.units.2nd.sem..credited.\"           \n",
              "[29] \"Curricular.units.2nd.sem..enrolled.\"           \n",
              "[30] \"Curricular.units.2nd.sem..evaluations.\"        \n",
              "[31] \"Curricular.units.2nd.sem..approved.\"           \n",
              "[32] \"Curricular.units.2nd.sem..grade.\"              \n",
              "[33] \"Curricular.units.2nd.sem..without.evaluations.\"\n",
              "[34] \"Unemployment.rate\"                             \n",
              "[35] \"Inflation.rate\"                                \n",
              "[36] \"GDP\"                                           \n",
              "[37] \"Target\"                                        "
            ]
          },
          "metadata": {}
        }
      ]
    },
    {
      "cell_type": "code",
      "source": [
        "## Scholarship.holder - Reject null -> has an impact\n",
        "\n",
        "model9 <- glm(Num_Target ~ Scholarship.holder, data=clean_df, family='binomial')\n",
        "summary(model9)"
      ],
      "metadata": {
        "colab": {
          "base_uri": "https://localhost:8080/",
          "height": 366
        },
        "id": "Za4kVd6KvtBS",
        "outputId": "cc84ded0-e842-43af-a70a-f5796d715498"
      },
      "execution_count": 99,
      "outputs": [
        {
          "output_type": "display_data",
          "data": {
            "text/plain": [
              "\n",
              "Call:\n",
              "glm(formula = Num_Target ~ Scholarship.holder, family = \"binomial\", \n",
              "    data = clean_df)\n",
              "\n",
              "Coefficients:\n",
              "                   Estimate Std. Error z value Pr(>|z|)    \n",
              "(Intercept)        -0.06541    0.03879  -1.686   0.0917 .  \n",
              "Scholarship.holder -1.76418    0.10082 -17.498   <2e-16 ***\n",
              "---\n",
              "Signif. codes:  0 ‘***’ 0.001 ‘**’ 0.01 ‘*’ 0.05 ‘.’ 0.1 ‘ ’ 1\n",
              "\n",
              "(Dispersion parameter for binomial family taken to be 1)\n",
              "\n",
              "    Null deviance: 4859.8  on 3629  degrees of freedom\n",
              "Residual deviance: 4464.9  on 3628  degrees of freedom\n",
              "AIC: 4468.9\n",
              "\n",
              "Number of Fisher Scoring iterations: 4\n"
            ]
          },
          "metadata": {}
        }
      ]
    },
    {
      "cell_type": "code",
      "source": [
        "## International - Fail to Reject null -> no impact\n",
        "\n",
        "model10 <- glm(Num_Target ~ International, data=clean_df, family='binomial')\n",
        "summary(model10)"
      ],
      "metadata": {
        "colab": {
          "base_uri": "https://localhost:8080/",
          "height": 366
        },
        "id": "0CeWQjVsv8YZ",
        "outputId": "341f3719-838c-4097-8266-dda383fe1c01"
      },
      "execution_count": 100,
      "outputs": [
        {
          "output_type": "display_data",
          "data": {
            "text/plain": [
              "\n",
              "Call:\n",
              "glm(formula = Num_Target ~ International, family = \"binomial\", \n",
              "    data = clean_df)\n",
              "\n",
              "Coefficients:\n",
              "              Estimate Std. Error z value Pr(>|z|)    \n",
              "(Intercept)   -0.43921    0.03441 -12.764   <2e-16 ***\n",
              "International -0.08404    0.22573  -0.372     0.71    \n",
              "---\n",
              "Signif. codes:  0 ‘***’ 0.001 ‘**’ 0.01 ‘*’ 0.05 ‘.’ 0.1 ‘ ’ 1\n",
              "\n",
              "(Dispersion parameter for binomial family taken to be 1)\n",
              "\n",
              "    Null deviance: 4859.8  on 3629  degrees of freedom\n",
              "Residual deviance: 4859.7  on 3628  degrees of freedom\n",
              "AIC: 4863.7\n",
              "\n",
              "Number of Fisher Scoring iterations: 4\n"
            ]
          },
          "metadata": {}
        }
      ]
    }
  ]
}