{
  "nbformat": 4,
  "nbformat_minor": 0,
  "metadata": {
    "colab": {
      "provenance": [],
      "include_colab_link": true
    },
    "kernelspec": {
      "name": "ir",
      "display_name": "R"
    },
    "language_info": {
      "name": "R"
    }
  },
  "cells": [
    {
      "cell_type": "markdown",
      "metadata": {
        "id": "view-in-github",
        "colab_type": "text"
      },
      "source": [
        "<a href=\"https://colab.research.google.com/github/iPrinka/MITx-Micromasters-Statistics-Data-Science/blob/main/onleague_stats_w6.ipynb\" target=\"_parent\"><img src=\"https://colab.research.google.com/assets/colab-badge.svg\" alt=\"Open In Colab\"/></a>"
      ]
    },
    {
      "cell_type": "markdown",
      "source": [
        "#### Hypothesis tests and ml with R\n",
        "\n",
        "**Objectives**\n",
        "\n",
        "- Review hypothesis tests for proportions and means\n",
        "- Review hypothesis tests for regression models\n",
        "- Review hypothesis tests for logistic regression\n",
        "- Introduce machine learning models with the `caret` package"
      ],
      "metadata": {
        "id": "PbJHn_r2FxYb"
      }
    },
    {
      "cell_type": "code",
      "source": [
        "library(tidyverse)"
      ],
      "metadata": {
        "colab": {
          "base_uri": "https://localhost:8080/"
        },
        "id": "xoaiQINhHIoI",
        "outputId": "49eb1c5b-d701-497e-cb48-6dbb6e64eaa6"
      },
      "execution_count": 1,
      "outputs": [
        {
          "output_type": "stream",
          "name": "stderr",
          "text": [
            "── \u001b[1mAttaching packages\u001b[22m ─────────────────────────────────────── tidyverse 1.3.1 ──\n",
            "\n",
            "\u001b[32m✔\u001b[39m \u001b[34mggplot2\u001b[39m 3.4.2     \u001b[32m✔\u001b[39m \u001b[34mpurrr  \u001b[39m 1.0.1\n",
            "\u001b[32m✔\u001b[39m \u001b[34mtibble \u001b[39m 3.2.1     \u001b[32m✔\u001b[39m \u001b[34mdplyr  \u001b[39m 1.1.2\n",
            "\u001b[32m✔\u001b[39m \u001b[34mtidyr  \u001b[39m 1.3.0     \u001b[32m✔\u001b[39m \u001b[34mstringr\u001b[39m 1.5.0\n",
            "\u001b[32m✔\u001b[39m \u001b[34mreadr  \u001b[39m 2.1.4     \u001b[32m✔\u001b[39m \u001b[34mforcats\u001b[39m 1.0.0\n",
            "\n",
            "── \u001b[1mConflicts\u001b[22m ────────────────────────────────────────── tidyverse_conflicts() ──\n",
            "\u001b[31m✖\u001b[39m \u001b[34mdplyr\u001b[39m::\u001b[32mfilter()\u001b[39m masks \u001b[34mstats\u001b[39m::filter()\n",
            "\u001b[31m✖\u001b[39m \u001b[34mdplyr\u001b[39m::\u001b[32mlag()\u001b[39m    masks \u001b[34mstats\u001b[39m::lag()\n",
            "\n"
          ]
        }
      ]
    },
    {
      "cell_type": "code",
      "source": [
        "#random binomial data -- 100 trials of 20 coin tosses with p = .3\n",
        "x <- rbinom(100, 20, 0.3)"
      ],
      "metadata": {
        "id": "4i5rVzAjIeGw"
      },
      "execution_count": 3,
      "outputs": []
    },
    {
      "cell_type": "code",
      "source": [
        "x"
      ],
      "metadata": {
        "colab": {
          "base_uri": "https://localhost:8080/",
          "height": 69
        },
        "id": "G3wxudg7UiVf",
        "outputId": "07937330-3e87-4c17-dd50-c836eab78405"
      },
      "execution_count": 5,
      "outputs": [
        {
          "output_type": "display_data",
          "data": {
            "text/html": [
              "<style>\n",
              ".list-inline {list-style: none; margin:0; padding: 0}\n",
              ".list-inline>li {display: inline-block}\n",
              ".list-inline>li:not(:last-child)::after {content: \"\\00b7\"; padding: 0 .5ex}\n",
              "</style>\n",
              "<ol class=list-inline><li>4</li><li>3</li><li>6</li><li>4</li><li>5</li><li>6</li><li>7</li><li>3</li><li>4</li><li>4</li><li>5</li><li>3</li><li>5</li><li>5</li><li>7</li><li>6</li><li>5</li><li>9</li><li>9</li><li>9</li><li>7</li><li>7</li><li>8</li><li>3</li><li>6</li><li>10</li><li>8</li><li>8</li><li>7</li><li>9</li><li>10</li><li>7</li><li>8</li><li>4</li><li>4</li><li>5</li><li>6</li><li>7</li><li>5</li><li>5</li><li>7</li><li>6</li><li>7</li><li>4</li><li>3</li><li>4</li><li>10</li><li>6</li><li>8</li><li>4</li><li>4</li><li>5</li><li>3</li><li>7</li><li>4</li><li>9</li><li>4</li><li>9</li><li>4</li><li>7</li><li>4</li><li>7</li><li>6</li><li>7</li><li>4</li><li>8</li><li>5</li><li>5</li><li>6</li><li>6</li><li>10</li><li>5</li><li>7</li><li>5</li><li>6</li><li>6</li><li>9</li><li>5</li><li>10</li><li>4</li><li>7</li><li>4</li><li>5</li><li>10</li><li>7</li><li>7</li><li>3</li><li>6</li><li>7</li><li>4</li><li>3</li><li>7</li><li>7</li><li>6</li><li>8</li><li>4</li><li>4</li><li>6</li><li>10</li><li>6</li></ol>\n"
            ],
            "text/markdown": "1. 4\n2. 3\n3. 6\n4. 4\n5. 5\n6. 6\n7. 7\n8. 3\n9. 4\n10. 4\n11. 5\n12. 3\n13. 5\n14. 5\n15. 7\n16. 6\n17. 5\n18. 9\n19. 9\n20. 9\n21. 7\n22. 7\n23. 8\n24. 3\n25. 6\n26. 10\n27. 8\n28. 8\n29. 7\n30. 9\n31. 10\n32. 7\n33. 8\n34. 4\n35. 4\n36. 5\n37. 6\n38. 7\n39. 5\n40. 5\n41. 7\n42. 6\n43. 7\n44. 4\n45. 3\n46. 4\n47. 10\n48. 6\n49. 8\n50. 4\n51. 4\n52. 5\n53. 3\n54. 7\n55. 4\n56. 9\n57. 4\n58. 9\n59. 4\n60. 7\n61. 4\n62. 7\n63. 6\n64. 7\n65. 4\n66. 8\n67. 5\n68. 5\n69. 6\n70. 6\n71. 10\n72. 5\n73. 7\n74. 5\n75. 6\n76. 6\n77. 9\n78. 5\n79. 10\n80. 4\n81. 7\n82. 4\n83. 5\n84. 10\n85. 7\n86. 7\n87. 3\n88. 6\n89. 7\n90. 4\n91. 3\n92. 7\n93. 7\n94. 6\n95. 8\n96. 4\n97. 4\n98. 6\n99. 10\n100. 6\n\n\n",
            "text/latex": "\\begin{enumerate*}\n\\item 4\n\\item 3\n\\item 6\n\\item 4\n\\item 5\n\\item 6\n\\item 7\n\\item 3\n\\item 4\n\\item 4\n\\item 5\n\\item 3\n\\item 5\n\\item 5\n\\item 7\n\\item 6\n\\item 5\n\\item 9\n\\item 9\n\\item 9\n\\item 7\n\\item 7\n\\item 8\n\\item 3\n\\item 6\n\\item 10\n\\item 8\n\\item 8\n\\item 7\n\\item 9\n\\item 10\n\\item 7\n\\item 8\n\\item 4\n\\item 4\n\\item 5\n\\item 6\n\\item 7\n\\item 5\n\\item 5\n\\item 7\n\\item 6\n\\item 7\n\\item 4\n\\item 3\n\\item 4\n\\item 10\n\\item 6\n\\item 8\n\\item 4\n\\item 4\n\\item 5\n\\item 3\n\\item 7\n\\item 4\n\\item 9\n\\item 4\n\\item 9\n\\item 4\n\\item 7\n\\item 4\n\\item 7\n\\item 6\n\\item 7\n\\item 4\n\\item 8\n\\item 5\n\\item 5\n\\item 6\n\\item 6\n\\item 10\n\\item 5\n\\item 7\n\\item 5\n\\item 6\n\\item 6\n\\item 9\n\\item 5\n\\item 10\n\\item 4\n\\item 7\n\\item 4\n\\item 5\n\\item 10\n\\item 7\n\\item 7\n\\item 3\n\\item 6\n\\item 7\n\\item 4\n\\item 3\n\\item 7\n\\item 7\n\\item 6\n\\item 8\n\\item 4\n\\item 4\n\\item 6\n\\item 10\n\\item 6\n\\end{enumerate*}\n",
            "text/plain": [
              "  [1]  4  3  6  4  5  6  7  3  4  4  5  3  5  5  7  6  5  9  9  9  7  7  8  3  6\n",
              " [26] 10  8  8  7  9 10  7  8  4  4  5  6  7  5  5  7  6  7  4  3  4 10  6  8  4\n",
              " [51]  4  5  3  7  4  9  4  9  4  7  4  7  6  7  4  8  5  5  6  6 10  5  7  5  6\n",
              " [76]  6  9  5 10  4  7  4  5 10  7  7  3  6  7  4  3  7  7  6  8  4  4  6 10  6"
            ]
          },
          "metadata": {}
        }
      ]
    },
    {
      "cell_type": "code",
      "source": [
        "hist(x)"
      ],
      "metadata": {
        "colab": {
          "base_uri": "https://localhost:8080/",
          "height": 437
        },
        "id": "AiNQegXSUZB1",
        "outputId": "31a8ce77-5f9b-4676-ea41-550e5ab1fb1e"
      },
      "execution_count": 4,
      "outputs": [
        {
          "output_type": "display_data",
          "data": {
            "text/plain": [
              "Plot with title “Histogram of x”"
            ],
            "image/png": "[encoded data removed]"
          },
          "metadata": {
            "image/png": {
              "width": 420,
              "height": 420
            }
          }
        }
      ]
    },
    {
      "cell_type": "markdown",
      "source": [
        "- Hypotheses for proportions"
      ],
      "metadata": {
        "id": "5KLuyAeTIxYj"
      }
    },
    {
      "cell_type": "code",
      "source": [
        "#test whether proportion is different\n",
        "prop.test(x=6, n=20, p = 0.5)"
      ],
      "metadata": {
        "id": "TkunrtP7IeEr",
        "colab": {
          "base_uri": "https://localhost:8080/",
          "height": 219
        },
        "outputId": "71f4ab19-aa14-4098-a028-5ec8580144e7"
      },
      "execution_count": 8,
      "outputs": [
        {
          "output_type": "display_data",
          "data": {
            "text/plain": [
              "\n",
              "\t1-sample proportions test with continuity correction\n",
              "\n",
              "data:  6 out of 20, null probability 0.5\n",
              "X-squared = 2.45, df = 1, p-value = 0.1175\n",
              "alternative hypothesis: true p is not equal to 0.5\n",
              "95 percent confidence interval:\n",
              " 0.1283909 0.5433071\n",
              "sample estimates:\n",
              "  p \n",
              "0.3 \n"
            ]
          },
          "metadata": {}
        }
      ]
    },
    {
      "cell_type": "markdown",
      "source": [
        "- Hypothesis for less than .5"
      ],
      "metadata": {
        "id": "M0YdDdU1I2lU"
      }
    },
    {
      "cell_type": "code",
      "source": [
        "#test less than\n",
        "prop.test(x=6, n=20, p=0.5, alternative = 'less')"
      ],
      "metadata": {
        "id": "7iQ7LCFuIeCV",
        "colab": {
          "base_uri": "https://localhost:8080/",
          "height": 219
        },
        "outputId": "39ea643f-40cb-41ab-d6e4-8229fe47984f"
      },
      "execution_count": 10,
      "outputs": [
        {
          "output_type": "display_data",
          "data": {
            "text/plain": [
              "\n",
              "\t1-sample proportions test with continuity correction\n",
              "\n",
              "data:  6 out of 20, null probability 0.5\n",
              "X-squared = 2.45, df = 1, p-value = 0.05876\n",
              "alternative hypothesis: true p is less than 0.5\n",
              "95 percent confidence interval:\n",
              " 0.0000000 0.5088713\n",
              "sample estimates:\n",
              "  p \n",
              "0.3 \n"
            ]
          },
          "metadata": {}
        }
      ]
    },
    {
      "cell_type": "markdown",
      "source": [
        "- Hypothesis test for more than .1"
      ],
      "metadata": {
        "id": "k3JIm-TLJW_A"
      }
    },
    {
      "cell_type": "code",
      "source": [
        "#test more\n",
        "prop.test(x=6, n=20, p=0.5, alternative = 'greater')"
      ],
      "metadata": {
        "id": "eocu6v8_IeAQ",
        "colab": {
          "base_uri": "https://localhost:8080/",
          "height": 219
        },
        "outputId": "c4a98f7f-ae6a-46e3-a327-a379c65c13f2"
      },
      "execution_count": 12,
      "outputs": [
        {
          "output_type": "display_data",
          "data": {
            "text/plain": [
              "\n",
              "\t1-sample proportions test with continuity correction\n",
              "\n",
              "data:  6 out of 20, null probability 0.5\n",
              "X-squared = 2.45, df = 1, p-value = 0.9412\n",
              "alternative hypothesis: true p is greater than 0.5\n",
              "95 percent confidence interval:\n",
              " 0.1453628 1.0000000\n",
              "sample estimates:\n",
              "  p \n",
              "0.3 \n"
            ]
          },
          "metadata": {}
        }
      ]
    },
    {
      "cell_type": "markdown",
      "source": [
        "Create two datasets `class_a` and `class_b` from random normal distributions with $\\mu = 80, 83$ and $\\sigma = 6, 7$."
      ],
      "metadata": {
        "id": "oVJ9qsg-KAPP"
      }
    },
    {
      "cell_type": "code",
      "source": [
        "class_a <- rnorm(100, mean=80, sd=6)\n",
        "class_b <- rnorm(100, mean=83, sd=7)"
      ],
      "metadata": {
        "id": "tcoXKR9YYw8z"
      },
      "execution_count": 14,
      "outputs": []
    },
    {
      "cell_type": "markdown",
      "source": [
        "- test for `class_a` that $\\mu = 90$"
      ],
      "metadata": {
        "id": "i5poiRIHKS8t"
      }
    },
    {
      "cell_type": "code",
      "source": [
        "t.test(class_a, mu=90)"
      ],
      "metadata": {
        "id": "kR3vrO_-Id8G",
        "colab": {
          "base_uri": "https://localhost:8080/",
          "height": 219
        },
        "outputId": "d57cd932-ddfa-45de-ff5e-865eff768bce"
      },
      "execution_count": 23,
      "outputs": [
        {
          "output_type": "display_data",
          "data": {
            "text/plain": [
              "\n",
              "\tOne Sample t-test\n",
              "\n",
              "data:  class_a\n",
              "t = -16.378, df = 99, p-value < 2.2e-16\n",
              "alternative hypothesis: true mean is not equal to 90\n",
              "95 percent confidence interval:\n",
              " 77.73757 80.38769\n",
              "sample estimates:\n",
              "mean of x \n",
              " 79.06263 \n"
            ]
          },
          "metadata": {}
        }
      ]
    },
    {
      "cell_type": "markdown",
      "source": [
        "- test for `class_a` that $\\mu < 90$"
      ],
      "metadata": {
        "id": "R9SLd4xxKag7"
      }
    },
    {
      "cell_type": "code",
      "source": [
        "t.test(class_a, mu=90, alternative = 'less')"
      ],
      "metadata": {
        "id": "SYsMMBM3Id5f",
        "colab": {
          "base_uri": "https://localhost:8080/",
          "height": 219
        },
        "outputId": "02190b3d-4617-4639-d913-d905e8ee644d"
      },
      "execution_count": 24,
      "outputs": [
        {
          "output_type": "display_data",
          "data": {
            "text/plain": [
              "\n",
              "\tOne Sample t-test\n",
              "\n",
              "data:  class_a\n",
              "t = -16.378, df = 99, p-value < 2.2e-16\n",
              "alternative hypothesis: true mean is less than 90\n",
              "95 percent confidence interval:\n",
              "     -Inf 80.17144\n",
              "sample estimates:\n",
              "mean of x \n",
              " 79.06263 \n"
            ]
          },
          "metadata": {}
        }
      ]
    },
    {
      "cell_type": "code",
      "source": [
        "t.test(class_a, mu=90, alternative = 'greater')"
      ],
      "metadata": {
        "colab": {
          "base_uri": "https://localhost:8080/",
          "height": 219
        },
        "id": "3wSCRdApZ89M",
        "outputId": "eb112561-8786-4eb3-f5b7-86640a90c457"
      },
      "execution_count": 25,
      "outputs": [
        {
          "output_type": "display_data",
          "data": {
            "text/plain": [
              "\n",
              "\tOne Sample t-test\n",
              "\n",
              "data:  class_a\n",
              "t = -16.378, df = 99, p-value = 1\n",
              "alternative hypothesis: true mean is greater than 90\n",
              "95 percent confidence interval:\n",
              " 77.95382      Inf\n",
              "sample estimates:\n",
              "mean of x \n",
              " 79.06263 \n"
            ]
          },
          "metadata": {}
        }
      ]
    },
    {
      "cell_type": "markdown",
      "source": [
        "- test that `class_a` is different than `class_b`"
      ],
      "metadata": {
        "id": "pG82Xh6wKgub"
      }
    },
    {
      "cell_type": "code",
      "source": [
        "t.test(class_a, class_b)"
      ],
      "metadata": {
        "id": "dqPhUWS0E4Ye",
        "colab": {
          "base_uri": "https://localhost:8080/",
          "height": 219
        },
        "outputId": "b1dc42c3-9e7e-4300-8ca0-472f2eb97d27"
      },
      "execution_count": 26,
      "outputs": [
        {
          "output_type": "display_data",
          "data": {
            "text/plain": [
              "\n",
              "\tWelch Two Sample t-test\n",
              "\n",
              "data:  class_a and class_b\n",
              "t = -4.7688, df = 197.86, p-value = 3.588e-06\n",
              "alternative hypothesis: true difference in means is not equal to 0\n",
              "95 percent confidence interval:\n",
              " -6.282915 -2.606804\n",
              "sample estimates:\n",
              "mean of x mean of y \n",
              " 79.06263  83.50749 \n"
            ]
          },
          "metadata": {}
        }
      ]
    },
    {
      "cell_type": "markdown",
      "source": [
        "- test that `class_a` is greater than `class_b`"
      ],
      "metadata": {
        "id": "0k_yXUNuKs3-"
      }
    },
    {
      "cell_type": "code",
      "source": [
        "t.test(class_a, class_b, alternative = 'greater')"
      ],
      "metadata": {
        "id": "JC6uHL0uKyAv",
        "colab": {
          "base_uri": "https://localhost:8080/",
          "height": 219
        },
        "outputId": "0287a792-2795-4736-c373-0bc92ad0a441"
      },
      "execution_count": 27,
      "outputs": [
        {
          "output_type": "display_data",
          "data": {
            "text/plain": [
              "\n",
              "\tWelch Two Sample t-test\n",
              "\n",
              "data:  class_a and class_b\n",
              "t = -4.7688, df = 197.86, p-value = 1\n",
              "alternative hypothesis: true difference in means is greater than 0\n",
              "95 percent confidence interval:\n",
              " -5.985181       Inf\n",
              "sample estimates:\n",
              "mean of x mean of y \n",
              " 79.06263  83.50749 \n"
            ]
          },
          "metadata": {}
        }
      ]
    },
    {
      "cell_type": "code",
      "source": [
        "t.test(class_a, class_b, alternative = 'less')"
      ],
      "metadata": {
        "colab": {
          "base_uri": "https://localhost:8080/",
          "height": 219
        },
        "id": "eTDIvbU4av1V",
        "outputId": "5e21bde2-2a8a-453a-a3a7-cf0c899d5f13"
      },
      "execution_count": 28,
      "outputs": [
        {
          "output_type": "display_data",
          "data": {
            "text/plain": [
              "\n",
              "\tWelch Two Sample t-test\n",
              "\n",
              "data:  class_a and class_b\n",
              "t = -4.7688, df = 197.86, p-value = 1.794e-06\n",
              "alternative hypothesis: true difference in means is less than 0\n",
              "95 percent confidence interval:\n",
              "      -Inf -2.904538\n",
              "sample estimates:\n",
              "mean of x mean of y \n",
              " 79.06263  83.50749 \n"
            ]
          },
          "metadata": {}
        }
      ]
    },
    {
      "cell_type": "markdown",
      "source": [
        "Load in the `loan_approval` data.  Set up and carry out a one sample and two sample test of proportions and means.  Interpret the results."
      ],
      "metadata": {
        "id": "Vze7h_WELUBj"
      }
    },
    {
      "cell_type": "code",
      "source": [
        "loans <- read_csv('loan_approval.csv')\n",
        "head(loans)"
      ],
      "metadata": {
        "id": "15JBXUhOLev6",
        "colab": {
          "base_uri": "https://localhost:8080/",
          "height": 471
        },
        "outputId": "b5a983d0-c0ce-49d0-8806-30d9a6eb2450"
      },
      "execution_count": 29,
      "outputs": [
        {
          "output_type": "stream",
          "name": "stderr",
          "text": [
            "\u001b[1mRows: \u001b[22m\u001b[34m614\u001b[39m \u001b[1mColumns: \u001b[22m\u001b[34m13\u001b[39m\n",
            "\u001b[36m──\u001b[39m \u001b[1mColumn specification\u001b[22m \u001b[36m────────────────────────────────────────────────────────\u001b[39m\n",
            "\u001b[1mDelimiter:\u001b[22m \",\"\n",
            "\u001b[31mchr\u001b[39m (8): Loan_ID, Gender, Married, Dependents, Education, Self_Employed, Pro...\n",
            "\u001b[32mdbl\u001b[39m (5): ApplicantIncome, CoapplicantIncome, LoanAmount, Loan_Amount_Term, C...\n",
            "\n",
            "\u001b[36mℹ\u001b[39m Use `spec()` to retrieve the full column specification for this data.\n",
            "\u001b[36mℹ\u001b[39m Specify the column types or set `show_col_types = FALSE` to quiet this message.\n"
          ]
        },
        {
          "output_type": "display_data",
          "data": {
            "text/html": [
              "<table class=\"dataframe\">\n",
              "<caption>A tibble: 6 × 13</caption>\n",
              "<thead>\n",
              "\t<tr><th scope=col>Loan_ID</th><th scope=col>Gender</th><th scope=col>Married</th><th scope=col>Dependents</th><th scope=col>Education</th><th scope=col>Self_Employed</th><th scope=col>ApplicantIncome</th><th scope=col>CoapplicantIncome</th><th scope=col>LoanAmount</th><th scope=col>Loan_Amount_Term</th><th scope=col>Credit_History</th><th scope=col>Property_Area</th><th scope=col>Loan_Status</th></tr>\n",
              "\t<tr><th scope=col>&lt;chr&gt;</th><th scope=col>&lt;chr&gt;</th><th scope=col>&lt;chr&gt;</th><th scope=col>&lt;chr&gt;</th><th scope=col>&lt;chr&gt;</th><th scope=col>&lt;chr&gt;</th><th scope=col>&lt;dbl&gt;</th><th scope=col>&lt;dbl&gt;</th><th scope=col>&lt;dbl&gt;</th><th scope=col>&lt;dbl&gt;</th><th scope=col>&lt;dbl&gt;</th><th scope=col>&lt;chr&gt;</th><th scope=col>&lt;chr&gt;</th></tr>\n",
              "</thead>\n",
              "<tbody>\n",
              "\t<tr><td>LP001002</td><td>Male</td><td>No </td><td>0</td><td>Graduate    </td><td>No </td><td>5849</td><td>   0</td><td> NA</td><td>360</td><td>1</td><td>Urban</td><td>Y</td></tr>\n",
              "\t<tr><td>LP001003</td><td>Male</td><td>Yes</td><td>1</td><td>Graduate    </td><td>No </td><td>4583</td><td>1508</td><td>128</td><td>360</td><td>1</td><td>Rural</td><td>N</td></tr>\n",
              "\t<tr><td>LP001005</td><td>Male</td><td>Yes</td><td>0</td><td>Graduate    </td><td>Yes</td><td>3000</td><td>   0</td><td> 66</td><td>360</td><td>1</td><td>Urban</td><td>Y</td></tr>\n",
              "\t<tr><td>LP001006</td><td>Male</td><td>Yes</td><td>0</td><td>Not Graduate</td><td>No </td><td>2583</td><td>2358</td><td>120</td><td>360</td><td>1</td><td>Urban</td><td>Y</td></tr>\n",
              "\t<tr><td>LP001008</td><td>Male</td><td>No </td><td>0</td><td>Graduate    </td><td>No </td><td>6000</td><td>   0</td><td>141</td><td>360</td><td>1</td><td>Urban</td><td>Y</td></tr>\n",
              "\t<tr><td>LP001011</td><td>Male</td><td>Yes</td><td>2</td><td>Graduate    </td><td>Yes</td><td>5417</td><td>4196</td><td>267</td><td>360</td><td>1</td><td>Urban</td><td>Y</td></tr>\n",
              "</tbody>\n",
              "</table>\n"
            ],
            "text/markdown": "\nA tibble: 6 × 13\n\n| Loan_ID &lt;chr&gt; | Gender &lt;chr&gt; | Married &lt;chr&gt; | Dependents &lt;chr&gt; | Education &lt;chr&gt; | Self_Employed &lt;chr&gt; | ApplicantIncome &lt;dbl&gt; | CoapplicantIncome &lt;dbl&gt; | LoanAmount &lt;dbl&gt; | Loan_Amount_Term &lt;dbl&gt; | Credit_History &lt;dbl&gt; | Property_Area &lt;chr&gt; | Loan_Status &lt;chr&gt; |\n|---|---|---|---|---|---|---|---|---|---|---|---|---|\n| LP001002 | Male | No  | 0 | Graduate     | No  | 5849 |    0 |  NA | 360 | 1 | Urban | Y |\n| LP001003 | Male | Yes | 1 | Graduate     | No  | 4583 | 1508 | 128 | 360 | 1 | Rural | N |\n| LP001005 | Male | Yes | 0 | Graduate     | Yes | 3000 |    0 |  66 | 360 | 1 | Urban | Y |\n| LP001006 | Male | Yes | 0 | Not Graduate | No  | 2583 | 2358 | 120 | 360 | 1 | Urban | Y |\n| LP001008 | Male | No  | 0 | Graduate     | No  | 6000 |    0 | 141 | 360 | 1 | Urban | Y |\n| LP001011 | Male | Yes | 2 | Graduate     | Yes | 5417 | 4196 | 267 | 360 | 1 | Urban | Y |\n\n",
            "text/latex": "A tibble: 6 × 13\n\\begin{tabular}{lllllllllllll}\n Loan\\_ID & Gender & Married & Dependents & Education & Self\\_Employed & ApplicantIncome & CoapplicantIncome & LoanAmount & Loan\\_Amount\\_Term & Credit\\_History & Property\\_Area & Loan\\_Status\\\\\n <chr> & <chr> & <chr> & <chr> & <chr> & <chr> & <dbl> & <dbl> & <dbl> & <dbl> & <dbl> & <chr> & <chr>\\\\\n\\hline\n\t LP001002 & Male & No  & 0 & Graduate     & No  & 5849 &    0 &  NA & 360 & 1 & Urban & Y\\\\\n\t LP001003 & Male & Yes & 1 & Graduate     & No  & 4583 & 1508 & 128 & 360 & 1 & Rural & N\\\\\n\t LP001005 & Male & Yes & 0 & Graduate     & Yes & 3000 &    0 &  66 & 360 & 1 & Urban & Y\\\\\n\t LP001006 & Male & Yes & 0 & Not Graduate & No  & 2583 & 2358 & 120 & 360 & 1 & Urban & Y\\\\\n\t LP001008 & Male & No  & 0 & Graduate     & No  & 6000 &    0 & 141 & 360 & 1 & Urban & Y\\\\\n\t LP001011 & Male & Yes & 2 & Graduate     & Yes & 5417 & 4196 & 267 & 360 & 1 & Urban & Y\\\\\n\\end{tabular}\n",
            "text/plain": [
              "  Loan_ID  Gender Married Dependents Education    Self_Employed ApplicantIncome\n",
              "1 LP001002 Male   No      0          Graduate     No            5849           \n",
              "2 LP001003 Male   Yes     1          Graduate     No            4583           \n",
              "3 LP001005 Male   Yes     0          Graduate     Yes           3000           \n",
              "4 LP001006 Male   Yes     0          Not Graduate No            2583           \n",
              "5 LP001008 Male   No      0          Graduate     No            6000           \n",
              "6 LP001011 Male   Yes     2          Graduate     Yes           5417           \n",
              "  CoapplicantIncome LoanAmount Loan_Amount_Term Credit_History Property_Area\n",
              "1    0               NA        360              1              Urban        \n",
              "2 1508              128        360              1              Rural        \n",
              "3    0               66        360              1              Urban        \n",
              "4 2358              120        360              1              Urban        \n",
              "5    0              141        360              1              Urban        \n",
              "6 4196              267        360              1              Urban        \n",
              "  Loan_Status\n",
              "1 Y          \n",
              "2 N          \n",
              "3 Y          \n",
              "4 Y          \n",
              "5 Y          \n",
              "6 Y          "
            ]
          },
          "metadata": {}
        }
      ]
    },
    {
      "cell_type": "code",
      "source": [
        "?prop.test"
      ],
      "metadata": {
        "id": "z1neo_b-enex"
      },
      "execution_count": 54,
      "outputs": []
    },
    {
      "cell_type": "code",
      "source": [
        "table(loans$Gender,loans$Loan_Status)"
      ],
      "metadata": {
        "colab": {
          "base_uri": "https://localhost:8080/",
          "height": 90
        },
        "id": "bxbE4t2gijHu",
        "outputId": "8eb9b8d2-05fe-4262-9f4c-b4e65b07ad27"
      },
      "execution_count": 59,
      "outputs": [
        {
          "output_type": "display_data",
          "data": {
            "text/plain": [
              "        \n",
              "           N   Y\n",
              "  Female  37  75\n",
              "  Male   150 339"
            ]
          },
          "metadata": {}
        }
      ]
    },
    {
      "cell_type": "code",
      "source": [
        "prop.test(x = 75, n = 75+37, p = 0.5)"
      ],
      "metadata": {
        "colab": {
          "base_uri": "https://localhost:8080/",
          "height": 219
        },
        "id": "YG4mmP5gh2jY",
        "outputId": "6f27e92f-5eac-41ef-fcb2-ba7f88ace228"
      },
      "execution_count": 60,
      "outputs": [
        {
          "output_type": "display_data",
          "data": {
            "text/plain": [
              "\n",
              "\t1-sample proportions test with continuity correction\n",
              "\n",
              "data:  75 out of 75 + 37, null probability 0.5\n",
              "X-squared = 12.223, df = 1, p-value = 0.000472\n",
              "alternative hypothesis: true p is not equal to 0.5\n",
              "95 percent confidence interval:\n",
              " 0.5735873 0.7538814\n",
              "sample estimates:\n",
              "        p \n",
              "0.6696429 \n"
            ]
          },
          "metadata": {}
        }
      ]
    },
    {
      "cell_type": "code",
      "source": [
        "prop.test(x = 75, n = 75+37, p = 0.5, alternative = 'greater')"
      ],
      "metadata": {
        "colab": {
          "base_uri": "https://localhost:8080/",
          "height": 219
        },
        "id": "qI5Ax1pyjqgE",
        "outputId": "b1a16a87-7632-42bb-fdc4-5463a48979b7"
      },
      "execution_count": 61,
      "outputs": [
        {
          "output_type": "display_data",
          "data": {
            "text/plain": [
              "\n",
              "\t1-sample proportions test with continuity correction\n",
              "\n",
              "data:  75 out of 75 + 37, null probability 0.5\n",
              "X-squared = 12.223, df = 1, p-value = 0.000236\n",
              "alternative hypothesis: true p is greater than 0.5\n",
              "95 percent confidence interval:\n",
              " 0.5886991 1.0000000\n",
              "sample estimates:\n",
              "        p \n",
              "0.6696429 \n"
            ]
          },
          "metadata": {}
        }
      ]
    },
    {
      "cell_type": "code",
      "source": [
        "prop.test(~Loan_Status, data=loans, success=\"Y\")"
      ],
      "metadata": {
        "colab": {
          "base_uri": "https://localhost:8080/",
          "height": 116
        },
        "id": "qJCFFP-ikGcd",
        "outputId": "d43f3e6a-7086-4a07-b96c-2d043ac21d93"
      },
      "execution_count": 62,
      "outputs": [
        {
          "output_type": "error",
          "ename": "ERROR",
          "evalue": "ignored",
          "traceback": [
            "Error in prop.test(~Loan_Status, data = loans, success = \"Y\"): unused arguments (data = loans, success = \"Y\")\nTraceback:\n"
          ]
        }
      ]
    },
    {
      "cell_type": "code",
      "source": [
        "t_test_income <- t.test(loans$ApplicantIncome, mu = 5000)\n",
        "print(t_test_income)"
      ],
      "metadata": {
        "id": "IzsSCkN2Lep8",
        "colab": {
          "base_uri": "https://localhost:8080/"
        },
        "outputId": "e684b875-0534-46a7-dabb-9d975e5faf29"
      },
      "execution_count": 63,
      "outputs": [
        {
          "output_type": "stream",
          "name": "stdout",
          "text": [
            "\n",
            "\tOne Sample t-test\n",
            "\n",
            "data:  loans$ApplicantIncome\n",
            "t = 1.6365, df = 613, p-value = 0.1023\n",
            "alternative hypothesis: true mean is not equal to 5000\n",
            "95 percent confidence interval:\n",
            " 4919.292 5887.626\n",
            "sample estimates:\n",
            "mean of x \n",
            " 5403.459 \n",
            "\n"
          ]
        }
      ]
    },
    {
      "cell_type": "code",
      "source": [
        "t.test(loans$ApplicantIncome, mu = 5000, alternative = 'greater')"
      ],
      "metadata": {
        "colab": {
          "base_uri": "https://localhost:8080/",
          "height": 219
        },
        "id": "Wg942iQOk6_2",
        "outputId": "d21e7b4d-c13f-46c2-c567-13320309de17"
      },
      "execution_count": 64,
      "outputs": [
        {
          "output_type": "display_data",
          "data": {
            "text/plain": [
              "\n",
              "\tOne Sample t-test\n",
              "\n",
              "data:  loans$ApplicantIncome\n",
              "t = 1.6365, df = 613, p-value = 0.05113\n",
              "alternative hypothesis: true mean is greater than 5000\n",
              "95 percent confidence interval:\n",
              " 4997.322      Inf\n",
              "sample estimates:\n",
              "mean of x \n",
              " 5403.459 \n"
            ]
          },
          "metadata": {}
        }
      ]
    },
    {
      "cell_type": "code",
      "source": [
        "t.test(loans$ApplicantIncome[loans$Loan_Status == \"Y\"], loans$ApplicantIncome[loans$Loan_Status == \"N\"])"
      ],
      "metadata": {
        "colab": {
          "base_uri": "https://localhost:8080/",
          "height": 237
        },
        "id": "RGA82gSzlFyv",
        "outputId": "5b954ac7-26a3-40e8-e9a2-8865e5f2e6bc"
      },
      "execution_count": 65,
      "outputs": [
        {
          "output_type": "display_data",
          "data": {
            "text/plain": [
              "\n",
              "\tWelch Two Sample t-test\n",
              "\n",
              "data:  loans$ApplicantIncome[loans$Loan_Status == \"Y\"] and loans$ApplicantIncome[loans$Loan_Status == \"N\"]\n",
              "t = -0.10945, df = 320.07, p-value = 0.9129\n",
              "alternative hypothesis: true difference in means is not equal to 0\n",
              "95 percent confidence interval:\n",
              " -1176.660  1052.641\n",
              "sample estimates:\n",
              "mean of x mean of y \n",
              " 5384.069  5446.078 \n"
            ]
          },
          "metadata": {}
        }
      ]
    },
    {
      "cell_type": "code",
      "source": [
        "t.test(ApplicantIncome ~ Loan_Status, data=loans)"
      ],
      "metadata": {
        "colab": {
          "base_uri": "https://localhost:8080/",
          "height": 219
        },
        "id": "I3sMEcndlRfE",
        "outputId": "719c5367-20b9-48be-e373-8c3a76ae08fb"
      },
      "execution_count": 66,
      "outputs": [
        {
          "output_type": "display_data",
          "data": {
            "text/plain": [
              "\n",
              "\tWelch Two Sample t-test\n",
              "\n",
              "data:  ApplicantIncome by Loan_Status\n",
              "t = 0.10945, df = 320.07, p-value = 0.9129\n",
              "alternative hypothesis: true difference in means between group N and group Y is not equal to 0\n",
              "95 percent confidence interval:\n",
              " -1052.641  1176.660\n",
              "sample estimates:\n",
              "mean in group N mean in group Y \n",
              "       5446.078        5384.069 \n"
            ]
          },
          "metadata": {}
        }
      ]
    },
    {
      "cell_type": "code",
      "source": [
        "# Two sample t-test\n",
        "t_test_gender_income <- t.test(loans$ApplicantIncome[loans$Gender == \"Male\"], loans$ApplicantIncome[loans$Gender == \"Female\"])\n",
        "\n",
        "print(t_test_gender_income)"
      ],
      "metadata": {
        "id": "uLe1Y8lKLenV",
        "colab": {
          "base_uri": "https://localhost:8080/"
        },
        "outputId": "d52f87cb-9234-45d4-bf9c-08e1ddc3b5e8"
      },
      "execution_count": 45,
      "outputs": [
        {
          "output_type": "stream",
          "name": "stdout",
          "text": [
            "\n",
            "\tWelch Two Sample t-test\n",
            "\n",
            "data:  loans$ApplicantIncome[loans$Gender == \"Male\"] and loans$ApplicantIncome[loans$Gender == \"Female\"]\n",
            "t = 1.8277, df = 283.92, p-value = 0.06865\n",
            "alternative hypothesis: true difference in means is not equal to 0\n",
            "95 percent confidence interval:\n",
            "  -61.80394 1667.77776\n",
            "sample estimates:\n",
            "mean of x mean of y \n",
            " 5446.460  4643.473 \n",
            "\n"
          ]
        }
      ]
    },
    {
      "cell_type": "code",
      "source": [
        "loans %>%\n",
        "  group_by(Loan_Status) %>%\n",
        "  summarise(mean(ApplicantIncome))"
      ],
      "metadata": {
        "id": "dDsXE6KkLeiY",
        "colab": {
          "base_uri": "https://localhost:8080/",
          "height": 161
        },
        "outputId": "fb87c385-3398-425c-adfa-d7d145af4376"
      },
      "execution_count": 67,
      "outputs": [
        {
          "output_type": "display_data",
          "data": {
            "text/html": [
              "<table class=\"dataframe\">\n",
              "<caption>A tibble: 2 × 2</caption>\n",
              "<thead>\n",
              "\t<tr><th scope=col>Loan_Status</th><th scope=col>mean(ApplicantIncome)</th></tr>\n",
              "\t<tr><th scope=col>&lt;chr&gt;</th><th scope=col>&lt;dbl&gt;</th></tr>\n",
              "</thead>\n",
              "<tbody>\n",
              "\t<tr><td>N</td><td>5446.078</td></tr>\n",
              "\t<tr><td>Y</td><td>5384.069</td></tr>\n",
              "</tbody>\n",
              "</table>\n"
            ],
            "text/markdown": "\nA tibble: 2 × 2\n\n| Loan_Status &lt;chr&gt; | mean(ApplicantIncome) &lt;dbl&gt; |\n|---|---|\n| N | 5446.078 |\n| Y | 5384.069 |\n\n",
            "text/latex": "A tibble: 2 × 2\n\\begin{tabular}{ll}\n Loan\\_Status & mean(ApplicantIncome)\\\\\n <chr> & <dbl>\\\\\n\\hline\n\t N & 5446.078\\\\\n\t Y & 5384.069\\\\\n\\end{tabular}\n",
            "text/plain": [
              "  Loan_Status mean(ApplicantIncome)\n",
              "1 N           5446.078             \n",
              "2 Y           5384.069             "
            ]
          },
          "metadata": {}
        }
      ]
    },
    {
      "cell_type": "code",
      "source": [],
      "metadata": {
        "id": "sbKfoW56Lefx"
      },
      "execution_count": null,
      "outputs": []
    },
    {
      "cell_type": "code",
      "source": [],
      "metadata": {
        "id": "g-gLD0q2Ldry"
      },
      "execution_count": null,
      "outputs": []
    },
    {
      "cell_type": "markdown",
      "source": [
        "#### Regression"
      ],
      "metadata": {
        "id": "_LH06mOPLfUp"
      }
    },
    {
      "cell_type": "code",
      "source": [
        "head(diamonds)"
      ],
      "metadata": {
        "colab": {
          "base_uri": "https://localhost:8080/",
          "height": 286
        },
        "id": "Yc8H4uF8LhUt",
        "outputId": "f5e29fe0-d61f-4b5a-8d4d-bac5b56f1aa7"
      },
      "execution_count": 70,
      "outputs": [
        {
          "output_type": "display_data",
          "data": {
            "text/html": [
              "<table class=\"dataframe\">\n",
              "<caption>A tibble: 6 × 10</caption>\n",
              "<thead>\n",
              "\t<tr><th scope=col>carat</th><th scope=col>cut</th><th scope=col>color</th><th scope=col>clarity</th><th scope=col>depth</th><th scope=col>table</th><th scope=col>price</th><th scope=col>x</th><th scope=col>y</th><th scope=col>z</th></tr>\n",
              "\t<tr><th scope=col>&lt;dbl&gt;</th><th scope=col>&lt;ord&gt;</th><th scope=col>&lt;ord&gt;</th><th scope=col>&lt;ord&gt;</th><th scope=col>&lt;dbl&gt;</th><th scope=col>&lt;dbl&gt;</th><th scope=col>&lt;int&gt;</th><th scope=col>&lt;dbl&gt;</th><th scope=col>&lt;dbl&gt;</th><th scope=col>&lt;dbl&gt;</th></tr>\n",
              "</thead>\n",
              "<tbody>\n",
              "\t<tr><td>0.23</td><td>Ideal    </td><td>E</td><td>SI2 </td><td>61.5</td><td>55</td><td>326</td><td>3.95</td><td>3.98</td><td>2.43</td></tr>\n",
              "\t<tr><td>0.21</td><td>Premium  </td><td>E</td><td>SI1 </td><td>59.8</td><td>61</td><td>326</td><td>3.89</td><td>3.84</td><td>2.31</td></tr>\n",
              "\t<tr><td>0.23</td><td>Good     </td><td>E</td><td>VS1 </td><td>56.9</td><td>65</td><td>327</td><td>4.05</td><td>4.07</td><td>2.31</td></tr>\n",
              "\t<tr><td>0.29</td><td>Premium  </td><td>I</td><td>VS2 </td><td>62.4</td><td>58</td><td>334</td><td>4.20</td><td>4.23</td><td>2.63</td></tr>\n",
              "\t<tr><td>0.31</td><td>Good     </td><td>J</td><td>SI2 </td><td>63.3</td><td>58</td><td>335</td><td>4.34</td><td>4.35</td><td>2.75</td></tr>\n",
              "\t<tr><td>0.24</td><td>Very Good</td><td>J</td><td>VVS2</td><td>62.8</td><td>57</td><td>336</td><td>3.94</td><td>3.96</td><td>2.48</td></tr>\n",
              "</tbody>\n",
              "</table>\n"
            ],
            "text/markdown": "\nA tibble: 6 × 10\n\n| carat &lt;dbl&gt; | cut &lt;ord&gt; | color &lt;ord&gt; | clarity &lt;ord&gt; | depth &lt;dbl&gt; | table &lt;dbl&gt; | price &lt;int&gt; | x &lt;dbl&gt; | y &lt;dbl&gt; | z &lt;dbl&gt; |\n|---|---|---|---|---|---|---|---|---|---|\n| 0.23 | Ideal     | E | SI2  | 61.5 | 55 | 326 | 3.95 | 3.98 | 2.43 |\n| 0.21 | Premium   | E | SI1  | 59.8 | 61 | 326 | 3.89 | 3.84 | 2.31 |\n| 0.23 | Good      | E | VS1  | 56.9 | 65 | 327 | 4.05 | 4.07 | 2.31 |\n| 0.29 | Premium   | I | VS2  | 62.4 | 58 | 334 | 4.20 | 4.23 | 2.63 |\n| 0.31 | Good      | J | SI2  | 63.3 | 58 | 335 | 4.34 | 4.35 | 2.75 |\n| 0.24 | Very Good | J | VVS2 | 62.8 | 57 | 336 | 3.94 | 3.96 | 2.48 |\n\n",
            "text/latex": "A tibble: 6 × 10\n\\begin{tabular}{llllllllll}\n carat & cut & color & clarity & depth & table & price & x & y & z\\\\\n <dbl> & <ord> & <ord> & <ord> & <dbl> & <dbl> & <int> & <dbl> & <dbl> & <dbl>\\\\\n\\hline\n\t 0.23 & Ideal     & E & SI2  & 61.5 & 55 & 326 & 3.95 & 3.98 & 2.43\\\\\n\t 0.21 & Premium   & E & SI1  & 59.8 & 61 & 326 & 3.89 & 3.84 & 2.31\\\\\n\t 0.23 & Good      & E & VS1  & 56.9 & 65 & 327 & 4.05 & 4.07 & 2.31\\\\\n\t 0.29 & Premium   & I & VS2  & 62.4 & 58 & 334 & 4.20 & 4.23 & 2.63\\\\\n\t 0.31 & Good      & J & SI2  & 63.3 & 58 & 335 & 4.34 & 4.35 & 2.75\\\\\n\t 0.24 & Very Good & J & VVS2 & 62.8 & 57 & 336 & 3.94 & 3.96 & 2.48\\\\\n\\end{tabular}\n",
            "text/plain": [
              "  carat cut       color clarity depth table price x    y    z   \n",
              "1 0.23  Ideal     E     SI2     61.5  55    326   3.95 3.98 2.43\n",
              "2 0.21  Premium   E     SI1     59.8  61    326   3.89 3.84 2.31\n",
              "3 0.23  Good      E     VS1     56.9  65    327   4.05 4.07 2.31\n",
              "4 0.29  Premium   I     VS2     62.4  58    334   4.20 4.23 2.63\n",
              "5 0.31  Good      J     SI2     63.3  58    335   4.34 4.35 2.75\n",
              "6 0.24  Very Good J     VVS2    62.8  57    336   3.94 3.96 2.48"
            ]
          },
          "metadata": {}
        }
      ]
    },
    {
      "cell_type": "code",
      "source": [
        "#carat vs. price\n"
      ],
      "metadata": {
        "id": "rast10UdMFE6"
      },
      "execution_count": null,
      "outputs": []
    },
    {
      "cell_type": "code",
      "source": [
        "#regression model\n",
        "regression_model <- lm(price ~ carat, data =  diamonds)"
      ],
      "metadata": {
        "id": "aBZj78g3MLpL"
      },
      "execution_count": 71,
      "outputs": []
    },
    {
      "cell_type": "code",
      "source": [
        "#hypothesis test\n",
        "summary(regression_model)"
      ],
      "metadata": {
        "id": "09LsgsArMN22",
        "colab": {
          "base_uri": "https://localhost:8080/",
          "height": 348
        },
        "outputId": "66675807-ea32-42da-ca0e-6de1a69d18e8"
      },
      "execution_count": 72,
      "outputs": [
        {
          "output_type": "display_data",
          "data": {
            "text/plain": [
              "\n",
              "Call:\n",
              "lm(formula = price ~ carat, data = diamonds)\n",
              "\n",
              "Residuals:\n",
              "     Min       1Q   Median       3Q      Max \n",
              "-18585.3   -804.8    -18.9    537.4  12731.7 \n",
              "\n",
              "Coefficients:\n",
              "            Estimate Std. Error t value Pr(>|t|)    \n",
              "(Intercept) -2256.36      13.06  -172.8   <2e-16 ***\n",
              "carat        7756.43      14.07   551.4   <2e-16 ***\n",
              "---\n",
              "Signif. codes:  0 ‘***’ 0.001 ‘**’ 0.01 ‘*’ 0.05 ‘.’ 0.1 ‘ ’ 1\n",
              "\n",
              "Residual standard error: 1549 on 53938 degrees of freedom\n",
              "Multiple R-squared:  0.8493,\tAdjusted R-squared:  0.8493 \n",
              "F-statistic: 3.041e+05 on 1 and 53938 DF,  p-value: < 2.2e-16\n"
            ]
          },
          "metadata": {}
        }
      ]
    },
    {
      "cell_type": "code",
      "source": [
        "ggplot(diamonds, aes(x = carat, y = price)) +\n",
        "  geom_point() +\n",
        "    geom_smooth(method = 'lm')"
      ],
      "metadata": {
        "colab": {
          "base_uri": "https://localhost:8080/",
          "height": 455
        },
        "id": "VgVFjgpTpCnV",
        "outputId": "f1ea88ff-3fa3-48c7-da43-7c9fac9f7f56"
      },
      "execution_count": 74,
      "outputs": [
        {
          "output_type": "stream",
          "name": "stderr",
          "text": [
            "\u001b[1m\u001b[22m`geom_smooth()` using formula = 'y ~ x'\n"
          ]
        },
        {
          "output_type": "display_data",
          "data": {
            "text/plain": [
              "plot without title"
            ],
            "image/png": "[encoded data removed]"
          },
          "metadata": {
            "image/png": {
              "width": 420,
              "height": 420
            }
          }
        }
      ]
    },
    {
      "cell_type": "code",
      "source": [
        "regression_model <- lm(price ~ 0 + carat, data =  diamonds)\n",
        "summary(regression_model)"
      ],
      "metadata": {
        "colab": {
          "base_uri": "https://localhost:8080/",
          "height": 329
        },
        "id": "wOIvXLmRpN_Z",
        "outputId": "bc6d7f05-8432-4a08-eb9a-bf0f2fd11844"
      },
      "execution_count": 75,
      "outputs": [
        {
          "output_type": "display_data",
          "data": {
            "text/plain": [
              "\n",
              "Call:\n",
              "lm(formula = price ~ 0 + carat, data = diamonds)\n",
              "\n",
              "Residuals:\n",
              "     Min       1Q   Median       3Q      Max \n",
              "-10486.8  -1473.9  -1136.2   -674.9  12649.1 \n",
              "\n",
              "Coefficients:\n",
              "      Estimate Std. Error t value Pr(>|t|)    \n",
              "carat 5666.270      8.955   632.8   <2e-16 ***\n",
              "---\n",
              "Signif. codes:  0 ‘***’ 0.001 ‘**’ 0.01 ‘*’ 0.05 ‘.’ 0.1 ‘ ’ 1\n",
              "\n",
              "Residual standard error: 1930 on 53939 degrees of freedom\n",
              "Multiple R-squared:  0.8813,\tAdjusted R-squared:  0.8813 \n",
              "F-statistic: 4.004e+05 on 1 and 53939 DF,  p-value: < 2.2e-16\n"
            ]
          },
          "metadata": {}
        }
      ]
    },
    {
      "cell_type": "code",
      "source": [
        "?lm"
      ],
      "metadata": {
        "id": "lXlZVUv0o1zT"
      },
      "execution_count": 73,
      "outputs": []
    },
    {
      "cell_type": "markdown",
      "source": [
        "Subset to Ideal and Fair cut, use carat to predict with logistic model."
      ],
      "metadata": {
        "id": "3KhDWM9aMPyb"
      }
    },
    {
      "cell_type": "code",
      "source": [
        "#subset the data\n",
        "diamonds %>%\n",
        "  filter(cut %in% c('Ideal', 'Fair'))"
      ],
      "metadata": {
        "id": "yy_cbWvrMjkA",
        "colab": {
          "base_uri": "https://localhost:8080/",
          "height": 1000
        },
        "outputId": "9ae8ebd1-0aba-4509-ae70-ec96c4514a17"
      },
      "execution_count": 77,
      "outputs": [
        {
          "output_type": "display_data",
          "data": {
            "text/html": [
              "<table class=\"dataframe\">\n",
              "<caption>A tibble: 23161 × 10</caption>\n",
              "<thead>\n",
              "\t<tr><th scope=col>carat</th><th scope=col>cut</th><th scope=col>color</th><th scope=col>clarity</th><th scope=col>depth</th><th scope=col>table</th><th scope=col>price</th><th scope=col>x</th><th scope=col>y</th><th scope=col>z</th></tr>\n",
              "\t<tr><th scope=col>&lt;dbl&gt;</th><th scope=col>&lt;ord&gt;</th><th scope=col>&lt;ord&gt;</th><th scope=col>&lt;ord&gt;</th><th scope=col>&lt;dbl&gt;</th><th scope=col>&lt;dbl&gt;</th><th scope=col>&lt;int&gt;</th><th scope=col>&lt;dbl&gt;</th><th scope=col>&lt;dbl&gt;</th><th scope=col>&lt;dbl&gt;</th></tr>\n",
              "</thead>\n",
              "<tbody>\n",
              "\t<tr><td>0.23</td><td>Ideal</td><td>E</td><td>SI2 </td><td>61.5</td><td>55.0</td><td> 326</td><td>3.95</td><td>3.98</td><td>2.43</td></tr>\n",
              "\t<tr><td>0.22</td><td>Fair </td><td>E</td><td>VS2 </td><td>65.1</td><td>61.0</td><td> 337</td><td>3.87</td><td>3.78</td><td>2.49</td></tr>\n",
              "\t<tr><td>0.23</td><td>Ideal</td><td>J</td><td>VS1 </td><td>62.8</td><td>56.0</td><td> 340</td><td>3.93</td><td>3.90</td><td>2.46</td></tr>\n",
              "\t<tr><td>0.31</td><td>Ideal</td><td>J</td><td>SI2 </td><td>62.2</td><td>54.0</td><td> 344</td><td>4.35</td><td>4.37</td><td>2.71</td></tr>\n",
              "\t<tr><td>0.30</td><td>Ideal</td><td>I</td><td>SI2 </td><td>62.0</td><td>54.0</td><td> 348</td><td>4.31</td><td>4.34</td><td>2.68</td></tr>\n",
              "\t<tr><td>0.33</td><td>Ideal</td><td>I</td><td>SI2 </td><td>61.8</td><td>55.0</td><td> 403</td><td>4.49</td><td>4.51</td><td>2.78</td></tr>\n",
              "\t<tr><td>0.33</td><td>Ideal</td><td>I</td><td>SI2 </td><td>61.2</td><td>56.0</td><td> 403</td><td>4.49</td><td>4.50</td><td>2.75</td></tr>\n",
              "\t<tr><td>0.33</td><td>Ideal</td><td>J</td><td>SI1 </td><td>61.1</td><td>56.0</td><td> 403</td><td>4.49</td><td>4.55</td><td>2.76</td></tr>\n",
              "\t<tr><td>0.23</td><td>Ideal</td><td>G</td><td>VS1 </td><td>61.9</td><td>54.0</td><td> 404</td><td>3.93</td><td>3.95</td><td>2.44</td></tr>\n",
              "\t<tr><td>0.32</td><td>Ideal</td><td>I</td><td>SI1 </td><td>60.9</td><td>55.0</td><td> 404</td><td>4.45</td><td>4.48</td><td>2.72</td></tr>\n",
              "\t<tr><td>0.30</td><td>Ideal</td><td>I</td><td>SI2 </td><td>61.0</td><td>59.0</td><td> 405</td><td>4.30</td><td>4.33</td><td>2.63</td></tr>\n",
              "\t<tr><td>0.35</td><td>Ideal</td><td>I</td><td>VS1 </td><td>60.9</td><td>57.0</td><td> 552</td><td>4.54</td><td>4.59</td><td>2.78</td></tr>\n",
              "\t<tr><td>0.30</td><td>Ideal</td><td>D</td><td>SI1 </td><td>62.5</td><td>57.0</td><td> 552</td><td>4.29</td><td>4.32</td><td>2.69</td></tr>\n",
              "\t<tr><td>0.30</td><td>Ideal</td><td>D</td><td>SI1 </td><td>62.1</td><td>56.0</td><td> 552</td><td>4.30</td><td>4.33</td><td>2.68</td></tr>\n",
              "\t<tr><td>0.28</td><td>Ideal</td><td>G</td><td>VVS2</td><td>61.4</td><td>56.0</td><td> 553</td><td>4.19</td><td>4.22</td><td>2.58</td></tr>\n",
              "\t<tr><td>0.32</td><td>Ideal</td><td>I</td><td>VVS1</td><td>62.0</td><td>55.3</td><td> 553</td><td>4.39</td><td>4.42</td><td>2.73</td></tr>\n",
              "\t<tr><td>0.26</td><td>Ideal</td><td>E</td><td>VVS2</td><td>62.9</td><td>58.0</td><td> 554</td><td>4.02</td><td>4.06</td><td>2.54</td></tr>\n",
              "\t<tr><td>0.38</td><td>Ideal</td><td>I</td><td>SI2 </td><td>61.6</td><td>56.0</td><td> 554</td><td>4.65</td><td>4.67</td><td>2.87</td></tr>\n",
              "\t<tr><td>0.70</td><td>Ideal</td><td>E</td><td>SI1 </td><td>62.5</td><td>57.0</td><td>2757</td><td>5.70</td><td>5.72</td><td>3.57</td></tr>\n",
              "\t<tr><td>0.86</td><td>Fair </td><td>E</td><td>SI2 </td><td>55.1</td><td>69.0</td><td>2757</td><td>6.45</td><td>6.33</td><td>3.52</td></tr>\n",
              "\t<tr><td>0.70</td><td>Ideal</td><td>G</td><td>VS2 </td><td>61.6</td><td>56.0</td><td>2757</td><td>5.70</td><td>5.67</td><td>3.50</td></tr>\n",
              "\t<tr><td>0.96</td><td>Fair </td><td>F</td><td>SI2 </td><td>66.3</td><td>62.0</td><td>2759</td><td>6.27</td><td>5.95</td><td>4.07</td></tr>\n",
              "\t<tr><td>0.74</td><td>Ideal</td><td>G</td><td>SI1 </td><td>61.6</td><td>55.0</td><td>2760</td><td>5.80</td><td>5.85</td><td>3.59</td></tr>\n",
              "\t<tr><td>0.80</td><td>Ideal</td><td>I</td><td>VS1 </td><td>62.9</td><td>56.0</td><td>2760</td><td>5.94</td><td>5.87</td><td>3.72</td></tr>\n",
              "\t<tr><td>0.75</td><td>Ideal</td><td>G</td><td>SI1 </td><td>62.2</td><td>55.0</td><td>2760</td><td>5.87</td><td>5.80</td><td>3.63</td></tr>\n",
              "\t<tr><td>0.74</td><td>Ideal</td><td>I</td><td>VVS2</td><td>62.3</td><td>55.0</td><td>2761</td><td>5.77</td><td>5.81</td><td>3.61</td></tr>\n",
              "\t<tr><td>0.81</td><td>Ideal</td><td>F</td><td>SI2 </td><td>58.8</td><td>57.0</td><td>2761</td><td>6.14</td><td>6.11</td><td>3.60</td></tr>\n",
              "\t<tr><td>0.59</td><td>Ideal</td><td>E</td><td>VVS2</td><td>62.0</td><td>55.0</td><td>2761</td><td>5.38</td><td>5.43</td><td>3.35</td></tr>\n",
              "\t<tr><td>0.80</td><td>Ideal</td><td>F</td><td>SI2 </td><td>61.4</td><td>57.0</td><td>2761</td><td>5.96</td><td>6.00</td><td>3.67</td></tr>\n",
              "\t<tr><td>0.74</td><td>Ideal</td><td>E</td><td>SI2 </td><td>62.2</td><td>56.0</td><td>2761</td><td>5.80</td><td>5.84</td><td>3.62</td></tr>\n",
              "\t<tr><td>⋮</td><td>⋮</td><td>⋮</td><td>⋮</td><td>⋮</td><td>⋮</td><td>⋮</td><td>⋮</td><td>⋮</td><td>⋮</td></tr>\n",
              "\t<tr><td>0.83</td><td>Ideal</td><td>J</td><td>VS2 </td><td>62.3</td><td>55.0</td><td>2742</td><td>6.01</td><td>6.03</td><td>3.75</td></tr>\n",
              "\t<tr><td>0.51</td><td>Ideal</td><td>D</td><td>VVS2</td><td>61.7</td><td>56.0</td><td>2742</td><td>5.16</td><td>5.14</td><td>3.18</td></tr>\n",
              "\t<tr><td>0.51</td><td>Ideal</td><td>D</td><td>VVS2</td><td>61.3</td><td>57.0</td><td>2742</td><td>5.17</td><td>5.14</td><td>3.16</td></tr>\n",
              "\t<tr><td>1.00</td><td>Fair </td><td>I</td><td>SI2 </td><td>66.8</td><td>56.0</td><td>2743</td><td>6.22</td><td>6.12</td><td>4.13</td></tr>\n",
              "\t<tr><td>0.75</td><td>Ideal</td><td>F</td><td>SI1 </td><td>62.3</td><td>57.0</td><td>2744</td><td>5.82</td><td>5.77</td><td>3.61</td></tr>\n",
              "\t<tr><td>0.70</td><td>Ideal</td><td>G</td><td>SI1 </td><td>60.7</td><td>55.0</td><td>2744</td><td>5.76</td><td>5.80</td><td>3.51</td></tr>\n",
              "\t<tr><td>0.70</td><td>Ideal</td><td>E</td><td>SI1 </td><td>61.7</td><td>55.0</td><td>2745</td><td>5.71</td><td>5.74</td><td>3.53</td></tr>\n",
              "\t<tr><td>0.51</td><td>Ideal</td><td>E</td><td>VVS1</td><td>61.9</td><td>54.0</td><td>2745</td><td>5.17</td><td>5.11</td><td>3.18</td></tr>\n",
              "\t<tr><td>1.04</td><td>Fair </td><td>G</td><td>SI2 </td><td>65.2</td><td>57.0</td><td>2745</td><td>6.25</td><td>6.23</td><td>4.07</td></tr>\n",
              "\t<tr><td>0.72</td><td>Ideal</td><td>G</td><td>VS1 </td><td>62.6</td><td>53.0</td><td>2746</td><td>5.76</td><td>5.78</td><td>3.61</td></tr>\n",
              "\t<tr><td>0.71</td><td>Fair </td><td>D</td><td>VS1 </td><td>65.4</td><td>59.0</td><td>2747</td><td>5.62</td><td>5.58</td><td>3.66</td></tr>\n",
              "\t<tr><td>0.81</td><td>Ideal</td><td>D</td><td>SI1 </td><td>61.5</td><td>57.0</td><td>2748</td><td>6.00</td><td>6.03</td><td>3.70</td></tr>\n",
              "\t<tr><td>0.52</td><td>Ideal</td><td>F</td><td>IF  </td><td>61.5</td><td>57.0</td><td>2749</td><td>5.15</td><td>5.19</td><td>3.18</td></tr>\n",
              "\t<tr><td>0.80</td><td>Ideal</td><td>G</td><td>SI2 </td><td>62.2</td><td>56.0</td><td>2749</td><td>5.95</td><td>5.91</td><td>3.69</td></tr>\n",
              "\t<tr><td>0.56</td><td>Ideal</td><td>E</td><td>VVS1</td><td>62.1</td><td>56.0</td><td>2750</td><td>5.28</td><td>5.29</td><td>3.28</td></tr>\n",
              "\t<tr><td>0.70</td><td>Ideal</td><td>F</td><td>VS1 </td><td>62.5</td><td>56.0</td><td>2751</td><td>5.73</td><td>5.70</td><td>3.57</td></tr>\n",
              "\t<tr><td>0.70</td><td>Ideal</td><td>F</td><td>VS1 </td><td>62.0</td><td>55.0</td><td>2751</td><td>5.74</td><td>5.71</td><td>3.55</td></tr>\n",
              "\t<tr><td>0.71</td><td>Ideal</td><td>G</td><td>SI1 </td><td>60.5</td><td>56.4</td><td>2751</td><td>5.76</td><td>5.80</td><td>3.50</td></tr>\n",
              "\t<tr><td>0.83</td><td>Ideal</td><td>G</td><td>SI2 </td><td>62.4</td><td>54.0</td><td>2751</td><td>6.01</td><td>6.08</td><td>3.77</td></tr>\n",
              "\t<tr><td>0.72</td><td>Ideal</td><td>H</td><td>VVS2</td><td>62.3</td><td>56.0</td><td>2752</td><td>5.74</td><td>5.81</td><td>3.60</td></tr>\n",
              "\t<tr><td>0.73</td><td>Ideal</td><td>H</td><td>VS2 </td><td>62.5</td><td>58.0</td><td>2752</td><td>5.71</td><td>5.75</td><td>3.58</td></tr>\n",
              "\t<tr><td>0.77</td><td>Ideal</td><td>E</td><td>SI2 </td><td>62.1</td><td>56.0</td><td>2753</td><td>5.84</td><td>5.86</td><td>3.63</td></tr>\n",
              "\t<tr><td>0.76</td><td>Ideal</td><td>I</td><td>VVS1</td><td>62.2</td><td>55.0</td><td>2753</td><td>5.89</td><td>5.87</td><td>3.66</td></tr>\n",
              "\t<tr><td>0.73</td><td>Ideal</td><td>I</td><td>VS2 </td><td>61.3</td><td>56.0</td><td>2756</td><td>5.80</td><td>5.84</td><td>3.57</td></tr>\n",
              "\t<tr><td>0.73</td><td>Ideal</td><td>I</td><td>VS2 </td><td>61.6</td><td>55.0</td><td>2756</td><td>5.82</td><td>5.84</td><td>3.59</td></tr>\n",
              "\t<tr><td>0.79</td><td>Ideal</td><td>I</td><td>SI1 </td><td>61.6</td><td>56.0</td><td>2756</td><td>5.95</td><td>5.97</td><td>3.67</td></tr>\n",
              "\t<tr><td>0.71</td><td>Ideal</td><td>E</td><td>SI1 </td><td>61.9</td><td>56.0</td><td>2756</td><td>5.71</td><td>5.73</td><td>3.54</td></tr>\n",
              "\t<tr><td>0.71</td><td>Ideal</td><td>G</td><td>VS1 </td><td>61.4</td><td>56.0</td><td>2756</td><td>5.76</td><td>5.73</td><td>3.53</td></tr>\n",
              "\t<tr><td>0.72</td><td>Ideal</td><td>D</td><td>SI1 </td><td>60.8</td><td>57.0</td><td>2757</td><td>5.75</td><td>5.76</td><td>3.50</td></tr>\n",
              "\t<tr><td>0.75</td><td>Ideal</td><td>D</td><td>SI2 </td><td>62.2</td><td>55.0</td><td>2757</td><td>5.83</td><td>5.87</td><td>3.64</td></tr>\n",
              "</tbody>\n",
              "</table>\n"
            ],
            "text/markdown": "\nA tibble: 23161 × 10\n\n| carat &lt;dbl&gt; | cut &lt;ord&gt; | color &lt;ord&gt; | clarity &lt;ord&gt; | depth &lt;dbl&gt; | table &lt;dbl&gt; | price &lt;int&gt; | x &lt;dbl&gt; | y &lt;dbl&gt; | z &lt;dbl&gt; |\n|---|---|---|---|---|---|---|---|---|---|\n| 0.23 | Ideal | E | SI2  | 61.5 | 55.0 |  326 | 3.95 | 3.98 | 2.43 |\n| 0.22 | Fair  | E | VS2  | 65.1 | 61.0 |  337 | 3.87 | 3.78 | 2.49 |\n| 0.23 | Ideal | J | VS1  | 62.8 | 56.0 |  340 | 3.93 | 3.90 | 2.46 |\n| 0.31 | Ideal | J | SI2  | 62.2 | 54.0 |  344 | 4.35 | 4.37 | 2.71 |\n| 0.30 | Ideal | I | SI2  | 62.0 | 54.0 |  348 | 4.31 | 4.34 | 2.68 |\n| 0.33 | Ideal | I | SI2  | 61.8 | 55.0 |  403 | 4.49 | 4.51 | 2.78 |\n| 0.33 | Ideal | I | SI2  | 61.2 | 56.0 |  403 | 4.49 | 4.50 | 2.75 |\n| 0.33 | Ideal | J | SI1  | 61.1 | 56.0 |  403 | 4.49 | 4.55 | 2.76 |\n| 0.23 | Ideal | G | VS1  | 61.9 | 54.0 |  404 | 3.93 | 3.95 | 2.44 |\n| 0.32 | Ideal | I | SI1  | 60.9 | 55.0 |  404 | 4.45 | 4.48 | 2.72 |\n| 0.30 | Ideal | I | SI2  | 61.0 | 59.0 |  405 | 4.30 | 4.33 | 2.63 |\n| 0.35 | Ideal | I | VS1  | 60.9 | 57.0 |  552 | 4.54 | 4.59 | 2.78 |\n| 0.30 | Ideal | D | SI1  | 62.5 | 57.0 |  552 | 4.29 | 4.32 | 2.69 |\n| 0.30 | Ideal | D | SI1  | 62.1 | 56.0 |  552 | 4.30 | 4.33 | 2.68 |\n| 0.28 | Ideal | G | VVS2 | 61.4 | 56.0 |  553 | 4.19 | 4.22 | 2.58 |\n| 0.32 | Ideal | I | VVS1 | 62.0 | 55.3 |  553 | 4.39 | 4.42 | 2.73 |\n| 0.26 | Ideal | E | VVS2 | 62.9 | 58.0 |  554 | 4.02 | 4.06 | 2.54 |\n| 0.38 | Ideal | I | SI2  | 61.6 | 56.0 |  554 | 4.65 | 4.67 | 2.87 |\n| 0.70 | Ideal | E | SI1  | 62.5 | 57.0 | 2757 | 5.70 | 5.72 | 3.57 |\n| 0.86 | Fair  | E | SI2  | 55.1 | 69.0 | 2757 | 6.45 | 6.33 | 3.52 |\n| 0.70 | Ideal | G | VS2  | 61.6 | 56.0 | 2757 | 5.70 | 5.67 | 3.50 |\n| 0.96 | Fair  | F | SI2  | 66.3 | 62.0 | 2759 | 6.27 | 5.95 | 4.07 |\n| 0.74 | Ideal | G | SI1  | 61.6 | 55.0 | 2760 | 5.80 | 5.85 | 3.59 |\n| 0.80 | Ideal | I | VS1  | 62.9 | 56.0 | 2760 | 5.94 | 5.87 | 3.72 |\n| 0.75 | Ideal | G | SI1  | 62.2 | 55.0 | 2760 | 5.87 | 5.80 | 3.63 |\n| 0.74 | Ideal | I | VVS2 | 62.3 | 55.0 | 2761 | 5.77 | 5.81 | 3.61 |\n| 0.81 | Ideal | F | SI2  | 58.8 | 57.0 | 2761 | 6.14 | 6.11 | 3.60 |\n| 0.59 | Ideal | E | VVS2 | 62.0 | 55.0 | 2761 | 5.38 | 5.43 | 3.35 |\n| 0.80 | Ideal | F | SI2  | 61.4 | 57.0 | 2761 | 5.96 | 6.00 | 3.67 |\n| 0.74 | Ideal | E | SI2  | 62.2 | 56.0 | 2761 | 5.80 | 5.84 | 3.62 |\n| ⋮ | ⋮ | ⋮ | ⋮ | ⋮ | ⋮ | ⋮ | ⋮ | ⋮ | ⋮ |\n| 0.83 | Ideal | J | VS2  | 62.3 | 55.0 | 2742 | 6.01 | 6.03 | 3.75 |\n| 0.51 | Ideal | D | VVS2 | 61.7 | 56.0 | 2742 | 5.16 | 5.14 | 3.18 |\n| 0.51 | Ideal | D | VVS2 | 61.3 | 57.0 | 2742 | 5.17 | 5.14 | 3.16 |\n| 1.00 | Fair  | I | SI2  | 66.8 | 56.0 | 2743 | 6.22 | 6.12 | 4.13 |\n| 0.75 | Ideal | F | SI1  | 62.3 | 57.0 | 2744 | 5.82 | 5.77 | 3.61 |\n| 0.70 | Ideal | G | SI1  | 60.7 | 55.0 | 2744 | 5.76 | 5.80 | 3.51 |\n| 0.70 | Ideal | E | SI1  | 61.7 | 55.0 | 2745 | 5.71 | 5.74 | 3.53 |\n| 0.51 | Ideal | E | VVS1 | 61.9 | 54.0 | 2745 | 5.17 | 5.11 | 3.18 |\n| 1.04 | Fair  | G | SI2  | 65.2 | 57.0 | 2745 | 6.25 | 6.23 | 4.07 |\n| 0.72 | Ideal | G | VS1  | 62.6 | 53.0 | 2746 | 5.76 | 5.78 | 3.61 |\n| 0.71 | Fair  | D | VS1  | 65.4 | 59.0 | 2747 | 5.62 | 5.58 | 3.66 |\n| 0.81 | Ideal | D | SI1  | 61.5 | 57.0 | 2748 | 6.00 | 6.03 | 3.70 |\n| 0.52 | Ideal | F | IF   | 61.5 | 57.0 | 2749 | 5.15 | 5.19 | 3.18 |\n| 0.80 | Ideal | G | SI2  | 62.2 | 56.0 | 2749 | 5.95 | 5.91 | 3.69 |\n| 0.56 | Ideal | E | VVS1 | 62.1 | 56.0 | 2750 | 5.28 | 5.29 | 3.28 |\n| 0.70 | Ideal | F | VS1  | 62.5 | 56.0 | 2751 | 5.73 | 5.70 | 3.57 |\n| 0.70 | Ideal | F | VS1  | 62.0 | 55.0 | 2751 | 5.74 | 5.71 | 3.55 |\n| 0.71 | Ideal | G | SI1  | 60.5 | 56.4 | 2751 | 5.76 | 5.80 | 3.50 |\n| 0.83 | Ideal | G | SI2  | 62.4 | 54.0 | 2751 | 6.01 | 6.08 | 3.77 |\n| 0.72 | Ideal | H | VVS2 | 62.3 | 56.0 | 2752 | 5.74 | 5.81 | 3.60 |\n| 0.73 | Ideal | H | VS2  | 62.5 | 58.0 | 2752 | 5.71 | 5.75 | 3.58 |\n| 0.77 | Ideal | E | SI2  | 62.1 | 56.0 | 2753 | 5.84 | 5.86 | 3.63 |\n| 0.76 | Ideal | I | VVS1 | 62.2 | 55.0 | 2753 | 5.89 | 5.87 | 3.66 |\n| 0.73 | Ideal | I | VS2  | 61.3 | 56.0 | 2756 | 5.80 | 5.84 | 3.57 |\n| 0.73 | Ideal | I | VS2  | 61.6 | 55.0 | 2756 | 5.82 | 5.84 | 3.59 |\n| 0.79 | Ideal | I | SI1  | 61.6 | 56.0 | 2756 | 5.95 | 5.97 | 3.67 |\n| 0.71 | Ideal | E | SI1  | 61.9 | 56.0 | 2756 | 5.71 | 5.73 | 3.54 |\n| 0.71 | Ideal | G | VS1  | 61.4 | 56.0 | 2756 | 5.76 | 5.73 | 3.53 |\n| 0.72 | Ideal | D | SI1  | 60.8 | 57.0 | 2757 | 5.75 | 5.76 | 3.50 |\n| 0.75 | Ideal | D | SI2  | 62.2 | 55.0 | 2757 | 5.83 | 5.87 | 3.64 |\n\n",
            "text/latex": "A tibble: 23161 × 10\n\\begin{tabular}{llllllllll}\n carat & cut & color & clarity & depth & table & price & x & y & z\\\\\n <dbl> & <ord> & <ord> & <ord> & <dbl> & <dbl> & <int> & <dbl> & <dbl> & <dbl>\\\\\n\\hline\n\t 0.23 & Ideal & E & SI2  & 61.5 & 55.0 &  326 & 3.95 & 3.98 & 2.43\\\\\n\t 0.22 & Fair  & E & VS2  & 65.1 & 61.0 &  337 & 3.87 & 3.78 & 2.49\\\\\n\t 0.23 & Ideal & J & VS1  & 62.8 & 56.0 &  340 & 3.93 & 3.90 & 2.46\\\\\n\t 0.31 & Ideal & J & SI2  & 62.2 & 54.0 &  344 & 4.35 & 4.37 & 2.71\\\\\n\t 0.30 & Ideal & I & SI2  & 62.0 & 54.0 &  348 & 4.31 & 4.34 & 2.68\\\\\n\t 0.33 & Ideal & I & SI2  & 61.8 & 55.0 &  403 & 4.49 & 4.51 & 2.78\\\\\n\t 0.33 & Ideal & I & SI2  & 61.2 & 56.0 &  403 & 4.49 & 4.50 & 2.75\\\\\n\t 0.33 & Ideal & J & SI1  & 61.1 & 56.0 &  403 & 4.49 & 4.55 & 2.76\\\\\n\t 0.23 & Ideal & G & VS1  & 61.9 & 54.0 &  404 & 3.93 & 3.95 & 2.44\\\\\n\t 0.32 & Ideal & I & SI1  & 60.9 & 55.0 &  404 & 4.45 & 4.48 & 2.72\\\\\n\t 0.30 & Ideal & I & SI2  & 61.0 & 59.0 &  405 & 4.30 & 4.33 & 2.63\\\\\n\t 0.35 & Ideal & I & VS1  & 60.9 & 57.0 &  552 & 4.54 & 4.59 & 2.78\\\\\n\t 0.30 & Ideal & D & SI1  & 62.5 & 57.0 &  552 & 4.29 & 4.32 & 2.69\\\\\n\t 0.30 & Ideal & D & SI1  & 62.1 & 56.0 &  552 & 4.30 & 4.33 & 2.68\\\\\n\t 0.28 & Ideal & G & VVS2 & 61.4 & 56.0 &  553 & 4.19 & 4.22 & 2.58\\\\\n\t 0.32 & Ideal & I & VVS1 & 62.0 & 55.3 &  553 & 4.39 & 4.42 & 2.73\\\\\n\t 0.26 & Ideal & E & VVS2 & 62.9 & 58.0 &  554 & 4.02 & 4.06 & 2.54\\\\\n\t 0.38 & Ideal & I & SI2  & 61.6 & 56.0 &  554 & 4.65 & 4.67 & 2.87\\\\\n\t 0.70 & Ideal & E & SI1  & 62.5 & 57.0 & 2757 & 5.70 & 5.72 & 3.57\\\\\n\t 0.86 & Fair  & E & SI2  & 55.1 & 69.0 & 2757 & 6.45 & 6.33 & 3.52\\\\\n\t 0.70 & Ideal & G & VS2  & 61.6 & 56.0 & 2757 & 5.70 & 5.67 & 3.50\\\\\n\t 0.96 & Fair  & F & SI2  & 66.3 & 62.0 & 2759 & 6.27 & 5.95 & 4.07\\\\\n\t 0.74 & Ideal & G & SI1  & 61.6 & 55.0 & 2760 & 5.80 & 5.85 & 3.59\\\\\n\t 0.80 & Ideal & I & VS1  & 62.9 & 56.0 & 2760 & 5.94 & 5.87 & 3.72\\\\\n\t 0.75 & Ideal & G & SI1  & 62.2 & 55.0 & 2760 & 5.87 & 5.80 & 3.63\\\\\n\t 0.74 & Ideal & I & VVS2 & 62.3 & 55.0 & 2761 & 5.77 & 5.81 & 3.61\\\\\n\t 0.81 & Ideal & F & SI2  & 58.8 & 57.0 & 2761 & 6.14 & 6.11 & 3.60\\\\\n\t 0.59 & Ideal & E & VVS2 & 62.0 & 55.0 & 2761 & 5.38 & 5.43 & 3.35\\\\\n\t 0.80 & Ideal & F & SI2  & 61.4 & 57.0 & 2761 & 5.96 & 6.00 & 3.67\\\\\n\t 0.74 & Ideal & E & SI2  & 62.2 & 56.0 & 2761 & 5.80 & 5.84 & 3.62\\\\\n\t ⋮ & ⋮ & ⋮ & ⋮ & ⋮ & ⋮ & ⋮ & ⋮ & ⋮ & ⋮\\\\\n\t 0.83 & Ideal & J & VS2  & 62.3 & 55.0 & 2742 & 6.01 & 6.03 & 3.75\\\\\n\t 0.51 & Ideal & D & VVS2 & 61.7 & 56.0 & 2742 & 5.16 & 5.14 & 3.18\\\\\n\t 0.51 & Ideal & D & VVS2 & 61.3 & 57.0 & 2742 & 5.17 & 5.14 & 3.16\\\\\n\t 1.00 & Fair  & I & SI2  & 66.8 & 56.0 & 2743 & 6.22 & 6.12 & 4.13\\\\\n\t 0.75 & Ideal & F & SI1  & 62.3 & 57.0 & 2744 & 5.82 & 5.77 & 3.61\\\\\n\t 0.70 & Ideal & G & SI1  & 60.7 & 55.0 & 2744 & 5.76 & 5.80 & 3.51\\\\\n\t 0.70 & Ideal & E & SI1  & 61.7 & 55.0 & 2745 & 5.71 & 5.74 & 3.53\\\\\n\t 0.51 & Ideal & E & VVS1 & 61.9 & 54.0 & 2745 & 5.17 & 5.11 & 3.18\\\\\n\t 1.04 & Fair  & G & SI2  & 65.2 & 57.0 & 2745 & 6.25 & 6.23 & 4.07\\\\\n\t 0.72 & Ideal & G & VS1  & 62.6 & 53.0 & 2746 & 5.76 & 5.78 & 3.61\\\\\n\t 0.71 & Fair  & D & VS1  & 65.4 & 59.0 & 2747 & 5.62 & 5.58 & 3.66\\\\\n\t 0.81 & Ideal & D & SI1  & 61.5 & 57.0 & 2748 & 6.00 & 6.03 & 3.70\\\\\n\t 0.52 & Ideal & F & IF   & 61.5 & 57.0 & 2749 & 5.15 & 5.19 & 3.18\\\\\n\t 0.80 & Ideal & G & SI2  & 62.2 & 56.0 & 2749 & 5.95 & 5.91 & 3.69\\\\\n\t 0.56 & Ideal & E & VVS1 & 62.1 & 56.0 & 2750 & 5.28 & 5.29 & 3.28\\\\\n\t 0.70 & Ideal & F & VS1  & 62.5 & 56.0 & 2751 & 5.73 & 5.70 & 3.57\\\\\n\t 0.70 & Ideal & F & VS1  & 62.0 & 55.0 & 2751 & 5.74 & 5.71 & 3.55\\\\\n\t 0.71 & Ideal & G & SI1  & 60.5 & 56.4 & 2751 & 5.76 & 5.80 & 3.50\\\\\n\t 0.83 & Ideal & G & SI2  & 62.4 & 54.0 & 2751 & 6.01 & 6.08 & 3.77\\\\\n\t 0.72 & Ideal & H & VVS2 & 62.3 & 56.0 & 2752 & 5.74 & 5.81 & 3.60\\\\\n\t 0.73 & Ideal & H & VS2  & 62.5 & 58.0 & 2752 & 5.71 & 5.75 & 3.58\\\\\n\t 0.77 & Ideal & E & SI2  & 62.1 & 56.0 & 2753 & 5.84 & 5.86 & 3.63\\\\\n\t 0.76 & Ideal & I & VVS1 & 62.2 & 55.0 & 2753 & 5.89 & 5.87 & 3.66\\\\\n\t 0.73 & Ideal & I & VS2  & 61.3 & 56.0 & 2756 & 5.80 & 5.84 & 3.57\\\\\n\t 0.73 & Ideal & I & VS2  & 61.6 & 55.0 & 2756 & 5.82 & 5.84 & 3.59\\\\\n\t 0.79 & Ideal & I & SI1  & 61.6 & 56.0 & 2756 & 5.95 & 5.97 & 3.67\\\\\n\t 0.71 & Ideal & E & SI1  & 61.9 & 56.0 & 2756 & 5.71 & 5.73 & 3.54\\\\\n\t 0.71 & Ideal & G & VS1  & 61.4 & 56.0 & 2756 & 5.76 & 5.73 & 3.53\\\\\n\t 0.72 & Ideal & D & SI1  & 60.8 & 57.0 & 2757 & 5.75 & 5.76 & 3.50\\\\\n\t 0.75 & Ideal & D & SI2  & 62.2 & 55.0 & 2757 & 5.83 & 5.87 & 3.64\\\\\n\\end{tabular}\n",
            "text/plain": [
              "      carat cut   color clarity depth table price x    y    z   \n",
              "1     0.23  Ideal E     SI2     61.5  55.0   326  3.95 3.98 2.43\n",
              "2     0.22  Fair  E     VS2     65.1  61.0   337  3.87 3.78 2.49\n",
              "3     0.23  Ideal J     VS1     62.8  56.0   340  3.93 3.90 2.46\n",
              "4     0.31  Ideal J     SI2     62.2  54.0   344  4.35 4.37 2.71\n",
              "5     0.30  Ideal I     SI2     62.0  54.0   348  4.31 4.34 2.68\n",
              "6     0.33  Ideal I     SI2     61.8  55.0   403  4.49 4.51 2.78\n",
              "7     0.33  Ideal I     SI2     61.2  56.0   403  4.49 4.50 2.75\n",
              "8     0.33  Ideal J     SI1     61.1  56.0   403  4.49 4.55 2.76\n",
              "9     0.23  Ideal G     VS1     61.9  54.0   404  3.93 3.95 2.44\n",
              "10    0.32  Ideal I     SI1     60.9  55.0   404  4.45 4.48 2.72\n",
              "11    0.30  Ideal I     SI2     61.0  59.0   405  4.30 4.33 2.63\n",
              "12    0.35  Ideal I     VS1     60.9  57.0   552  4.54 4.59 2.78\n",
              "13    0.30  Ideal D     SI1     62.5  57.0   552  4.29 4.32 2.69\n",
              "14    0.30  Ideal D     SI1     62.1  56.0   552  4.30 4.33 2.68\n",
              "15    0.28  Ideal G     VVS2    61.4  56.0   553  4.19 4.22 2.58\n",
              "16    0.32  Ideal I     VVS1    62.0  55.3   553  4.39 4.42 2.73\n",
              "17    0.26  Ideal E     VVS2    62.9  58.0   554  4.02 4.06 2.54\n",
              "18    0.38  Ideal I     SI2     61.6  56.0   554  4.65 4.67 2.87\n",
              "19    0.70  Ideal E     SI1     62.5  57.0  2757  5.70 5.72 3.57\n",
              "20    0.86  Fair  E     SI2     55.1  69.0  2757  6.45 6.33 3.52\n",
              "21    0.70  Ideal G     VS2     61.6  56.0  2757  5.70 5.67 3.50\n",
              "22    0.96  Fair  F     SI2     66.3  62.0  2759  6.27 5.95 4.07\n",
              "23    0.74  Ideal G     SI1     61.6  55.0  2760  5.80 5.85 3.59\n",
              "24    0.80  Ideal I     VS1     62.9  56.0  2760  5.94 5.87 3.72\n",
              "25    0.75  Ideal G     SI1     62.2  55.0  2760  5.87 5.80 3.63\n",
              "26    0.74  Ideal I     VVS2    62.3  55.0  2761  5.77 5.81 3.61\n",
              "27    0.81  Ideal F     SI2     58.8  57.0  2761  6.14 6.11 3.60\n",
              "28    0.59  Ideal E     VVS2    62.0  55.0  2761  5.38 5.43 3.35\n",
              "29    0.80  Ideal F     SI2     61.4  57.0  2761  5.96 6.00 3.67\n",
              "30    0.74  Ideal E     SI2     62.2  56.0  2761  5.80 5.84 3.62\n",
              "⋮     ⋮     ⋮     ⋮     ⋮       ⋮     ⋮     ⋮     ⋮    ⋮    ⋮   \n",
              "23132 0.83  Ideal J     VS2     62.3  55.0  2742  6.01 6.03 3.75\n",
              "23133 0.51  Ideal D     VVS2    61.7  56.0  2742  5.16 5.14 3.18\n",
              "23134 0.51  Ideal D     VVS2    61.3  57.0  2742  5.17 5.14 3.16\n",
              "23135 1.00  Fair  I     SI2     66.8  56.0  2743  6.22 6.12 4.13\n",
              "23136 0.75  Ideal F     SI1     62.3  57.0  2744  5.82 5.77 3.61\n",
              "23137 0.70  Ideal G     SI1     60.7  55.0  2744  5.76 5.80 3.51\n",
              "23138 0.70  Ideal E     SI1     61.7  55.0  2745  5.71 5.74 3.53\n",
              "23139 0.51  Ideal E     VVS1    61.9  54.0  2745  5.17 5.11 3.18\n",
              "23140 1.04  Fair  G     SI2     65.2  57.0  2745  6.25 6.23 4.07\n",
              "23141 0.72  Ideal G     VS1     62.6  53.0  2746  5.76 5.78 3.61\n",
              "23142 0.71  Fair  D     VS1     65.4  59.0  2747  5.62 5.58 3.66\n",
              "23143 0.81  Ideal D     SI1     61.5  57.0  2748  6.00 6.03 3.70\n",
              "23144 0.52  Ideal F     IF      61.5  57.0  2749  5.15 5.19 3.18\n",
              "23145 0.80  Ideal G     SI2     62.2  56.0  2749  5.95 5.91 3.69\n",
              "23146 0.56  Ideal E     VVS1    62.1  56.0  2750  5.28 5.29 3.28\n",
              "23147 0.70  Ideal F     VS1     62.5  56.0  2751  5.73 5.70 3.57\n",
              "23148 0.70  Ideal F     VS1     62.0  55.0  2751  5.74 5.71 3.55\n",
              "23149 0.71  Ideal G     SI1     60.5  56.4  2751  5.76 5.80 3.50\n",
              "23150 0.83  Ideal G     SI2     62.4  54.0  2751  6.01 6.08 3.77\n",
              "23151 0.72  Ideal H     VVS2    62.3  56.0  2752  5.74 5.81 3.60\n",
              "23152 0.73  Ideal H     VS2     62.5  58.0  2752  5.71 5.75 3.58\n",
              "23153 0.77  Ideal E     SI2     62.1  56.0  2753  5.84 5.86 3.63\n",
              "23154 0.76  Ideal I     VVS1    62.2  55.0  2753  5.89 5.87 3.66\n",
              "23155 0.73  Ideal I     VS2     61.3  56.0  2756  5.80 5.84 3.57\n",
              "23156 0.73  Ideal I     VS2     61.6  55.0  2756  5.82 5.84 3.59\n",
              "23157 0.79  Ideal I     SI1     61.6  56.0  2756  5.95 5.97 3.67\n",
              "23158 0.71  Ideal E     SI1     61.9  56.0  2756  5.71 5.73 3.54\n",
              "23159 0.71  Ideal G     VS1     61.4  56.0  2756  5.76 5.73 3.53\n",
              "23160 0.72  Ideal D     SI1     60.8  57.0  2757  5.75 5.76 3.50\n",
              "23161 0.75  Ideal D     SI2     62.2  55.0  2757  5.83 5.87 3.64"
            ]
          },
          "metadata": {}
        }
      ]
    },
    {
      "cell_type": "code",
      "source": [
        "#build model\n",
        "log_reg_diamond <- diamonds %>%\n",
        "  filter(cut %in% c('Ideal', 'Fair'))"
      ],
      "metadata": {
        "id": "Yj0luLxOM1HM"
      },
      "execution_count": 78,
      "outputs": []
    },
    {
      "cell_type": "code",
      "source": [
        "#examine results\n",
        "lgr_model <- glm(cut ~ carat, data=log_reg_diamond, family='binomial')"
      ],
      "metadata": {
        "id": "OsWjoqkpNFOz"
      },
      "execution_count": 80,
      "outputs": []
    },
    {
      "cell_type": "code",
      "source": [
        "summary(lgr_model)"
      ],
      "metadata": {
        "colab": {
          "base_uri": "https://localhost:8080/",
          "height": 348
        },
        "id": "RoUs_RVbrS1t",
        "outputId": "d2654bf3-05d5-46ec-ee95-ade161bb4374"
      },
      "execution_count": 81,
      "outputs": [
        {
          "output_type": "display_data",
          "data": {
            "text/plain": [
              "\n",
              "Call:\n",
              "glm(formula = cut ~ carat, family = \"binomial\", data = log_reg_diamond)\n",
              "\n",
              "Coefficients:\n",
              "            Estimate Std. Error z value Pr(>|z|)    \n",
              "(Intercept)  3.70507    0.05341   69.37   <2e-16 ***\n",
              "carat       -1.30101    0.04709  -27.63   <2e-16 ***\n",
              "---\n",
              "Signif. codes:  0 ‘***’ 0.001 ‘**’ 0.01 ‘*’ 0.05 ‘.’ 0.1 ‘ ’ 1\n",
              "\n",
              "(Dispersion parameter for binomial family taken to be 1)\n",
              "\n",
              "    Null deviance: 11691  on 23160  degrees of freedom\n",
              "Residual deviance: 10976  on 23159  degrees of freedom\n",
              "AIC: 10980\n",
              "\n",
              "Number of Fisher Scoring iterations: 5\n"
            ]
          },
          "metadata": {}
        }
      ]
    },
    {
      "cell_type": "markdown",
      "source": [
        "Return to the `loan_approval` data.  Build a logistic model and discuss the results of hypothesis tests on your features."
      ],
      "metadata": {
        "id": "d1nGtBpFNJNn"
      }
    },
    {
      "cell_type": "code",
      "source": [
        "loans$loan_status_3 <- ifelse(loans$Loan_Status == 'Y',1, 0)"
      ],
      "metadata": {
        "id": "DKkk-SCrsLHG"
      },
      "execution_count": 85,
      "outputs": []
    },
    {
      "cell_type": "code",
      "source": [
        "lgr_loans <- glm(loan_status_3 ~ ApplicantIncome, data=loans, family='binomial')"
      ],
      "metadata": {
        "id": "4juUc12YNQvP"
      },
      "execution_count": 86,
      "outputs": []
    },
    {
      "cell_type": "code",
      "source": [
        "summary(lgr_loans)"
      ],
      "metadata": {
        "id": "2sgGAeFjNQpP",
        "colab": {
          "base_uri": "https://localhost:8080/",
          "height": 366
        },
        "outputId": "0a16706b-3d11-4c71-a88d-335af2dac228"
      },
      "execution_count": 87,
      "outputs": [
        {
          "output_type": "display_data",
          "data": {
            "text/plain": [
              "\n",
              "Call:\n",
              "glm(formula = loan_status_3 ~ ApplicantIncome, family = \"binomial\", \n",
              "    data = loans)\n",
              "\n",
              "Coefficients:\n",
              "                  Estimate Std. Error z value Pr(>|z|)    \n",
              "(Intercept)      7.964e-01  1.159e-01   6.873  6.3e-12 ***\n",
              "ApplicantIncome -1.645e-06  1.410e-05  -0.117    0.907    \n",
              "---\n",
              "Signif. codes:  0 ‘***’ 0.001 ‘**’ 0.01 ‘*’ 0.05 ‘.’ 0.1 ‘ ’ 1\n",
              "\n",
              "(Dispersion parameter for binomial family taken to be 1)\n",
              "\n",
              "    Null deviance: 762.89  on 613  degrees of freedom\n",
              "Residual deviance: 762.88  on 612  degrees of freedom\n",
              "AIC: 766.88\n",
              "\n",
              "Number of Fisher Scoring iterations: 4\n"
            ]
          },
          "metadata": {}
        }
      ]
    },
    {
      "cell_type": "code",
      "source": [],
      "metadata": {
        "id": "wfjz6qvmNQma"
      },
      "execution_count": null,
      "outputs": []
    },
    {
      "cell_type": "code",
      "source": [],
      "metadata": {
        "id": "FqXppyAINQjy"
      },
      "execution_count": null,
      "outputs": []
    },
    {
      "cell_type": "code",
      "source": [],
      "metadata": {
        "id": "k_x3DV5bNGUO"
      },
      "execution_count": null,
      "outputs": []
    },
    {
      "cell_type": "markdown",
      "source": [
        "#### Machine Learning with R\n",
        "\n",
        "Using the [caret](https://topepo.github.io/caret/) package.\n",
        "\n",
        "- Create data split\n",
        "- Cross validation\n",
        "- Model building"
      ],
      "metadata": {
        "id": "T5N_HmFPNRbB"
      }
    },
    {
      "cell_type": "code",
      "source": [
        "install.packages('caret')"
      ],
      "metadata": {
        "colab": {
          "base_uri": "https://localhost:8080/"
        },
        "id": "VLdeOk1jNSx5",
        "outputId": "b92e1e6a-2ac9-4cd6-83a1-d85c069c5fdf"
      },
      "execution_count": 68,
      "outputs": [
        {
          "output_type": "stream",
          "name": "stderr",
          "text": [
            "Installing package into ‘/usr/local/lib/R/site-library’\n",
            "(as ‘lib’ is unspecified)\n",
            "\n",
            "also installing the dependencies ‘listenv’, ‘parallelly’, ‘future’, ‘globals’, ‘shape’, ‘future.apply’, ‘numDeriv’, ‘progressr’, ‘SQUAREM’, ‘diagram’, ‘lava’, ‘prodlim’, ‘proxy’, ‘iterators’, ‘Rcpp’, ‘clock’, ‘gower’, ‘hardhat’, ‘ipred’, ‘timeDate’, ‘e1071’, ‘foreach’, ‘ModelMetrics’, ‘plyr’, ‘pROC’, ‘recipes’, ‘reshape2’\n",
            "\n",
            "\n"
          ]
        }
      ]
    },
    {
      "cell_type": "code",
      "source": [
        "install.packages('mlbench')"
      ],
      "metadata": {
        "colab": {
          "base_uri": "https://localhost:8080/"
        },
        "id": "9wweSfaPNUNT",
        "outputId": "ffb90c6d-00d6-4085-9cff-340790ec8c22"
      },
      "execution_count": 69,
      "outputs": [
        {
          "output_type": "stream",
          "name": "stderr",
          "text": [
            "Installing package into ‘/usr/local/lib/R/site-library’\n",
            "(as ‘lib’ is unspecified)\n",
            "\n"
          ]
        }
      ]
    },
    {
      "cell_type": "code",
      "source": [],
      "metadata": {
        "id": "H0CZYqchR6nI"
      },
      "execution_count": null,
      "outputs": []
    }
  ]
}