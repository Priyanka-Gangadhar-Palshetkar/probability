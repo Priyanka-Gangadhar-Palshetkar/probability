{
  "nbformat": 4,
  "nbformat_minor": 0,
  "metadata": {
    "colab": {
      "provenance": [],
      "include_colab_link": true
    },
    "kernelspec": {
      "name": "ir",
      "display_name": "R"
    },
    "language_info": {
      "name": "R"
    }
  },
  "cells": [
    {
      "cell_type": "markdown",
      "metadata": {
        "id": "view-in-github",
        "colab_type": "text"
      },
      "source": [
        "<a href=\"https://colab.research.google.com/github/iPrinka/MITx-Micromasters-Statistics-Data-Science/blob/main/oneleague_w5_stats.ipynb\" target=\"_parent\"><img src=\"https://colab.research.google.com/assets/colab-badge.svg\" alt=\"Open In Colab\"/></a>"
      ]
    },
    {
      "cell_type": "markdown",
      "source": [
        "# Hypothesis Testing with R\n",
        "\n"
      ],
      "metadata": {
        "id": "-xelwROF1O8i"
      }
    },
    {
      "cell_type": "code",
      "execution_count": null,
      "metadata": {
        "id": "9RzARnUn09-O",
        "colab": {
          "base_uri": "https://localhost:8080/"
        },
        "outputId": "c4005b5b-bd73-4d1c-85a7-355c87151897"
      },
      "outputs": [
        {
          "output_type": "stream",
          "name": "stderr",
          "text": [
            "── \u001b[1mAttaching packages\u001b[22m ─────────────────────────────────────── tidyverse 1.3.1 ──\n",
            "\n",
            "\u001b[32m✔\u001b[39m \u001b[34mggplot2\u001b[39m 3.4.2     \u001b[32m✔\u001b[39m \u001b[34mpurrr  \u001b[39m 1.0.1\n",
            "\u001b[32m✔\u001b[39m \u001b[34mtibble \u001b[39m 3.2.1     \u001b[32m✔\u001b[39m \u001b[34mdplyr  \u001b[39m 1.1.2\n",
            "\u001b[32m✔\u001b[39m \u001b[34mtidyr  \u001b[39m 1.3.0     \u001b[32m✔\u001b[39m \u001b[34mstringr\u001b[39m 1.5.0\n",
            "\u001b[32m✔\u001b[39m \u001b[34mreadr  \u001b[39m 2.1.4     \u001b[32m✔\u001b[39m \u001b[34mforcats\u001b[39m 1.0.0\n",
            "\n",
            "── \u001b[1mConflicts\u001b[22m ────────────────────────────────────────── tidyverse_conflicts() ──\n",
            "\u001b[31m✖\u001b[39m \u001b[34mdplyr\u001b[39m::\u001b[32mfilter()\u001b[39m masks \u001b[34mstats\u001b[39m::filter()\n",
            "\u001b[31m✖\u001b[39m \u001b[34mdplyr\u001b[39m::\u001b[32mlag()\u001b[39m    masks \u001b[34mstats\u001b[39m::lag()\n",
            "\n"
          ]
        }
      ],
      "source": [
        "library(tidyverse)"
      ]
    },
    {
      "cell_type": "markdown",
      "source": [
        "#### Difference in Proportions\n",
        "\n",
        "Visually assessing the difference in proportions is equivalent to looking at a bar plot.  To test the difference in proportions we use the `prop.test` function.  You can either enter the counts directly of use `xtabs` to create the cross-tabulated data from a DataFrame.  "
      ],
      "metadata": {
        "id": "EfrgP0mAmmGK"
      }
    },
    {
      "cell_type": "code",
      "source": [
        "#dataframe with clicks\n",
        "df <- data.frame(page = c('original', 'new'), clicks = c(0.8, 0.82))\n",
        "df"
      ],
      "metadata": {
        "id": "TeQEkNDqdiuk",
        "colab": {
          "base_uri": "https://localhost:8080/",
          "height": 161
        },
        "outputId": "1ed7bc4d-6a0a-4271-b597-a091ab3d71e4"
      },
      "execution_count": null,
      "outputs": [
        {
          "output_type": "display_data",
          "data": {
            "text/html": [
              "<table class=\"dataframe\">\n",
              "<caption>A data.frame: 2 × 2</caption>\n",
              "<thead>\n",
              "\t<tr><th scope=col>page</th><th scope=col>clicks</th></tr>\n",
              "\t<tr><th scope=col>&lt;chr&gt;</th><th scope=col>&lt;dbl&gt;</th></tr>\n",
              "</thead>\n",
              "<tbody>\n",
              "\t<tr><td>original</td><td>0.80</td></tr>\n",
              "\t<tr><td>new     </td><td>0.82</td></tr>\n",
              "</tbody>\n",
              "</table>\n"
            ],
            "text/markdown": "\nA data.frame: 2 × 2\n\n| page &lt;chr&gt; | clicks &lt;dbl&gt; |\n|---|---|\n| original | 0.80 |\n| new      | 0.82 |\n\n",
            "text/latex": "A data.frame: 2 × 2\n\\begin{tabular}{ll}\n page & clicks\\\\\n <chr> & <dbl>\\\\\n\\hline\n\t original & 0.80\\\\\n\t new      & 0.82\\\\\n\\end{tabular}\n",
            "text/plain": [
              "  page     clicks\n",
              "1 original 0.80  \n",
              "2 new      0.82  "
            ]
          },
          "metadata": {}
        }
      ]
    },
    {
      "cell_type": "code",
      "source": [
        "#barplot of click rates\n",
        "ggplot(df, aes(x=page, y=clicks)) + \n",
        "  geom_bar(stat = 'identity') + \n",
        "    labs(title = 'New vs Old Homepage and Clicks')"
      ],
      "metadata": {
        "id": "E3tpsT32dta6",
        "colab": {
          "base_uri": "https://localhost:8080/",
          "height": 437
        },
        "outputId": "85549d6a-a0af-4f9f-b7b8-0f6554a208f3"
      },
      "execution_count": null,
      "outputs": [
        {
          "output_type": "display_data",
          "data": {
            "text/plain": [
              "plot without title"
            ],
            "image/png": "[encoded data removed]"
          },
          "metadata": {
            "image/png": {
              "width": 420,
              "height": 420
            }
          }
        }
      ]
    },
    {
      "cell_type": "markdown",
      "source": [
        "**Version 1**\n",
        "\n",
        "| page | click  | total |\n",
        "| ------ | ------- | ----- |\n",
        "| Old | 400 | 500 |\n",
        "| New | 410 | 500 |\n",
        "\n",
        "**Version 2**\n",
        "\n",
        "| page | click  | total |\n",
        "| ------ | ------- | ----- |\n",
        "| Old | 300 | 500 |\n",
        "| New | 450 | 500 |"
      ],
      "metadata": {
        "id": "c2ZpwNw2JTvP"
      }
    },
    {
      "cell_type": "code",
      "source": [
        "#dataframe and barplot of v2\n",
        "df2 <- data.frame(page = c('original', 'new'), clicks = c(0.6, 0.9))\n",
        "df2"
      ],
      "metadata": {
        "id": "EuZqjVp7T8mL",
        "colab": {
          "base_uri": "https://localhost:8080/",
          "height": 161
        },
        "outputId": "81ef46d5-069b-449e-daf6-87fd8ce6ae72"
      },
      "execution_count": null,
      "outputs": [
        {
          "output_type": "display_data",
          "data": {
            "text/html": [
              "<table class=\"dataframe\">\n",
              "<caption>A data.frame: 2 × 2</caption>\n",
              "<thead>\n",
              "\t<tr><th scope=col>page</th><th scope=col>clicks</th></tr>\n",
              "\t<tr><th scope=col>&lt;chr&gt;</th><th scope=col>&lt;dbl&gt;</th></tr>\n",
              "</thead>\n",
              "<tbody>\n",
              "\t<tr><td>original</td><td>0.6</td></tr>\n",
              "\t<tr><td>new     </td><td>0.9</td></tr>\n",
              "</tbody>\n",
              "</table>\n"
            ],
            "text/markdown": "\nA data.frame: 2 × 2\n\n| page &lt;chr&gt; | clicks &lt;dbl&gt; |\n|---|---|\n| original | 0.6 |\n| new      | 0.9 |\n\n",
            "text/latex": "A data.frame: 2 × 2\n\\begin{tabular}{ll}\n page & clicks\\\\\n <chr> & <dbl>\\\\\n\\hline\n\t original & 0.6\\\\\n\t new      & 0.9\\\\\n\\end{tabular}\n",
            "text/plain": [
              "  page     clicks\n",
              "1 original 0.6   \n",
              "2 new      0.9   "
            ]
          },
          "metadata": {}
        }
      ]
    },
    {
      "cell_type": "code",
      "source": [
        "ggplot(df2, aes(x=page, y=clicks)) +\n",
        "  geom_bar(stat='identity') +\n",
        "  labs(title = 'New vs Old Homepage and Clicks - Version 2')"
      ],
      "metadata": {
        "colab": {
          "base_uri": "https://localhost:8080/",
          "height": 437
        },
        "id": "riHlTpHRJYCs",
        "outputId": "3cbaddef-b838-4789-bbe2-0fab4f5c60e3"
      },
      "execution_count": null,
      "outputs": [
        {
          "output_type": "display_data",
          "data": {
            "text/plain": [
              "plot without title"
            ],
            "image/png": "[encoded data removed]"
          },
          "metadata": {
            "image/png": {
              "width": 420,
              "height": 420
            }
          }
        }
      ]
    },
    {
      "cell_type": "markdown",
      "source": [
        "### Datasets\n",
        "\n",
        "- Load in data\n",
        "- Explore features\n",
        "- Opportunities for tests of proportions?"
      ],
      "metadata": {
        "id": "itbBEjo99k-D"
      }
    },
    {
      "cell_type": "code",
      "source": [
        "email <- read_csv('email_small.csv')\n",
        "head(email)"
      ],
      "metadata": {
        "id": "cMAtL4bf9uwl",
        "colab": {
          "base_uri": "https://localhost:8080/",
          "height": 472
        },
        "outputId": "8b721372-9ffd-413f-eedd-b14ee414c03e"
      },
      "execution_count": null,
      "outputs": [
        {
          "output_type": "stream",
          "name": "stderr",
          "text": [
            "\u001b[1mRows: \u001b[22m\u001b[34m15213\u001b[39m \u001b[1mColumns: \u001b[22m\u001b[34m14\u001b[39m\n",
            "\u001b[36m──\u001b[39m \u001b[1mColumn specification\u001b[22m \u001b[36m────────────────────────────────────────────────────────\u001b[39m\n",
            "\u001b[1mDelimiter:\u001b[22m \",\"\n",
            "\u001b[31mchr\u001b[39m  (2): cpgn_id, group\n",
            "\u001b[32mdbl\u001b[39m (11): user_id, open, click, purch, chard, sav_blanc, syrah, cab, past_pu...\n",
            "\u001b[33mlgl\u001b[39m  (1): email\n",
            "\n",
            "\u001b[36mℹ\u001b[39m Use `spec()` to retrieve the full column specification for this data.\n",
            "\u001b[36mℹ\u001b[39m Specify the column types or set `show_col_types = FALSE` to quiet this message.\n"
          ]
        },
        {
          "output_type": "display_data",
          "data": {
            "text/html": [
              "<table class=\"dataframe\">\n",
              "<caption>A tibble: 6 × 14</caption>\n",
              "<thead>\n",
              "\t<tr><th scope=col>user_id</th><th scope=col>cpgn_id</th><th scope=col>group</th><th scope=col>email</th><th scope=col>open</th><th scope=col>click</th><th scope=col>purch</th><th scope=col>chard</th><th scope=col>sav_blanc</th><th scope=col>syrah</th><th scope=col>cab</th><th scope=col>past_purch</th><th scope=col>days_since</th><th scope=col>visits</th></tr>\n",
              "\t<tr><th scope=col>&lt;dbl&gt;</th><th scope=col>&lt;chr&gt;</th><th scope=col>&lt;chr&gt;</th><th scope=col>&lt;lgl&gt;</th><th scope=col>&lt;dbl&gt;</th><th scope=col>&lt;dbl&gt;</th><th scope=col>&lt;dbl&gt;</th><th scope=col>&lt;dbl&gt;</th><th scope=col>&lt;dbl&gt;</th><th scope=col>&lt;dbl&gt;</th><th scope=col>&lt;dbl&gt;</th><th scope=col>&lt;dbl&gt;</th><th scope=col>&lt;dbl&gt;</th><th scope=col>&lt;dbl&gt;</th></tr>\n",
              "</thead>\n",
              "<tbody>\n",
              "\t<tr><td>1058220</td><td>1901Email</td><td>email_B</td><td> TRUE</td><td>0</td><td>0</td><td> 0</td><td>0</td><td>  0.00</td><td>  0.00</td><td>0</td><td>  0.00</td><td>289</td><td>4</td></tr>\n",
              "\t<tr><td>1122167</td><td>1901Email</td><td>ctrl   </td><td>FALSE</td><td>0</td><td>0</td><td> 0</td><td>0</td><td>678.61</td><td>  0.00</td><td>0</td><td>678.61</td><td>163</td><td>5</td></tr>\n",
              "\t<tr><td>1003710</td><td>1901Email</td><td>ctrl   </td><td>FALSE</td><td>0</td><td>0</td><td> 0</td><td>0</td><td>  0.00</td><td>  0.00</td><td>0</td><td>  0.00</td><td> 72</td><td>6</td></tr>\n",
              "\t<tr><td>1079666</td><td>1901Email</td><td>ctrl   </td><td>FALSE</td><td>0</td><td>0</td><td> 0</td><td>0</td><td>  0.00</td><td> 25.64</td><td>0</td><td> 25.64</td><td>122</td><td>5</td></tr>\n",
              "\t<tr><td>1100384</td><td>1901Email</td><td>email_A</td><td> TRUE</td><td>0</td><td>0</td><td>88</td><td>0</td><td>  0.00</td><td>  0.00</td><td>0</td><td>  0.00</td><td>187</td><td>4</td></tr>\n",
              "\t<tr><td>1054148</td><td>1901Email</td><td>ctrl   </td><td>FALSE</td><td>0</td><td>0</td><td> 0</td><td>0</td><td>  0.00</td><td>407.96</td><td>0</td><td>407.96</td><td>278</td><td>8</td></tr>\n",
              "</tbody>\n",
              "</table>\n"
            ],
            "text/markdown": "\nA tibble: 6 × 14\n\n| user_id &lt;dbl&gt; | cpgn_id &lt;chr&gt; | group &lt;chr&gt; | email &lt;lgl&gt; | open &lt;dbl&gt; | click &lt;dbl&gt; | purch &lt;dbl&gt; | chard &lt;dbl&gt; | sav_blanc &lt;dbl&gt; | syrah &lt;dbl&gt; | cab &lt;dbl&gt; | past_purch &lt;dbl&gt; | days_since &lt;dbl&gt; | visits &lt;dbl&gt; |\n|---|---|---|---|---|---|---|---|---|---|---|---|---|---|\n| 1058220 | 1901Email | email_B |  TRUE | 0 | 0 |  0 | 0 |   0.00 |   0.00 | 0 |   0.00 | 289 | 4 |\n| 1122167 | 1901Email | ctrl    | FALSE | 0 | 0 |  0 | 0 | 678.61 |   0.00 | 0 | 678.61 | 163 | 5 |\n| 1003710 | 1901Email | ctrl    | FALSE | 0 | 0 |  0 | 0 |   0.00 |   0.00 | 0 |   0.00 |  72 | 6 |\n| 1079666 | 1901Email | ctrl    | FALSE | 0 | 0 |  0 | 0 |   0.00 |  25.64 | 0 |  25.64 | 122 | 5 |\n| 1100384 | 1901Email | email_A |  TRUE | 0 | 0 | 88 | 0 |   0.00 |   0.00 | 0 |   0.00 | 187 | 4 |\n| 1054148 | 1901Email | ctrl    | FALSE | 0 | 0 |  0 | 0 |   0.00 | 407.96 | 0 | 407.96 | 278 | 8 |\n\n",
            "text/latex": "A tibble: 6 × 14\n\\begin{tabular}{llllllllllllll}\n user\\_id & cpgn\\_id & group & email & open & click & purch & chard & sav\\_blanc & syrah & cab & past\\_purch & days\\_since & visits\\\\\n <dbl> & <chr> & <chr> & <lgl> & <dbl> & <dbl> & <dbl> & <dbl> & <dbl> & <dbl> & <dbl> & <dbl> & <dbl> & <dbl>\\\\\n\\hline\n\t 1058220 & 1901Email & email\\_B &  TRUE & 0 & 0 &  0 & 0 &   0.00 &   0.00 & 0 &   0.00 & 289 & 4\\\\\n\t 1122167 & 1901Email & ctrl    & FALSE & 0 & 0 &  0 & 0 & 678.61 &   0.00 & 0 & 678.61 & 163 & 5\\\\\n\t 1003710 & 1901Email & ctrl    & FALSE & 0 & 0 &  0 & 0 &   0.00 &   0.00 & 0 &   0.00 &  72 & 6\\\\\n\t 1079666 & 1901Email & ctrl    & FALSE & 0 & 0 &  0 & 0 &   0.00 &  25.64 & 0 &  25.64 & 122 & 5\\\\\n\t 1100384 & 1901Email & email\\_A &  TRUE & 0 & 0 & 88 & 0 &   0.00 &   0.00 & 0 &   0.00 & 187 & 4\\\\\n\t 1054148 & 1901Email & ctrl    & FALSE & 0 & 0 &  0 & 0 &   0.00 & 407.96 & 0 & 407.96 & 278 & 8\\\\\n\\end{tabular}\n",
            "text/plain": [
              "  user_id cpgn_id   group   email open click purch chard sav_blanc syrah  cab\n",
              "1 1058220 1901Email email_B  TRUE 0    0      0    0       0.00      0.00 0  \n",
              "2 1122167 1901Email ctrl    FALSE 0    0      0    0     678.61      0.00 0  \n",
              "3 1003710 1901Email ctrl    FALSE 0    0      0    0       0.00      0.00 0  \n",
              "4 1079666 1901Email ctrl    FALSE 0    0      0    0       0.00     25.64 0  \n",
              "5 1100384 1901Email email_A  TRUE 0    0     88    0       0.00      0.00 0  \n",
              "6 1054148 1901Email ctrl    FALSE 0    0      0    0       0.00    407.96 0  \n",
              "  past_purch days_since visits\n",
              "1   0.00     289        4     \n",
              "2 678.61     163        5     \n",
              "3   0.00      72        6     \n",
              "4  25.64     122        5     \n",
              "5   0.00     187        4     \n",
              "6 407.96     278        8     "
            ]
          },
          "metadata": {}
        }
      ]
    },
    {
      "cell_type": "code",
      "source": [
        "email_data_grouped <- email %>%\n",
        "  group_by(group, open) %>%\n",
        "  summarise(count = n()) %>%\n",
        "  mutate(prop = count / sum(count))\n",
        "\n",
        "email_data_grouped\n"
      ],
      "metadata": {
        "id": "S-PDSg2g9uEy",
        "colab": {
          "base_uri": "https://localhost:8080/",
          "height": 292
        },
        "outputId": "1925f668-e610-4f66-8f01-12cab613a07b"
      },
      "execution_count": null,
      "outputs": [
        {
          "output_type": "stream",
          "name": "stderr",
          "text": [
            "\u001b[1m\u001b[22m`summarise()` has grouped output by 'group'. You can override using the\n",
            "`.groups` argument.\n"
          ]
        },
        {
          "output_type": "display_data",
          "data": {
            "text/html": [
              "<table class=\"dataframe\">\n",
              "<caption>A grouped_df: 5 × 4</caption>\n",
              "<thead>\n",
              "\t<tr><th scope=col>group</th><th scope=col>open</th><th scope=col>count</th><th scope=col>prop</th></tr>\n",
              "\t<tr><th scope=col>&lt;chr&gt;</th><th scope=col>&lt;dbl&gt;</th><th scope=col>&lt;int&gt;</th><th scope=col>&lt;dbl&gt;</th></tr>\n",
              "</thead>\n",
              "<tbody>\n",
              "\t<tr><td>ctrl   </td><td>0</td><td>5106</td><td>1.0000000</td></tr>\n",
              "\t<tr><td>email_A</td><td>0</td><td>1413</td><td>0.2843058</td></tr>\n",
              "\t<tr><td>email_A</td><td>1</td><td>3557</td><td>0.7156942</td></tr>\n",
              "\t<tr><td>email_B</td><td>0</td><td>1762</td><td>0.3430018</td></tr>\n",
              "\t<tr><td>email_B</td><td>1</td><td>3375</td><td>0.6569982</td></tr>\n",
              "</tbody>\n",
              "</table>\n"
            ],
            "text/markdown": "\nA grouped_df: 5 × 4\n\n| group &lt;chr&gt; | open &lt;dbl&gt; | count &lt;int&gt; | prop &lt;dbl&gt; |\n|---|---|---|---|\n| ctrl    | 0 | 5106 | 1.0000000 |\n| email_A | 0 | 1413 | 0.2843058 |\n| email_A | 1 | 3557 | 0.7156942 |\n| email_B | 0 | 1762 | 0.3430018 |\n| email_B | 1 | 3375 | 0.6569982 |\n\n",
            "text/latex": "A grouped\\_df: 5 × 4\n\\begin{tabular}{llll}\n group & open & count & prop\\\\\n <chr> & <dbl> & <int> & <dbl>\\\\\n\\hline\n\t ctrl    & 0 & 5106 & 1.0000000\\\\\n\t email\\_A & 0 & 1413 & 0.2843058\\\\\n\t email\\_A & 1 & 3557 & 0.7156942\\\\\n\t email\\_B & 0 & 1762 & 0.3430018\\\\\n\t email\\_B & 1 & 3375 & 0.6569982\\\\\n\\end{tabular}\n",
            "text/plain": [
              "  group   open count prop     \n",
              "1 ctrl    0    5106  1.0000000\n",
              "2 email_A 0    1413  0.2843058\n",
              "3 email_A 1    3557  0.7156942\n",
              "4 email_B 0    1762  0.3430018\n",
              "5 email_B 1    3375  0.6569982"
            ]
          },
          "metadata": {}
        }
      ]
    },
    {
      "cell_type": "code",
      "source": [
        "ggplot(email,aes(x=group,y=open))+\n",
        "  geom_bar(stat='identity')+\n",
        "  labs(title = 'Open rate by email')"
      ],
      "metadata": {
        "colab": {
          "base_uri": "https://localhost:8080/",
          "height": 437
        },
        "id": "Ij7e87fpSOir",
        "outputId": "23bb6c47-8aab-4a77-f67d-ac82ae270908"
      },
      "execution_count": null,
      "outputs": [
        {
          "output_type": "display_data",
          "data": {
            "text/plain": [
              "plot without title"
            ],
            "image/png": "[encoded data removed]"
          },
          "metadata": {
            "image/png": {
              "width": 420,
              "height": 420
            }
          }
        }
      ]
    },
    {
      "cell_type": "code",
      "source": [
        "subscriber <- read_csv('subscriber_data.csv')\n",
        "head(subscriber)"
      ],
      "metadata": {
        "id": "Tev6cyIY9uBJ",
        "colab": {
          "base_uri": "https://localhost:8080/",
          "height": 433
        },
        "outputId": "6e6c8b05-962a-4b4a-c894-56068068c125"
      },
      "execution_count": null,
      "outputs": [
        {
          "output_type": "stream",
          "name": "stderr",
          "text": [
            "\u001b[1mRows: \u001b[22m\u001b[34m300\u001b[39m \u001b[1mColumns: \u001b[22m\u001b[34m7\u001b[39m\n",
            "\u001b[36m──\u001b[39m \u001b[1mColumn specification\u001b[22m \u001b[36m────────────────────────────────────────────────────────\u001b[39m\n",
            "\u001b[1mDelimiter:\u001b[22m \",\"\n",
            "\u001b[31mchr\u001b[39m (4): gender, ownHome, subscribe, Segment\n",
            "\u001b[32mdbl\u001b[39m (3): age, income, kids\n",
            "\n",
            "\u001b[36mℹ\u001b[39m Use `spec()` to retrieve the full column specification for this data.\n",
            "\u001b[36mℹ\u001b[39m Specify the column types or set `show_col_types = FALSE` to quiet this message.\n"
          ]
        },
        {
          "output_type": "display_data",
          "data": {
            "text/html": [
              "<table class=\"dataframe\">\n",
              "<caption>A tibble: 6 × 7</caption>\n",
              "<thead>\n",
              "\t<tr><th scope=col>age</th><th scope=col>gender</th><th scope=col>income</th><th scope=col>kids</th><th scope=col>ownHome</th><th scope=col>subscribe</th><th scope=col>Segment</th></tr>\n",
              "\t<tr><th scope=col>&lt;dbl&gt;</th><th scope=col>&lt;chr&gt;</th><th scope=col>&lt;dbl&gt;</th><th scope=col>&lt;dbl&gt;</th><th scope=col>&lt;chr&gt;</th><th scope=col>&lt;chr&gt;</th><th scope=col>&lt;chr&gt;</th></tr>\n",
              "</thead>\n",
              "<tbody>\n",
              "\t<tr><td>47.31613</td><td>Male  </td><td>49482.81</td><td>2</td><td>ownNo </td><td>subNo</td><td>Suburb mix</td></tr>\n",
              "\t<tr><td>31.38684</td><td>Male  </td><td>35546.29</td><td>1</td><td>ownYes</td><td>subNo</td><td>Suburb mix</td></tr>\n",
              "\t<tr><td>43.20034</td><td>Male  </td><td>44169.19</td><td>0</td><td>ownYes</td><td>subNo</td><td>Suburb mix</td></tr>\n",
              "\t<tr><td>37.31700</td><td>Female</td><td>81041.99</td><td>1</td><td>ownNo </td><td>subNo</td><td>Suburb mix</td></tr>\n",
              "\t<tr><td>40.95439</td><td>Female</td><td>79353.01</td><td>3</td><td>ownYes</td><td>subNo</td><td>Suburb mix</td></tr>\n",
              "\t<tr><td>43.03387</td><td>Male  </td><td>58143.36</td><td>4</td><td>ownYes</td><td>subNo</td><td>Suburb mix</td></tr>\n",
              "</tbody>\n",
              "</table>\n"
            ],
            "text/markdown": "\nA tibble: 6 × 7\n\n| age &lt;dbl&gt; | gender &lt;chr&gt; | income &lt;dbl&gt; | kids &lt;dbl&gt; | ownHome &lt;chr&gt; | subscribe &lt;chr&gt; | Segment &lt;chr&gt; |\n|---|---|---|---|---|---|---|\n| 47.31613 | Male   | 49482.81 | 2 | ownNo  | subNo | Suburb mix |\n| 31.38684 | Male   | 35546.29 | 1 | ownYes | subNo | Suburb mix |\n| 43.20034 | Male   | 44169.19 | 0 | ownYes | subNo | Suburb mix |\n| 37.31700 | Female | 81041.99 | 1 | ownNo  | subNo | Suburb mix |\n| 40.95439 | Female | 79353.01 | 3 | ownYes | subNo | Suburb mix |\n| 43.03387 | Male   | 58143.36 | 4 | ownYes | subNo | Suburb mix |\n\n",
            "text/latex": "A tibble: 6 × 7\n\\begin{tabular}{lllllll}\n age & gender & income & kids & ownHome & subscribe & Segment\\\\\n <dbl> & <chr> & <dbl> & <dbl> & <chr> & <chr> & <chr>\\\\\n\\hline\n\t 47.31613 & Male   & 49482.81 & 2 & ownNo  & subNo & Suburb mix\\\\\n\t 31.38684 & Male   & 35546.29 & 1 & ownYes & subNo & Suburb mix\\\\\n\t 43.20034 & Male   & 44169.19 & 0 & ownYes & subNo & Suburb mix\\\\\n\t 37.31700 & Female & 81041.99 & 1 & ownNo  & subNo & Suburb mix\\\\\n\t 40.95439 & Female & 79353.01 & 3 & ownYes & subNo & Suburb mix\\\\\n\t 43.03387 & Male   & 58143.36 & 4 & ownYes & subNo & Suburb mix\\\\\n\\end{tabular}\n",
            "text/plain": [
              "  age      gender income   kids ownHome subscribe Segment   \n",
              "1 47.31613 Male   49482.81 2    ownNo   subNo     Suburb mix\n",
              "2 31.38684 Male   35546.29 1    ownYes  subNo     Suburb mix\n",
              "3 43.20034 Male   44169.19 0    ownYes  subNo     Suburb mix\n",
              "4 37.31700 Female 81041.99 1    ownNo   subNo     Suburb mix\n",
              "5 40.95439 Female 79353.01 3    ownYes  subNo     Suburb mix\n",
              "6 43.03387 Male   58143.36 4    ownYes  subNo     Suburb mix"
            ]
          },
          "metadata": {}
        }
      ]
    },
    {
      "cell_type": "code",
      "source": [
        "ggplot(subscriber, aes(x=ownHome, y=subscribe)) +\n",
        "  geom_bar(stat='identity') +\n",
        "  labs(title = 'New vs Old Homepage and Clicks - Version 2')"
      ],
      "metadata": {
        "id": "DPjOXaTq9t9w",
        "colab": {
          "base_uri": "https://localhost:8080/",
          "height": 437
        },
        "outputId": "85f17518-1872-49fd-8093-79c2d5d02fd3"
      },
      "execution_count": null,
      "outputs": [
        {
          "output_type": "display_data",
          "data": {
            "text/plain": [
              "plot without title"
            ],
            "image/png": "[encoded data removed]"
          },
          "metadata": {
            "image/png": {
              "width": 420,
              "height": 420
            }
          }
        }
      ]
    },
    {
      "cell_type": "code",
      "source": [],
      "metadata": {
        "id": "_c_bYIa49t64"
      },
      "execution_count": null,
      "outputs": []
    },
    {
      "cell_type": "code",
      "source": [],
      "metadata": {
        "id": "W4ERzpHJ9t3w"
      },
      "execution_count": null,
      "outputs": []
    },
    {
      "cell_type": "code",
      "source": [],
      "metadata": {
        "id": "fFnvpwH_9t0o"
      },
      "execution_count": null,
      "outputs": []
    },
    {
      "cell_type": "code",
      "source": [],
      "metadata": {
        "id": "9AkdLYQE9txw"
      },
      "execution_count": null,
      "outputs": []
    },
    {
      "cell_type": "code",
      "source": [],
      "metadata": {
        "id": "Qb3vicRj9tup"
      },
      "execution_count": null,
      "outputs": []
    },
    {
      "cell_type": "code",
      "source": [],
      "metadata": {
        "id": "AhgNWYOq9trh"
      },
      "execution_count": null,
      "outputs": []
    },
    {
      "cell_type": "code",
      "source": [],
      "metadata": {
        "id": "avJm8DB99tnm"
      },
      "execution_count": null,
      "outputs": []
    },
    {
      "cell_type": "markdown",
      "source": [
        "### Hypothesis Testing\n",
        "\n",
        "> The alternative hypothesis and null hypothesis are types of conjectures used in statistical tests, which are formal methods of reaching conclusions or making judgments on the basis of data. In statistical hypothesis testing, the null hypothesis and alternative hypothesis are two mutually exclusive statements.\n",
        "\n",
        "> \"The statement being tested in a test of statistical significance is called the null hypothesis. The test of significance is designed to assess the strength of the evidence against the null hypothesis. Usually, the null hypothesis is a statement of 'no effect' or 'no difference'.\"[2] Null hypothesis is often denoted as H0.\n",
        "\n",
        "> The statement that is being tested against the null hypothesis is the alternative hypothesis[2]. Alternative hypothesis is often denoted as $H_a$ or $H_1$.\n",
        "\n",
        "> In statistical hypothesis testing, to prove the alternative hypothesis is true, it should be shown that the data is contradictory to the null hypothesis. Namely, there is sufficient evidence against null hypothesis to demonstrate that the alternative hypothesis is true. -- from [wikipedia](https://en.wikipedia.org/wiki/Alternative_hypothesis)"
      ],
      "metadata": {
        "id": "lKQNwbanW68l"
      }
    },
    {
      "cell_type": "code",
      "source": [
        "clicks <- c(400, 410)         #number of clicks by version\n",
        "totals <- c(500, 500)         #number of total visits to site\n",
        "prop.test(clicks, totals)     #test for difference in proportions"
      ],
      "metadata": {
        "id": "viF8MG4H1AK-",
        "colab": {
          "base_uri": "https://localhost:8080/",
          "height": 219
        },
        "outputId": "6dc283d4-d18c-40f2-a455-9eececdbbf15"
      },
      "execution_count": null,
      "outputs": [
        {
          "output_type": "display_data",
          "data": {
            "text/plain": [
              "\n",
              "\t2-sample test for equality of proportions with continuity correction\n",
              "\n",
              "data:  clicks out of totals\n",
              "X-squared = 0.52632, df = 1, p-value = 0.4682\n",
              "alternative hypothesis: two.sided\n",
              "95 percent confidence interval:\n",
              " -0.07061343  0.03061343\n",
              "sample estimates:\n",
              "prop 1 prop 2 \n",
              "  0.80   0.82 \n"
            ]
          },
          "metadata": {}
        }
      ]
    },
    {
      "cell_type": "markdown",
      "source": [
        "**Version 2**\n",
        "\n",
        "| page | click  | total |\n",
        "| ------ | ------- | ----- |\n",
        "| Old | 300 | 500 |\n",
        "| New | 450 | 500 |"
      ],
      "metadata": {
        "id": "FWHBbogwJQQo"
      }
    },
    {
      "cell_type": "code",
      "source": [
        "clicks2 <- c(300, 450)        #number of clicks by version\n",
        "totals <- c(500, 500)         #number of total visits to site\n",
        "prop.test(clicks2, totals)    #testing the difference"
      ],
      "metadata": {
        "id": "CY5ALQ6MwPfv",
        "colab": {
          "base_uri": "https://localhost:8080/",
          "height": 219
        },
        "outputId": "b323a30b-3b44-4181-b1a3-82441056adc3"
      },
      "execution_count": null,
      "outputs": [
        {
          "output_type": "display_data",
          "data": {
            "text/plain": [
              "\n",
              "\t2-sample test for equality of proportions with continuity correction\n",
              "\n",
              "data:  clicks2 out of totals\n",
              "X-squared = 118.41, df = 1, p-value < 2.2e-16\n",
              "alternative hypothesis: two.sided\n",
              "95 percent confidence interval:\n",
              " -0.3523524 -0.2476476\n",
              "sample estimates:\n",
              "prop 1 prop 2 \n",
              "   0.6    0.9 \n"
            ]
          },
          "metadata": {}
        }
      ]
    },
    {
      "cell_type": "code",
      "source": [
        "#extract specific elements\n",
        "results <- prop.test(clicks2, totals)"
      ],
      "metadata": {
        "id": "6Hvlk3GY58bi"
      },
      "execution_count": null,
      "outputs": []
    },
    {
      "cell_type": "code",
      "source": [
        "results$conf.int"
      ],
      "metadata": {
        "id": "99VcRY4C58Ga",
        "colab": {
          "base_uri": "https://localhost:8080/",
          "height": 34
        },
        "outputId": "a4c48e4d-d81c-4524-d18a-0ec8de4cb645"
      },
      "execution_count": null,
      "outputs": [
        {
          "output_type": "display_data",
          "data": {
            "text/html": [
              "<style>\n",
              ".list-inline {list-style: none; margin:0; padding: 0}\n",
              ".list-inline>li {display: inline-block}\n",
              ".list-inline>li:not(:last-child)::after {content: \"\\00b7\"; padding: 0 .5ex}\n",
              "</style>\n",
              "<ol class=list-inline><li>-0.352352386454448</li><li>-0.247647613545552</li></ol>\n"
            ],
            "text/markdown": "1. -0.352352386454448\n2. -0.247647613545552\n\n\n",
            "text/latex": "\\begin{enumerate*}\n\\item -0.352352386454448\n\\item -0.247647613545552\n\\end{enumerate*}\n",
            "text/plain": [
              "[1] -0.3523524 -0.2476476\n",
              "attr(,\"conf.level\")\n",
              "[1] 0.95"
            ]
          },
          "metadata": {}
        }
      ]
    },
    {
      "cell_type": "code",
      "source": [],
      "metadata": {
        "id": "rioCrzvD58A9"
      },
      "execution_count": null,
      "outputs": []
    },
    {
      "cell_type": "markdown",
      "source": [
        "#### Example: Product Recommendations\n",
        "\n",
        "| page | click  | total |\n",
        "| ------ | ------- | ----- |\n",
        "| Old Algorithm | 420 | 1000 |\n",
        "| New Algorithm | 510 | 1000 |"
      ],
      "metadata": {
        "id": "y8mAEPCwIEzm"
      }
    },
    {
      "cell_type": "code",
      "source": [
        "#example 2 -- recommended product algorithms\n",
        "clicks3 <- c(420, 510)        #number of clicks by version\n",
        "totals <- c(1000, 1000)         #number of total visits to site\n",
        "prop.test(clicks3, totals)    #testing the difference"
      ],
      "metadata": {
        "id": "b8Hg-UABIEwM",
        "colab": {
          "base_uri": "https://localhost:8080/",
          "height": 219
        },
        "outputId": "d26bfb08-7557-463b-8d11-8a4d80845b2c"
      },
      "execution_count": null,
      "outputs": [
        {
          "output_type": "display_data",
          "data": {
            "text/plain": [
              "\n",
              "\t2-sample test for equality of proportions with continuity correction\n",
              "\n",
              "data:  clicks3 out of totals\n",
              "X-squared = 15.92, df = 1, p-value = 6.608e-05\n",
              "alternative hypothesis: two.sided\n",
              "95 percent confidence interval:\n",
              " -0.13454033 -0.04545967\n",
              "sample estimates:\n",
              "prop 1 prop 2 \n",
              "  0.42   0.51 \n"
            ]
          },
          "metadata": {}
        }
      ]
    },
    {
      "cell_type": "code",
      "source": [
        "results3 <- prop.test(clicks3, totals) \n",
        "results3$conf.int"
      ],
      "metadata": {
        "colab": {
          "base_uri": "https://localhost:8080/",
          "height": 34
        },
        "id": "cmST1dAkU9Ng",
        "outputId": "b307aaa3-841b-4874-a5a7-bdaa7e62ba78"
      },
      "execution_count": null,
      "outputs": [
        {
          "output_type": "display_data",
          "data": {
            "text/html": [
              "<style>\n",
              ".list-inline {list-style: none; margin:0; padding: 0}\n",
              ".list-inline>li {display: inline-block}\n",
              ".list-inline>li:not(:last-child)::after {content: \"\\00b7\"; padding: 0 .5ex}\n",
              "</style>\n",
              "<ol class=list-inline><li>-0.134540325308989</li><li>-0.0454596746910115</li></ol>\n"
            ],
            "text/markdown": "1. -0.134540325308989\n2. -0.0454596746910115\n\n\n",
            "text/latex": "\\begin{enumerate*}\n\\item -0.134540325308989\n\\item -0.0454596746910115\n\\end{enumerate*}\n",
            "text/plain": [
              "[1] -0.13454033 -0.04545967\n",
              "attr(,\"conf.level\")\n",
              "[1] 0.95"
            ]
          },
          "metadata": {}
        }
      ]
    },
    {
      "cell_type": "markdown",
      "source": [
        "**Instagram Advertising**"
      ],
      "metadata": {
        "id": "emIF3p9eKT1z"
      }
    },
    {
      "cell_type": "code",
      "source": [
        "#creating a dataframe\n"
      ],
      "metadata": {
        "id": "_VGC2xHPIEtU"
      },
      "execution_count": null,
      "outputs": []
    },
    {
      "cell_type": "code",
      "source": [
        "#proportion test\n"
      ],
      "metadata": {
        "id": "EI2_RVuPIEnm"
      },
      "execution_count": null,
      "outputs": []
    },
    {
      "cell_type": "markdown",
      "source": [
        "#### Example 2: Wine Sales Data\n",
        "\n",
        "Typically, rather than having a total count example we are provided a dataframe that contains the variable of interest alongside additional data on the customer or transaction."
      ],
      "metadata": {
        "id": "SuFqP5UuAhSV"
      }
    },
    {
      "cell_type": "code",
      "source": [
        "#email data\n",
        "emails <- read_csv('email_small.csv')\n",
        "head(emails)"
      ],
      "metadata": {
        "id": "b7TwgPta3KlD",
        "colab": {
          "base_uri": "https://localhost:8080/",
          "height": 472
        },
        "outputId": "da527f13-a745-4867-8da0-8c2505dfe710"
      },
      "execution_count": 67,
      "outputs": [
        {
          "output_type": "stream",
          "name": "stderr",
          "text": [
            "\u001b[1mRows: \u001b[22m\u001b[34m15213\u001b[39m \u001b[1mColumns: \u001b[22m\u001b[34m14\u001b[39m\n",
            "\u001b[36m──\u001b[39m \u001b[1mColumn specification\u001b[22m \u001b[36m────────────────────────────────────────────────────────\u001b[39m\n",
            "\u001b[1mDelimiter:\u001b[22m \",\"\n",
            "\u001b[31mchr\u001b[39m  (2): cpgn_id, group\n",
            "\u001b[32mdbl\u001b[39m (11): user_id, open, click, purch, chard, sav_blanc, syrah, cab, past_pu...\n",
            "\u001b[33mlgl\u001b[39m  (1): email\n",
            "\n",
            "\u001b[36mℹ\u001b[39m Use `spec()` to retrieve the full column specification for this data.\n",
            "\u001b[36mℹ\u001b[39m Specify the column types or set `show_col_types = FALSE` to quiet this message.\n"
          ]
        },
        {
          "output_type": "display_data",
          "data": {
            "text/html": [
              "<table class=\"dataframe\">\n",
              "<caption>A tibble: 6 × 14</caption>\n",
              "<thead>\n",
              "\t<tr><th scope=col>user_id</th><th scope=col>cpgn_id</th><th scope=col>group</th><th scope=col>email</th><th scope=col>open</th><th scope=col>click</th><th scope=col>purch</th><th scope=col>chard</th><th scope=col>sav_blanc</th><th scope=col>syrah</th><th scope=col>cab</th><th scope=col>past_purch</th><th scope=col>days_since</th><th scope=col>visits</th></tr>\n",
              "\t<tr><th scope=col>&lt;dbl&gt;</th><th scope=col>&lt;chr&gt;</th><th scope=col>&lt;chr&gt;</th><th scope=col>&lt;lgl&gt;</th><th scope=col>&lt;dbl&gt;</th><th scope=col>&lt;dbl&gt;</th><th scope=col>&lt;dbl&gt;</th><th scope=col>&lt;dbl&gt;</th><th scope=col>&lt;dbl&gt;</th><th scope=col>&lt;dbl&gt;</th><th scope=col>&lt;dbl&gt;</th><th scope=col>&lt;dbl&gt;</th><th scope=col>&lt;dbl&gt;</th><th scope=col>&lt;dbl&gt;</th></tr>\n",
              "</thead>\n",
              "<tbody>\n",
              "\t<tr><td>1058220</td><td>1901Email</td><td>email_B</td><td> TRUE</td><td>0</td><td>0</td><td> 0</td><td>0</td><td>  0.00</td><td>  0.00</td><td>0</td><td>  0.00</td><td>289</td><td>4</td></tr>\n",
              "\t<tr><td>1122167</td><td>1901Email</td><td>ctrl   </td><td>FALSE</td><td>0</td><td>0</td><td> 0</td><td>0</td><td>678.61</td><td>  0.00</td><td>0</td><td>678.61</td><td>163</td><td>5</td></tr>\n",
              "\t<tr><td>1003710</td><td>1901Email</td><td>ctrl   </td><td>FALSE</td><td>0</td><td>0</td><td> 0</td><td>0</td><td>  0.00</td><td>  0.00</td><td>0</td><td>  0.00</td><td> 72</td><td>6</td></tr>\n",
              "\t<tr><td>1079666</td><td>1901Email</td><td>ctrl   </td><td>FALSE</td><td>0</td><td>0</td><td> 0</td><td>0</td><td>  0.00</td><td> 25.64</td><td>0</td><td> 25.64</td><td>122</td><td>5</td></tr>\n",
              "\t<tr><td>1100384</td><td>1901Email</td><td>email_A</td><td> TRUE</td><td>0</td><td>0</td><td>88</td><td>0</td><td>  0.00</td><td>  0.00</td><td>0</td><td>  0.00</td><td>187</td><td>4</td></tr>\n",
              "\t<tr><td>1054148</td><td>1901Email</td><td>ctrl   </td><td>FALSE</td><td>0</td><td>0</td><td> 0</td><td>0</td><td>  0.00</td><td>407.96</td><td>0</td><td>407.96</td><td>278</td><td>8</td></tr>\n",
              "</tbody>\n",
              "</table>\n"
            ],
            "text/markdown": "\nA tibble: 6 × 14\n\n| user_id &lt;dbl&gt; | cpgn_id &lt;chr&gt; | group &lt;chr&gt; | email &lt;lgl&gt; | open &lt;dbl&gt; | click &lt;dbl&gt; | purch &lt;dbl&gt; | chard &lt;dbl&gt; | sav_blanc &lt;dbl&gt; | syrah &lt;dbl&gt; | cab &lt;dbl&gt; | past_purch &lt;dbl&gt; | days_since &lt;dbl&gt; | visits &lt;dbl&gt; |\n|---|---|---|---|---|---|---|---|---|---|---|---|---|---|\n| 1058220 | 1901Email | email_B |  TRUE | 0 | 0 |  0 | 0 |   0.00 |   0.00 | 0 |   0.00 | 289 | 4 |\n| 1122167 | 1901Email | ctrl    | FALSE | 0 | 0 |  0 | 0 | 678.61 |   0.00 | 0 | 678.61 | 163 | 5 |\n| 1003710 | 1901Email | ctrl    | FALSE | 0 | 0 |  0 | 0 |   0.00 |   0.00 | 0 |   0.00 |  72 | 6 |\n| 1079666 | 1901Email | ctrl    | FALSE | 0 | 0 |  0 | 0 |   0.00 |  25.64 | 0 |  25.64 | 122 | 5 |\n| 1100384 | 1901Email | email_A |  TRUE | 0 | 0 | 88 | 0 |   0.00 |   0.00 | 0 |   0.00 | 187 | 4 |\n| 1054148 | 1901Email | ctrl    | FALSE | 0 | 0 |  0 | 0 |   0.00 | 407.96 | 0 | 407.96 | 278 | 8 |\n\n",
            "text/latex": "A tibble: 6 × 14\n\\begin{tabular}{llllllllllllll}\n user\\_id & cpgn\\_id & group & email & open & click & purch & chard & sav\\_blanc & syrah & cab & past\\_purch & days\\_since & visits\\\\\n <dbl> & <chr> & <chr> & <lgl> & <dbl> & <dbl> & <dbl> & <dbl> & <dbl> & <dbl> & <dbl> & <dbl> & <dbl> & <dbl>\\\\\n\\hline\n\t 1058220 & 1901Email & email\\_B &  TRUE & 0 & 0 &  0 & 0 &   0.00 &   0.00 & 0 &   0.00 & 289 & 4\\\\\n\t 1122167 & 1901Email & ctrl    & FALSE & 0 & 0 &  0 & 0 & 678.61 &   0.00 & 0 & 678.61 & 163 & 5\\\\\n\t 1003710 & 1901Email & ctrl    & FALSE & 0 & 0 &  0 & 0 &   0.00 &   0.00 & 0 &   0.00 &  72 & 6\\\\\n\t 1079666 & 1901Email & ctrl    & FALSE & 0 & 0 &  0 & 0 &   0.00 &  25.64 & 0 &  25.64 & 122 & 5\\\\\n\t 1100384 & 1901Email & email\\_A &  TRUE & 0 & 0 & 88 & 0 &   0.00 &   0.00 & 0 &   0.00 & 187 & 4\\\\\n\t 1054148 & 1901Email & ctrl    & FALSE & 0 & 0 &  0 & 0 &   0.00 & 407.96 & 0 & 407.96 & 278 & 8\\\\\n\\end{tabular}\n",
            "text/plain": [
              "  user_id cpgn_id   group   email open click purch chard sav_blanc syrah  cab\n",
              "1 1058220 1901Email email_B  TRUE 0    0      0    0       0.00      0.00 0  \n",
              "2 1122167 1901Email ctrl    FALSE 0    0      0    0     678.61      0.00 0  \n",
              "3 1003710 1901Email ctrl    FALSE 0    0      0    0       0.00      0.00 0  \n",
              "4 1079666 1901Email ctrl    FALSE 0    0      0    0       0.00     25.64 0  \n",
              "5 1100384 1901Email email_A  TRUE 0    0     88    0       0.00      0.00 0  \n",
              "6 1054148 1901Email ctrl    FALSE 0    0      0    0       0.00    407.96 0  \n",
              "  past_purch days_since visits\n",
              "1   0.00     289        4     \n",
              "2 678.61     163        5     \n",
              "3   0.00      72        6     \n",
              "4  25.64     122        5     \n",
              "5   0.00     187        4     \n",
              "6 407.96     278        8     "
            ]
          },
          "metadata": {}
        }
      ]
    },
    {
      "cell_type": "code",
      "source": [
        "#calculate proportions in each group\n",
        "emails %>% \n",
        "  group_by(group) %>%\n",
        "    summarise(mean(open))"
      ],
      "metadata": {
        "id": "rmRQMGIG3Kh7",
        "colab": {
          "base_uri": "https://localhost:8080/",
          "height": 192
        },
        "outputId": "f19afb47-6f4c-401a-dac8-c37a9791fb0c"
      },
      "execution_count": 68,
      "outputs": [
        {
          "output_type": "display_data",
          "data": {
            "text/html": [
              "<table class=\"dataframe\">\n",
              "<caption>A tibble: 3 × 2</caption>\n",
              "<thead>\n",
              "\t<tr><th scope=col>group</th><th scope=col>mean(open)</th></tr>\n",
              "\t<tr><th scope=col>&lt;chr&gt;</th><th scope=col>&lt;dbl&gt;</th></tr>\n",
              "</thead>\n",
              "<tbody>\n",
              "\t<tr><td>ctrl   </td><td>0.0000000</td></tr>\n",
              "\t<tr><td>email_A</td><td>0.7156942</td></tr>\n",
              "\t<tr><td>email_B</td><td>0.6569982</td></tr>\n",
              "</tbody>\n",
              "</table>\n"
            ],
            "text/markdown": "\nA tibble: 3 × 2\n\n| group &lt;chr&gt; | mean(open) &lt;dbl&gt; |\n|---|---|\n| ctrl    | 0.0000000 |\n| email_A | 0.7156942 |\n| email_B | 0.6569982 |\n\n",
            "text/latex": "A tibble: 3 × 2\n\\begin{tabular}{ll}\n group & mean(open)\\\\\n <chr> & <dbl>\\\\\n\\hline\n\t ctrl    & 0.0000000\\\\\n\t email\\_A & 0.7156942\\\\\n\t email\\_B & 0.6569982\\\\\n\\end{tabular}\n",
            "text/plain": [
              "  group   mean(open)\n",
              "1 ctrl    0.0000000 \n",
              "2 email_A 0.7156942 \n",
              "3 email_B 0.6569982 "
            ]
          },
          "metadata": {}
        }
      ]
    },
    {
      "cell_type": "code",
      "source": [
        "###limit data to only those emailed\n",
        "emailed <- emails[emails$group != 'ctrl',]\n",
        "head(emailed)"
      ],
      "metadata": {
        "id": "3c7lf5kODitV",
        "colab": {
          "base_uri": "https://localhost:8080/",
          "height": 286
        },
        "outputId": "5b23ffcf-b9b1-47f1-9cc0-228cbd2da18d"
      },
      "execution_count": 69,
      "outputs": [
        {
          "output_type": "display_data",
          "data": {
            "text/html": [
              "<table class=\"dataframe\">\n",
              "<caption>A tibble: 6 × 14</caption>\n",
              "<thead>\n",
              "\t<tr><th scope=col>user_id</th><th scope=col>cpgn_id</th><th scope=col>group</th><th scope=col>email</th><th scope=col>open</th><th scope=col>click</th><th scope=col>purch</th><th scope=col>chard</th><th scope=col>sav_blanc</th><th scope=col>syrah</th><th scope=col>cab</th><th scope=col>past_purch</th><th scope=col>days_since</th><th scope=col>visits</th></tr>\n",
              "\t<tr><th scope=col>&lt;dbl&gt;</th><th scope=col>&lt;chr&gt;</th><th scope=col>&lt;chr&gt;</th><th scope=col>&lt;lgl&gt;</th><th scope=col>&lt;dbl&gt;</th><th scope=col>&lt;dbl&gt;</th><th scope=col>&lt;dbl&gt;</th><th scope=col>&lt;dbl&gt;</th><th scope=col>&lt;dbl&gt;</th><th scope=col>&lt;dbl&gt;</th><th scope=col>&lt;dbl&gt;</th><th scope=col>&lt;dbl&gt;</th><th scope=col>&lt;dbl&gt;</th><th scope=col>&lt;dbl&gt;</th></tr>\n",
              "</thead>\n",
              "<tbody>\n",
              "\t<tr><td>1058220</td><td>1901Email</td><td>email_B</td><td>TRUE</td><td>0</td><td>0</td><td> 0.00</td><td>  0.00</td><td>0</td><td>  0.00</td><td>  0.00</td><td>  0.00</td><td>289</td><td>4</td></tr>\n",
              "\t<tr><td>1100384</td><td>1901Email</td><td>email_A</td><td>TRUE</td><td>0</td><td>0</td><td>88.00</td><td>  0.00</td><td>0</td><td>  0.00</td><td>  0.00</td><td>  0.00</td><td>187</td><td>4</td></tr>\n",
              "\t<tr><td>1065703</td><td>1901Email</td><td>email_A</td><td>TRUE</td><td>1</td><td>0</td><td>18.41</td><td>146.13</td><td>0</td><td>  0.00</td><td> 15.81</td><td>161.94</td><td> 76</td><td>6</td></tr>\n",
              "\t<tr><td>1097281</td><td>1901Email</td><td>email_A</td><td>TRUE</td><td>1</td><td>0</td><td> 0.00</td><td>  0.00</td><td>0</td><td> 24.48</td><td>102.39</td><td>126.87</td><td>103</td><td>6</td></tr>\n",
              "\t<tr><td>1010272</td><td>1901Email</td><td>email_A</td><td>TRUE</td><td>1</td><td>0</td><td> 0.00</td><td>112.08</td><td>0</td><td>  0.00</td><td>  0.00</td><td>112.08</td><td>219</td><td>5</td></tr>\n",
              "\t<tr><td>1098389</td><td>1901Email</td><td>email_A</td><td>TRUE</td><td>1</td><td>0</td><td> 0.00</td><td>  0.00</td><td>0</td><td>309.69</td><td>  0.00</td><td>309.69</td><td>204</td><td>7</td></tr>\n",
              "</tbody>\n",
              "</table>\n"
            ],
            "text/markdown": "\nA tibble: 6 × 14\n\n| user_id &lt;dbl&gt; | cpgn_id &lt;chr&gt; | group &lt;chr&gt; | email &lt;lgl&gt; | open &lt;dbl&gt; | click &lt;dbl&gt; | purch &lt;dbl&gt; | chard &lt;dbl&gt; | sav_blanc &lt;dbl&gt; | syrah &lt;dbl&gt; | cab &lt;dbl&gt; | past_purch &lt;dbl&gt; | days_since &lt;dbl&gt; | visits &lt;dbl&gt; |\n|---|---|---|---|---|---|---|---|---|---|---|---|---|---|\n| 1058220 | 1901Email | email_B | TRUE | 0 | 0 |  0.00 |   0.00 | 0 |   0.00 |   0.00 |   0.00 | 289 | 4 |\n| 1100384 | 1901Email | email_A | TRUE | 0 | 0 | 88.00 |   0.00 | 0 |   0.00 |   0.00 |   0.00 | 187 | 4 |\n| 1065703 | 1901Email | email_A | TRUE | 1 | 0 | 18.41 | 146.13 | 0 |   0.00 |  15.81 | 161.94 |  76 | 6 |\n| 1097281 | 1901Email | email_A | TRUE | 1 | 0 |  0.00 |   0.00 | 0 |  24.48 | 102.39 | 126.87 | 103 | 6 |\n| 1010272 | 1901Email | email_A | TRUE | 1 | 0 |  0.00 | 112.08 | 0 |   0.00 |   0.00 | 112.08 | 219 | 5 |\n| 1098389 | 1901Email | email_A | TRUE | 1 | 0 |  0.00 |   0.00 | 0 | 309.69 |   0.00 | 309.69 | 204 | 7 |\n\n",
            "text/latex": "A tibble: 6 × 14\n\\begin{tabular}{llllllllllllll}\n user\\_id & cpgn\\_id & group & email & open & click & purch & chard & sav\\_blanc & syrah & cab & past\\_purch & days\\_since & visits\\\\\n <dbl> & <chr> & <chr> & <lgl> & <dbl> & <dbl> & <dbl> & <dbl> & <dbl> & <dbl> & <dbl> & <dbl> & <dbl> & <dbl>\\\\\n\\hline\n\t 1058220 & 1901Email & email\\_B & TRUE & 0 & 0 &  0.00 &   0.00 & 0 &   0.00 &   0.00 &   0.00 & 289 & 4\\\\\n\t 1100384 & 1901Email & email\\_A & TRUE & 0 & 0 & 88.00 &   0.00 & 0 &   0.00 &   0.00 &   0.00 & 187 & 4\\\\\n\t 1065703 & 1901Email & email\\_A & TRUE & 1 & 0 & 18.41 & 146.13 & 0 &   0.00 &  15.81 & 161.94 &  76 & 6\\\\\n\t 1097281 & 1901Email & email\\_A & TRUE & 1 & 0 &  0.00 &   0.00 & 0 &  24.48 & 102.39 & 126.87 & 103 & 6\\\\\n\t 1010272 & 1901Email & email\\_A & TRUE & 1 & 0 &  0.00 & 112.08 & 0 &   0.00 &   0.00 & 112.08 & 219 & 5\\\\\n\t 1098389 & 1901Email & email\\_A & TRUE & 1 & 0 &  0.00 &   0.00 & 0 & 309.69 &   0.00 & 309.69 & 204 & 7\\\\\n\\end{tabular}\n",
            "text/plain": [
              "  user_id cpgn_id   group   email open click purch chard  sav_blanc syrah \n",
              "1 1058220 1901Email email_B TRUE  0    0      0.00   0.00 0           0.00\n",
              "2 1100384 1901Email email_A TRUE  0    0     88.00   0.00 0           0.00\n",
              "3 1065703 1901Email email_A TRUE  1    0     18.41 146.13 0           0.00\n",
              "4 1097281 1901Email email_A TRUE  1    0      0.00   0.00 0          24.48\n",
              "5 1010272 1901Email email_A TRUE  1    0      0.00 112.08 0           0.00\n",
              "6 1098389 1901Email email_A TRUE  1    0      0.00   0.00 0         309.69\n",
              "  cab    past_purch days_since visits\n",
              "1   0.00   0.00     289        4     \n",
              "2   0.00   0.00     187        4     \n",
              "3  15.81 161.94      76        6     \n",
              "4 102.39 126.87     103        6     \n",
              "5   0.00 112.08     219        5     \n",
              "6   0.00 309.69     204        7     "
            ]
          },
          "metadata": {}
        }
      ]
    },
    {
      "cell_type": "code",
      "source": [
        "#use xtabs to cross-tabulate email groups and open\n",
        "#data with successes as first column and failures as second\n",
        "ctab <- xtabs(~group + open, data = emailed)[,2:1]"
      ],
      "metadata": {
        "id": "c5meMeGfLUQA"
      },
      "execution_count": 70,
      "outputs": []
    },
    {
      "cell_type": "code",
      "source": [
        "#run test on proportions\n",
        "prop.test(ctab)"
      ],
      "metadata": {
        "id": "H0_gLVWmDATW",
        "colab": {
          "base_uri": "https://localhost:8080/",
          "height": 219
        },
        "outputId": "b0436624-6575-4bb1-904a-35ea863ded17"
      },
      "execution_count": 73,
      "outputs": [
        {
          "output_type": "display_data",
          "data": {
            "text/plain": [
              "\n",
              "\t2-sample test for equality of proportions with continuity correction\n",
              "\n",
              "data:  ctab\n",
              "X-squared = 40.121, df = 1, p-value = 2.388e-10\n",
              "alternative hypothesis: two.sided\n",
              "95 percent confidence interval:\n",
              " 0.04044830 0.07694353\n",
              "sample estimates:\n",
              "   prop 1    prop 2 \n",
              "0.7156942 0.6569982 \n"
            ]
          },
          "metadata": {}
        }
      ]
    },
    {
      "cell_type": "code",
      "source": [
        "#clicks by email\n",
        "\n",
        "ctab2 <- xtabs(~group + click, data = emailed)[,2:1]\n",
        "prop.test(ctab2)"
      ],
      "metadata": {
        "id": "aKbayMl5DAPt",
        "colab": {
          "base_uri": "https://localhost:8080/",
          "height": 219
        },
        "outputId": "4484c911-11b0-4473-9b57-9de073f3b8b3"
      },
      "execution_count": 76,
      "outputs": [
        {
          "output_type": "display_data",
          "data": {
            "text/plain": [
              "\n",
              "\t2-sample test for equality of proportions with continuity correction\n",
              "\n",
              "data:  ctab2\n",
              "X-squared = 25.821, df = 1, p-value = 3.746e-07\n",
              "alternative hypothesis: two.sided\n",
              "95 percent confidence interval:\n",
              " 0.01918430 0.04370478\n",
              "sample estimates:\n",
              "    prop 1     prop 2 \n",
              "0.12293763 0.09149309 \n"
            ]
          },
          "metadata": {}
        }
      ]
    },
    {
      "cell_type": "markdown",
      "source": [
        "What would your final recommendations based on this experiment be?"
      ],
      "metadata": {
        "id": "IBtnWPpWK968"
      }
    },
    {
      "cell_type": "markdown",
      "source": [
        "#### Differences in Means\n",
        "\n",
        "Rather than comparing a column of binary variables we may be interested in comparing continuous values in columns.  We can again look at numeric summaries using the `group_by` function and perform a hypothesis test using the `t.test` function."
      ],
      "metadata": {
        "id": "w4Mvbxd8oIUj"
      }
    },
    {
      "cell_type": "code",
      "source": [
        "#average purchase\n",
        "emailed %>% \n",
        "  group_by(group) %>%\n",
        "    summarise(mean(purch))"
      ],
      "metadata": {
        "id": "WNDdTDkSjedr",
        "colab": {
          "base_uri": "https://localhost:8080/",
          "height": 161
        },
        "outputId": "61d9f831-de82-4ac4-d6b8-eca6c8416c8c"
      },
      "execution_count": 78,
      "outputs": [
        {
          "output_type": "display_data",
          "data": {
            "text/html": [
              "<table class=\"dataframe\">\n",
              "<caption>A tibble: 2 × 2</caption>\n",
              "<thead>\n",
              "\t<tr><th scope=col>group</th><th scope=col>mean(purch)</th></tr>\n",
              "\t<tr><th scope=col>&lt;chr&gt;</th><th scope=col>&lt;dbl&gt;</th></tr>\n",
              "</thead>\n",
              "<tbody>\n",
              "\t<tr><td>email_A</td><td>25.23423</td></tr>\n",
              "\t<tr><td>email_B</td><td>26.48676</td></tr>\n",
              "</tbody>\n",
              "</table>\n"
            ],
            "text/markdown": "\nA tibble: 2 × 2\n\n| group &lt;chr&gt; | mean(purch) &lt;dbl&gt; |\n|---|---|\n| email_A | 25.23423 |\n| email_B | 26.48676 |\n\n",
            "text/latex": "A tibble: 2 × 2\n\\begin{tabular}{ll}\n group & mean(purch)\\\\\n <chr> & <dbl>\\\\\n\\hline\n\t email\\_A & 25.23423\\\\\n\t email\\_B & 26.48676\\\\\n\\end{tabular}\n",
            "text/plain": [
              "  group   mean(purch)\n",
              "1 email_A 25.23423   \n",
              "2 email_B 26.48676   "
            ]
          },
          "metadata": {}
        }
      ]
    },
    {
      "cell_type": "code",
      "source": [
        "#violin plot of log purchases\n",
        "ggplot(emailed, aes(x=group, y=purch, fill = group)) +\n",
        "  geom_violin() + \n",
        "  scale_y_log10()"
      ],
      "metadata": {
        "id": "ZwrBYG1Cjsn7",
        "colab": {
          "base_uri": "https://localhost:8080/",
          "height": 510
        },
        "outputId": "eac5fbab-328e-46f4-fb85-13b532f63e55"
      },
      "execution_count": 80,
      "outputs": [
        {
          "output_type": "stream",
          "name": "stderr",
          "text": [
            "Warning message:\n",
            "“\u001b[1m\u001b[22mTransformation introduced infinite values in continuous y-axis”\n",
            "Warning message:\n",
            "“\u001b[1m\u001b[22mRemoved 6353 rows containing non-finite values (`stat_ydensity()`).”\n"
          ]
        },
        {
          "output_type": "display_data",
          "data": {
            "text/plain": [
              "plot without title"
            ],
            "image/png": "[encoded data removed]"
          },
          "metadata": {
            "image/png": {
              "width": 420,
              "height": 420
            }
          }
        }
      ]
    },
    {
      "cell_type": "code",
      "source": [
        "#t.test\n",
        "t.test(purch ~ group, data = emailed)"
      ],
      "metadata": {
        "id": "AwPRWFYu5mD7",
        "colab": {
          "base_uri": "https://localhost:8080/",
          "height": 219
        },
        "outputId": "5b9b14e2-95b6-42eb-df1f-4795050b87b8"
      },
      "execution_count": 82,
      "outputs": [
        {
          "output_type": "display_data",
          "data": {
            "text/plain": [
              "\n",
              "\tWelch Two Sample t-test\n",
              "\n",
              "data:  purch by group\n",
              "t = -1.0652, df = 10092, p-value = 0.2868\n",
              "alternative hypothesis: true difference in means between group email_A and group email_B is not equal to 0\n",
              "95 percent confidence interval:\n",
              " -3.557345  1.052290\n",
              "sample estimates:\n",
              "mean in group email_A mean in group email_B \n",
              "             25.23423              26.48676 \n"
            ]
          },
          "metadata": {}
        }
      ]
    },
    {
      "cell_type": "markdown",
      "source": [
        "**PROBLEM**: Reading protocol"
      ],
      "metadata": {
        "id": "10wHF2wA6v5v"
      }
    },
    {
      "cell_type": "code",
      "source": [
        "#read in and inspect\n",
        "reading <- read_csv('reading_protocol.csv')\n",
        "head(reading)"
      ],
      "metadata": {
        "id": "VtnShdgJw1Ge",
        "colab": {
          "base_uri": "https://localhost:8080/",
          "height": 433
        },
        "outputId": "d6c5b2b4-3f94-4ab7-83ba-eb04bb8f6acc"
      },
      "execution_count": 84,
      "outputs": [
        {
          "output_type": "stream",
          "name": "stderr",
          "text": [
            "\u001b[1mRows: \u001b[22m\u001b[34m44\u001b[39m \u001b[1mColumns: \u001b[22m\u001b[34m4\u001b[39m\n",
            "\u001b[36m──\u001b[39m \u001b[1mColumn specification\u001b[22m \u001b[36m────────────────────────────────────────────────────────\u001b[39m\n",
            "\u001b[1mDelimiter:\u001b[22m \",\"\n",
            "\u001b[31mchr\u001b[39m (1): group\n",
            "\u001b[32mdbl\u001b[39m (3): id, g, drp\n",
            "\n",
            "\u001b[36mℹ\u001b[39m Use `spec()` to retrieve the full column specification for this data.\n",
            "\u001b[36mℹ\u001b[39m Specify the column types or set `show_col_types = FALSE` to quiet this message.\n"
          ]
        },
        {
          "output_type": "display_data",
          "data": {
            "text/html": [
              "<table class=\"dataframe\">\n",
              "<caption>A tibble: 6 × 4</caption>\n",
              "<thead>\n",
              "\t<tr><th scope=col>id</th><th scope=col>group</th><th scope=col>g</th><th scope=col>drp</th></tr>\n",
              "\t<tr><th scope=col>&lt;dbl&gt;</th><th scope=col>&lt;chr&gt;</th><th scope=col>&lt;dbl&gt;</th><th scope=col>&lt;dbl&gt;</th></tr>\n",
              "</thead>\n",
              "<tbody>\n",
              "\t<tr><td>1</td><td>Treat</td><td>0</td><td>24</td></tr>\n",
              "\t<tr><td>2</td><td>Treat</td><td>0</td><td>56</td></tr>\n",
              "\t<tr><td>3</td><td>Treat</td><td>0</td><td>43</td></tr>\n",
              "\t<tr><td>4</td><td>Treat</td><td>0</td><td>59</td></tr>\n",
              "\t<tr><td>5</td><td>Treat</td><td>0</td><td>58</td></tr>\n",
              "\t<tr><td>6</td><td>Treat</td><td>0</td><td>52</td></tr>\n",
              "</tbody>\n",
              "</table>\n"
            ],
            "text/markdown": "\nA tibble: 6 × 4\n\n| id &lt;dbl&gt; | group &lt;chr&gt; | g &lt;dbl&gt; | drp &lt;dbl&gt; |\n|---|---|---|---|\n| 1 | Treat | 0 | 24 |\n| 2 | Treat | 0 | 56 |\n| 3 | Treat | 0 | 43 |\n| 4 | Treat | 0 | 59 |\n| 5 | Treat | 0 | 58 |\n| 6 | Treat | 0 | 52 |\n\n",
            "text/latex": "A tibble: 6 × 4\n\\begin{tabular}{llll}\n id & group & g & drp\\\\\n <dbl> & <chr> & <dbl> & <dbl>\\\\\n\\hline\n\t 1 & Treat & 0 & 24\\\\\n\t 2 & Treat & 0 & 56\\\\\n\t 3 & Treat & 0 & 43\\\\\n\t 4 & Treat & 0 & 59\\\\\n\t 5 & Treat & 0 & 58\\\\\n\t 6 & Treat & 0 & 52\\\\\n\\end{tabular}\n",
            "text/plain": [
              "  id group g drp\n",
              "1 1  Treat 0 24 \n",
              "2 2  Treat 0 56 \n",
              "3 3  Treat 0 43 \n",
              "4 4  Treat 0 59 \n",
              "5 5  Treat 0 58 \n",
              "6 6  Treat 0 52 "
            ]
          },
          "metadata": {}
        }
      ]
    },
    {
      "cell_type": "code",
      "source": [
        "#group summaries\n",
        "reading %>% \n",
        "  group_by(group) %>%\n",
        "    summarise(mean(drp))"
      ],
      "metadata": {
        "id": "vu8u9hFFw1CT",
        "colab": {
          "base_uri": "https://localhost:8080/",
          "height": 161
        },
        "outputId": "fc5786f7-2022-4821-9ebf-29c04e429c2c"
      },
      "execution_count": 86,
      "outputs": [
        {
          "output_type": "display_data",
          "data": {
            "text/html": [
              "<table class=\"dataframe\">\n",
              "<caption>A tibble: 2 × 2</caption>\n",
              "<thead>\n",
              "\t<tr><th scope=col>group</th><th scope=col>mean(drp)</th></tr>\n",
              "\t<tr><th scope=col>&lt;chr&gt;</th><th scope=col>&lt;dbl&gt;</th></tr>\n",
              "</thead>\n",
              "<tbody>\n",
              "\t<tr><td>Control</td><td>41.52174</td></tr>\n",
              "\t<tr><td>Treat  </td><td>51.47619</td></tr>\n",
              "</tbody>\n",
              "</table>\n"
            ],
            "text/markdown": "\nA tibble: 2 × 2\n\n| group &lt;chr&gt; | mean(drp) &lt;dbl&gt; |\n|---|---|\n| Control | 41.52174 |\n| Treat   | 51.47619 |\n\n",
            "text/latex": "A tibble: 2 × 2\n\\begin{tabular}{ll}\n group & mean(drp)\\\\\n <chr> & <dbl>\\\\\n\\hline\n\t Control & 41.52174\\\\\n\t Treat   & 51.47619\\\\\n\\end{tabular}\n",
            "text/plain": [
              "  group   mean(drp)\n",
              "1 Control 41.52174 \n",
              "2 Treat   51.47619 "
            ]
          },
          "metadata": {}
        }
      ]
    },
    {
      "cell_type": "code",
      "source": [
        "#t.test\n",
        "t.test(drp ~ group, data = reading)"
      ],
      "metadata": {
        "id": "irVgdEFcw0_L",
        "colab": {
          "base_uri": "https://localhost:8080/",
          "height": 237
        },
        "outputId": "0979c8a7-19d7-4a9e-c460-0c0a0bb1a12f"
      },
      "execution_count": 87,
      "outputs": [
        {
          "output_type": "display_data",
          "data": {
            "text/plain": [
              "\n",
              "\tWelch Two Sample t-test\n",
              "\n",
              "data:  drp by group\n",
              "t = -2.3109, df = 37.855, p-value = 0.02638\n",
              "alternative hypothesis: true difference in means between group Control and group Treat is not equal to 0\n",
              "95 percent confidence interval:\n",
              " -18.67588  -1.23302\n",
              "sample estimates:\n",
              "mean in group Control   mean in group Treat \n",
              "             41.52174              51.47619 \n"
            ]
          },
          "metadata": {}
        }
      ]
    },
    {
      "cell_type": "markdown",
      "source": [
        "#### Subscription Dataset"
      ],
      "metadata": {
        "id": "LZi6gZJRyO83"
      }
    },
    {
      "cell_type": "code",
      "source": [
        "#subscriber data\n",
        "head(subscriber)"
      ],
      "metadata": {
        "id": "dlI2lXs83Ke0",
        "colab": {
          "base_uri": "https://localhost:8080/",
          "height": 286
        },
        "outputId": "56c7d6d9-f056-4b05-f965-16136f17ae48"
      },
      "execution_count": 88,
      "outputs": [
        {
          "output_type": "display_data",
          "data": {
            "text/html": [
              "<table class=\"dataframe\">\n",
              "<caption>A tibble: 6 × 7</caption>\n",
              "<thead>\n",
              "\t<tr><th scope=col>age</th><th scope=col>gender</th><th scope=col>income</th><th scope=col>kids</th><th scope=col>ownHome</th><th scope=col>subscribe</th><th scope=col>Segment</th></tr>\n",
              "\t<tr><th scope=col>&lt;dbl&gt;</th><th scope=col>&lt;chr&gt;</th><th scope=col>&lt;dbl&gt;</th><th scope=col>&lt;dbl&gt;</th><th scope=col>&lt;chr&gt;</th><th scope=col>&lt;chr&gt;</th><th scope=col>&lt;chr&gt;</th></tr>\n",
              "</thead>\n",
              "<tbody>\n",
              "\t<tr><td>47.31613</td><td>Male  </td><td>49482.81</td><td>2</td><td>ownNo </td><td>subNo</td><td>Suburb mix</td></tr>\n",
              "\t<tr><td>31.38684</td><td>Male  </td><td>35546.29</td><td>1</td><td>ownYes</td><td>subNo</td><td>Suburb mix</td></tr>\n",
              "\t<tr><td>43.20034</td><td>Male  </td><td>44169.19</td><td>0</td><td>ownYes</td><td>subNo</td><td>Suburb mix</td></tr>\n",
              "\t<tr><td>37.31700</td><td>Female</td><td>81041.99</td><td>1</td><td>ownNo </td><td>subNo</td><td>Suburb mix</td></tr>\n",
              "\t<tr><td>40.95439</td><td>Female</td><td>79353.01</td><td>3</td><td>ownYes</td><td>subNo</td><td>Suburb mix</td></tr>\n",
              "\t<tr><td>43.03387</td><td>Male  </td><td>58143.36</td><td>4</td><td>ownYes</td><td>subNo</td><td>Suburb mix</td></tr>\n",
              "</tbody>\n",
              "</table>\n"
            ],
            "text/markdown": "\nA tibble: 6 × 7\n\n| age &lt;dbl&gt; | gender &lt;chr&gt; | income &lt;dbl&gt; | kids &lt;dbl&gt; | ownHome &lt;chr&gt; | subscribe &lt;chr&gt; | Segment &lt;chr&gt; |\n|---|---|---|---|---|---|---|\n| 47.31613 | Male   | 49482.81 | 2 | ownNo  | subNo | Suburb mix |\n| 31.38684 | Male   | 35546.29 | 1 | ownYes | subNo | Suburb mix |\n| 43.20034 | Male   | 44169.19 | 0 | ownYes | subNo | Suburb mix |\n| 37.31700 | Female | 81041.99 | 1 | ownNo  | subNo | Suburb mix |\n| 40.95439 | Female | 79353.01 | 3 | ownYes | subNo | Suburb mix |\n| 43.03387 | Male   | 58143.36 | 4 | ownYes | subNo | Suburb mix |\n\n",
            "text/latex": "A tibble: 6 × 7\n\\begin{tabular}{lllllll}\n age & gender & income & kids & ownHome & subscribe & Segment\\\\\n <dbl> & <chr> & <dbl> & <dbl> & <chr> & <chr> & <chr>\\\\\n\\hline\n\t 47.31613 & Male   & 49482.81 & 2 & ownNo  & subNo & Suburb mix\\\\\n\t 31.38684 & Male   & 35546.29 & 1 & ownYes & subNo & Suburb mix\\\\\n\t 43.20034 & Male   & 44169.19 & 0 & ownYes & subNo & Suburb mix\\\\\n\t 37.31700 & Female & 81041.99 & 1 & ownNo  & subNo & Suburb mix\\\\\n\t 40.95439 & Female & 79353.01 & 3 & ownYes & subNo & Suburb mix\\\\\n\t 43.03387 & Male   & 58143.36 & 4 & ownYes & subNo & Suburb mix\\\\\n\\end{tabular}\n",
            "text/plain": [
              "  age      gender income   kids ownHome subscribe Segment   \n",
              "1 47.31613 Male   49482.81 2    ownNo   subNo     Suburb mix\n",
              "2 31.38684 Male   35546.29 1    ownYes  subNo     Suburb mix\n",
              "3 43.20034 Male   44169.19 0    ownYes  subNo     Suburb mix\n",
              "4 37.31700 Female 81041.99 1    ownNo   subNo     Suburb mix\n",
              "5 40.95439 Female 79353.01 3    ownYes  subNo     Suburb mix\n",
              "6 43.03387 Male   58143.36 4    ownYes  subNo     Suburb mix"
            ]
          },
          "metadata": {}
        }
      ]
    },
    {
      "cell_type": "code",
      "source": [
        "#group summaries\n",
        "subscriber %>%\n",
        "  group_by(ownHome) %>%\n",
        "  summarise(mean(income))"
      ],
      "metadata": {
        "id": "zAdpg_3OyhHt",
        "colab": {
          "base_uri": "https://localhost:8080/",
          "height": 161
        },
        "outputId": "617caaee-ac75-45b4-e3c7-f903d4f5c497"
      },
      "execution_count": 90,
      "outputs": [
        {
          "output_type": "display_data",
          "data": {
            "text/html": [
              "<table class=\"dataframe\">\n",
              "<caption>A tibble: 2 × 2</caption>\n",
              "<thead>\n",
              "\t<tr><th scope=col>ownHome</th><th scope=col>mean(income)</th></tr>\n",
              "\t<tr><th scope=col>&lt;chr&gt;</th><th scope=col>&lt;dbl&gt;</th></tr>\n",
              "</thead>\n",
              "<tbody>\n",
              "\t<tr><td>ownNo </td><td>47391.01</td></tr>\n",
              "\t<tr><td>ownYes</td><td>54934.68</td></tr>\n",
              "</tbody>\n",
              "</table>\n"
            ],
            "text/markdown": "\nA tibble: 2 × 2\n\n| ownHome &lt;chr&gt; | mean(income) &lt;dbl&gt; |\n|---|---|\n| ownNo  | 47391.01 |\n| ownYes | 54934.68 |\n\n",
            "text/latex": "A tibble: 2 × 2\n\\begin{tabular}{ll}\n ownHome & mean(income)\\\\\n <chr> & <dbl>\\\\\n\\hline\n\t ownNo  & 47391.01\\\\\n\t ownYes & 54934.68\\\\\n\\end{tabular}\n",
            "text/plain": [
              "  ownHome mean(income)\n",
              "1 ownNo   47391.01    \n",
              "2 ownYes  54934.68    "
            ]
          },
          "metadata": {}
        }
      ]
    },
    {
      "cell_type": "code",
      "source": [
        "#visualizations\n",
        "ggplot(subscriber, aes(x=income, fill = ownHome)) + geom_histogram()"
      ],
      "metadata": {
        "id": "qrL2QRD28LU5",
        "colab": {
          "base_uri": "https://localhost:8080/",
          "height": 455
        },
        "outputId": "5d17461d-e56d-4414-b758-13cfce08d8ee"
      },
      "execution_count": 92,
      "outputs": [
        {
          "output_type": "stream",
          "name": "stderr",
          "text": [
            "\u001b[1m\u001b[22m`stat_bin()` using `bins = 30`. Pick better value with `binwidth`.\n"
          ]
        },
        {
          "output_type": "display_data",
          "data": {
            "text/plain": [
              "plot without title"
            ],
            "image/png": "[encoded data removed]"
          },
          "metadata": {
            "image/png": {
              "width": 420,
              "height": 420
            }
          }
        }
      ]
    },
    {
      "cell_type": "code",
      "source": [
        "#hypothesis tests\n",
        "t.test(income ~ ownHome, data = subscriber)"
      ],
      "metadata": {
        "id": "tAZ4mYHZ37Xz",
        "colab": {
          "base_uri": "https://localhost:8080/",
          "height": 237
        },
        "outputId": "65a4f274-5f3a-4f2e-d01b-dbe32f954f97"
      },
      "execution_count": 93,
      "outputs": [
        {
          "output_type": "display_data",
          "data": {
            "text/plain": [
              "\n",
              "\tWelch Two Sample t-test\n",
              "\n",
              "data:  income by ownHome\n",
              "t = -3.2731, df = 285.25, p-value = 0.001195\n",
              "alternative hypothesis: true difference in means between group ownNo and group ownYes is not equal to 0\n",
              "95 percent confidence interval:\n",
              " -12080.155  -3007.193\n",
              "sample estimates:\n",
              " mean in group ownNo mean in group ownYes \n",
              "            47391.01             54934.68 \n"
            ]
          },
          "metadata": {}
        }
      ]
    },
    {
      "cell_type": "markdown",
      "source": [
        "#### Logistic Model\n",
        "\n",
        "Using other information to predict proportions aka binomial target.  Below, we create a logistic model to predict whether a customer will open the email.\n",
        "\n",
        "The null hypothesis here is that past purchases do not effect whether someone opens the email."
      ],
      "metadata": {
        "id": "xaqcWdI92pd9"
      }
    },
    {
      "cell_type": "code",
      "source": [
        "head(beaver1)"
      ],
      "metadata": {
        "id": "-VSROAqTCf6X",
        "colab": {
          "base_uri": "https://localhost:8080/",
          "height": 286
        },
        "outputId": "b78fefb7-e6de-447c-fab2-e886f267272c"
      },
      "execution_count": 94,
      "outputs": [
        {
          "output_type": "display_data",
          "data": {
            "text/html": [
              "<table class=\"dataframe\">\n",
              "<caption>A data.frame: 6 × 4</caption>\n",
              "<thead>\n",
              "\t<tr><th></th><th scope=col>day</th><th scope=col>time</th><th scope=col>temp</th><th scope=col>activ</th></tr>\n",
              "\t<tr><th></th><th scope=col>&lt;dbl&gt;</th><th scope=col>&lt;dbl&gt;</th><th scope=col>&lt;dbl&gt;</th><th scope=col>&lt;dbl&gt;</th></tr>\n",
              "</thead>\n",
              "<tbody>\n",
              "\t<tr><th scope=row>1</th><td>346</td><td>840</td><td>36.33</td><td>0</td></tr>\n",
              "\t<tr><th scope=row>2</th><td>346</td><td>850</td><td>36.34</td><td>0</td></tr>\n",
              "\t<tr><th scope=row>3</th><td>346</td><td>900</td><td>36.35</td><td>0</td></tr>\n",
              "\t<tr><th scope=row>4</th><td>346</td><td>910</td><td>36.42</td><td>0</td></tr>\n",
              "\t<tr><th scope=row>5</th><td>346</td><td>920</td><td>36.55</td><td>0</td></tr>\n",
              "\t<tr><th scope=row>6</th><td>346</td><td>930</td><td>36.69</td><td>0</td></tr>\n",
              "</tbody>\n",
              "</table>\n"
            ],
            "text/markdown": "\nA data.frame: 6 × 4\n\n| <!--/--> | day &lt;dbl&gt; | time &lt;dbl&gt; | temp &lt;dbl&gt; | activ &lt;dbl&gt; |\n|---|---|---|---|---|\n| 1 | 346 | 840 | 36.33 | 0 |\n| 2 | 346 | 850 | 36.34 | 0 |\n| 3 | 346 | 900 | 36.35 | 0 |\n| 4 | 346 | 910 | 36.42 | 0 |\n| 5 | 346 | 920 | 36.55 | 0 |\n| 6 | 346 | 930 | 36.69 | 0 |\n\n",
            "text/latex": "A data.frame: 6 × 4\n\\begin{tabular}{r|llll}\n  & day & time & temp & activ\\\\\n  & <dbl> & <dbl> & <dbl> & <dbl>\\\\\n\\hline\n\t1 & 346 & 840 & 36.33 & 0\\\\\n\t2 & 346 & 850 & 36.34 & 0\\\\\n\t3 & 346 & 900 & 36.35 & 0\\\\\n\t4 & 346 & 910 & 36.42 & 0\\\\\n\t5 & 346 & 920 & 36.55 & 0\\\\\n\t6 & 346 & 930 & 36.69 & 0\\\\\n\\end{tabular}\n",
            "text/plain": [
              "  day time temp  activ\n",
              "1 346 840  36.33 0    \n",
              "2 346 850  36.34 0    \n",
              "3 346 900  36.35 0    \n",
              "4 346 910  36.42 0    \n",
              "5 346 920  36.55 0    \n",
              "6 346 930  36.69 0    "
            ]
          },
          "metadata": {}
        }
      ]
    },
    {
      "cell_type": "code",
      "source": [
        "#plot temperature vs. activity\n"
      ],
      "metadata": {
        "id": "xlrkVU1pBpjw"
      },
      "execution_count": null,
      "outputs": []
    },
    {
      "cell_type": "code",
      "source": [
        "#build logistic model\n"
      ],
      "metadata": {
        "id": "rG7VXu0LDcee"
      },
      "execution_count": null,
      "outputs": []
    },
    {
      "cell_type": "code",
      "source": [
        "#summary\n"
      ],
      "metadata": {
        "id": "9XfssagfEmxg"
      },
      "execution_count": null,
      "outputs": []
    },
    {
      "cell_type": "code",
      "source": [
        "#confint\n"
      ],
      "metadata": {
        "id": "UJ2Dsy8lDJbX"
      },
      "execution_count": null,
      "outputs": []
    },
    {
      "cell_type": "markdown",
      "source": [
        "#### Linear Regression\n",
        "\n",
        "Now, the object predicted is continuous in nature -- similar to the example of a single observable variable and the difference in means.  We assume there is no relationship, test the significance of age on income."
      ],
      "metadata": {
        "id": "QN2OXcfXIwlR"
      }
    },
    {
      "cell_type": "code",
      "source": [
        "#age vs income\n"
      ],
      "metadata": {
        "id": "MsDA7gQT7WJg"
      },
      "execution_count": null,
      "outputs": []
    },
    {
      "cell_type": "code",
      "source": [
        "#regression model\n"
      ],
      "metadata": {
        "id": "LYjTS7hU7WGp"
      },
      "execution_count": null,
      "outputs": []
    },
    {
      "cell_type": "code",
      "source": [
        "#summarise\n"
      ],
      "metadata": {
        "id": "Zgy1gfGU7WDy"
      },
      "execution_count": null,
      "outputs": []
    },
    {
      "cell_type": "code",
      "source": [
        "#confidence interval\n"
      ],
      "metadata": {
        "id": "RvSM3ZMD7WA6"
      },
      "execution_count": null,
      "outputs": []
    },
    {
      "cell_type": "markdown",
      "source": [
        "We interpret this confidence interval in a similar way -- we would expect a one year increase in age to effect income by somewhere in the 657.22 to 967.45 range.  This range does not include 0 -- but also helps to understand what values are possible rather than a single point value like the coefficient."
      ],
      "metadata": {
        "id": "YGw32-sAMx75"
      }
    },
    {
      "cell_type": "code",
      "source": [],
      "metadata": {
        "id": "X73w5AMY8HpM"
      },
      "execution_count": null,
      "outputs": []
    },
    {
      "cell_type": "code",
      "source": [],
      "metadata": {
        "id": "flr19Pn28HJL"
      },
      "execution_count": null,
      "outputs": []
    },
    {
      "cell_type": "code",
      "source": [],
      "metadata": {
        "id": "Tq5HzTjN8HGC"
      },
      "execution_count": null,
      "outputs": []
    },
    {
      "cell_type": "code",
      "source": [],
      "metadata": {
        "id": "YKsj2kAF8HCJ"
      },
      "execution_count": null,
      "outputs": []
    },
    {
      "cell_type": "code",
      "source": [],
      "metadata": {
        "id": "-HKBRrlw8G-w"
      },
      "execution_count": null,
      "outputs": []
    },
    {
      "cell_type": "code",
      "source": [],
      "metadata": {
        "id": "eIE1wiVM8G7n"
      },
      "execution_count": null,
      "outputs": []
    },
    {
      "cell_type": "code",
      "source": [],
      "metadata": {
        "id": "mMIU4jTV8G39"
      },
      "execution_count": null,
      "outputs": []
    },
    {
      "cell_type": "code",
      "source": [],
      "metadata": {
        "id": "G8HwOOHj8GoF"
      },
      "execution_count": null,
      "outputs": []
    }
  ]
}