{
  "nbformat": 4,
  "nbformat_minor": 0,
  "metadata": {
    "colab": {
      "provenance": [],
      "include_colab_link": true
    },
    "kernelspec": {
      "name": "ir",
      "display_name": "R"
    },
    "language_info": {
      "name": "R"
    }
  },
  "cells": [
    {
      "cell_type": "markdown",
      "metadata": {
        "id": "view-in-github",
        "colab_type": "text"
      },
      "source": [
        "<a href=\"https://colab.research.google.com/github/iPrinka/MITx-Micromasters-Statistics-Data-Science/blob/main/dass_mod7_oneleague.ipynb\" target=\"_parent\"><img src=\"https://colab.research.google.com/assets/colab-badge.svg\" alt=\"Open In Colab\"/></a>"
      ]
    },
    {
      "cell_type": "markdown",
      "source": [
        "#### Bias/Variance Tradeoff\n",
        "\n"
      ],
      "metadata": {
        "id": "xFzR0_29bjER"
      }
    },
    {
      "cell_type": "code",
      "source": [
        "library(tidyverse)"
      ],
      "metadata": {
        "colab": {
          "base_uri": "https://localhost:8080/"
        },
        "id": "j4uqyKGMcKE_",
        "outputId": "a0a6a0fd-43d7-4116-8194-9194ab3b0660"
      },
      "execution_count": 1,
      "outputs": [
        {
          "output_type": "stream",
          "name": "stderr",
          "text": [
            "── \u001b[1mAttaching packages\u001b[22m ─────────────────────────────────────── tidyverse 1.3.1 ──\n",
            "\n",
            "\u001b[32m✔\u001b[39m \u001b[34mggplot2\u001b[39m 3.4.2     \u001b[32m✔\u001b[39m \u001b[34mpurrr  \u001b[39m 1.0.1\n",
            "\u001b[32m✔\u001b[39m \u001b[34mtibble \u001b[39m 3.2.1     \u001b[32m✔\u001b[39m \u001b[34mdplyr  \u001b[39m 1.1.2\n",
            "\u001b[32m✔\u001b[39m \u001b[34mtidyr  \u001b[39m 1.3.0     \u001b[32m✔\u001b[39m \u001b[34mstringr\u001b[39m 1.5.0\n",
            "\u001b[32m✔\u001b[39m \u001b[34mreadr  \u001b[39m 2.1.4     \u001b[32m✔\u001b[39m \u001b[34mforcats\u001b[39m 1.0.0\n",
            "\n",
            "── \u001b[1mConflicts\u001b[22m ────────────────────────────────────────── tidyverse_conflicts() ──\n",
            "\u001b[31m✖\u001b[39m \u001b[34mdplyr\u001b[39m::\u001b[32mfilter()\u001b[39m masks \u001b[34mstats\u001b[39m::filter()\n",
            "\u001b[31m✖\u001b[39m \u001b[34mdplyr\u001b[39m::\u001b[32mlag()\u001b[39m    masks \u001b[34mstats\u001b[39m::lag()\n",
            "\n"
          ]
        }
      ]
    },
    {
      "cell_type": "code",
      "source": [
        "#make synthetic regression data\n",
        "x <- c(1:100)/10\n",
        "y <- 3*x^2 - 2*x + 4 + rnorm(100, sd = 10)   # rnorm for noise"
      ],
      "metadata": {
        "id": "cGtTjHgRcLKn"
      },
      "execution_count": 20,
      "outputs": []
    },
    {
      "cell_type": "code",
      "source": [
        "#plot it\n",
        "plot(x,y)"
      ],
      "metadata": {
        "id": "OgrQP69EcOrE",
        "colab": {
          "base_uri": "https://localhost:8080/",
          "height": 437
        },
        "outputId": "12bc911a-5599-4428-d0ef-4fab46223f34"
      },
      "execution_count": 21,
      "outputs": [
        {
          "output_type": "display_data",
          "data": {
            "text/plain": [
              "plot without title"
            ],
            "image/png": "[encoded data removed]"
          },
          "metadata": {
            "image/png": {
              "width": 420,
              "height": 420
            }
          }
        }
      ]
    },
    {
      "cell_type": "code",
      "source": [
        "#build regression model\n",
        "model1 <- lm(y~x)\n",
        "summary(model1)"
      ],
      "metadata": {
        "id": "qeohLhS2cPs1",
        "colab": {
          "base_uri": "https://localhost:8080/",
          "height": 347
        },
        "outputId": "4289fd80-86d3-4da0-8e32-efe8280d9645"
      },
      "execution_count": 22,
      "outputs": [
        {
          "output_type": "display_data",
          "data": {
            "text/plain": [
              "\n",
              "Call:\n",
              "lm(formula = y ~ x)\n",
              "\n",
              "Residuals:\n",
              "   Min     1Q Median     3Q    Max \n",
              "-48.35 -18.25  -3.80  15.79  60.56 \n",
              "\n",
              "Coefficients:\n",
              "            Estimate Std. Error t value Pr(>|t|)    \n",
              "(Intercept) -48.0871     4.9976  -9.622 8.01e-16 ***\n",
              "x            28.5558     0.8592  33.236  < 2e-16 ***\n",
              "---\n",
              "Signif. codes:  0 ‘***’ 0.001 ‘**’ 0.01 ‘*’ 0.05 ‘.’ 0.1 ‘ ’ 1\n",
              "\n",
              "Residual standard error: 24.8 on 98 degrees of freedom\n",
              "Multiple R-squared:  0.9185,\tAdjusted R-squared:  0.9177 \n",
              "F-statistic:  1105 on 1 and 98 DF,  p-value: < 2.2e-16\n"
            ]
          },
          "metadata": {}
        }
      ]
    },
    {
      "cell_type": "code",
      "source": [
        "yhat <- predict(model1, newdata=data.frame(x))\n",
        "yhat"
      ],
      "metadata": {
        "colab": {
          "base_uri": "https://localhost:8080/",
          "height": 225
        },
        "id": "aToi05emiNM1",
        "outputId": "905807c4-90f2-4893-c20c-1c12e7ebbf79"
      },
      "execution_count": 23,
      "outputs": [
        {
          "output_type": "display_data",
          "data": {
            "text/html": [
              "<style>\n",
              ".dl-inline {width: auto; margin:0; padding: 0}\n",
              ".dl-inline>dt, .dl-inline>dd {float: none; width: auto; display: inline-block}\n",
              ".dl-inline>dt::after {content: \":\\0020\"; padding-right: .5ex}\n",
              ".dl-inline>dt:not(:first-of-type) {padding-left: .5ex}\n",
              "</style><dl class=dl-inline><dt>1</dt><dd>-45.2314981297084</dd><dt>2</dt><dd>-42.3759183723779</dd><dt>3</dt><dd>-39.5203386150473</dd><dt>4</dt><dd>-36.6647588577167</dd><dt>5</dt><dd>-33.8091791003861</dd><dt>6</dt><dd>-30.9535993430555</dd><dt>7</dt><dd>-28.0980195857249</dd><dt>8</dt><dd>-25.2424398283943</dd><dt>9</dt><dd>-22.3868600710637</dd><dt>10</dt><dd>-19.5312803137332</dd><dt>11</dt><dd>-16.6757005564026</dd><dt>12</dt><dd>-13.820120799072</dd><dt>13</dt><dd>-10.9645410417414</dd><dt>14</dt><dd>-8.10896128441081</dd><dt>15</dt><dd>-5.25338152708022</dd><dt>16</dt><dd>-2.39780176974963</dd><dt>17</dt><dd>0.457777987580954</dd><dt>18</dt><dd>3.31335774491154</dd><dt>19</dt><dd>6.16893750224213</dd><dt>20</dt><dd>9.02451725957272</dd><dt>21</dt><dd>11.8800970169033</dd><dt>22</dt><dd>14.7356767742339</dd><dt>23</dt><dd>17.5912565315645</dd><dt>24</dt><dd>20.4468362888951</dd><dt>25</dt><dd>23.3024160462257</dd><dt>26</dt><dd>26.1579958035563</dd><dt>27</dt><dd>29.0135755608868</dd><dt>28</dt><dd>31.8691553182174</dd><dt>29</dt><dd>34.724735075548</dd><dt>30</dt><dd>37.5803148328786</dd><dt>31</dt><dd>40.4358945902092</dd><dt>32</dt><dd>43.2914743475398</dd><dt>33</dt><dd>46.1470541048704</dd><dt>34</dt><dd>49.0026338622009</dd><dt>35</dt><dd>51.8582136195315</dd><dt>36</dt><dd>54.7137933768621</dd><dt>37</dt><dd>57.5693731341927</dd><dt>38</dt><dd>60.4249528915233</dd><dt>39</dt><dd>63.2805326488539</dd><dt>40</dt><dd>66.1361124061845</dd><dt>41</dt><dd>68.991692163515</dd><dt>42</dt><dd>71.8472719208457</dd><dt>43</dt><dd>74.7028516781762</dd><dt>44</dt><dd>77.5584314355068</dd><dt>45</dt><dd>80.4140111928374</dd><dt>46</dt><dd>83.269590950168</dd><dt>47</dt><dd>86.1251707074986</dd><dt>48</dt><dd>88.9807504648292</dd><dt>49</dt><dd>91.8363302221598</dd><dt>50</dt><dd>94.6919099794903</dd><dt>51</dt><dd>97.5474897368209</dd><dt>52</dt><dd>100.403069494152</dd><dt>53</dt><dd>103.258649251482</dd><dt>54</dt><dd>106.114229008813</dd><dt>55</dt><dd>108.969808766143</dd><dt>56</dt><dd>111.825388523474</dd><dt>57</dt><dd>114.680968280804</dd><dt>58</dt><dd>117.536548038135</dd><dt>59</dt><dd>120.392127795466</dd><dt>60</dt><dd>123.247707552796</dd><dt>61</dt><dd>126.103287310127</dd><dt>62</dt><dd>128.958867067457</dd><dt>63</dt><dd>131.814446824788</dd><dt>64</dt><dd>134.670026582119</dd><dt>65</dt><dd>137.525606339449</dd><dt>66</dt><dd>140.38118609678</dd><dt>67</dt><dd>143.23676585411</dd><dt>68</dt><dd>146.092345611441</dd><dt>69</dt><dd>148.947925368772</dd><dt>70</dt><dd>151.803505126102</dd><dt>71</dt><dd>154.659084883433</dd><dt>72</dt><dd>157.514664640763</dd><dt>73</dt><dd>160.370244398094</dd><dt>74</dt><dd>163.225824155424</dd><dt>75</dt><dd>166.081403912755</dd><dt>76</dt><dd>168.936983670086</dd><dt>77</dt><dd>171.792563427416</dd><dt>78</dt><dd>174.648143184747</dd><dt>79</dt><dd>177.503722942077</dd><dt>80</dt><dd>180.359302699408</dd><dt>81</dt><dd>183.214882456739</dd><dt>82</dt><dd>186.070462214069</dd><dt>83</dt><dd>188.9260419714</dd><dt>84</dt><dd>191.78162172873</dd><dt>85</dt><dd>194.637201486061</dd><dt>86</dt><dd>197.492781243392</dd><dt>87</dt><dd>200.348361000722</dd><dt>88</dt><dd>203.203940758053</dd><dt>89</dt><dd>206.059520515383</dd><dt>90</dt><dd>208.915100272714</dd><dt>91</dt><dd>211.770680030044</dd><dt>92</dt><dd>214.626259787375</dd><dt>93</dt><dd>217.481839544706</dd><dt>94</dt><dd>220.337419302036</dd><dt>95</dt><dd>223.192999059367</dd><dt>96</dt><dd>226.048578816697</dd><dt>97</dt><dd>228.904158574028</dd><dt>98</dt><dd>231.759738331359</dd><dt>99</dt><dd>234.615318088689</dd><dt>100</dt><dd>237.47089784602</dd></dl>\n"
            ],
            "text/markdown": "1\n:   -45.23149812970842\n:   -42.37591837237793\n:   -39.52033861504734\n:   -36.66475885771675\n:   -33.80917910038616\n:   -30.95359934305557\n:   -28.09801958572498\n:   -25.24243982839439\n:   -22.386860071063710\n:   -19.531280313733211\n:   -16.675700556402612\n:   -13.82012079907213\n:   -10.964541041741414\n:   -8.1089612844108115\n:   -5.2533815270802216\n:   -2.3978017697496317\n:   0.45777798758095418\n:   3.3133577449115419\n:   6.1689375022421320\n:   9.0245172595727221\n:   11.880097016903322\n:   14.735676774233923\n:   17.591256531564524\n:   20.446836288895125\n:   23.302416046225726\n:   26.157995803556327\n:   29.013575560886828\n:   31.869155318217429\n:   34.72473507554830\n:   37.580314832878631\n:   40.435894590209232\n:   43.291474347539833\n:   46.147054104870434\n:   49.002633862200935\n:   51.858213619531536\n:   54.713793376862137\n:   57.569373134192738\n:   60.424952891523339\n:   63.280532648853940\n:   66.136112406184541\n:   68.99169216351542\n:   71.847271920845743\n:   74.702851678176244\n:   77.558431435506845\n:   80.414011192837446\n:   83.26959095016847\n:   86.125170707498648\n:   88.980750464829249\n:   91.836330222159850\n:   94.691909979490351\n:   97.547489736820952\n:   100.40306949415253\n:   103.25864925148254\n:   106.11422900881355\n:   108.96980876614356\n:   111.82538852347457\n:   114.68096828080458\n:   117.53654803813559\n:   120.39212779546660\n:   123.24770755279661\n:   126.10328731012762\n:   128.95886706745763\n:   131.81444682478864\n:   134.67002658211965\n:   137.52560633944966\n:   140.3811860967867\n:   143.2367658541168\n:   146.09234561144169\n:   148.94792536877270\n:   151.80350512610271\n:   154.65908488343372\n:   157.51466464076373\n:   160.37024439809474\n:   163.22582415542475\n:   166.08140391275576\n:   168.93698367008677\n:   171.79256342741678\n:   174.64814318474779\n:   177.50372294207780\n:   180.35930269940881\n:   183.21488245673982\n:   186.07046221406983\n:   188.926041971484\n:   191.7816217287385\n:   194.63720148606186\n:   197.49278124339287\n:   200.34836100072288\n:   203.20394075805389\n:   206.05952051538390\n:   208.91510027271491\n:   211.77068003004492\n:   214.62625978737593\n:   217.48183954470694\n:   220.33741930203695\n:   223.19299905936796\n:   226.04857881669797\n:   228.90415857402898\n:   231.75973833135999\n:   234.615318088689100\n:   237.47089784602\n\n",
            "text/latex": "\\begin{description*}\n\\item[1] -45.2314981297084\n\\item[2] -42.3759183723779\n\\item[3] -39.5203386150473\n\\item[4] -36.6647588577167\n\\item[5] -33.8091791003861\n\\item[6] -30.9535993430555\n\\item[7] -28.0980195857249\n\\item[8] -25.2424398283943\n\\item[9] -22.3868600710637\n\\item[10] -19.5312803137332\n\\item[11] -16.6757005564026\n\\item[12] -13.820120799072\n\\item[13] -10.9645410417414\n\\item[14] -8.10896128441081\n\\item[15] -5.25338152708022\n\\item[16] -2.39780176974963\n\\item[17] 0.457777987580954\n\\item[18] 3.31335774491154\n\\item[19] 6.16893750224213\n\\item[20] 9.02451725957272\n\\item[21] 11.8800970169033\n\\item[22] 14.7356767742339\n\\item[23] 17.5912565315645\n\\item[24] 20.4468362888951\n\\item[25] 23.3024160462257\n\\item[26] 26.1579958035563\n\\item[27] 29.0135755608868\n\\item[28] 31.8691553182174\n\\item[29] 34.724735075548\n\\item[30] 37.5803148328786\n\\item[31] 40.4358945902092\n\\item[32] 43.2914743475398\n\\item[33] 46.1470541048704\n\\item[34] 49.0026338622009\n\\item[35] 51.8582136195315\n\\item[36] 54.7137933768621\n\\item[37] 57.5693731341927\n\\item[38] 60.4249528915233\n\\item[39] 63.2805326488539\n\\item[40] 66.1361124061845\n\\item[41] 68.991692163515\n\\item[42] 71.8472719208457\n\\item[43] 74.7028516781762\n\\item[44] 77.5584314355068\n\\item[45] 80.4140111928374\n\\item[46] 83.269590950168\n\\item[47] 86.1251707074986\n\\item[48] 88.9807504648292\n\\item[49] 91.8363302221598\n\\item[50] 94.6919099794903\n\\item[51] 97.5474897368209\n\\item[52] 100.403069494152\n\\item[53] 103.258649251482\n\\item[54] 106.114229008813\n\\item[55] 108.969808766143\n\\item[56] 111.825388523474\n\\item[57] 114.680968280804\n\\item[58] 117.536548038135\n\\item[59] 120.392127795466\n\\item[60] 123.247707552796\n\\item[61] 126.103287310127\n\\item[62] 128.958867067457\n\\item[63] 131.814446824788\n\\item[64] 134.670026582119\n\\item[65] 137.525606339449\n\\item[66] 140.38118609678\n\\item[67] 143.23676585411\n\\item[68] 146.092345611441\n\\item[69] 148.947925368772\n\\item[70] 151.803505126102\n\\item[71] 154.659084883433\n\\item[72] 157.514664640763\n\\item[73] 160.370244398094\n\\item[74] 163.225824155424\n\\item[75] 166.081403912755\n\\item[76] 168.936983670086\n\\item[77] 171.792563427416\n\\item[78] 174.648143184747\n\\item[79] 177.503722942077\n\\item[80] 180.359302699408\n\\item[81] 183.214882456739\n\\item[82] 186.070462214069\n\\item[83] 188.9260419714\n\\item[84] 191.78162172873\n\\item[85] 194.637201486061\n\\item[86] 197.492781243392\n\\item[87] 200.348361000722\n\\item[88] 203.203940758053\n\\item[89] 206.059520515383\n\\item[90] 208.915100272714\n\\item[91] 211.770680030044\n\\item[92] 214.626259787375\n\\item[93] 217.481839544706\n\\item[94] 220.337419302036\n\\item[95] 223.192999059367\n\\item[96] 226.048578816697\n\\item[97] 228.904158574028\n\\item[98] 231.759738331359\n\\item[99] 234.615318088689\n\\item[100] 237.47089784602\n\\end{description*}\n",
            "text/plain": [
              "         1          2          3          4          5          6          7 \n",
              "-45.231498 -42.375918 -39.520339 -36.664759 -33.809179 -30.953599 -28.098020 \n",
              "         8          9         10         11         12         13         14 \n",
              "-25.242440 -22.386860 -19.531280 -16.675701 -13.820121 -10.964541  -8.108961 \n",
              "        15         16         17         18         19         20         21 \n",
              " -5.253382  -2.397802   0.457778   3.313358   6.168938   9.024517  11.880097 \n",
              "        22         23         24         25         26         27         28 \n",
              " 14.735677  17.591257  20.446836  23.302416  26.157996  29.013576  31.869155 \n",
              "        29         30         31         32         33         34         35 \n",
              " 34.724735  37.580315  40.435895  43.291474  46.147054  49.002634  51.858214 \n",
              "        36         37         38         39         40         41         42 \n",
              " 54.713793  57.569373  60.424953  63.280533  66.136112  68.991692  71.847272 \n",
              "        43         44         45         46         47         48         49 \n",
              " 74.702852  77.558431  80.414011  83.269591  86.125171  88.980750  91.836330 \n",
              "        50         51         52         53         54         55         56 \n",
              " 94.691910  97.547490 100.403069 103.258649 106.114229 108.969809 111.825389 \n",
              "        57         58         59         60         61         62         63 \n",
              "114.680968 117.536548 120.392128 123.247708 126.103287 128.958867 131.814447 \n",
              "        64         65         66         67         68         69         70 \n",
              "134.670027 137.525606 140.381186 143.236766 146.092346 148.947925 151.803505 \n",
              "        71         72         73         74         75         76         77 \n",
              "154.659085 157.514665 160.370244 163.225824 166.081404 168.936984 171.792563 \n",
              "        78         79         80         81         82         83         84 \n",
              "174.648143 177.503723 180.359303 183.214882 186.070462 188.926042 191.781622 \n",
              "        85         86         87         88         89         90         91 \n",
              "194.637201 197.492781 200.348361 203.203941 206.059521 208.915100 211.770680 \n",
              "        92         93         94         95         96         97         98 \n",
              "214.626260 217.481840 220.337419 223.192999 226.048579 228.904159 231.759738 \n",
              "        99        100 \n",
              "234.615318 237.470898 "
            ]
          },
          "metadata": {}
        }
      ]
    },
    {
      "cell_type": "code",
      "source": [
        "install.packages(\"Metrics\")"
      ],
      "metadata": {
        "colab": {
          "base_uri": "https://localhost:8080/"
        },
        "id": "hLfn1phnimQV",
        "outputId": "dec586d6-5b71-4584-cf88-c5948ac73d15"
      },
      "execution_count": 14,
      "outputs": [
        {
          "output_type": "stream",
          "name": "stderr",
          "text": [
            "Installing package into ‘/usr/local/lib/R/site-library’\n",
            "(as ‘lib’ is unspecified)\n",
            "\n"
          ]
        }
      ]
    },
    {
      "cell_type": "code",
      "source": [
        "#evaluate RMSE\n",
        "library(\"Metrics\")\n",
        "rmse(y, yhat)"
      ],
      "metadata": {
        "id": "aQKOzs8BcSbp",
        "colab": {
          "base_uri": "https://localhost:8080/",
          "height": 34
        },
        "outputId": "056cf65e-ac13-4258-ca49-c912ebe46924"
      },
      "execution_count": 24,
      "outputs": [
        {
          "output_type": "display_data",
          "data": {
            "text/html": [
              "24.5517005859834"
            ],
            "text/markdown": "24.5517005859834",
            "text/latex": "24.5517005859834",
            "text/plain": [
              "[1] 24.5517"
            ]
          },
          "metadata": {}
        }
      ]
    },
    {
      "cell_type": "code",
      "source": [
        "f <- function(x) {\n",
        "  return (28.5*x - 49.26)\n",
        "}\n",
        "plot(x,f(x))"
      ],
      "metadata": {
        "colab": {
          "base_uri": "https://localhost:8080/",
          "height": 69
        },
        "id": "ZHRY1AMfjUVU",
        "outputId": "bade3f7f-06dc-4c19-81ac-fa725c122969"
      },
      "execution_count": 29,
      "outputs": [
        {
          "output_type": "display_data",
          "data": {
            "text/html": [
              "<style>\n",
              ".list-inline {list-style: none; margin:0; padding: 0}\n",
              ".list-inline>li {display: inline-block}\n",
              ".list-inline>li:not(:last-child)::after {content: \"\\00b7\"; padding: 0 .5ex}\n",
              "</style>\n",
              "<ol class=list-inline><li>-46.41</li><li>-43.56</li><li>-40.71</li><li>-37.86</li><li>-35.01</li><li>-32.16</li><li>-29.31</li><li>-26.46</li><li>-23.61</li><li>-20.76</li><li>-17.91</li><li>-15.06</li><li>-12.21</li><li>-9.36</li><li>-6.51</li><li>-3.66</li><li>-0.810000000000002</li><li>2.04000000000001</li><li>4.89</li><li>7.74</li><li>10.59</li><li>13.44</li><li>16.29</li><li>19.14</li><li>21.99</li><li>24.84</li><li>27.69</li><li>30.54</li><li>33.39</li><li>36.24</li><li>39.09</li><li>41.94</li><li>44.79</li><li>47.64</li><li>50.49</li><li>53.34</li><li>56.19</li><li>59.04</li><li>61.89</li><li>64.74</li><li>67.59</li><li>70.44</li><li>73.29</li><li>76.14</li><li>78.99</li><li>81.84</li><li>84.69</li><li>87.54</li><li>90.39</li><li>93.24</li><li>96.09</li><li>98.94</li><li>101.79</li><li>104.64</li><li>107.49</li><li>110.34</li><li>113.19</li><li>116.04</li><li>118.89</li><li>121.74</li><li>124.59</li><li>127.44</li><li>130.29</li><li>133.14</li><li>135.99</li><li>138.84</li><li>141.69</li><li>144.54</li><li>147.39</li><li>150.24</li><li>153.09</li><li>155.94</li><li>158.79</li><li>161.64</li><li>164.49</li><li>167.34</li><li>170.19</li><li>173.04</li><li>175.89</li><li>178.74</li><li>181.59</li><li>184.44</li><li>187.29</li><li>190.14</li><li>192.99</li><li>195.84</li><li>198.69</li><li>201.54</li><li>204.39</li><li>207.24</li><li>210.09</li><li>212.94</li><li>215.79</li><li>218.64</li><li>221.49</li><li>224.34</li><li>227.19</li><li>230.04</li><li>232.89</li><li>235.74</li></ol>\n"
            ],
            "text/markdown": "1. -46.41\n2. -43.56\n3. -40.71\n4. -37.86\n5. -35.01\n6. -32.16\n7. -29.31\n8. -26.46\n9. -23.61\n10. -20.76\n11. -17.91\n12. -15.06\n13. -12.21\n14. -9.36\n15. -6.51\n16. -3.66\n17. -0.810000000000002\n18. 2.04000000000001\n19. 4.89\n20. 7.74\n21. 10.59\n22. 13.44\n23. 16.29\n24. 19.14\n25. 21.99\n26. 24.84\n27. 27.69\n28. 30.54\n29. 33.39\n30. 36.24\n31. 39.09\n32. 41.94\n33. 44.79\n34. 47.64\n35. 50.49\n36. 53.34\n37. 56.19\n38. 59.04\n39. 61.89\n40. 64.74\n41. 67.59\n42. 70.44\n43. 73.29\n44. 76.14\n45. 78.99\n46. 81.84\n47. 84.69\n48. 87.54\n49. 90.39\n50. 93.24\n51. 96.09\n52. 98.94\n53. 101.79\n54. 104.64\n55. 107.49\n56. 110.34\n57. 113.19\n58. 116.04\n59. 118.89\n60. 121.74\n61. 124.59\n62. 127.44\n63. 130.29\n64. 133.14\n65. 135.99\n66. 138.84\n67. 141.69\n68. 144.54\n69. 147.39\n70. 150.24\n71. 153.09\n72. 155.94\n73. 158.79\n74. 161.64\n75. 164.49\n76. 167.34\n77. 170.19\n78. 173.04\n79. 175.89\n80. 178.74\n81. 181.59\n82. 184.44\n83. 187.29\n84. 190.14\n85. 192.99\n86. 195.84\n87. 198.69\n88. 201.54\n89. 204.39\n90. 207.24\n91. 210.09\n92. 212.94\n93. 215.79\n94. 218.64\n95. 221.49\n96. 224.34\n97. 227.19\n98. 230.04\n99. 232.89\n100. 235.74\n\n\n",
            "text/latex": "\\begin{enumerate*}\n\\item -46.41\n\\item -43.56\n\\item -40.71\n\\item -37.86\n\\item -35.01\n\\item -32.16\n\\item -29.31\n\\item -26.46\n\\item -23.61\n\\item -20.76\n\\item -17.91\n\\item -15.06\n\\item -12.21\n\\item -9.36\n\\item -6.51\n\\item -3.66\n\\item -0.810000000000002\n\\item 2.04000000000001\n\\item 4.89\n\\item 7.74\n\\item 10.59\n\\item 13.44\n\\item 16.29\n\\item 19.14\n\\item 21.99\n\\item 24.84\n\\item 27.69\n\\item 30.54\n\\item 33.39\n\\item 36.24\n\\item 39.09\n\\item 41.94\n\\item 44.79\n\\item 47.64\n\\item 50.49\n\\item 53.34\n\\item 56.19\n\\item 59.04\n\\item 61.89\n\\item 64.74\n\\item 67.59\n\\item 70.44\n\\item 73.29\n\\item 76.14\n\\item 78.99\n\\item 81.84\n\\item 84.69\n\\item 87.54\n\\item 90.39\n\\item 93.24\n\\item 96.09\n\\item 98.94\n\\item 101.79\n\\item 104.64\n\\item 107.49\n\\item 110.34\n\\item 113.19\n\\item 116.04\n\\item 118.89\n\\item 121.74\n\\item 124.59\n\\item 127.44\n\\item 130.29\n\\item 133.14\n\\item 135.99\n\\item 138.84\n\\item 141.69\n\\item 144.54\n\\item 147.39\n\\item 150.24\n\\item 153.09\n\\item 155.94\n\\item 158.79\n\\item 161.64\n\\item 164.49\n\\item 167.34\n\\item 170.19\n\\item 173.04\n\\item 175.89\n\\item 178.74\n\\item 181.59\n\\item 184.44\n\\item 187.29\n\\item 190.14\n\\item 192.99\n\\item 195.84\n\\item 198.69\n\\item 201.54\n\\item 204.39\n\\item 207.24\n\\item 210.09\n\\item 212.94\n\\item 215.79\n\\item 218.64\n\\item 221.49\n\\item 224.34\n\\item 227.19\n\\item 230.04\n\\item 232.89\n\\item 235.74\n\\end{enumerate*}\n",
            "text/plain": [
              "  [1] -46.41 -43.56 -40.71 -37.86 -35.01 -32.16 -29.31 -26.46 -23.61 -20.76\n",
              " [11] -17.91 -15.06 -12.21  -9.36  -6.51  -3.66  -0.81   2.04   4.89   7.74\n",
              " [21]  10.59  13.44  16.29  19.14  21.99  24.84  27.69  30.54  33.39  36.24\n",
              " [31]  39.09  41.94  44.79  47.64  50.49  53.34  56.19  59.04  61.89  64.74\n",
              " [41]  67.59  70.44  73.29  76.14  78.99  81.84  84.69  87.54  90.39  93.24\n",
              " [51]  96.09  98.94 101.79 104.64 107.49 110.34 113.19 116.04 118.89 121.74\n",
              " [61] 124.59 127.44 130.29 133.14 135.99 138.84 141.69 144.54 147.39 150.24\n",
              " [71] 153.09 155.94 158.79 161.64 164.49 167.34 170.19 173.04 175.89 178.74\n",
              " [81] 181.59 184.44 187.29 190.14 192.99 195.84 198.69 201.54 204.39 207.24\n",
              " [91] 210.09 212.94 215.79 218.64 221.49 224.34 227.19 230.04 232.89 235.74"
            ]
          },
          "metadata": {}
        }
      ]
    },
    {
      "cell_type": "code",
      "source": [
        "df <- data.frame(x=x, y=y, yhat=f(x))\n",
        "df"
      ],
      "metadata": {
        "id": "NPStFVuHkl7O"
      },
      "execution_count": null,
      "outputs": []
    },
    {
      "cell_type": "code",
      "source": [
        "ggplot(df) +\n",
        "  geom_point(aes(x,y)) +\n",
        "    geom_line(aes(x, yhat))"
      ],
      "metadata": {
        "colab": {
          "base_uri": "https://localhost:8080/",
          "height": 437
        },
        "id": "Nrvi5Gack1qO",
        "outputId": "33c8f399-c740-4ef8-a79d-29f74f3bc38c"
      },
      "execution_count": 60,
      "outputs": [
        {
          "output_type": "display_data",
          "data": {
            "text/plain": [
              "plot without title"
            ],
            "image/png": "[encoded data removed]"
          },
          "metadata": {
            "image/png": {
              "width": 420,
              "height": 420
            }
          }
        }
      ]
    },
    {
      "cell_type": "code",
      "source": [
        "plot(x, y - yhat)"
      ],
      "metadata": {
        "colab": {
          "base_uri": "https://localhost:8080/",
          "height": 437
        },
        "id": "AJpIr5fslfpI",
        "outputId": "27e517d1-0f7d-49d2-9d3e-c02a58a4976b"
      },
      "execution_count": 33,
      "outputs": [
        {
          "output_type": "display_data",
          "data": {
            "text/plain": [
              "plot without title"
            ],
            "image/png": "[encoded data removed]"
          },
          "metadata": {
            "image/png": {
              "width": 420,
              "height": 420
            }
          }
        }
      ]
    },
    {
      "cell_type": "code",
      "source": [
        "#repeat on five samples\n",
        "rmses <- c(0,0,0,0,0)\n",
        "for (i in 1:5){\n",
        "  xsamp <- sample_n(df,30)\n",
        "  samp_model <- lm(xsamp$y~xsamp$x)\n",
        "  yhat <- predict(samp_model, newdata=data.frame(xsamp$x))\n",
        "  rmses[i] = rmse(xsamp$y, yhat)\n",
        "}"
      ],
      "metadata": {
        "id": "Ft1DH7locU0n"
      },
      "execution_count": 57,
      "outputs": []
    },
    {
      "cell_type": "code",
      "source": [
        "rmses"
      ],
      "metadata": {
        "colab": {
          "base_uri": "https://localhost:8080/",
          "height": 34
        },
        "id": "Pp0K7jCrpFP8",
        "outputId": "0ad8ea9d-3dc9-44f6-b7ab-9ecc950e1020"
      },
      "execution_count": 52,
      "outputs": [
        {
          "output_type": "display_data",
          "data": {
            "text/html": [
              "<style>\n",
              ".list-inline {list-style: none; margin:0; padding: 0}\n",
              ".list-inline>li {display: inline-block}\n",
              ".list-inline>li:not(:last-child)::after {content: \"\\00b7\"; padding: 0 .5ex}\n",
              "</style>\n",
              "<ol class=list-inline><li>19.6545967254445</li><li>24.0047565020218</li><li>25.1683863493684</li><li>25.0495549638922</li><li>24.1087017132703</li></ol>\n"
            ],
            "text/markdown": "1. 19.6545967254445\n2. 24.0047565020218\n3. 25.1683863493684\n4. 25.0495549638922\n5. 24.1087017132703\n\n\n",
            "text/latex": "\\begin{enumerate*}\n\\item 19.6545967254445\n\\item 24.0047565020218\n\\item 25.1683863493684\n\\item 25.0495549638922\n\\item 24.1087017132703\n\\end{enumerate*}\n",
            "text/plain": [
              "[1] 19.65460 24.00476 25.16839 25.04955 24.10870"
            ]
          },
          "metadata": {}
        }
      ]
    },
    {
      "cell_type": "code",
      "source": [
        "sample_n(df, 10)"
      ],
      "metadata": {
        "colab": {
          "base_uri": "https://localhost:8080/",
          "height": 411
        },
        "id": "U_C6akGQms8y",
        "outputId": "422c0760-75d8-4c66-93f8-4b8b8c83f995"
      },
      "execution_count": 44,
      "outputs": [
        {
          "output_type": "display_data",
          "data": {
            "text/html": [
              "<table class=\"dataframe\">\n",
              "<caption>A data.frame: 10 × 3</caption>\n",
              "<thead>\n",
              "\t<tr><th scope=col>x</th><th scope=col>y</th><th scope=col>yhat</th></tr>\n",
              "\t<tr><th scope=col>&lt;dbl&gt;</th><th scope=col>&lt;dbl&gt;</th><th scope=col>&lt;dbl&gt;</th></tr>\n",
              "</thead>\n",
              "<tbody>\n",
              "\t<tr><td>0.1</td><td> -2.332226</td><td>-46.41</td></tr>\n",
              "\t<tr><td>6.0</td><td>114.360627</td><td>121.74</td></tr>\n",
              "\t<tr><td>8.8</td><td>212.764406</td><td>201.54</td></tr>\n",
              "\t<tr><td>0.6</td><td> -8.519940</td><td>-32.16</td></tr>\n",
              "\t<tr><td>3.7</td><td> 42.987461</td><td> 56.19</td></tr>\n",
              "\t<tr><td>1.2</td><td> -9.308977</td><td>-15.06</td></tr>\n",
              "\t<tr><td>1.9</td><td>  5.361920</td><td>  4.89</td></tr>\n",
              "\t<tr><td>1.1</td><td>  9.911185</td><td>-17.91</td></tr>\n",
              "\t<tr><td>2.6</td><td>  4.572643</td><td> 24.84</td></tr>\n",
              "\t<tr><td>6.7</td><td>144.032999</td><td>141.69</td></tr>\n",
              "</tbody>\n",
              "</table>\n"
            ],
            "text/markdown": "\nA data.frame: 10 × 3\n\n| x &lt;dbl&gt; | y &lt;dbl&gt; | yhat &lt;dbl&gt; |\n|---|---|---|\n| 0.1 |  -2.332226 | -46.41 |\n| 6.0 | 114.360627 | 121.74 |\n| 8.8 | 212.764406 | 201.54 |\n| 0.6 |  -8.519940 | -32.16 |\n| 3.7 |  42.987461 |  56.19 |\n| 1.2 |  -9.308977 | -15.06 |\n| 1.9 |   5.361920 |   4.89 |\n| 1.1 |   9.911185 | -17.91 |\n| 2.6 |   4.572643 |  24.84 |\n| 6.7 | 144.032999 | 141.69 |\n\n",
            "text/latex": "A data.frame: 10 × 3\n\\begin{tabular}{lll}\n x & y & yhat\\\\\n <dbl> & <dbl> & <dbl>\\\\\n\\hline\n\t 0.1 &  -2.332226 & -46.41\\\\\n\t 6.0 & 114.360627 & 121.74\\\\\n\t 8.8 & 212.764406 & 201.54\\\\\n\t 0.6 &  -8.519940 & -32.16\\\\\n\t 3.7 &  42.987461 &  56.19\\\\\n\t 1.2 &  -9.308977 & -15.06\\\\\n\t 1.9 &   5.361920 &   4.89\\\\\n\t 1.1 &   9.911185 & -17.91\\\\\n\t 2.6 &   4.572643 &  24.84\\\\\n\t 6.7 & 144.032999 & 141.69\\\\\n\\end{tabular}\n",
            "text/plain": [
              "   x   y          yhat  \n",
              "1  0.1  -2.332226 -46.41\n",
              "2  6.0 114.360627 121.74\n",
              "3  8.8 212.764406 201.54\n",
              "4  0.6  -8.519940 -32.16\n",
              "5  3.7  42.987461  56.19\n",
              "6  1.2  -9.308977 -15.06\n",
              "7  1.9   5.361920   4.89\n",
              "8  1.1   9.911185 -17.91\n",
              "9  2.6   4.572643  24.84\n",
              "10 6.7 144.032999 141.69"
            ]
          },
          "metadata": {}
        }
      ]
    },
    {
      "cell_type": "code",
      "source": [
        "#try quadratic model\n",
        "x\n",
        "poly(df$x, raw = TRUE, degree=2)"
      ],
      "metadata": {
        "id": "9fOxRJMMcYLt"
      },
      "execution_count": null,
      "outputs": []
    },
    {
      "cell_type": "code",
      "source": [
        "#evaluate\n",
        "rmses <- c(0,0,0,0,0)\n",
        "for (i in 1:5){\n",
        "  xsamp <- sample_n(df,30)\n",
        "  samp_model <- lm(xsamp$y~poly(xsamp$x, 2, raw=TRUE))\n",
        "  yhat <- predict(samp_model, newdata=data.frame(xsamp$x))\n",
        "  rmses[i] = rmse(xsamp$y, yhat)\n",
        "}"
      ],
      "metadata": {
        "id": "dvS-CfdXcbTB"
      },
      "execution_count": 58,
      "outputs": []
    },
    {
      "cell_type": "code",
      "source": [
        "#repeat on five samples of the data\n",
        "rmses"
      ],
      "metadata": {
        "id": "DCxbPY-eceZz",
        "colab": {
          "base_uri": "https://localhost:8080/",
          "height": 34
        },
        "outputId": "c21ebd3c-59a9-4eaf-ae4b-3aa2672578a3"
      },
      "execution_count": 59,
      "outputs": [
        {
          "output_type": "display_data",
          "data": {
            "text/html": [
              "<style>\n",
              ".list-inline {list-style: none; margin:0; padding: 0}\n",
              ".list-inline>li {display: inline-block}\n",
              ".list-inline>li:not(:last-child)::after {content: \"\\00b7\"; padding: 0 .5ex}\n",
              "</style>\n",
              "<ol class=list-inline><li>9.71094818503351</li><li>9.56011503961613</li><li>10.2227076687722</li><li>10.4414630694475</li><li>9.1209425056576</li></ol>\n"
            ],
            "text/markdown": "1. 9.71094818503351\n2. 9.56011503961613\n3. 10.2227076687722\n4. 10.4414630694475\n5. 9.1209425056576\n\n\n",
            "text/latex": "\\begin{enumerate*}\n\\item 9.71094818503351\n\\item 9.56011503961613\n\\item 10.2227076687722\n\\item 10.4414630694475\n\\item 9.1209425056576\n\\end{enumerate*}\n",
            "text/plain": [
              "[1]  9.710948  9.560115 10.222708 10.441463  9.120943"
            ]
          },
          "metadata": {}
        }
      ]
    },
    {
      "cell_type": "code",
      "source": [
        "rmses <- c(0,0,0,0,0)\n",
        "for (i in 1:5){\n",
        "  xsamp <- sample_n(df,30)\n",
        "  samp_model <- lm(xsamp$y~poly(xsamp$x, 3, raw=TRUE))\n",
        "  yhat <- predict(samp_model, newdata=data.frame(xsamp$x))\n",
        "  rmses[i] = rmse(xsamp$y, yhat)\n",
        "}\n",
        "rmses"
      ],
      "metadata": {
        "colab": {
          "base_uri": "https://localhost:8080/",
          "height": 34
        },
        "id": "prQglkU5rdZh",
        "outputId": "ec081694-9eea-4d37-8950-a5e1858d80e1"
      },
      "execution_count": 73,
      "outputs": [
        {
          "output_type": "display_data",
          "data": {
            "text/html": [
              "<style>\n",
              ".list-inline {list-style: none; margin:0; padding: 0}\n",
              ".list-inline>li {display: inline-block}\n",
              ".list-inline>li:not(:last-child)::after {content: \"\\00b7\"; padding: 0 .5ex}\n",
              "</style>\n",
              "<ol class=list-inline><li>10.8815157045018</li><li>7.74635886428579</li><li>9.33118506998358</li><li>8.53166155510655</li><li>9.50557797678112</li></ol>\n"
            ],
            "text/markdown": "1. 10.8815157045018\n2. 7.74635886428579\n3. 9.33118506998358\n4. 8.53166155510655\n5. 9.50557797678112\n\n\n",
            "text/latex": "\\begin{enumerate*}\n\\item 10.8815157045018\n\\item 7.74635886428579\n\\item 9.33118506998358\n\\item 8.53166155510655\n\\item 9.50557797678112\n\\end{enumerate*}\n",
            "text/plain": [
              "[1] 10.881516  7.746359  9.331185  8.531662  9.505578"
            ]
          },
          "metadata": {}
        }
      ]
    },
    {
      "cell_type": "code",
      "source": [
        "rmses <- c(0,0,0,0,0)\n",
        "for (i in 1:5){\n",
        "  xsamp <- sample_n(df,30)\n",
        "  samp_model <- lm(xsamp$y~poly(xsamp$x, 4, raw=TRUE))\n",
        "  yhat <- predict(samp_model, newdata=data.frame(xsamp$x))\n",
        "  rmses[i] = rmse(xsamp$y, yhat)\n",
        "}\n",
        "rmses"
      ],
      "metadata": {
        "colab": {
          "base_uri": "https://localhost:8080/",
          "height": 34
        },
        "id": "qTbYiAPPrwzX",
        "outputId": "d3ac368f-5d8e-42c3-ca88-b120ccb708e4"
      },
      "execution_count": 64,
      "outputs": [
        {
          "output_type": "display_data",
          "data": {
            "text/html": [
              "<style>\n",
              ".list-inline {list-style: none; margin:0; padding: 0}\n",
              ".list-inline>li {display: inline-block}\n",
              ".list-inline>li:not(:last-child)::after {content: \"\\00b7\"; padding: 0 .5ex}\n",
              "</style>\n",
              "<ol class=list-inline><li>10.4601767618627</li><li>9.89794624736409</li><li>8.47299314815292</li><li>9.39976130255741</li><li>8.86179285573046</li></ol>\n"
            ],
            "text/markdown": "1. 10.4601767618627\n2. 9.89794624736409\n3. 8.47299314815292\n4. 9.39976130255741\n5. 8.86179285573046\n\n\n",
            "text/latex": "\\begin{enumerate*}\n\\item 10.4601767618627\n\\item 9.89794624736409\n\\item 8.47299314815292\n\\item 9.39976130255741\n\\item 8.86179285573046\n\\end{enumerate*}\n",
            "text/plain": [
              "[1] 10.460177  9.897946  8.472993  9.399761  8.861793"
            ]
          },
          "metadata": {}
        }
      ]
    },
    {
      "cell_type": "code",
      "source": [
        "filter(df, !x %in% xsamp$x)"
      ],
      "metadata": {
        "id": "pxjn7fsCtAEj"
      },
      "execution_count": null,
      "outputs": []
    },
    {
      "cell_type": "code",
      "source": [
        "rmses <- c(0,0,0,0,0)\n",
        "for (i in 1:5){\n",
        "  xsamp <- sample_n(df,30)\n",
        "  samp_model <- lm(xsamp$y~poly(xsamp$x, 4, raw=TRUE))\n",
        "  yhat <- predict(samp_model, newdata=data.frame(xsamp$x))\n",
        "  rmses[i] = rmse(xsamp$y, yhat)\n",
        "}\n",
        "rmses"
      ],
      "metadata": {
        "id": "7EIb4VhYs2Z-"
      },
      "execution_count": null,
      "outputs": []
    },
    {
      "cell_type": "code",
      "source": [
        "## out of sample\n",
        "colnames(df) <- c(\"X\", \"Y\", \"YHAT\")\n",
        "rmses <- c(0,0,0,0,0)\n",
        "for (i in 1:5){\n",
        "  xsamp <- sample_n(df,30)\n",
        "  xsamp$polyX <- poly(xsamp$X, 2, raw=TRUE)\n",
        "  print(xsamp)\n",
        "  out_samp <- filter(df, !X %in% xsamp$X)\n",
        "  samp_model <- lm(Y ~ polyX.2, data=xsamp)\n",
        "  new_data = data.frame(out_samp$X)\n",
        "  yhat <- predict(samp_model, newdata=new_data)\n",
        "  rmses[i] = rmse(out_samp$Y, yhat)\n",
        "}\n",
        "rmses"
      ],
      "metadata": {
        "colab": {
          "base_uri": "https://localhost:8080/",
          "height": 811
        },
        "id": "LwK0G4T7ueaS",
        "outputId": "ee5e051b-0a37-4f03-f35e-0dbfb0bab6d1"
      },
      "execution_count": 106,
      "outputs": [
        {
          "output_type": "stream",
          "name": "stdout",
          "text": [
            "      X          Y   YHAT polyX.1 polyX.2\n",
            "1   3.4  20.587342  47.64    3.40   11.56\n",
            "2   4.8  74.855692  87.54    4.80   23.04\n",
            "3   3.9  52.857276  61.89    3.90   15.21\n",
            "4   3.6  34.878208  53.34    3.60   12.96\n",
            "5   4.3  54.880198  73.29    4.30   18.49\n",
            "6   0.4  13.153550 -37.86    0.40    0.16\n",
            "7   2.7  41.974829  27.69    2.70    7.29\n",
            "8   5.8 100.698248 116.04    5.80   33.64\n",
            "9   7.3 145.450288 158.79    7.30   53.29\n",
            "10  0.6  -8.519940 -32.16    0.60    0.36\n",
            "11  5.7  90.198293 113.19    5.70   32.49\n",
            "12  9.8 278.238956 230.04    9.80   96.04\n",
            "13  2.0  10.919847   7.74    2.00    4.00\n",
            "14  8.0 167.416491 178.74    8.00   64.00\n",
            "15  1.6   3.376893  -3.66    1.60    2.56\n",
            "16  2.9  28.049046  33.39    2.90    8.41\n",
            "17  9.5 274.239189 221.49    9.50   90.25\n",
            "18  1.3 -15.013048 -12.21    1.30    1.69\n",
            "19  3.3  25.476633  44.79    3.30   10.89\n",
            "20  8.4 207.956782 190.14    8.40   70.56\n",
            "21  6.2  95.802928 127.44    6.20   38.44\n",
            "22  1.0   9.767499 -20.76    1.00    1.00\n",
            "23  1.2  -9.308977 -15.06    1.20    1.44\n",
            "24  7.7 185.507355 170.19    7.70   59.29\n",
            "25 10.0 264.914234 235.74   10.00  100.00\n",
            "26  5.4  70.453544 104.64    5.40   29.16\n",
            "27  8.9 233.558618 204.39    8.90   79.21\n",
            "28  4.4  45.700288  76.14    4.40   19.36\n",
            "29  0.2  -2.152297 -43.56    0.20    0.04\n",
            "30  8.1 178.773406 181.59    8.10   65.61\n"
          ]
        },
        {
          "output_type": "error",
          "ename": "ERROR",
          "evalue": "ignored",
          "traceback": [
            "Error in eval(predvars, data, env): object 'polyX.2' not found\nTraceback:\n",
            "1. lm(Y ~ polyX.2, data = xsamp)",
            "2. eval(mf, parent.frame())",
            "3. eval(mf, parent.frame())",
            "4. stats::model.frame(formula = Y ~ polyX.2, data = xsamp, drop.unused.levels = TRUE)",
            "5. model.frame.default(formula = Y ~ polyX.2, data = xsamp, drop.unused.levels = TRUE)",
            "6. eval(predvars, data, env)",
            "7. eval(predvars, data, env)"
          ]
        }
      ]
    },
    {
      "cell_type": "markdown",
      "source": [
        "#### Finding the sweet spot\n",
        "\n",
        "Experiment with degree 1 - 10 on diamonds data to predict price using carat.  What degree complexity is ideal?"
      ],
      "metadata": {
        "id": "H4CiaGCodIzV"
      }
    },
    {
      "cell_type": "code",
      "source": [],
      "metadata": {
        "id": "ISalY8sidSQi"
      },
      "execution_count": null,
      "outputs": []
    },
    {
      "cell_type": "code",
      "source": [],
      "metadata": {
        "id": "6P4oeOApdSOc"
      },
      "execution_count": null,
      "outputs": []
    },
    {
      "cell_type": "code",
      "source": [],
      "metadata": {
        "id": "maXZ_SspdSMF"
      },
      "execution_count": null,
      "outputs": []
    },
    {
      "cell_type": "code",
      "source": [],
      "metadata": {
        "id": "pOiB8AhCdSJP"
      },
      "execution_count": null,
      "outputs": []
    },
    {
      "cell_type": "code",
      "source": [],
      "metadata": {
        "id": "7sKvKFGDciwQ"
      },
      "execution_count": null,
      "outputs": []
    },
    {
      "cell_type": "markdown",
      "source": [
        "#### Bias Variance tradeoff"
      ],
      "metadata": {
        "id": "lJn1bFWBdSqT"
      }
    },
    {
      "cell_type": "code",
      "source": [],
      "metadata": {
        "id": "FIyuuoFEdbpC"
      },
      "execution_count": null,
      "outputs": []
    },
    {
      "cell_type": "code",
      "source": [],
      "metadata": {
        "id": "dR2qZLjrdczS"
      },
      "execution_count": null,
      "outputs": []
    },
    {
      "cell_type": "code",
      "source": [],
      "metadata": {
        "id": "_IVUWh6adcu0"
      },
      "execution_count": null,
      "outputs": []
    },
    {
      "cell_type": "code",
      "source": [],
      "metadata": {
        "id": "dPXApEbodcqs"
      },
      "execution_count": null,
      "outputs": []
    },
    {
      "cell_type": "code",
      "source": [],
      "metadata": {
        "id": "bOGNB9lTdcnA"
      },
      "execution_count": null,
      "outputs": []
    },
    {
      "cell_type": "code",
      "source": [],
      "metadata": {
        "id": "hBjjbYh4dcjX"
      },
      "execution_count": null,
      "outputs": []
    },
    {
      "cell_type": "markdown",
      "source": [
        "#### Building Regression Models\n",
        "\n",
        "- Build simple regression models of different complexity and explore the performance.\n",
        "\n",
        "- Compare to complex regression models from the `carat` library.  Which models do you prefer and why?"
      ],
      "metadata": {
        "id": "Z56pOqjxddtT"
      }
    },
    {
      "cell_type": "code",
      "source": [
        "df <- head(diamonds)"
      ],
      "metadata": {
        "id": "wAHtwVkaeFI0"
      },
      "execution_count": 112,
      "outputs": []
    },
    {
      "cell_type": "code",
      "source": [],
      "metadata": {
        "id": "WU2ctNrc2d5K"
      },
      "execution_count": null,
      "outputs": []
    },
    {
      "cell_type": "code",
      "source": [
        "rmses <- c(0,0,0,0,0,0,0,0,0,0)\n",
        "biases <- c(0,0,0,0,0,0,0,0,0,0)\n",
        "vars <- c(0,0,0,0,0,0,0,0,0,0)\n",
        "  for (i in 1:10){\n",
        "    # xsamp <- sample_n(df,30)\n",
        "    samp_model <- lm(df$price~poly(df$carat, i, raw=TRUE))\n",
        "    yhat <- predict(samp_model, newdata=data.frame(df$carat))\n",
        "    rmses[i] = rmse(df$price, yhat)\n",
        "    biases[i] = mean(abs(yhat - df$price))\n",
        "    vars[i] = var(yhat)\n",
        "  }\n",
        "\n",
        "rmses\n",
        "biases\n",
        "vars"
      ],
      "metadata": {
        "id": "xHBo49oreFGf",
        "colab": {
          "base_uri": "https://localhost:8080/",
          "height": 252
        },
        "outputId": "c27ab04a-6fdd-4663-8ff9-1fe206c6dbad"
      },
      "execution_count": 123,
      "outputs": [
        {
          "output_type": "stream",
          "name": "stderr",
          "text": [
            "Warning message in predict.lm(samp_model, newdata = data.frame(df$carat)):\n",
            "“prediction from rank-deficient fit; attr(*, \"non-estim\") has doubtful cases”\n",
            "Warning message in predict.lm(samp_model, newdata = data.frame(df$carat)):\n",
            "“prediction from rank-deficient fit; attr(*, \"non-estim\") has doubtful cases”\n",
            "Warning message in predict.lm(samp_model, newdata = data.frame(df$carat)):\n",
            "“prediction from rank-deficient fit; attr(*, \"non-estim\") has doubtful cases”\n",
            "Warning message in predict.lm(samp_model, newdata = data.frame(df$carat)):\n",
            "“prediction from rank-deficient fit; attr(*, \"non-estim\") has doubtful cases”\n",
            "Warning message in predict.lm(samp_model, newdata = data.frame(df$carat)):\n",
            "“prediction from rank-deficient fit; attr(*, \"non-estim\") has doubtful cases”\n"
          ]
        },
        {
          "output_type": "display_data",
          "data": {
            "text/html": [
              "<style>\n",
              ".list-inline {list-style: none; margin:0; padding: 0}\n",
              ".list-inline>li {display: inline-block}\n",
              ".list-inline>li:not(:last-child)::after {content: \"\\00b7\"; padding: 0 .5ex}\n",
              "</style>\n",
              "<ol class=list-inline><li>2.96557739961167</li><li>2.68967922345454</li><li>2.68959410535902</li><li>0.288675134594813</li><li>0.288675134594813</li><li>0.288675134594813</li><li>0.288675134594813</li><li>0.288675134594813</li><li>0.288675134594813</li><li>0.288675134594813</li></ol>\n"
            ],
            "text/markdown": "1. 2.96557739961167\n2. 2.68967922345454\n3. 2.68959410535902\n4. 0.288675134594813\n5. 0.288675134594813\n6. 0.288675134594813\n7. 0.288675134594813\n8. 0.288675134594813\n9. 0.288675134594813\n10. 0.288675134594813\n\n\n",
            "text/latex": "\\begin{enumerate*}\n\\item 2.96557739961167\n\\item 2.68967922345454\n\\item 2.68959410535902\n\\item 0.288675134594813\n\\item 0.288675134594813\n\\item 0.288675134594813\n\\item 0.288675134594813\n\\item 0.288675134594813\n\\item 0.288675134594813\n\\item 0.288675134594813\n\\end{enumerate*}\n",
            "text/plain": [
              " [1] 2.9655774 2.6896792 2.6895941 0.2886751 0.2886751 0.2886751 0.2886751\n",
              " [8] 0.2886751 0.2886751 0.2886751"
            ]
          },
          "metadata": {}
        },
        {
          "output_type": "display_data",
          "data": {
            "text/html": [
              "<style>\n",
              ".list-inline {list-style: none; margin:0; padding: 0}\n",
              ".list-inline>li {display: inline-block}\n",
              ".list-inline>li:not(:last-child)::after {content: \"\\00b7\"; padding: 0 .5ex}\n",
              "</style>\n",
              "<ol class=list-inline><li>2.12870571221983</li><li>2.19243229234153</li><li>2.19615715514777</li><li>0.166666666685766</li><li>0.166666666685766</li><li>0.166666666685766</li><li>0.166666666685766</li><li>0.166666666685766</li><li>0.166666666685766</li><li>0.166666666685766</li></ol>\n"
            ],
            "text/markdown": "1. 2.12870571221983\n2. 2.19243229234153\n3. 2.19615715514777\n4. 0.166666666685766\n5. 0.166666666685766\n6. 0.166666666685766\n7. 0.166666666685766\n8. 0.166666666685766\n9. 0.166666666685766\n10. 0.166666666685766\n\n\n",
            "text/latex": "\\begin{enumerate*}\n\\item 2.12870571221983\n\\item 2.19243229234153\n\\item 2.19615715514777\n\\item 0.166666666685766\n\\item 0.166666666685766\n\\item 0.166666666685766\n\\item 0.166666666685766\n\\item 0.166666666685766\n\\item 0.166666666685766\n\\item 0.166666666685766\n\\end{enumerate*}\n",
            "text/plain": [
              " [1] 2.1287057 2.1924323 2.1961572 0.1666667 0.1666667 0.1666667 0.1666667\n",
              " [8] 0.1666667 0.1666667 0.1666667"
            ]
          },
          "metadata": {}
        },
        {
          "output_type": "display_data",
          "data": {
            "text/html": [
              "<style>\n",
              ".list-inline {list-style: none; margin:0; padding: 0}\n",
              ".list-inline>li {display: inline-block}\n",
              ".list-inline>li:not(:last-child)::after {content: \"\\00b7\"; padding: 0 .5ex}\n",
              "</style>\n",
              "<ol class=list-inline><li>12.5130874909616</li><li>14.3854174765667</li><li>14.3859669247682</li><li>22.9666666666075</li><li>22.9666666666075</li><li>22.9666666666075</li><li>22.9666666666075</li><li>22.9666666666075</li><li>22.9666666666075</li><li>22.9666666666075</li></ol>\n"
            ],
            "text/markdown": "1. 12.5130874909616\n2. 14.3854174765667\n3. 14.3859669247682\n4. 22.9666666666075\n5. 22.9666666666075\n6. 22.9666666666075\n7. 22.9666666666075\n8. 22.9666666666075\n9. 22.9666666666075\n10. 22.9666666666075\n\n\n",
            "text/latex": "\\begin{enumerate*}\n\\item 12.5130874909616\n\\item 14.3854174765667\n\\item 14.3859669247682\n\\item 22.9666666666075\n\\item 22.9666666666075\n\\item 22.9666666666075\n\\item 22.9666666666075\n\\item 22.9666666666075\n\\item 22.9666666666075\n\\item 22.9666666666075\n\\end{enumerate*}\n",
            "text/plain": [
              " [1] 12.51309 14.38542 14.38597 22.96667 22.96667 22.96667 22.96667 22.96667\n",
              " [9] 22.96667 22.96667"
            ]
          },
          "metadata": {}
        }
      ]
    },
    {
      "cell_type": "code",
      "source": [
        "plot(c(1:10), rmses)"
      ],
      "metadata": {
        "colab": {
          "base_uri": "https://localhost:8080/",
          "height": 437
        },
        "id": "fdrp6BD74d_t",
        "outputId": "853246e9-f25d-4635-d139-1b269161741c"
      },
      "execution_count": 119,
      "outputs": [
        {
          "output_type": "display_data",
          "data": {
            "text/plain": [
              "plot without title"
            ],
            "image/png": "[encoded data removed]"
          },
          "metadata": {
            "image/png": {
              "width": 420,
              "height": 420
            }
          }
        }
      ]
    },
    {
      "cell_type": "code",
      "source": [
        "plot(c(1:10), biases)"
      ],
      "metadata": {
        "id": "Nsp_kk9weFEa",
        "colab": {
          "base_uri": "https://localhost:8080/",
          "height": 437
        },
        "outputId": "a78ad16f-ac79-4047-ad5a-5e134789cf4d"
      },
      "execution_count": 120,
      "outputs": [
        {
          "output_type": "display_data",
          "data": {
            "text/plain": [
              "plot without title"
            ],
            "image/png": "[encoded data removed]"
          },
          "metadata": {
            "image/png": {
              "width": 420,
              "height": 420
            }
          }
        }
      ]
    },
    {
      "cell_type": "code",
      "source": [
        "plot(c(1:10), vars)"
      ],
      "metadata": {
        "id": "hLHNrbHIeFCC",
        "colab": {
          "base_uri": "https://localhost:8080/",
          "height": 437
        },
        "outputId": "9640f173-d60d-4b60-d59a-8ba1e7242b9b"
      },
      "execution_count": 122,
      "outputs": [
        {
          "output_type": "display_data",
          "data": {
            "text/plain": [
              "plot without title"
            ],
            "image/png": "[encoded data removed]"
          },
          "metadata": {
            "image/png": {
              "width": 420,
              "height": 420
            }
          }
        }
      ]
    },
    {
      "cell_type": "code",
      "source": [],
      "metadata": {
        "id": "FpDDWX4PeE_s"
      },
      "execution_count": null,
      "outputs": []
    },
    {
      "cell_type": "code",
      "source": [],
      "metadata": {
        "id": "lj0yvi3WeE9Y"
      },
      "execution_count": null,
      "outputs": []
    },
    {
      "cell_type": "code",
      "source": [],
      "metadata": {
        "id": "NeW3PqVoeE7D"
      },
      "execution_count": null,
      "outputs": []
    },
    {
      "cell_type": "code",
      "source": [],
      "metadata": {
        "id": "eredmqVreE47"
      },
      "execution_count": null,
      "outputs": []
    },
    {
      "cell_type": "code",
      "source": [],
      "metadata": {
        "id": "AMEnIulIeE2a"
      },
      "execution_count": null,
      "outputs": []
    },
    {
      "cell_type": "code",
      "source": [],
      "metadata": {
        "id": "S2z6lHgzdgaG"
      },
      "execution_count": null,
      "outputs": []
    }
  ]
}