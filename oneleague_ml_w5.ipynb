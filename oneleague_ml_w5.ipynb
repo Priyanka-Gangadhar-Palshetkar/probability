{
  "cells": [
    {
      "cell_type": "markdown",
      "metadata": {
        "id": "view-in-github",
        "colab_type": "text"
      },
      "source": [
        "<a href=\"https://colab.research.google.com/github/iPrinka/MITx-Micromasters-Statistics-Data-Science/blob/main/oneleague_ml_w5.ipynb\" target=\"_parent\"><img src=\"https://colab.research.google.com/assets/colab-badge.svg\" alt=\"Open In Colab\"/></a>"
      ]
    },
    {
      "cell_type": "markdown",
      "metadata": {
        "id": "-EzzW8PlWwoV"
      },
      "source": [
        "# Introduction to PyTorch\n",
        "\n",
        "**OBJECTIVES**\n",
        "\n",
        "- Introduce `pytorch` and tensors\n",
        "- Use `pytorch` to build basic regression models\n",
        "- Implement basic linear regression with `pytorch`\n"
      ]
    },
    {
      "cell_type": "markdown",
      "metadata": {
        "id": "zOnNRJpUWwoW"
      },
      "source": [
        "#### Modeling Review"
      ]
    },
    {
      "cell_type": "code",
      "execution_count": 17,
      "metadata": {
        "tags": [],
        "id": "YMpksdA3WwoW"
      },
      "outputs": [],
      "source": [
        "from sklearn.datasets import load_diabetes\n",
        "from sklearn.model_selection import train_test_split \n",
        "from sklearn.linear_model import LinearRegression, Ridge\n",
        "from sklearn.svm import SVR \n",
        "from sklearn.preprocessing import StandardScaler \n",
        "from sklearn.pipeline import Pipeline\n",
        "\n",
        "import numpy as np \n",
        "import matplotlib.pyplot as plt \n",
        "import pandas as pd\n",
        "\n",
        "import torch"
      ]
    },
    {
      "cell_type": "markdown",
      "source": [
        "**PROBLEM**: Use the diabetes data and description below to build and compare regression models using `sklearn`. (`LinearRegression`, `Ridge`, and `SVR`)  Identify a model that returns the lowest Mean Squared Error."
      ],
      "metadata": {
        "id": "k8VwJseYX6nO"
      }
    },
    {
      "cell_type": "code",
      "execution_count": 2,
      "metadata": {
        "id": "KzLk38OtWwoX"
      },
      "outputs": [],
      "source": [
        "diabetes = load_diabetes()"
      ]
    },
    {
      "cell_type": "code",
      "execution_count": 3,
      "metadata": {
        "id": "ctK5-Rx4WwoX",
        "colab": {
          "base_uri": "https://localhost:8080/"
        },
        "outputId": "bf9e9a29-ec19-49d0-bcbc-e48767e0abcc"
      },
      "outputs": [
        {
          "output_type": "stream",
          "name": "stdout",
          "text": [
            ".. _diabetes_dataset:\n",
            "\n",
            "Diabetes dataset\n",
            "----------------\n",
            "\n",
            "Ten baseline variables, age, sex, body mass index, average blood\n",
            "pressure, and six blood serum measurements were obtained for each of n =\n",
            "442 diabetes patients, as well as the response of interest, a\n",
            "quantitative measure of disease progression one year after baseline.\n",
            "\n",
            "**Data Set Characteristics:**\n",
            "\n",
            "  :Number of Instances: 442\n",
            "\n",
            "  :Number of Attributes: First 10 columns are numeric predictive values\n",
            "\n",
            "  :Target: Column 11 is a quantitative measure of disease progression one year after baseline\n",
            "\n",
            "  :Attribute Information:\n",
            "      - age     age in years\n",
            "      - sex\n",
            "      - bmi     body mass index\n",
            "      - bp      average blood pressure\n",
            "      - s1      tc, total serum cholesterol\n",
            "      - s2      ldl, low-density lipoproteins\n",
            "      - s3      hdl, high-density lipoproteins\n",
            "      - s4      tch, total cholesterol / HDL\n",
            "      - s5      ltg, possibly log of serum triglycerides level\n",
            "      - s6      glu, blood sugar level\n",
            "\n",
            "Note: Each of these 10 feature variables have been mean centered and scaled by the standard deviation times the square root of `n_samples` (i.e. the sum of squares of each column totals 1).\n",
            "\n",
            "Source URL:\n",
            "https://www4.stat.ncsu.edu/~boos/var.select/diabetes.html\n",
            "\n",
            "For more information see:\n",
            "Bradley Efron, Trevor Hastie, Iain Johnstone and Robert Tibshirani (2004) \"Least Angle Regression,\" Annals of Statistics (with discussion), 407-499.\n",
            "(https://web.stanford.edu/~hastie/Papers/LARS/LeastAngle_2002.pdf)\n",
            "\n"
          ]
        }
      ],
      "source": [
        "print(diabetes.DESCR)"
      ]
    },
    {
      "cell_type": "code",
      "execution_count": 4,
      "metadata": {
        "id": "QuEwyN79WwoX"
      },
      "outputs": [],
      "source": [
        "X, y = diabetes.data, diabetes.target"
      ]
    },
    {
      "cell_type": "code",
      "execution_count": 5,
      "metadata": {
        "id": "SGLH0Xf3WwoX"
      },
      "outputs": [],
      "source": [
        "X_train, X_test, y_train, y_test = train_test_split(X, y, random_state = 22)"
      ]
    },
    {
      "cell_type": "code",
      "source": [
        "from sklearn.metrics import mean_squared_error"
      ],
      "metadata": {
        "id": "t5x7nSeYiZXj"
      },
      "execution_count": 6,
      "outputs": []
    },
    {
      "cell_type": "code",
      "execution_count": 19,
      "metadata": {
        "id": "qhQiWTtFWwoX",
        "colab": {
          "base_uri": "https://localhost:8080/"
        },
        "outputId": "48993d67-020d-4494-d6e9-933a653e4e23"
      },
      "outputs": [
        {
          "output_type": "execute_result",
          "data": {
            "text/plain": [
              "3180.500140787191"
            ]
          },
          "metadata": {},
          "execution_count": 19
        }
      ],
      "source": [
        "lin_reg_model = LinearRegression()\n",
        "lin_reg_model.fit(X_train, y_train)\n",
        "y_pred = lin_reg_model.predict(X_test)\n",
        "mean_squared_error(y_test, y_pred)"
      ]
    },
    {
      "cell_type": "code",
      "execution_count": 25,
      "metadata": {
        "id": "SbUL7Cj5WwoX",
        "colab": {
          "base_uri": "https://localhost:8080/"
        },
        "outputId": "c0512f39-42c8-471c-9705-53e901f3ec82"
      },
      "outputs": [
        {
          "output_type": "execute_result",
          "data": {
            "text/plain": [
              "3177.0975665792726"
            ]
          },
          "metadata": {},
          "execution_count": 25
        }
      ],
      "source": [
        "ridge_model = Ridge(random_state = 42, alpha=.1)\n",
        "ridge_model.fit(X_train, y_train)\n",
        "y_pred = ridge_model.predict(X_test)\n",
        "mean_squared_error(y_test, y_pred)"
      ]
    },
    {
      "cell_type": "code",
      "execution_count": 21,
      "metadata": {
        "id": "eU3OmSUWWwoY",
        "colab": {
          "base_uri": "https://localhost:8080/"
        },
        "outputId": "c8f0922f-15d0-451a-c48f-ea00fd81771a"
      },
      "outputs": [
        {
          "output_type": "execute_result",
          "data": {
            "text/plain": [
              "5256.9021760559435"
            ]
          },
          "metadata": {},
          "execution_count": 21
        }
      ],
      "source": [
        "svr_model = SVR()\n",
        "svr_model.fit(X_train, y_train)\n",
        "y_pred = svr_model.predict(X_test)\n",
        "mean_squared_error(y_test, y_pred)"
      ]
    },
    {
      "cell_type": "markdown",
      "source": [
        "**Neural Net Aside**\n",
        "\n",
        "- [Playground](https://playground.tensorflow.org/#activation=tanh&batchSize=10&dataset=circle&regDataset=reg-plane&learningRate=0.03&regularizationRate=0&noise=0&networkShape=4,2&seed=0.67022&showTestData=false&discretize=false&percTrainData=50&x=true&y=true&xTimesY=false&xSquared=false&ySquared=false&cosX=false&sinX=false&cosY=false&sinY=false&collectStats=false&problem=classification&initZero=false&hideText=false)"
      ],
      "metadata": {
        "id": "_pZaOc5FgENe"
      }
    },
    {
      "cell_type": "markdown",
      "metadata": {
        "id": "PNNirOJEWwoY"
      },
      "source": [
        "### `pytorch` tensors - similar to numpy arrays with extra features"
      ]
    },
    {
      "cell_type": "code",
      "execution_count": null,
      "metadata": {
        "id": "KtniK-iVWwoY"
      },
      "outputs": [],
      "source": [
        "# !pip install torch -U"
      ]
    },
    {
      "cell_type": "code",
      "execution_count": 26,
      "metadata": {
        "id": "b8pdpXjAWwoY"
      },
      "outputs": [],
      "source": [
        "import torch\n",
        "import torch.nn as nn"
      ]
    },
    {
      "cell_type": "code",
      "execution_count": 27,
      "metadata": {
        "id": "61oRYcg0WwoY"
      },
      "outputs": [],
      "source": [
        "#create a weight and bias vector\n",
        "w = torch.tensor(3.0, requires_grad = True)\n",
        "b = torch.tensor(1.0, requires_grad = True)"
      ]
    },
    {
      "cell_type": "code",
      "execution_count": 28,
      "metadata": {
        "id": "zwB0dcJWWwoY",
        "colab": {
          "base_uri": "https://localhost:8080/"
        },
        "outputId": "7ee8399c-03d5-479c-b1c1-f44b7d827663"
      },
      "outputs": [
        {
          "output_type": "execute_result",
          "data": {
            "text/plain": [
              "tensor(3., requires_grad=True)"
            ]
          },
          "metadata": {},
          "execution_count": 28
        }
      ],
      "source": [
        "#look at the weight\n",
        "w"
      ]
    },
    {
      "cell_type": "code",
      "execution_count": 29,
      "metadata": {
        "id": "THk4NepoWwoY"
      },
      "outputs": [],
      "source": [
        "#feed it forward\n",
        "def feedforward(x):\n",
        "   return w*x + b"
      ]
    },
    {
      "cell_type": "code",
      "execution_count": 30,
      "metadata": {
        "id": "L_Mr7ofYWwoY"
      },
      "outputs": [],
      "source": [
        "#create input\n",
        "x = torch.tensor([[5], [2]])"
      ]
    },
    {
      "cell_type": "code",
      "execution_count": 31,
      "metadata": {
        "id": "-UlDyjbGWwoY",
        "colab": {
          "base_uri": "https://localhost:8080/"
        },
        "outputId": "ad5686c0-a73c-4bd2-fa18-6eb8223955ce"
      },
      "outputs": [
        {
          "output_type": "execute_result",
          "data": {
            "text/plain": [
              "tensor([[16.],\n",
              "        [ 7.]], grad_fn=<AddBackward0>)"
            ]
          },
          "metadata": {},
          "execution_count": 31
        }
      ],
      "source": [
        "#evaluate\n",
        "feedforward(x)"
      ]
    },
    {
      "cell_type": "markdown",
      "metadata": {
        "id": "86e4GM39WwoZ"
      },
      "source": [
        "### The Simple Linear Model"
      ]
    },
    {
      "cell_type": "code",
      "execution_count": 33,
      "metadata": {
        "id": "ltA1QVxYWwoZ",
        "colab": {
          "base_uri": "https://localhost:8080/"
        },
        "outputId": "c6786961-53a0-4982-d40f-2aadd4d24d5f"
      },
      "outputs": [
        {
          "output_type": "stream",
          "name": "stdout",
          "text": [
            "Parameter containing:\n",
            "tensor([-0.7889], requires_grad=True) Parameter containing:\n",
            "tensor([[-0.9915]], requires_grad=True)\n"
          ]
        }
      ],
      "source": [
        "#set random seed\n",
        "torch.manual_seed(3)\n",
        "\n",
        "#basic linear model\n",
        "model = nn.Linear(in_features = 1, out_features = 1)\n",
        "\n",
        "#print the model\n",
        "print(model.bias, model.weight)"
      ]
    },
    {
      "cell_type": "code",
      "execution_count": 35,
      "metadata": {
        "id": "7C5NXhdOWwoZ",
        "colab": {
          "base_uri": "https://localhost:8080/"
        },
        "outputId": "fd8c4db0-5b49-467c-eb98-242beaacdceb"
      },
      "outputs": [
        {
          "output_type": "execute_result",
          "data": {
            "text/plain": [
              "tensor([-3.7633], grad_fn=<AddBackward0>)"
            ]
          },
          "metadata": {},
          "execution_count": 35
        }
      ],
      "source": [
        "#input\n",
        "x = torch.tensor([3.0])\n",
        "#pass to model\n",
        "model(x)"
      ]
    },
    {
      "cell_type": "markdown",
      "metadata": {
        "id": "bJaBflL4WwoZ"
      },
      "source": [
        "Now, we will create a class that inherits from the `nn.Module` and will implement our regression forward pass."
      ]
    },
    {
      "cell_type": "code",
      "execution_count": 37,
      "metadata": {
        "id": "RrVFFuUZWwoZ"
      },
      "outputs": [],
      "source": [
        "#linear regression class\n",
        "class LinearRegression(nn.Module):\n",
        "\n",
        "  def __init__(self, num_features, output_size):\n",
        "    super().__init__()\n",
        "    self.linear = nn.Linear(num_features, output_size)\n",
        "\n",
        "  def feedforward(self, x):\n",
        "    return self.linear(x)"
      ]
    },
    {
      "cell_type": "code",
      "execution_count": 38,
      "metadata": {
        "id": "XhcGCtAmWwoZ"
      },
      "outputs": [],
      "source": [
        "#seed and pass input 2, 1\n",
        "torch.manual_seed(22)\n",
        "lr = LinearRegression(1, 1)"
      ]
    },
    {
      "cell_type": "code",
      "execution_count": 40,
      "metadata": {
        "id": "fviwxLuyWwoZ",
        "colab": {
          "base_uri": "https://localhost:8080/"
        },
        "outputId": "efbab288-e3ba-4f36-a92c-81618caa1f1e"
      },
      "outputs": [
        {
          "output_type": "execute_result",
          "data": {
            "text/plain": [
              "[Parameter containing:\n",
              " tensor([[-0.2682]], requires_grad=True), Parameter containing:\n",
              " tensor([0.4050], requires_grad=True)]"
            ]
          },
          "metadata": {},
          "execution_count": 40
        }
      ],
      "source": [
        "#look at the parameters\n",
        "list(lr.parameters())"
      ]
    },
    {
      "cell_type": "code",
      "execution_count": 41,
      "metadata": {
        "id": "3CDK4xwyWwoZ"
      },
      "outputs": [],
      "source": [
        "#create an input\n",
        "x = torch.tensor([5.1])"
      ]
    },
    {
      "cell_type": "code",
      "execution_count": 42,
      "metadata": {
        "id": "f-eFNvfTWwoa",
        "colab": {
          "base_uri": "https://localhost:8080/"
        },
        "outputId": "912a0e07-c714-44e6-c2a7-f888efda4d5f"
      },
      "outputs": [
        {
          "output_type": "execute_result",
          "data": {
            "text/plain": [
              "tensor([-0.9628], grad_fn=<AddBackward0>)"
            ]
          },
          "metadata": {},
          "execution_count": 42
        }
      ],
      "source": [
        "#feed it forward\n",
        "lr.feedforward(x)"
      ]
    },
    {
      "cell_type": "markdown",
      "metadata": {
        "id": "PX7BD9ywWwoa"
      },
      "source": [
        "### Synthetic Dataset"
      ]
    },
    {
      "cell_type": "code",
      "execution_count": 43,
      "metadata": {
        "id": "NyxvNoGNWwoa"
      },
      "outputs": [],
      "source": [
        "import pandas as pd\n",
        "import matplotlib.pyplot as plt\n",
        "import numpy as np"
      ]
    },
    {
      "cell_type": "code",
      "execution_count": 44,
      "metadata": {
        "id": "bss9vp15Wwoa"
      },
      "outputs": [],
      "source": [
        "#create X and y\n",
        "X = torch.randn(100, 1)*10\n",
        "y = X + torch.randn(100, 1)*3"
      ]
    },
    {
      "cell_type": "code",
      "execution_count": 45,
      "metadata": {
        "id": "wX0mOEHNWwoa",
        "colab": {
          "base_uri": "https://localhost:8080/",
          "height": 282
        },
        "outputId": "01430b8e-5886-4830-e5b3-d0e6894a8cab"
      },
      "outputs": [
        {
          "output_type": "execute_result",
          "data": {
            "text/plain": [
              "<matplotlib.collections.PathCollection at 0x7f91cb942220>"
            ]
          },
          "metadata": {},
          "execution_count": 45
        },
        {
          "output_type": "display_data",
          "data": {
            "text/plain": [
              "<Figure size 432x288 with 1 Axes>"
            ],
            "image/png": "[encoded data removed]"
          },
          "metadata": {
            "needs_background": "light"
          }
        }
      ],
      "source": [
        "#scatter\n",
        "plt.scatter(X,y)"
      ]
    },
    {
      "cell_type": "code",
      "execution_count": 46,
      "metadata": {
        "id": "R39vILY9Wwoa",
        "colab": {
          "base_uri": "https://localhost:8080/"
        },
        "outputId": "d35f242c-a5d0-4352-ca62-23429d81a89f"
      },
      "outputs": [
        {
          "output_type": "execute_result",
          "data": {
            "text/plain": [
              "[Parameter containing:\n",
              " tensor([[-0.2682]], requires_grad=True), Parameter containing:\n",
              " tensor([0.4050], requires_grad=True)]"
            ]
          },
          "metadata": {},
          "execution_count": 46
        }
      ],
      "source": [
        "#look at our parameters\n",
        "list(lr.parameters())"
      ]
    },
    {
      "cell_type": "code",
      "execution_count": 48,
      "metadata": {
        "id": "PgS8QIgFWwoa"
      },
      "outputs": [],
      "source": [
        "#save as w, b\n",
        "[w, b] = lr.parameters()"
      ]
    },
    {
      "cell_type": "code",
      "execution_count": 49,
      "metadata": {
        "id": "BAWlc_7sWwoa"
      },
      "outputs": [],
      "source": [
        "#function to get parameters\n",
        "def get_params():\n",
        "  return w[0][0].item(), b[0].item()"
      ]
    },
    {
      "cell_type": "code",
      "execution_count": 50,
      "metadata": {
        "id": "OHT9Rc3JWwoa"
      },
      "outputs": [],
      "source": [
        "#function for plotting fit\n",
        "def plot_model_fit():\n",
        "  w1, b1 = get_params()\n",
        "  x1 = np.array([-20, 30])\n",
        "  y1 = w1*x1 + b1\n",
        "  plt.plot(x1, y1, '--r')\n",
        "  plt.scatter(X, y)"
      ]
    },
    {
      "cell_type": "code",
      "execution_count": 51,
      "metadata": {
        "id": "uzT_8CH4Wwob",
        "colab": {
          "base_uri": "https://localhost:8080/",
          "height": 265
        },
        "outputId": "aa6cfa7d-a466-4e66-b322-356ae90920a7"
      },
      "outputs": [
        {
          "output_type": "display_data",
          "data": {
            "text/plain": [
              "<Figure size 432x288 with 1 Axes>"
            ],
            "image/png": "[encoded data removed]"
          },
          "metadata": {
            "needs_background": "light"
          }
        }
      ],
      "source": [
        "#plot it\n",
        "plot_model_fit()"
      ]
    },
    {
      "cell_type": "markdown",
      "metadata": {
        "id": "Qe0Z1ckJWwob"
      },
      "source": [
        "### Improving the Fit"
      ]
    },
    {
      "cell_type": "markdown",
      "metadata": {
        "id": "FuIh-rzcWwob"
      },
      "source": [
        "$$(y - (wx + b))^2$$\n",
        "\n",
        "Choose $w$ to minimize error.\n",
        "\n",
        "$$w_1 = w_0 - \\alpha f'(w)$$"
      ]
    },
    {
      "cell_type": "code",
      "execution_count": null,
      "metadata": {
        "id": "UieNyHeJWwob"
      },
      "outputs": [],
      "source": [
        "#initial weight and intercept\n"
      ]
    },
    {
      "cell_type": "code",
      "execution_count": null,
      "metadata": {
        "id": "oRJZFYdmWwob"
      },
      "outputs": [],
      "source": [
        "#compute the loss for (x = -3)\n"
      ]
    },
    {
      "cell_type": "code",
      "execution_count": null,
      "metadata": {
        "id": "NabT8n6wWwob"
      },
      "outputs": [],
      "source": [
        "#examine it\n"
      ]
    },
    {
      "cell_type": "code",
      "execution_count": null,
      "metadata": {
        "id": "xjvW0GsBWwob"
      },
      "outputs": [],
      "source": [
        "#derivative of loss\n"
      ]
    },
    {
      "cell_type": "code",
      "execution_count": null,
      "metadata": {
        "id": "NktEhBZwWwob"
      },
      "outputs": [],
      "source": [
        "#examine it\n"
      ]
    },
    {
      "cell_type": "code",
      "execution_count": null,
      "metadata": {
        "id": "x8Ron126Wwob"
      },
      "outputs": [],
      "source": [
        "#update weight\n"
      ]
    },
    {
      "cell_type": "code",
      "execution_count": null,
      "metadata": {
        "id": "jw40HaMQWwob"
      },
      "outputs": [],
      "source": []
    },
    {
      "cell_type": "markdown",
      "metadata": {
        "id": "2V7_I6grWwoc"
      },
      "source": [
        "Typically we also have bias term and update according to gradients.\n",
        "\n",
        "$$m_1 = m_0 - \\alpha f'(m)$$\n",
        "$$b_1 = b_0 - \\alpha f'(b)$$"
      ]
    },
    {
      "cell_type": "markdown",
      "metadata": {
        "id": "iu5zOA-VWwoc"
      },
      "source": [
        "### Implementing in PyTorch"
      ]
    },
    {
      "cell_type": "code",
      "execution_count": null,
      "metadata": {
        "id": "FYwoM80EWwoc"
      },
      "outputs": [],
      "source": [
        "#class for regression\n"
      ]
    },
    {
      "cell_type": "code",
      "execution_count": null,
      "metadata": {
        "id": "QypP9MzNWwoc"
      },
      "outputs": [],
      "source": [
        "#seed and make data\n"
      ]
    },
    {
      "cell_type": "code",
      "execution_count": null,
      "metadata": {
        "id": "T0qghqfQWwoc"
      },
      "outputs": [],
      "source": [
        "#instantiate the model\n"
      ]
    },
    {
      "cell_type": "code",
      "execution_count": 57,
      "metadata": {
        "id": "rt4ZTQyGWwoc"
      },
      "outputs": [],
      "source": [
        "lr = LinearRegression(1, 1)"
      ]
    },
    {
      "cell_type": "code",
      "execution_count": 58,
      "metadata": {
        "id": "0UQaWACtWwoc"
      },
      "outputs": [],
      "source": [
        "#set the loss\n",
        "loss = nn.MSELoss()"
      ]
    },
    {
      "cell_type": "code",
      "execution_count": 59,
      "metadata": {
        "id": "JW1SqtApWwoc"
      },
      "outputs": [],
      "source": [
        "#set the optimizer\n",
        "optimizer = torch.optim.SGD(lr.parameters(), lr = 0.01)"
      ]
    },
    {
      "cell_type": "code",
      "execution_count": null,
      "metadata": {
        "id": "9DxwPj3PWwoc"
      },
      "outputs": [],
      "source": []
    },
    {
      "cell_type": "code",
      "execution_count": 60,
      "metadata": {
        "id": "aQyuCzSIWwoc",
        "colab": {
          "base_uri": "https://localhost:8080/"
        },
        "outputId": "ae5d5583-7752-45d5-c069-f98b50f0a990"
      },
      "outputs": [
        {
          "output_type": "stream",
          "name": "stdout",
          "text": [
            "Epoch 0, loss: 10.47205924987793\n",
            "Epoch 10, loss: 9.372743606567383\n",
            "Epoch 20, loss: 9.317272186279297\n",
            "Epoch 30, loss: 9.280318260192871\n",
            "Epoch 40, loss: 9.255642890930176\n",
            "Epoch 50, loss: 9.239168167114258\n",
            "Epoch 60, loss: 9.228167533874512\n",
            "Epoch 70, loss: 9.22082233428955\n",
            "Epoch 80, loss: 9.215917587280273\n",
            "Epoch 90, loss: 9.212642669677734\n"
          ]
        }
      ],
      "source": [
        "#train it\n",
        "epochs = 100\n",
        "losses = []\n",
        "\n",
        "for i in range(epochs):\n",
        "    #feed data forward\n",
        "    y_hat = lr.feedforward(X)\n",
        "   \n",
        "    #compute the loss\n",
        "    l = loss(y_hat, y)\n",
        "    if i%10 == 0:\n",
        "      print(f'Epoch {i}, loss: {l.item()}')\n",
        "    losses.append(l)\n",
        "    optimizer.zero_grad() #zeroing out to not consider the accummulated gradient\n",
        "    l.backward() # computing new gradients\n",
        "    optimizer.step() # sgd using computed gradients"
      ]
    },
    {
      "cell_type": "code",
      "execution_count": 65,
      "metadata": {
        "id": "SRLLxitkWwoc",
        "colab": {
          "base_uri": "https://localhost:8080/",
          "height": 184
        },
        "outputId": "3e1f181a-980b-44de-a1cf-94819c85c838"
      },
      "outputs": [
        {
          "output_type": "error",
          "ename": "AttributeError",
          "evalue": "ignored",
          "traceback": [
            "\u001b[0;31m---------------------------------------------------------------------------\u001b[0m",
            "\u001b[0;31mAttributeError\u001b[0m                            Traceback (most recent call last)",
            "\u001b[0;32m<ipython-input-65-a29b3d22d357>\u001b[0m in \u001b[0;36m<module>\u001b[0;34m\u001b[0m\n\u001b[1;32m      1\u001b[0m \u001b[0;31m#plot the losses\u001b[0m\u001b[0;34m\u001b[0m\u001b[0;34m\u001b[0m\u001b[0m\n\u001b[0;32m----> 2\u001b[0;31m \u001b[0mplt\u001b[0m\u001b[0;34m.\u001b[0m\u001b[0mline\u001b[0m\u001b[0;34m(\u001b[0m\u001b[0mlosses\u001b[0m\u001b[0;34m)\u001b[0m\u001b[0;34m\u001b[0m\u001b[0;34m\u001b[0m\u001b[0m\n\u001b[0m",
            "\u001b[0;31mAttributeError\u001b[0m: module 'matplotlib.pyplot' has no attribute 'line'"
          ]
        }
      ],
      "source": [
        "#plot the losses\n",
        "plt.line(losses)"
      ]
    },
    {
      "cell_type": "code",
      "execution_count": 62,
      "metadata": {
        "id": "yEL7pePkWwod"
      },
      "outputs": [],
      "source": [
        "#examine the fit\n",
        "w, b = lr.parameters()"
      ]
    },
    {
      "cell_type": "code",
      "execution_count": 63,
      "metadata": {
        "id": "AyXki79LWwod",
        "colab": {
          "base_uri": "https://localhost:8080/"
        },
        "outputId": "8d6989f7-49c0-493e-e708-e9e40516099e"
      },
      "outputs": [
        {
          "output_type": "execute_result",
          "data": {
            "text/plain": [
              "Parameter containing:\n",
              "tensor([[0.9860]], requires_grad=True)"
            ]
          },
          "metadata": {},
          "execution_count": 63
        }
      ],
      "source": [
        "#weight\n",
        "w"
      ]
    },
    {
      "cell_type": "code",
      "execution_count": 64,
      "metadata": {
        "id": "Qzk17XPJWwod",
        "colab": {
          "base_uri": "https://localhost:8080/"
        },
        "outputId": "5b22b30c-7149-44b8-f016-0b28fc85b84c"
      },
      "outputs": [
        {
          "output_type": "execute_result",
          "data": {
            "text/plain": [
              "Parameter containing:\n",
              "tensor([0.2833], requires_grad=True)"
            ]
          },
          "metadata": {},
          "execution_count": 64
        }
      ],
      "source": [
        "#bias\n",
        "b"
      ]
    },
    {
      "cell_type": "markdown",
      "metadata": {
        "id": "6fxOyPp-Wwod"
      },
      "source": [
        "### Using with Data"
      ]
    },
    {
      "cell_type": "code",
      "execution_count": null,
      "metadata": {
        "id": "kkPuRcjOWwod"
      },
      "outputs": [],
      "source": [
        "from sklearn.model_selection import train_test_split"
      ]
    },
    {
      "cell_type": "code",
      "execution_count": null,
      "metadata": {
        "id": "DavcEPnmWwod"
      },
      "outputs": [],
      "source": [
        "from sklearn.preprocessing import StandardScaler"
      ]
    },
    {
      "cell_type": "code",
      "execution_count": null,
      "metadata": {
        "id": "0_KQcnvgWwod"
      },
      "outputs": [],
      "source": [
        "sscaler = StandardScaler()"
      ]
    },
    {
      "cell_type": "code",
      "source": [
        "x_train = torch.tensor(X_train, dtype = torch.float)\n",
        "x_test = torch.tensor(X_test, dtype = torch.float)\n",
        "y_train = torch.tensor(y_train, dtype = torch.float).reshape(-1, 1)\n",
        "y_test = torch.tensor(y_test, dtype = torch.float).reshape(-1, 1)"
      ],
      "metadata": {
        "id": "ycXvxJRYY4Nk"
      },
      "execution_count": null,
      "outputs": []
    },
    {
      "cell_type": "code",
      "source": [
        "model = nn.Sequential(\n",
        "            nn.Linear(x_train.shape[1], 200),\n",
        "            nn.Linear(200, 1))"
      ],
      "metadata": {
        "id": "u3wzwhNXY4Jr"
      },
      "execution_count": null,
      "outputs": []
    },
    {
      "cell_type": "code",
      "source": [
        "model(x_train)"
      ],
      "metadata": {
        "id": "VlVOv3uaY4GN"
      },
      "execution_count": null,
      "outputs": []
    },
    {
      "cell_type": "code",
      "source": [
        "loss = nn.MSELoss()\n",
        "optimizer = torch.optim.Adam(model.parameters(), lr = 0.001)"
      ],
      "metadata": {
        "id": "FWULh-RuY4CG"
      },
      "execution_count": null,
      "outputs": []
    },
    {
      "cell_type": "code",
      "source": [
        "epochs = 1000\n",
        "losses = []\n",
        "for i in range(epochs):\n",
        "    y_pred = model(x_train)\n",
        "    l = loss(y_pred, y_train)\n",
        "    if i%100 == 0:\n",
        "        print(f'epoch {i}, loss: {l.item()}')\n",
        "    losses.append(l)\n",
        "    optimizer.zero_grad()\n",
        "    l.backward()\n",
        "    optimizer.step()"
      ],
      "metadata": {
        "id": "5NpdToPLY3-e"
      },
      "execution_count": null,
      "outputs": []
    },
    {
      "cell_type": "code",
      "source": [
        "with torch.no_grad():\n",
        "    preds = model(x_test)"
      ],
      "metadata": {
        "id": "3TryT7PhY37F"
      },
      "execution_count": null,
      "outputs": []
    },
    {
      "cell_type": "code",
      "source": [
        "mean_squared_error(y_test, np.array(preds))"
      ],
      "metadata": {
        "id": "RRDhXLVTY3zx"
      },
      "execution_count": null,
      "outputs": []
    },
    {
      "cell_type": "code",
      "source": [],
      "metadata": {
        "id": "nXvvHOPnY3wZ"
      },
      "execution_count": null,
      "outputs": []
    },
    {
      "cell_type": "code",
      "source": [],
      "metadata": {
        "id": "lJsdRwfbY3tQ"
      },
      "execution_count": null,
      "outputs": []
    },
    {
      "cell_type": "code",
      "source": [],
      "metadata": {
        "id": "VnL6YL4cY3pX"
      },
      "execution_count": null,
      "outputs": []
    },
    {
      "cell_type": "markdown",
      "source": [
        "#### Problem\n",
        "\n",
        "Modeling Medical Costs\n",
        "\n",
        "The dataset comes from [kaggle](https://www.kaggle.com/datasets/mirichoi0218/insurance?resource=download) and contains information about medical costs.  You can access the data through your google drive or simply upload it to your session in colab -- [link](https://drive.google.com/file/d/1n2qVWbZ5QRi-NX4S_D_vmxiSxIDUaiUU/view?usp=sharing).\n",
        "\n",
        "Build a model with `pytorch` to predict medical costs.  Compare its performance to models using `sklearn` including `LinearRegression` and `Ridge`."
      ],
      "metadata": {
        "id": "4zgURf00aFjL"
      }
    },
    {
      "cell_type": "code",
      "source": [
        "df = pd.read_csv('insurance.csv')"
      ],
      "metadata": {
        "id": "mQAZ9N3laWa7"
      },
      "execution_count": null,
      "outputs": []
    },
    {
      "cell_type": "code",
      "source": [
        "df.head()"
      ],
      "metadata": {
        "id": "T0533gWsaWBr"
      },
      "execution_count": null,
      "outputs": []
    },
    {
      "cell_type": "code",
      "source": [
        "df.info()"
      ],
      "metadata": {
        "id": "NfX3DYZPaV9h"
      },
      "execution_count": null,
      "outputs": []
    },
    {
      "cell_type": "code",
      "source": [],
      "metadata": {
        "id": "TjmBT7GUaV6Y"
      },
      "execution_count": null,
      "outputs": []
    },
    {
      "cell_type": "code",
      "source": [],
      "metadata": {
        "id": "JrEEeHT-aV3i"
      },
      "execution_count": null,
      "outputs": []
    },
    {
      "cell_type": "code",
      "source": [],
      "metadata": {
        "id": "_2IJ2Q7LaV0p"
      },
      "execution_count": null,
      "outputs": []
    },
    {
      "cell_type": "code",
      "source": [],
      "metadata": {
        "id": "pxopdXUPaVxx"
      },
      "execution_count": null,
      "outputs": []
    },
    {
      "cell_type": "code",
      "source": [],
      "metadata": {
        "id": "YPiVhbftbdy9"
      },
      "execution_count": null,
      "outputs": []
    },
    {
      "cell_type": "code",
      "source": [],
      "metadata": {
        "id": "kUHxUi0bbduh"
      },
      "execution_count": null,
      "outputs": []
    },
    {
      "cell_type": "code",
      "source": [],
      "metadata": {
        "id": "qc3QhW-_bdqo"
      },
      "execution_count": null,
      "outputs": []
    },
    {
      "cell_type": "code",
      "source": [],
      "metadata": {
        "id": "lFLB8jIYbdmN"
      },
      "execution_count": null,
      "outputs": []
    },
    {
      "cell_type": "markdown",
      "metadata": {
        "id": "P5G9U419Wwod"
      },
      "source": [
        "### Classification"
      ]
    },
    {
      "cell_type": "code",
      "execution_count": null,
      "metadata": {
        "id": "G7rdJ7KQWwod"
      },
      "outputs": [],
      "source": [
        "from sklearn.datasets import load_breast_cancer"
      ]
    },
    {
      "cell_type": "code",
      "execution_count": null,
      "metadata": {
        "id": "bas4Ba9eWwod"
      },
      "outputs": [],
      "source": [
        "cancer = load_breast_cancer()"
      ]
    },
    {
      "cell_type": "code",
      "execution_count": null,
      "metadata": {
        "id": "kwrt2HA3Wwod"
      },
      "outputs": [],
      "source": [
        "X = cancer.data\n",
        "y = cancer.target"
      ]
    },
    {
      "cell_type": "code",
      "execution_count": null,
      "metadata": {
        "id": "2HrBpr8MWwod"
      },
      "outputs": [],
      "source": [
        "from sklearn.preprocessing import StandardScaler"
      ]
    },
    {
      "cell_type": "code",
      "execution_count": null,
      "metadata": {
        "id": "lSpLaxrqWwoe"
      },
      "outputs": [],
      "source": [
        "sscaler = StandardScaler()"
      ]
    },
    {
      "cell_type": "code",
      "execution_count": null,
      "metadata": {
        "id": "9dJ9U6e8Wwoe"
      },
      "outputs": [],
      "source": [
        "X = sscaler.fit_transform(X)"
      ]
    },
    {
      "cell_type": "code",
      "execution_count": null,
      "metadata": {
        "id": "SrAXpOmtWwoe"
      },
      "outputs": [],
      "source": [
        "#classifier class\n"
      ]
    },
    {
      "cell_type": "code",
      "execution_count": null,
      "metadata": {
        "id": "CCfVjkV_Wwoe"
      },
      "outputs": [],
      "source": [
        "#instantiate it\n"
      ]
    },
    {
      "cell_type": "code",
      "execution_count": null,
      "metadata": {
        "id": "JQ9sSz87Wwoe"
      },
      "outputs": [],
      "source": [
        "#move from numpy\n"
      ]
    },
    {
      "cell_type": "code",
      "execution_count": null,
      "metadata": {
        "id": "xWkygBJ_Wwoe"
      },
      "outputs": [],
      "source": [
        "#function for training\n"
      ]
    },
    {
      "cell_type": "code",
      "execution_count": null,
      "metadata": {
        "id": "U6RgEcuwWwoe"
      },
      "outputs": [],
      "source": [
        "#reshaping y\n"
      ]
    },
    {
      "cell_type": "code",
      "execution_count": null,
      "metadata": {
        "id": "0dEQN48vWwoe"
      },
      "outputs": [],
      "source": [
        "#optimizer\n"
      ]
    },
    {
      "cell_type": "code",
      "execution_count": null,
      "metadata": {
        "id": "A0eH6nceWwoe"
      },
      "outputs": [],
      "source": [
        "#train it\n"
      ]
    },
    {
      "cell_type": "code",
      "execution_count": null,
      "metadata": {
        "id": "aJE-NR1GWwoe"
      },
      "outputs": [],
      "source": [
        "#make predictions\n"
      ]
    },
    {
      "cell_type": "code",
      "execution_count": null,
      "metadata": {
        "id": "FiIdO-V7Wwof"
      },
      "outputs": [],
      "source": [
        "from sklearn.metrics import confusion_matrix"
      ]
    },
    {
      "cell_type": "code",
      "execution_count": null,
      "metadata": {
        "id": "3aBVIOgiWwof"
      },
      "outputs": [],
      "source": [
        "#look at confusion matrix\n"
      ]
    },
    {
      "cell_type": "markdown",
      "metadata": {
        "id": "ePg8gHPvWwof"
      },
      "source": [
        "### Pretrained Network"
      ]
    },
    {
      "cell_type": "code",
      "execution_count": null,
      "metadata": {
        "id": "0-Wbm0sgWwof"
      },
      "outputs": [],
      "source": [
        "from torchvision import models"
      ]
    },
    {
      "cell_type": "code",
      "execution_count": null,
      "metadata": {
        "id": "NwNYIEXGWwof"
      },
      "outputs": [],
      "source": [
        "#models available\n",
        "dir(models)"
      ]
    },
    {
      "cell_type": "code",
      "execution_count": null,
      "metadata": {
        "id": "t70lvX4fWwof"
      },
      "outputs": [],
      "source": [
        "from PIL import Image"
      ]
    },
    {
      "cell_type": "code",
      "execution_count": null,
      "metadata": {
        "id": "Qyujbne7Wwof"
      },
      "outputs": [],
      "source": [
        "#read in using PIL\n",
        "dog = Image.open('data/len_2.jpg')"
      ]
    },
    {
      "cell_type": "code",
      "execution_count": null,
      "metadata": {
        "id": "ksxmBXmPWwof"
      },
      "outputs": [],
      "source": [
        "#take a peek\n",
        "plt.imshow(dog)\n",
        "plt.title('Lenny')\n",
        "plt.axis('off');"
      ]
    },
    {
      "cell_type": "code",
      "execution_count": null,
      "metadata": {
        "id": "pbUvD8yHWwof"
      },
      "outputs": [],
      "source": [
        "#bring in resnet\n",
        "resnet = models.resnet101(pretrained = True)\n",
        "#resnet.eval()"
      ]
    },
    {
      "cell_type": "code",
      "execution_count": null,
      "metadata": {
        "id": "kLPQndT9Wwof"
      },
      "outputs": [],
      "source": [
        "from torchvision import transforms"
      ]
    },
    {
      "cell_type": "code",
      "execution_count": null,
      "metadata": {
        "id": "7DMECGRDWwof"
      },
      "outputs": [],
      "source": [
        "#preprocess image\n",
        "preprocess = transforms.Compose([transforms.ToTensor(),\n",
        "                                 transforms.Normalize(\n",
        "                                 mean = [0.485, .456, .406],\n",
        "                                 std=[0.229, 0.224, 0.225])])\n"
      ]
    },
    {
      "cell_type": "code",
      "execution_count": null,
      "metadata": {
        "id": "pQAdYmR9Wwog"
      },
      "outputs": [],
      "source": [
        "#preprocess the dog\n",
        "lenny = preprocess(dog)\n",
        "#lenny2 = preprocess(dog2)"
      ]
    },
    {
      "cell_type": "code",
      "execution_count": null,
      "metadata": {
        "id": "ZcMt-o7gWwog"
      },
      "outputs": [],
      "source": [
        "#dimension fix\n",
        "batch_lenny = torch.unsqueeze(lenny, 0)"
      ]
    },
    {
      "cell_type": "code",
      "execution_count": null,
      "metadata": {
        "id": "w2a4Wy-GWwog"
      },
      "outputs": [],
      "source": [
        "#pass in image\n",
        "out = resnet(batch_lenny)"
      ]
    },
    {
      "cell_type": "code",
      "execution_count": null,
      "metadata": {
        "id": "nQmFTNhFWwog"
      },
      "outputs": [],
      "source": [
        "#labels of imagenet classes\n",
        "with open('data/imagenet_classes.txt') as f:\n",
        "    labels = [line.strip() for line in f.readlines()]"
      ]
    },
    {
      "cell_type": "code",
      "execution_count": null,
      "metadata": {
        "id": "5iocNwsRWwog"
      },
      "outputs": [],
      "source": [
        "#highest probability\n",
        "_, index = torch.max(out, 1)"
      ]
    },
    {
      "cell_type": "code",
      "execution_count": null,
      "metadata": {
        "id": "pk_XuvgLWwog"
      },
      "outputs": [],
      "source": [
        "#change output to percent\n",
        "percent = torch.nn.functional.softmax(out, dim=1)[0]*100\n",
        "labels[index[0]], percent[index[0]].item()"
      ]
    },
    {
      "cell_type": "code",
      "execution_count": null,
      "metadata": {
        "id": "KPvIRFyiWwog"
      },
      "outputs": [],
      "source": [
        "_, indices = torch.sort(out, descending = True)\n",
        "[(labels[idx], percent[idx].item()) for idx in indices[0][:10]]"
      ]
    },
    {
      "cell_type": "markdown",
      "metadata": {
        "id": "6geo1eIJWwog"
      },
      "source": [
        "### `deeplabv2_resnet101`\n",
        "\n",
        "A second model that performs semantic segmentation.  Here, we aim at each pixel and use the pretrained classes to identify whether pixels are part of these categories. "
      ]
    },
    {
      "cell_type": "code",
      "execution_count": null,
      "metadata": {
        "id": "ABCndf8cWwog"
      },
      "outputs": [],
      "source": [
        "model = torch.hub.load('pytorch/vision:v0.6.0', 'deeplabv3_resnet101', pretrained=True)"
      ]
    },
    {
      "cell_type": "code",
      "execution_count": null,
      "metadata": {
        "id": "zBuGYznMWwog"
      },
      "outputs": [],
      "source": [
        "#set to evaluation mode so channels are not an issue\n",
        "model.eval()\n",
        "with torch.no_grad():\n",
        "    outtie = model(batch_lenny)"
      ]
    },
    {
      "cell_type": "code",
      "execution_count": null,
      "metadata": {
        "id": "Q391Lw-tWwog"
      },
      "outputs": [],
      "source": [
        "outtie.keys()"
      ]
    },
    {
      "cell_type": "code",
      "execution_count": null,
      "metadata": {
        "id": "Mkzc5dtxWwog"
      },
      "outputs": [],
      "source": [
        "output_preds = outtie['out'][0].argmax(0)"
      ]
    },
    {
      "cell_type": "code",
      "execution_count": null,
      "metadata": {
        "id": "K-Bp7kSVWwoh"
      },
      "outputs": [],
      "source": [
        "palette = torch.tensor([2 ** 25 - 1, 2 ** 15 - 1, 2 ** 21 - 1])\n",
        "colors = torch.as_tensor([i for i in range(21)])[:, None] * palette\n",
        "colors = (colors % 255).numpy().astype(\"uint8\")"
      ]
    },
    {
      "cell_type": "code",
      "execution_count": null,
      "metadata": {
        "id": "Mr_zZpwQWwoh"
      },
      "outputs": [],
      "source": [
        "# plot the semantic segmentation predictions of 21 classes in each color\n",
        "lenny_segments = Image.fromarray(output_preds.byte().cpu().numpy()).resize(dog.size)\n",
        "lenny_segments.putpalette(colors)"
      ]
    },
    {
      "cell_type": "code",
      "execution_count": null,
      "metadata": {
        "id": "nC04StJiWwoh"
      },
      "outputs": [],
      "source": [
        "plt.imshow(lenny_segments)\n",
        "plt.axis('off');\n",
        "plt.title('Bucket Head Lenny');"
      ]
    },
    {
      "cell_type": "markdown",
      "metadata": {
        "id": "xlz8UCSjWwoh"
      },
      "source": [
        "### More pretrained models\n",
        "\n",
        "- [Torchvision models: Semantic Segmentation](https://pytorch.org/vision/0.8/models.html#semantic-segmentation)\n",
        "\n",
        "- [Basic Convnet with Pytorch](https://pytorch.org/tutorials/recipes/recipes/defining_a_neural_network.html)"
      ]
    }
  ],
  "metadata": {
    "kernelspec": {
      "display_name": "Python 3 (ipykernel)",
      "language": "python",
      "name": "python3"
    },
    "language_info": {
      "codemirror_mode": {
        "name": "ipython",
        "version": 3
      },
      "file_extension": ".py",
      "mimetype": "text/x-python",
      "name": "python",
      "nbconvert_exporter": "python",
      "pygments_lexer": "ipython3",
      "version": "3.8.5"
    },
    "colab": {
      "provenance": [],
      "include_colab_link": true
    }
  },
  "nbformat": 4,
  "nbformat_minor": 0
}