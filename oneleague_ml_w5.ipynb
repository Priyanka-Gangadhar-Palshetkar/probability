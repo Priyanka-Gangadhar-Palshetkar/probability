{
  "cells": [
    {
      "cell_type": "markdown",
      "metadata": {
        "id": "view-in-github",
        "colab_type": "text"
      },
      "source": [
        "<a href=\"https://colab.research.google.com/github/iPrinka/MITx-Micromasters-Statistics-Data-Science/blob/main/oneleague_ml_w5.ipynb\" target=\"_parent\"><img src=\"https://colab.research.google.com/assets/colab-badge.svg\" alt=\"Open In Colab\"/></a>"
      ]
    },
    {
      "cell_type": "markdown",
      "metadata": {
        "id": "-EzzW8PlWwoV"
      },
      "source": [
        "# Introduction to PyTorch\n",
        "\n",
        "**OBJECTIVES**\n",
        "\n",
        "- Introduce `pytorch` and tensors\n",
        "- Use `pytorch` to build basic regression models\n",
        "- Implement basic linear regression with `pytorch`\n"
      ]
    },
    {
      "cell_type": "markdown",
      "metadata": {
        "id": "zOnNRJpUWwoW"
      },
      "source": [
        "#### Modeling Review"
      ]
    },
    {
      "cell_type": "code",
      "execution_count": null,
      "metadata": {
        "tags": [],
        "id": "YMpksdA3WwoW"
      },
      "outputs": [],
      "source": [
        "from sklearn.datasets import load_diabetes\n",
        "from sklearn.model_selection import train_test_split \n",
        "from sklearn.linear_model import LinearRegression, Ridge\n",
        "from sklearn.svm import SVR \n",
        "from sklearn.preprocessing import StandardScaler \n",
        "from sklearn.pipeline import Pipeline\n",
        "\n",
        "import numpy as np \n",
        "import matplotlib.pyplot as plt \n",
        "import pandas as pd\n",
        "\n",
        "import torch"
      ]
    },
    {
      "cell_type": "markdown",
      "source": [
        "**PROBLEM**: Use the diabetes data and description below to build and compare regression models using `sklearn`. (`LinearRegression`, `Ridge`, and `SVR`)  Identify a model that returns the lowest Mean Squared Error."
      ],
      "metadata": {
        "id": "k8VwJseYX6nO"
      }
    },
    {
      "cell_type": "code",
      "execution_count": null,
      "metadata": {
        "id": "KzLk38OtWwoX"
      },
      "outputs": [],
      "source": [
        "diabetes = load_diabetes()"
      ]
    },
    {
      "cell_type": "code",
      "execution_count": null,
      "metadata": {
        "id": "ctK5-Rx4WwoX"
      },
      "outputs": [],
      "source": [
        "print(diabetes.DESCR)"
      ]
    },
    {
      "cell_type": "code",
      "execution_count": null,
      "metadata": {
        "id": "QuEwyN79WwoX"
      },
      "outputs": [],
      "source": [
        "X, y = diabetes.data, diabetes.target"
      ]
    },
    {
      "cell_type": "code",
      "execution_count": null,
      "metadata": {
        "id": "SGLH0Xf3WwoX"
      },
      "outputs": [],
      "source": [
        "X_train, X_test, y_train, y_test = train_test_split(X, y, random_state = 22)"
      ]
    },
    {
      "cell_type": "code",
      "execution_count": null,
      "metadata": {
        "id": "qhQiWTtFWwoX"
      },
      "outputs": [],
      "source": []
    },
    {
      "cell_type": "code",
      "execution_count": null,
      "metadata": {
        "id": "SbUL7Cj5WwoX"
      },
      "outputs": [],
      "source": []
    },
    {
      "cell_type": "code",
      "execution_count": null,
      "metadata": {
        "id": "eU3OmSUWWwoY"
      },
      "outputs": [],
      "source": []
    },
    {
      "cell_type": "code",
      "source": [],
      "metadata": {
        "id": "oyWc7E8uX5pw"
      },
      "execution_count": null,
      "outputs": []
    },
    {
      "cell_type": "code",
      "source": [],
      "metadata": {
        "id": "orUMrO_jX5i_"
      },
      "execution_count": null,
      "outputs": []
    },
    {
      "cell_type": "markdown",
      "source": [
        "**Neural Net Aside**\n",
        "\n",
        "- [Playground](https://playground.tensorflow.org/#activation=tanh&batchSize=10&dataset=circle&regDataset=reg-plane&learningRate=0.03&regularizationRate=0&noise=0&networkShape=4,2&seed=0.67022&showTestData=false&discretize=false&percTrainData=50&x=true&y=true&xTimesY=false&xSquared=false&ySquared=false&cosX=false&sinX=false&cosY=false&sinY=false&collectStats=false&problem=classification&initZero=false&hideText=false)"
      ],
      "metadata": {
        "id": "_pZaOc5FgENe"
      }
    },
    {
      "cell_type": "markdown",
      "metadata": {
        "id": "PNNirOJEWwoY"
      },
      "source": [
        "### `pytorch` tensors"
      ]
    },
    {
      "cell_type": "code",
      "execution_count": null,
      "metadata": {
        "id": "KtniK-iVWwoY"
      },
      "outputs": [],
      "source": [
        "# !pip install torch -U"
      ]
    },
    {
      "cell_type": "code",
      "execution_count": null,
      "metadata": {
        "id": "b8pdpXjAWwoY"
      },
      "outputs": [],
      "source": [
        "import torch\n",
        "import torch.nn as nn"
      ]
    },
    {
      "cell_type": "code",
      "execution_count": null,
      "metadata": {
        "id": "61oRYcg0WwoY"
      },
      "outputs": [],
      "source": [
        "#create a weight and bias vector\n"
      ]
    },
    {
      "cell_type": "code",
      "execution_count": null,
      "metadata": {
        "id": "zwB0dcJWWwoY"
      },
      "outputs": [],
      "source": [
        "#look at the weight\n"
      ]
    },
    {
      "cell_type": "code",
      "execution_count": null,
      "metadata": {
        "id": "THk4NepoWwoY"
      },
      "outputs": [],
      "source": [
        "#feed it forward\n"
      ]
    },
    {
      "cell_type": "code",
      "execution_count": null,
      "metadata": {
        "id": "L_Mr7ofYWwoY"
      },
      "outputs": [],
      "source": [
        "#create input\n"
      ]
    },
    {
      "cell_type": "code",
      "execution_count": null,
      "metadata": {
        "id": "-UlDyjbGWwoY"
      },
      "outputs": [],
      "source": [
        "#evaluate\n"
      ]
    },
    {
      "cell_type": "markdown",
      "metadata": {
        "id": "86e4GM39WwoZ"
      },
      "source": [
        "### The Simple Linear Model"
      ]
    },
    {
      "cell_type": "code",
      "execution_count": null,
      "metadata": {
        "id": "ltA1QVxYWwoZ"
      },
      "outputs": [],
      "source": [
        "#set random seed\n",
        "\n",
        "#basic linear model\n",
        "\n",
        "#print the model\n"
      ]
    },
    {
      "cell_type": "code",
      "execution_count": null,
      "metadata": {
        "id": "7C5NXhdOWwoZ"
      },
      "outputs": [],
      "source": [
        "#input\n",
        "\n",
        "#pass to model\n"
      ]
    },
    {
      "cell_type": "markdown",
      "metadata": {
        "id": "bJaBflL4WwoZ"
      },
      "source": [
        "Now, we will create a class that inherits from the `nn.Module` and will implement our regression forward pass."
      ]
    },
    {
      "cell_type": "code",
      "execution_count": null,
      "metadata": {
        "id": "RrVFFuUZWwoZ"
      },
      "outputs": [],
      "source": [
        "#linear regression class\n"
      ]
    },
    {
      "cell_type": "code",
      "execution_count": null,
      "metadata": {
        "id": "XhcGCtAmWwoZ"
      },
      "outputs": [],
      "source": [
        "#seed and pass input 2, 1\n"
      ]
    },
    {
      "cell_type": "code",
      "execution_count": null,
      "metadata": {
        "id": "fviwxLuyWwoZ"
      },
      "outputs": [],
      "source": [
        "#look at the parameters\n"
      ]
    },
    {
      "cell_type": "code",
      "execution_count": null,
      "metadata": {
        "id": "3CDK4xwyWwoZ"
      },
      "outputs": [],
      "source": [
        "#create an input\n"
      ]
    },
    {
      "cell_type": "code",
      "execution_count": null,
      "metadata": {
        "id": "f-eFNvfTWwoa"
      },
      "outputs": [],
      "source": [
        "#feed it forward\n"
      ]
    },
    {
      "cell_type": "markdown",
      "metadata": {
        "id": "PX7BD9ywWwoa"
      },
      "source": [
        "### Synthetic Dataset"
      ]
    },
    {
      "cell_type": "code",
      "execution_count": null,
      "metadata": {
        "id": "NyxvNoGNWwoa"
      },
      "outputs": [],
      "source": [
        "import pandas as pd\n",
        "import matplotlib.pyplot as plt\n",
        "import numpy as np"
      ]
    },
    {
      "cell_type": "code",
      "execution_count": null,
      "metadata": {
        "id": "bss9vp15Wwoa"
      },
      "outputs": [],
      "source": [
        "#create X and y\n",
        "X = torch.randn(100, 1)*10\n",
        "y = X + torch.randn(100, 1)*3"
      ]
    },
    {
      "cell_type": "code",
      "execution_count": null,
      "metadata": {
        "id": "wX0mOEHNWwoa"
      },
      "outputs": [],
      "source": [
        "#scatter\n"
      ]
    },
    {
      "cell_type": "code",
      "execution_count": null,
      "metadata": {
        "id": "R39vILY9Wwoa"
      },
      "outputs": [],
      "source": [
        "#look at our parameters\n"
      ]
    },
    {
      "cell_type": "code",
      "execution_count": null,
      "metadata": {
        "id": "PgS8QIgFWwoa"
      },
      "outputs": [],
      "source": [
        "#save as w, b\n"
      ]
    },
    {
      "cell_type": "code",
      "execution_count": null,
      "metadata": {
        "id": "BAWlc_7sWwoa"
      },
      "outputs": [],
      "source": [
        "#function to get parameters\n"
      ]
    },
    {
      "cell_type": "code",
      "execution_count": null,
      "metadata": {
        "id": "OHT9Rc3JWwoa"
      },
      "outputs": [],
      "source": [
        "#function for plotting fit\n"
      ]
    },
    {
      "cell_type": "code",
      "execution_count": null,
      "metadata": {
        "id": "uzT_8CH4Wwob"
      },
      "outputs": [],
      "source": [
        "#plot it\n"
      ]
    },
    {
      "cell_type": "markdown",
      "metadata": {
        "id": "Qe0Z1ckJWwob"
      },
      "source": [
        "### Improving the Fit"
      ]
    },
    {
      "cell_type": "markdown",
      "metadata": {
        "id": "FuIh-rzcWwob"
      },
      "source": [
        "$$(y - (wx + b))^2$$\n",
        "\n",
        "Choose $w$ to minimize error.\n",
        "\n",
        "$$w_1 = w_0 - \\alpha f'(w)$$"
      ]
    },
    {
      "cell_type": "code",
      "execution_count": null,
      "metadata": {
        "id": "UieNyHeJWwob"
      },
      "outputs": [],
      "source": [
        "#initial weight and intercept\n"
      ]
    },
    {
      "cell_type": "code",
      "execution_count": null,
      "metadata": {
        "id": "oRJZFYdmWwob"
      },
      "outputs": [],
      "source": [
        "#compute the loss for (x = -3)\n"
      ]
    },
    {
      "cell_type": "code",
      "execution_count": null,
      "metadata": {
        "id": "NabT8n6wWwob"
      },
      "outputs": [],
      "source": [
        "#examine it\n"
      ]
    },
    {
      "cell_type": "code",
      "execution_count": null,
      "metadata": {
        "id": "xjvW0GsBWwob"
      },
      "outputs": [],
      "source": [
        "#derivative of loss\n"
      ]
    },
    {
      "cell_type": "code",
      "execution_count": null,
      "metadata": {
        "id": "NktEhBZwWwob"
      },
      "outputs": [],
      "source": [
        "#examine it\n"
      ]
    },
    {
      "cell_type": "code",
      "execution_count": null,
      "metadata": {
        "id": "x8Ron126Wwob"
      },
      "outputs": [],
      "source": [
        "#update weight\n"
      ]
    },
    {
      "cell_type": "code",
      "execution_count": null,
      "metadata": {
        "id": "jw40HaMQWwob"
      },
      "outputs": [],
      "source": []
    },
    {
      "cell_type": "markdown",
      "metadata": {
        "id": "2V7_I6grWwoc"
      },
      "source": [
        "Typically we also have bias term and update according to gradients.\n",
        "\n",
        "$$m_1 = m_0 - \\alpha f'(m)$$\n",
        "$$b_1 = b_0 - \\alpha f'(b)$$"
      ]
    },
    {
      "cell_type": "markdown",
      "metadata": {
        "id": "iu5zOA-VWwoc"
      },
      "source": [
        "### Implementing in PyTorch"
      ]
    },
    {
      "cell_type": "code",
      "execution_count": null,
      "metadata": {
        "id": "FYwoM80EWwoc"
      },
      "outputs": [],
      "source": [
        "#class for regression\n"
      ]
    },
    {
      "cell_type": "code",
      "execution_count": null,
      "metadata": {
        "id": "QypP9MzNWwoc"
      },
      "outputs": [],
      "source": [
        "#seed and make data\n"
      ]
    },
    {
      "cell_type": "code",
      "execution_count": null,
      "metadata": {
        "id": "T0qghqfQWwoc"
      },
      "outputs": [],
      "source": [
        "#instantiate the model\n"
      ]
    },
    {
      "cell_type": "code",
      "execution_count": null,
      "metadata": {
        "id": "rt4ZTQyGWwoc"
      },
      "outputs": [],
      "source": []
    },
    {
      "cell_type": "code",
      "execution_count": null,
      "metadata": {
        "id": "0UQaWACtWwoc"
      },
      "outputs": [],
      "source": [
        "#set the loss\n"
      ]
    },
    {
      "cell_type": "code",
      "execution_count": null,
      "metadata": {
        "id": "JW1SqtApWwoc"
      },
      "outputs": [],
      "source": [
        "#set the optimizer\n"
      ]
    },
    {
      "cell_type": "code",
      "execution_count": null,
      "metadata": {
        "id": "9DxwPj3PWwoc"
      },
      "outputs": [],
      "source": []
    },
    {
      "cell_type": "code",
      "execution_count": null,
      "metadata": {
        "id": "aQyuCzSIWwoc"
      },
      "outputs": [],
      "source": [
        "#train it\n",
        "\n",
        "for i in range(epochs):\n",
        "    #feed data forward\n",
        "    \n",
        "    #compute the loss\n",
        "    "
      ]
    },
    {
      "cell_type": "code",
      "execution_count": null,
      "metadata": {
        "id": "SRLLxitkWwoc"
      },
      "outputs": [],
      "source": [
        "#plot the losses\n"
      ]
    },
    {
      "cell_type": "code",
      "execution_count": null,
      "metadata": {
        "id": "yEL7pePkWwod"
      },
      "outputs": [],
      "source": [
        "#examine the fit\n"
      ]
    },
    {
      "cell_type": "code",
      "execution_count": null,
      "metadata": {
        "id": "AyXki79LWwod"
      },
      "outputs": [],
      "source": [
        "#weight\n"
      ]
    },
    {
      "cell_type": "code",
      "execution_count": null,
      "metadata": {
        "id": "Qzk17XPJWwod"
      },
      "outputs": [],
      "source": [
        "#bias\n"
      ]
    },
    {
      "cell_type": "markdown",
      "metadata": {
        "id": "6fxOyPp-Wwod"
      },
      "source": [
        "### Using with Data"
      ]
    },
    {
      "cell_type": "code",
      "execution_count": null,
      "metadata": {
        "id": "kkPuRcjOWwod"
      },
      "outputs": [],
      "source": [
        "from sklearn.model_selection import train_test_split"
      ]
    },
    {
      "cell_type": "code",
      "execution_count": null,
      "metadata": {
        "id": "DavcEPnmWwod"
      },
      "outputs": [],
      "source": [
        "from sklearn.preprocessing import StandardScaler"
      ]
    },
    {
      "cell_type": "code",
      "execution_count": null,
      "metadata": {
        "id": "0_KQcnvgWwod"
      },
      "outputs": [],
      "source": [
        "sscaler = StandardScaler()"
      ]
    },
    {
      "cell_type": "code",
      "source": [
        "x_train = torch.tensor(X_train, dtype = torch.float)\n",
        "x_test = torch.tensor(X_test, dtype = torch.float)\n",
        "y_train = torch.tensor(y_train, dtype = torch.float).reshape(-1, 1)\n",
        "y_test = torch.tensor(y_test, dtype = torch.float).reshape(-1, 1)"
      ],
      "metadata": {
        "id": "ycXvxJRYY4Nk"
      },
      "execution_count": null,
      "outputs": []
    },
    {
      "cell_type": "code",
      "source": [
        "model = nn.Sequential(\n",
        "            nn.Linear(x_train.shape[1], 200),\n",
        "            nn.Linear(200, 1))"
      ],
      "metadata": {
        "id": "u3wzwhNXY4Jr"
      },
      "execution_count": null,
      "outputs": []
    },
    {
      "cell_type": "code",
      "source": [
        "model(x_train)"
      ],
      "metadata": {
        "id": "VlVOv3uaY4GN"
      },
      "execution_count": null,
      "outputs": []
    },
    {
      "cell_type": "code",
      "source": [
        "loss = nn.MSELoss()\n",
        "optimizer = torch.optim.Adam(model.parameters(), lr = 0.001)"
      ],
      "metadata": {
        "id": "FWULh-RuY4CG"
      },
      "execution_count": null,
      "outputs": []
    },
    {
      "cell_type": "code",
      "source": [
        "epochs = 1000\n",
        "losses = []\n",
        "for i in range(epochs):\n",
        "    y_pred = model(x_train)\n",
        "    l = loss(y_pred, y_train)\n",
        "    if i%100 == 0:\n",
        "        print(f'epoch {i}, loss: {l.item()}')\n",
        "    losses.append(l)\n",
        "    optimizer.zero_grad()\n",
        "    l.backward()\n",
        "    optimizer.step()"
      ],
      "metadata": {
        "id": "5NpdToPLY3-e"
      },
      "execution_count": null,
      "outputs": []
    },
    {
      "cell_type": "code",
      "source": [
        "with torch.no_grad():\n",
        "    preds = model(x_test)"
      ],
      "metadata": {
        "id": "3TryT7PhY37F"
      },
      "execution_count": null,
      "outputs": []
    },
    {
      "cell_type": "code",
      "source": [
        "mean_squared_error(y_test, np.array(preds))"
      ],
      "metadata": {
        "id": "RRDhXLVTY3zx"
      },
      "execution_count": null,
      "outputs": []
    },
    {
      "cell_type": "code",
      "source": [],
      "metadata": {
        "id": "nXvvHOPnY3wZ"
      },
      "execution_count": null,
      "outputs": []
    },
    {
      "cell_type": "code",
      "source": [],
      "metadata": {
        "id": "lJsdRwfbY3tQ"
      },
      "execution_count": null,
      "outputs": []
    },
    {
      "cell_type": "code",
      "source": [],
      "metadata": {
        "id": "VnL6YL4cY3pX"
      },
      "execution_count": null,
      "outputs": []
    },
    {
      "cell_type": "markdown",
      "source": [
        "#### Problem\n",
        "\n",
        "Modeling Medical Costs\n",
        "\n",
        "The dataset comes from [kaggle](https://www.kaggle.com/datasets/mirichoi0218/insurance?resource=download) and contains information about medical costs.  You can access the data through your google drive or simply upload it to your session in colab -- [link](https://drive.google.com/file/d/1n2qVWbZ5QRi-NX4S_D_vmxiSxIDUaiUU/view?usp=sharing).\n",
        "\n",
        "Build a model with `pytorch` to predict medical costs.  Compare its performance to models using `sklearn` including `LinearRegression` and `Ridge`."
      ],
      "metadata": {
        "id": "4zgURf00aFjL"
      }
    },
    {
      "cell_type": "code",
      "source": [
        "df = pd.read_csv('insurance.csv')"
      ],
      "metadata": {
        "id": "mQAZ9N3laWa7"
      },
      "execution_count": null,
      "outputs": []
    },
    {
      "cell_type": "code",
      "source": [
        "df.head()"
      ],
      "metadata": {
        "id": "T0533gWsaWBr"
      },
      "execution_count": null,
      "outputs": []
    },
    {
      "cell_type": "code",
      "source": [
        "df.info()"
      ],
      "metadata": {
        "id": "NfX3DYZPaV9h"
      },
      "execution_count": null,
      "outputs": []
    },
    {
      "cell_type": "code",
      "source": [],
      "metadata": {
        "id": "TjmBT7GUaV6Y"
      },
      "execution_count": null,
      "outputs": []
    },
    {
      "cell_type": "code",
      "source": [],
      "metadata": {
        "id": "JrEEeHT-aV3i"
      },
      "execution_count": null,
      "outputs": []
    },
    {
      "cell_type": "code",
      "source": [],
      "metadata": {
        "id": "_2IJ2Q7LaV0p"
      },
      "execution_count": null,
      "outputs": []
    },
    {
      "cell_type": "code",
      "source": [],
      "metadata": {
        "id": "pxopdXUPaVxx"
      },
      "execution_count": null,
      "outputs": []
    },
    {
      "cell_type": "code",
      "source": [],
      "metadata": {
        "id": "YPiVhbftbdy9"
      },
      "execution_count": null,
      "outputs": []
    },
    {
      "cell_type": "code",
      "source": [],
      "metadata": {
        "id": "kUHxUi0bbduh"
      },
      "execution_count": null,
      "outputs": []
    },
    {
      "cell_type": "code",
      "source": [],
      "metadata": {
        "id": "qc3QhW-_bdqo"
      },
      "execution_count": null,
      "outputs": []
    },
    {
      "cell_type": "code",
      "source": [],
      "metadata": {
        "id": "lFLB8jIYbdmN"
      },
      "execution_count": null,
      "outputs": []
    },
    {
      "cell_type": "markdown",
      "metadata": {
        "id": "P5G9U419Wwod"
      },
      "source": [
        "### Classification"
      ]
    },
    {
      "cell_type": "code",
      "execution_count": null,
      "metadata": {
        "id": "G7rdJ7KQWwod"
      },
      "outputs": [],
      "source": [
        "from sklearn.datasets import load_breast_cancer"
      ]
    },
    {
      "cell_type": "code",
      "execution_count": null,
      "metadata": {
        "id": "bas4Ba9eWwod"
      },
      "outputs": [],
      "source": [
        "cancer = load_breast_cancer()"
      ]
    },
    {
      "cell_type": "code",
      "execution_count": null,
      "metadata": {
        "id": "kwrt2HA3Wwod"
      },
      "outputs": [],
      "source": [
        "X = cancer.data\n",
        "y = cancer.target"
      ]
    },
    {
      "cell_type": "code",
      "execution_count": null,
      "metadata": {
        "id": "2HrBpr8MWwod"
      },
      "outputs": [],
      "source": [
        "from sklearn.preprocessing import StandardScaler"
      ]
    },
    {
      "cell_type": "code",
      "execution_count": null,
      "metadata": {
        "id": "lSpLaxrqWwoe"
      },
      "outputs": [],
      "source": [
        "sscaler = StandardScaler()"
      ]
    },
    {
      "cell_type": "code",
      "execution_count": null,
      "metadata": {
        "id": "9dJ9U6e8Wwoe"
      },
      "outputs": [],
      "source": [
        "X = sscaler.fit_transform(X)"
      ]
    },
    {
      "cell_type": "code",
      "execution_count": null,
      "metadata": {
        "id": "SrAXpOmtWwoe"
      },
      "outputs": [],
      "source": [
        "#classifier class\n"
      ]
    },
    {
      "cell_type": "code",
      "execution_count": null,
      "metadata": {
        "id": "CCfVjkV_Wwoe"
      },
      "outputs": [],
      "source": [
        "#instantiate it\n"
      ]
    },
    {
      "cell_type": "code",
      "execution_count": null,
      "metadata": {
        "id": "JQ9sSz87Wwoe"
      },
      "outputs": [],
      "source": [
        "#move from numpy\n"
      ]
    },
    {
      "cell_type": "code",
      "execution_count": null,
      "metadata": {
        "id": "xWkygBJ_Wwoe"
      },
      "outputs": [],
      "source": [
        "#function for training\n"
      ]
    },
    {
      "cell_type": "code",
      "execution_count": null,
      "metadata": {
        "id": "U6RgEcuwWwoe"
      },
      "outputs": [],
      "source": [
        "#reshaping y\n"
      ]
    },
    {
      "cell_type": "code",
      "execution_count": null,
      "metadata": {
        "id": "0dEQN48vWwoe"
      },
      "outputs": [],
      "source": [
        "#optimizer\n"
      ]
    },
    {
      "cell_type": "code",
      "execution_count": null,
      "metadata": {
        "id": "A0eH6nceWwoe"
      },
      "outputs": [],
      "source": [
        "#train it\n"
      ]
    },
    {
      "cell_type": "code",
      "execution_count": null,
      "metadata": {
        "id": "aJE-NR1GWwoe"
      },
      "outputs": [],
      "source": [
        "#make predictions\n"
      ]
    },
    {
      "cell_type": "code",
      "execution_count": null,
      "metadata": {
        "id": "FiIdO-V7Wwof"
      },
      "outputs": [],
      "source": [
        "from sklearn.metrics import confusion_matrix"
      ]
    },
    {
      "cell_type": "code",
      "execution_count": null,
      "metadata": {
        "id": "3aBVIOgiWwof"
      },
      "outputs": [],
      "source": [
        "#look at confusion matrix\n"
      ]
    },
    {
      "cell_type": "markdown",
      "metadata": {
        "id": "ePg8gHPvWwof"
      },
      "source": [
        "### Pretrained Network"
      ]
    },
    {
      "cell_type": "code",
      "execution_count": null,
      "metadata": {
        "id": "0-Wbm0sgWwof"
      },
      "outputs": [],
      "source": [
        "from torchvision import models"
      ]
    },
    {
      "cell_type": "code",
      "execution_count": null,
      "metadata": {
        "id": "NwNYIEXGWwof"
      },
      "outputs": [],
      "source": [
        "#models available\n",
        "dir(models)"
      ]
    },
    {
      "cell_type": "code",
      "execution_count": null,
      "metadata": {
        "id": "t70lvX4fWwof"
      },
      "outputs": [],
      "source": [
        "from PIL import Image"
      ]
    },
    {
      "cell_type": "code",
      "execution_count": null,
      "metadata": {
        "id": "Qyujbne7Wwof"
      },
      "outputs": [],
      "source": [
        "#read in using PIL\n",
        "dog = Image.open('data/len_2.jpg')"
      ]
    },
    {
      "cell_type": "code",
      "execution_count": null,
      "metadata": {
        "id": "ksxmBXmPWwof"
      },
      "outputs": [],
      "source": [
        "#take a peek\n",
        "plt.imshow(dog)\n",
        "plt.title('Lenny')\n",
        "plt.axis('off');"
      ]
    },
    {
      "cell_type": "code",
      "execution_count": null,
      "metadata": {
        "id": "pbUvD8yHWwof"
      },
      "outputs": [],
      "source": [
        "#bring in resnet\n",
        "resnet = models.resnet101(pretrained = True)\n",
        "#resnet.eval()"
      ]
    },
    {
      "cell_type": "code",
      "execution_count": null,
      "metadata": {
        "id": "kLPQndT9Wwof"
      },
      "outputs": [],
      "source": [
        "from torchvision import transforms"
      ]
    },
    {
      "cell_type": "code",
      "execution_count": null,
      "metadata": {
        "id": "7DMECGRDWwof"
      },
      "outputs": [],
      "source": [
        "#preprocess image\n",
        "preprocess = transforms.Compose([transforms.ToTensor(),\n",
        "                                 transforms.Normalize(\n",
        "                                 mean = [0.485, .456, .406],\n",
        "                                 std=[0.229, 0.224, 0.225])])\n"
      ]
    },
    {
      "cell_type": "code",
      "execution_count": null,
      "metadata": {
        "id": "pQAdYmR9Wwog"
      },
      "outputs": [],
      "source": [
        "#preprocess the dog\n",
        "lenny = preprocess(dog)\n",
        "#lenny2 = preprocess(dog2)"
      ]
    },
    {
      "cell_type": "code",
      "execution_count": null,
      "metadata": {
        "id": "ZcMt-o7gWwog"
      },
      "outputs": [],
      "source": [
        "#dimension fix\n",
        "batch_lenny = torch.unsqueeze(lenny, 0)"
      ]
    },
    {
      "cell_type": "code",
      "execution_count": null,
      "metadata": {
        "id": "w2a4Wy-GWwog"
      },
      "outputs": [],
      "source": [
        "#pass in image\n",
        "out = resnet(batch_lenny)"
      ]
    },
    {
      "cell_type": "code",
      "execution_count": null,
      "metadata": {
        "id": "nQmFTNhFWwog"
      },
      "outputs": [],
      "source": [
        "#labels of imagenet classes\n",
        "with open('data/imagenet_classes.txt') as f:\n",
        "    labels = [line.strip() for line in f.readlines()]"
      ]
    },
    {
      "cell_type": "code",
      "execution_count": null,
      "metadata": {
        "id": "5iocNwsRWwog"
      },
      "outputs": [],
      "source": [
        "#highest probability\n",
        "_, index = torch.max(out, 1)"
      ]
    },
    {
      "cell_type": "code",
      "execution_count": null,
      "metadata": {
        "id": "pk_XuvgLWwog"
      },
      "outputs": [],
      "source": [
        "#change output to percent\n",
        "percent = torch.nn.functional.softmax(out, dim=1)[0]*100\n",
        "labels[index[0]], percent[index[0]].item()"
      ]
    },
    {
      "cell_type": "code",
      "execution_count": null,
      "metadata": {
        "id": "KPvIRFyiWwog"
      },
      "outputs": [],
      "source": [
        "_, indices = torch.sort(out, descending = True)\n",
        "[(labels[idx], percent[idx].item()) for idx in indices[0][:10]]"
      ]
    },
    {
      "cell_type": "markdown",
      "metadata": {
        "id": "6geo1eIJWwog"
      },
      "source": [
        "### `deeplabv2_resnet101`\n",
        "\n",
        "A second model that performs semantic segmentation.  Here, we aim at each pixel and use the pretrained classes to identify whether pixels are part of these categories. "
      ]
    },
    {
      "cell_type": "code",
      "execution_count": null,
      "metadata": {
        "id": "ABCndf8cWwog"
      },
      "outputs": [],
      "source": [
        "model = torch.hub.load('pytorch/vision:v0.6.0', 'deeplabv3_resnet101', pretrained=True)"
      ]
    },
    {
      "cell_type": "code",
      "execution_count": null,
      "metadata": {
        "id": "zBuGYznMWwog"
      },
      "outputs": [],
      "source": [
        "#set to evaluation mode so channels are not an issue\n",
        "model.eval()\n",
        "with torch.no_grad():\n",
        "    outtie = model(batch_lenny)"
      ]
    },
    {
      "cell_type": "code",
      "execution_count": null,
      "metadata": {
        "id": "Q391Lw-tWwog"
      },
      "outputs": [],
      "source": [
        "outtie.keys()"
      ]
    },
    {
      "cell_type": "code",
      "execution_count": null,
      "metadata": {
        "id": "Mkzc5dtxWwog"
      },
      "outputs": [],
      "source": [
        "output_preds = outtie['out'][0].argmax(0)"
      ]
    },
    {
      "cell_type": "code",
      "execution_count": null,
      "metadata": {
        "id": "K-Bp7kSVWwoh"
      },
      "outputs": [],
      "source": [
        "palette = torch.tensor([2 ** 25 - 1, 2 ** 15 - 1, 2 ** 21 - 1])\n",
        "colors = torch.as_tensor([i for i in range(21)])[:, None] * palette\n",
        "colors = (colors % 255).numpy().astype(\"uint8\")"
      ]
    },
    {
      "cell_type": "code",
      "execution_count": null,
      "metadata": {
        "id": "Mr_zZpwQWwoh"
      },
      "outputs": [],
      "source": [
        "# plot the semantic segmentation predictions of 21 classes in each color\n",
        "lenny_segments = Image.fromarray(output_preds.byte().cpu().numpy()).resize(dog.size)\n",
        "lenny_segments.putpalette(colors)"
      ]
    },
    {
      "cell_type": "code",
      "execution_count": null,
      "metadata": {
        "id": "nC04StJiWwoh"
      },
      "outputs": [],
      "source": [
        "plt.imshow(lenny_segments)\n",
        "plt.axis('off');\n",
        "plt.title('Bucket Head Lenny');"
      ]
    },
    {
      "cell_type": "markdown",
      "metadata": {
        "id": "xlz8UCSjWwoh"
      },
      "source": [
        "### More pretrained models\n",
        "\n",
        "- [Torchvision models: Semantic Segmentation](https://pytorch.org/vision/0.8/models.html#semantic-segmentation)\n",
        "\n",
        "- [Basic Convnet with Pytorch](https://pytorch.org/tutorials/recipes/recipes/defining_a_neural_network.html)"
      ]
    }
  ],
  "metadata": {
    "kernelspec": {
      "display_name": "Python 3 (ipykernel)",
      "language": "python",
      "name": "python3"
    },
    "language_info": {
      "codemirror_mode": {
        "name": "ipython",
        "version": 3
      },
      "file_extension": ".py",
      "mimetype": "text/x-python",
      "name": "python",
      "nbconvert_exporter": "python",
      "pygments_lexer": "ipython3",
      "version": "3.8.5"
    },
    "colab": {
      "provenance": [],
      "include_colab_link": true
    }
  },
  "nbformat": 4,
  "nbformat_minor": 0
}