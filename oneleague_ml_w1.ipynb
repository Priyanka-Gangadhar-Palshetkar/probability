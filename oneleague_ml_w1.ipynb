{
  "nbformat": 4,
  "nbformat_minor": 0,
  "metadata": {
    "colab": {
      "provenance": [],
      "include_colab_link": true
    },
    "kernelspec": {
      "name": "python3",
      "display_name": "Python 3"
    },
    "language_info": {
      "name": "python"
    }
  },
  "cells": [
    {
      "cell_type": "markdown",
      "metadata": {
        "id": "view-in-github",
        "colab_type": "text"
      },
      "source": [
        "<a href=\"https://colab.research.google.com/github/Priyanka-Gangadhar-Palshetkar/MITx-Micromasters-Statistics-Data-Science/blob/main/oneleague_ml_w1.ipynb\" target=\"_parent\"><img src=\"https://colab.research.google.com/assets/colab-badge.svg\" alt=\"Open In Colab\"/></a>"
      ]
    },
    {
      "cell_type": "markdown",
      "source": [
        "### Machine Learning and Artificial Intelligence: Week 1\n",
        "\n",
        "**OBJECTIVES**\n",
        "\n",
        "- Setting up coding environments\n",
        "- Python Review: Functions and Classes\n",
        "- NumPy Review: Arrays and Matrix Operations\n",
        "- Introduction to Modeling Data\n"
      ],
      "metadata": {
        "id": "zad5ectVuG0f"
      }
    },
    {
      "cell_type": "markdown",
      "source": [
        "### Setting Up an Environment\n",
        "\n",
        "During office hours we will mainly use Google Colab notebooks in a browser.  There are also many code files in the activities that you will want to be able to use locally.  You should download and install:\n",
        "\n",
        "- [Anaconda](https://www.anaconda.com/products/distribution)\n",
        "- [VSCode](https://code.visualstudio.com/download)\n",
        "\n"
      ],
      "metadata": {
        "id": "3ZDSEJ_Vu8AN"
      }
    },
    {
      "cell_type": "markdown",
      "source": [
        "Additionally, if you are working on a windows machine I recommend downloading and installing [Git Bash](https://gitforwindows.org/) so you can use terminal operations.  "
      ],
      "metadata": {
        "id": "2HA5HDruvlVg"
      }
    },
    {
      "cell_type": "markdown",
      "source": [
        "#### Python Review: Functions\n",
        "\n",
        "Below, we complete a function to compute the mean squared error of a set of predictions given the predictions and actual value.  The big idea here is turning the following mathematical expression into a function (and later using this in a class).\n",
        "\n",
        "$$MSE = \\frac{1}{n}\\sum_{i = 1}^n (y_i - \\hat{y_i})^2$$"
      ],
      "metadata": {
        "id": "O9d2NQh5wCaA"
      }
    },
    {
      "cell_type": "code",
      "source": [
        "import numpy as np\n",
        "import matplotlib.pyplot as plt\n",
        "import random"
      ],
      "metadata": {
        "id": "fETakT48y9yr"
      },
      "execution_count": null,
      "outputs": []
    },
    {
      "cell_type": "code",
      "source": [
        "def mean_squared_error(actual, predicted):\n",
        "  '''\n",
        "  This function takes in two iterables and \n",
        "  returns the mean squared error of predictions\n",
        "\n",
        "  Parameters:\n",
        "  -----------\n",
        "  actual: list\n",
        "  predicted: list\n",
        "\n",
        "  Returns:\n",
        "  -----------\n",
        "  mean squared error --> float\n",
        "  '''\n",
        "  pass"
      ],
      "metadata": {
        "id": "gDfw1IaZyDER"
      },
      "execution_count": null,
      "outputs": []
    },
    {
      "cell_type": "code",
      "source": [
        "# create x\n"
      ],
      "metadata": {
        "id": "9Dh3xCMXy1-R"
      },
      "execution_count": null,
      "outputs": []
    },
    {
      "cell_type": "code",
      "source": [],
      "metadata": {
        "id": "KJk92PMAzDPH"
      },
      "execution_count": null,
      "outputs": []
    },
    {
      "cell_type": "code",
      "source": [
        "#loop over list and apply 3*x + 4 + random number\n"
      ],
      "metadata": {
        "id": "SjSh6F5hzKKJ"
      },
      "execution_count": null,
      "outputs": []
    },
    {
      "cell_type": "code",
      "source": [
        "# visualize relationship\n"
      ],
      "metadata": {
        "id": "pouC__wGzWw6"
      },
      "execution_count": null,
      "outputs": []
    },
    {
      "cell_type": "code",
      "source": [
        "# predictions\n"
      ],
      "metadata": {
        "id": "nNKz0JgWzduc"
      },
      "execution_count": null,
      "outputs": []
    },
    {
      "cell_type": "code",
      "source": [
        "#visualize\n"
      ],
      "metadata": {
        "id": "jxJ02v3pz9tG"
      },
      "execution_count": null,
      "outputs": []
    },
    {
      "cell_type": "code",
      "source": [
        "# compute mean squared error\n"
      ],
      "metadata": {
        "id": "zw6lgf5Y3UL5"
      },
      "execution_count": null,
      "outputs": []
    },
    {
      "cell_type": "code",
      "source": [
        "# why so difficult (or slow?)\n",
        "# mean((actual - predictions)**2). --> ideally less code and faster"
      ],
      "metadata": {
        "id": "rzJph2Qi3ij6"
      },
      "execution_count": null,
      "outputs": []
    },
    {
      "cell_type": "markdown",
      "source": [
        "### Using NumPy\n",
        "\n",
        "NumPy will help us speed up our code and implement many vectorized operations.  The fundamental object for you will be the `np.array` -- and its associated operations."
      ],
      "metadata": {
        "id": "Pr4EIXxq0CB2"
      }
    },
    {
      "cell_type": "code",
      "source": [
        "#simple squaring function\n",
        "def f(x):\n",
        "  return x**2"
      ],
      "metadata": {
        "id": "df53hHKIGpGg"
      },
      "execution_count": null,
      "outputs": []
    },
    {
      "cell_type": "code",
      "source": [
        "#some inputs\n",
        "x = [1, 2, 3, 4, 5, 6]"
      ],
      "metadata": {
        "id": "kWyxvLB6GpAh"
      },
      "execution_count": null,
      "outputs": []
    },
    {
      "cell_type": "code",
      "source": [
        "#evaluate at all\n"
      ],
      "metadata": {
        "id": "PgWfeIn9Go6i"
      },
      "execution_count": null,
      "outputs": []
    },
    {
      "cell_type": "markdown",
      "source": [
        "Let's look at the example for MSE from above again using numpy array's rather than lists."
      ],
      "metadata": {
        "id": "uMHEf-p8HOFc"
      }
    },
    {
      "cell_type": "code",
      "source": [
        "#actual array\n"
      ],
      "metadata": {
        "id": "Jay8ThXS3w8S"
      },
      "execution_count": null,
      "outputs": []
    },
    {
      "cell_type": "code",
      "source": [
        "#predicted array\n"
      ],
      "metadata": {
        "id": "zQKP29F73y5-"
      },
      "execution_count": null,
      "outputs": []
    },
    {
      "cell_type": "code",
      "source": [
        "#mse\n"
      ],
      "metadata": {
        "id": "6Uze0bYB4MC1"
      },
      "execution_count": null,
      "outputs": []
    },
    {
      "cell_type": "code",
      "source": [
        "#vectorized function\n"
      ],
      "metadata": {
        "id": "6V41-DK63Y2t"
      },
      "execution_count": null,
      "outputs": []
    },
    {
      "cell_type": "markdown",
      "source": [
        "#### Problem: Mean Absolute Value\n",
        "\n",
        "Implement a MAE according to the description:\n",
        "\n",
        "$$MAE = \\frac{1}{n}\\sum_{i = 1}^n ||y_i - \\hat{y_i}||$$\n",
        "\n",
        "what do you think is an advantage of this metric?"
      ],
      "metadata": {
        "id": "IPmu3f0Z4g3f"
      }
    },
    {
      "cell_type": "code",
      "source": [
        "def mean_absolute_error(actual, predicted):\n",
        "  pass"
      ],
      "metadata": {
        "id": "wAy4uwzu43bA"
      },
      "execution_count": null,
      "outputs": []
    },
    {
      "cell_type": "code",
      "source": [],
      "metadata": {
        "id": "Y6njPCGMNRPN"
      },
      "execution_count": null,
      "outputs": []
    },
    {
      "cell_type": "code",
      "source": [],
      "metadata": {
        "id": "3vv9XRdiNQmX"
      },
      "execution_count": null,
      "outputs": []
    },
    {
      "cell_type": "code",
      "source": [],
      "metadata": {
        "id": "40NLZoQ2NQib"
      },
      "execution_count": null,
      "outputs": []
    },
    {
      "cell_type": "code",
      "source": [],
      "metadata": {
        "id": "U15crn5RNQMj"
      },
      "execution_count": null,
      "outputs": []
    },
    {
      "cell_type": "markdown",
      "source": [
        "### Using Data\n",
        "\n",
        "Below, we load in a dataset related to restaurant tipping and aim to build a model to predict the tip given the bill amount."
      ],
      "metadata": {
        "id": "KWtRXyb15Od4"
      }
    },
    {
      "cell_type": "code",
      "source": [
        "import seaborn as sns"
      ],
      "metadata": {
        "id": "fljdRk_Z8hkO"
      },
      "execution_count": null,
      "outputs": []
    },
    {
      "cell_type": "code",
      "source": [
        "tips = sns.load_dataset('tips')\n",
        "tips.head()"
      ],
      "metadata": {
        "id": "mFJ-ozLX8hgk"
      },
      "execution_count": null,
      "outputs": []
    },
    {
      "cell_type": "code",
      "source": [
        "X = tips['total_bill'].values\n",
        "y = tips['tip'].values"
      ],
      "metadata": {
        "id": "UUMvyT528hdc"
      },
      "execution_count": null,
      "outputs": []
    },
    {
      "cell_type": "code",
      "source": [
        "type(X), type(y)"
      ],
      "metadata": {
        "id": "1Or2LrsD8gFA"
      },
      "execution_count": null,
      "outputs": []
    },
    {
      "cell_type": "code",
      "source": [
        "plt.scatter(X, y)\n",
        "plt.xlabel('Bill Amount')\n",
        "plt.ylabel('Tip');"
      ],
      "metadata": {
        "id": "XEt8OVjoH7Lp"
      },
      "execution_count": null,
      "outputs": []
    },
    {
      "cell_type": "markdown",
      "source": [
        "### Possible Model\n",
        "\n",
        "Imagine people tip on average 20%.  In this example, we would have a model:\n",
        "\n",
        "$$y = .2X$$\n",
        "\n",
        "Below we make predictions with the model and use our earlier functions to assess the error involved."
      ],
      "metadata": {
        "id": "2v82VYbL8lJB"
      }
    },
    {
      "cell_type": "code",
      "source": [
        "#define model\n"
      ],
      "metadata": {
        "id": "rBrOCuZdJhWY"
      },
      "execution_count": null,
      "outputs": []
    },
    {
      "cell_type": "code",
      "source": [
        "#make predictions\n"
      ],
      "metadata": {
        "id": "9cP4Iyl_J2s2"
      },
      "execution_count": null,
      "outputs": []
    },
    {
      "cell_type": "code",
      "source": [
        "#mean squared error\n"
      ],
      "metadata": {
        "id": "k7_b-SmIJ4uM"
      },
      "execution_count": null,
      "outputs": []
    },
    {
      "cell_type": "code",
      "source": [
        "#mean absolute error\n"
      ],
      "metadata": {
        "id": "Okqxkg8wLDMY"
      },
      "execution_count": null,
      "outputs": []
    },
    {
      "cell_type": "code",
      "source": [
        "#plot the model alongside data\n"
      ],
      "metadata": {
        "id": "tIeXXGv1LF9J"
      },
      "execution_count": null,
      "outputs": []
    },
    {
      "cell_type": "markdown",
      "source": [
        "### Problem\n",
        "\n",
        "Consider a different tip percentage.  Write this down and construct a model using your new percent.  Determine the MSE and MAE for your second model.  \n",
        "\n",
        "-----\n",
        "\n",
        "In your group, compare each of your percentage choices and the resulting MSE and MAE.  Which tip percent do you think is \"the best\"?  One representative from each group should be prepared to share the best model and corresponding MSE and MAE."
      ],
      "metadata": {
        "id": "QLTSFqZ5Nyx8"
      }
    },
    {
      "cell_type": "code",
      "source": [],
      "metadata": {
        "id": "Ykzej9qhPDD2"
      },
      "execution_count": null,
      "outputs": []
    },
    {
      "cell_type": "code",
      "source": [],
      "metadata": {
        "id": "tK1FKlXBPC_8"
      },
      "execution_count": null,
      "outputs": []
    },
    {
      "cell_type": "code",
      "source": [],
      "metadata": {
        "id": "OTR-yDgNPC8T"
      },
      "execution_count": null,
      "outputs": []
    },
    {
      "cell_type": "code",
      "source": [],
      "metadata": {
        "id": "DrnaM_WGPC5M"
      },
      "execution_count": null,
      "outputs": []
    },
    {
      "cell_type": "code",
      "source": [],
      "metadata": {
        "id": "SDFtxqKfPBJ6"
      },
      "execution_count": null,
      "outputs": []
    },
    {
      "cell_type": "markdown",
      "source": [
        "#### Exact Solution\n",
        "\n",
        "It turns out there is a \"best\" solution in terms of MSE.  The equation that determines this looks like:\n",
        "\n",
        "$$\\text{best tip percentage} = (X^TX)^{-1}X^TY$$\n",
        "\n",
        "Later we will find out where this came from, but for now we aim to use `numpy` to implement this and compare to what our best percentage was. "
      ],
      "metadata": {
        "id": "wemtYkcKPD2D"
      }
    },
    {
      "cell_type": "code",
      "source": [
        "X.shape"
      ],
      "metadata": {
        "id": "cMWFr1xSQXzB"
      },
      "execution_count": null,
      "outputs": []
    },
    {
      "cell_type": "code",
      "source": [
        "X = X.reshape(-1, 1)"
      ],
      "metadata": {
        "id": "DYXMloA1QXtT"
      },
      "execution_count": null,
      "outputs": []
    },
    {
      "cell_type": "code",
      "source": [
        "#transpose X^T\n"
      ],
      "metadata": {
        "id": "aTyAnDnRPuqr"
      },
      "execution_count": null,
      "outputs": []
    },
    {
      "cell_type": "code",
      "source": [
        "#matrix product\n"
      ],
      "metadata": {
        "id": "aqJ81hPlQHwu"
      },
      "execution_count": null,
      "outputs": []
    },
    {
      "cell_type": "code",
      "source": [
        "#inverse\n"
      ],
      "metadata": {
        "id": "PiZTXiB1QKdL"
      },
      "execution_count": null,
      "outputs": []
    },
    {
      "cell_type": "code",
      "source": [
        "#put it together\n"
      ],
      "metadata": {
        "id": "WVXfzrQUQMNg"
      },
      "execution_count": null,
      "outputs": []
    },
    {
      "cell_type": "code",
      "source": [
        "#new model\n"
      ],
      "metadata": {
        "id": "fzFFHlCbQQ3V"
      },
      "execution_count": null,
      "outputs": []
    },
    {
      "cell_type": "code",
      "source": [
        "#predictions\n"
      ],
      "metadata": {
        "id": "8ZoeGU5AQ5Aj"
      },
      "execution_count": null,
      "outputs": []
    },
    {
      "cell_type": "code",
      "source": [
        "#MSE\n"
      ],
      "metadata": {
        "id": "TQTZIj5xQ6JH"
      },
      "execution_count": null,
      "outputs": []
    },
    {
      "cell_type": "markdown",
      "source": [
        "#### What's Next?\n",
        "\n",
        "- Building models with libraries in Python\n",
        "- Loading and manipulating data with `pandas` \n",
        "- Introduction to Classification and different Loss functions"
      ],
      "metadata": {
        "id": "3RcJJyT8VA61"
      }
    }
  ]
}