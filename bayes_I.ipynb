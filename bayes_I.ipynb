{
  "cells": [
    {
      "cell_type": "markdown",
      "metadata": {
        "id": "view-in-github",
        "colab_type": "text"
      },
      "source": [
        "<a href=\"https://colab.research.google.com/github/iPrinka/MITx-Micromasters-Statistics-Data-Science/blob/main/bayes_I.ipynb\" target=\"_parent\"><img src=\"https://colab.research.google.com/assets/colab-badge.svg\" alt=\"Open In Colab\"/></a>"
      ]
    },
    {
      "cell_type": "markdown",
      "metadata": {
        "id": "hCq41Nu-WxGu"
      },
      "source": [
        "### Bayes Rule: Introduction\n",
        "\n",
        "**OBJECTIVES**\n",
        "\n",
        "- Understand the notation for conditional probability\n",
        "- Use Bayes Theorem to understand inverse probability\n",
        "- Use Bayes Rule to update probabilities upon observation\n",
        "- Solve basic probability problems using Bayes Rule"
      ]
    },
    {
      "cell_type": "markdown",
      "metadata": {
        "id": "hXxBPNjzWxGw"
      },
      "source": [
        "### Motivating Example\n",
        "\n",
        "![](https://i.pinimg.com/originals/e0/57/bc/e057bc49e590d0b6a6c6450fbb6c1e5c.jpg)\n",
        "\n",
        "```\n",
        "Steve is very shy and withdrawn, invariably helpful, but with little interest in people, or in the world of reality.\n",
        "A meek and tidy soul, he has a need for order and structure, and a passion for detail.\n",
        "```\n",
        "\n",
        "Is Steve a librarian or a farmer? -- [Source](https://www2.psych.ubc.ca/~schaller/Psyc590Readings/TverskyKahneman1974.pdf)"
      ]
    },
    {
      "cell_type": "markdown",
      "source": [
        "```\n",
        "Dick is a 30 year old man. He is married with no children. A man of high\n",
        "ability and high motivation, he promises\n",
        "to be quite successful in his field. He is\n",
        "well liked by his colleagues\n",
        "```"
      ],
      "metadata": {
        "id": "H4yGEDVDZlZW"
      }
    },
    {
      "cell_type": "code",
      "execution_count": null,
      "metadata": {
        "id": "q2mUihgnWxGz"
      },
      "outputs": [],
      "source": []
    },
    {
      "cell_type": "code",
      "execution_count": null,
      "metadata": {
        "id": "XpKMx3LLWxG0"
      },
      "outputs": [],
      "source": []
    },
    {
      "cell_type": "markdown",
      "metadata": {
        "id": "94YS3APdWxG0"
      },
      "source": [
        "### Social Media Applications\n",
        "\n",
        "Social Media applications tend to have a younger audience.  From adult cell phone users (18 years and over), 47% of 18 to 29 use social media applications, 21% of the 30 to 49, and 7% of those 50 or over.  \n",
        "\n",
        "We also know that 29% of cell phone users are 18 to 29, 47% are 30 to 49, and 24% are 50 and over.\n",
        "\n"
      ]
    },
    {
      "cell_type": "code",
      "execution_count": null,
      "metadata": {
        "id": "e6_eT_XAWxG0"
      },
      "outputs": [],
      "source": [
        "#what is the probability that a randomly chosen adult cell phone user uses a chat app?\n"
      ]
    },
    {
      "cell_type": "code",
      "execution_count": 1,
      "metadata": {
        "id": "jzK2BiKmWxG0"
      },
      "outputs": [],
      "source": [
        "from IPython.display import IFrame\n",
        "import matplotlib.pyplot as plt\n",
        "import numpy as np"
      ]
    },
    {
      "cell_type": "code",
      "execution_count": 2,
      "metadata": {
        "colab": {
          "base_uri": "https://localhost:8080/",
          "height": 322
        },
        "id": "S5SDHCqgWxG0",
        "outputId": "44b8c812-e06a-468b-ee75-9df74e1a08a9"
      },
      "outputs": [
        {
          "output_type": "execute_result",
          "data": {
            "text/plain": [
              "<IPython.lib.display.IFrame at 0x7fea6461c8e0>"
            ],
            "text/html": [
              "\n",
              "        <iframe\n",
              "            width=\"400\"\n",
              "            height=\"300\"\n",
              "            src=\"\"\n",
              "            frameborder=\"0\"\n",
              "            allowfullscreen\n",
              "            \n",
              "        ></iframe>\n",
              "        "
            ]
          },
          "metadata": {},
          "execution_count": 2
        }
      ],
      "source": [
        "#draw a tree diagram\n",
        "IFrame(src = '', width = 400, height = 300)"
      ]
    },
    {
      "cell_type": "markdown",
      "metadata": {
        "id": "Lw3QwEj4WxG0"
      },
      "source": [
        "**Another Question**: What percent of social media users are aged 18 to 29?"
      ]
    },
    {
      "cell_type": "markdown",
      "metadata": {
        "id": "g0g4DDMKWxG0"
      },
      "source": [
        "$$P(A_1 | C) = \\frac{P(A_1 ~ \\text{and} ~ C)}{P(C)}$$"
      ]
    },
    {
      "cell_type": "code",
      "execution_count": null,
      "metadata": {
        "id": "DocHirszWxG0"
      },
      "outputs": [],
      "source": []
    },
    {
      "cell_type": "code",
      "execution_count": null,
      "metadata": {
        "id": "2_05cgNZWxG1"
      },
      "outputs": [],
      "source": []
    },
    {
      "cell_type": "code",
      "execution_count": null,
      "metadata": {
        "id": "Euos4mpfWxG1"
      },
      "outputs": [],
      "source": []
    },
    {
      "cell_type": "markdown",
      "metadata": {
        "id": "hNEdT0UvWxG1"
      },
      "source": [
        "### Example: Bolts\n",
        "\n",
        "Two boxes contain long bolts and short bolts.  Suppose that one box contains 60 long bolts and 40 short bolts, and the other box contains 10 long bolts and 20 short bolts.  Suppose that one box is selected at random and a bolt is then selected at random from that box.  What is the probability that the bolt is long?"
      ]
    },
    {
      "cell_type": "code",
      "execution_count": null,
      "metadata": {
        "colab": {
          "base_uri": "https://localhost:8080/",
          "height": 221
        },
        "id": "al6uUA_PWxG1",
        "outputId": "e7b8d072-6e87-42a1-f88b-a4034a865cce"
      },
      "outputs": [
        {
          "output_type": "execute_result",
          "data": {
            "text/plain": [
              "<IPython.lib.display.IFrame at 0x7c90140bda80>"
            ],
            "text/html": [
              "\n",
              "        <iframe\n",
              "            width=\"500\"\n",
              "            height=\"200\"\n",
              "            src=\"\"\n",
              "            frameborder=\"0\"\n",
              "            allowfullscreen\n",
              "            \n",
              "        ></iframe>\n",
              "        "
            ]
          },
          "metadata": {},
          "execution_count": 4
        }
      ],
      "source": [
        "IFrame(src = '', width = 500, height = 200)"
      ]
    },
    {
      "cell_type": "code",
      "execution_count": null,
      "metadata": {
        "colab": {
          "base_uri": "https://localhost:8080/"
        },
        "id": "o_2vXBRcWxG1",
        "outputId": "689706e0-25ba-4d30-d16c-773e7108dbbc"
      },
      "outputs": [
        {
          "output_type": "execute_result",
          "data": {
            "text/plain": [
              "0.4666666666666667"
            ]
          },
          "metadata": {},
          "execution_count": 5
        }
      ],
      "source": [
        "7/15"
      ]
    },
    {
      "cell_type": "markdown",
      "metadata": {
        "id": "0HnXIzH8WxG1"
      },
      "source": [
        "### Bayes Rule\n",
        "\n",
        "$$ P(A\\mid B)={\\frac {P(B\\mid A)P(A)}{P(B)}}$$\n",
        "\n",
        "- $P(A\\mid B)$ is a conditional probability: the likelihood of event $ A$ occurring given that $B$ is true.\n",
        "- $P(B\\mid A)$ is also a conditional probability: the likelihood of event $B$ occurring given that $A$ is true.\n",
        "- $P(A)$ and $P(B)$ are the probabilities of observing $A$ and $B$ respectively; they are known as the marginal probability.\n",
        "- A and B must be different events."
      ]
    },
    {
      "cell_type": "markdown",
      "metadata": {
        "id": "9_cDPsiWWxG1"
      },
      "source": [
        "**EXAMPLE**: Bolts Again\n",
        "\n",
        "Suppose now we have a selected a bolt from one of the two boxes, but we cannot tell which of the boxes it came from.  Suppose a long bolt was selected (call this event $A$), compute the two probabilities:\n",
        "\n",
        "- $P(B_1 | A)$\n",
        "- $P(B_2 | A)$"
      ]
    },
    {
      "cell_type": "code",
      "execution_count": null,
      "metadata": {
        "id": "qx2eOFXLWxG1"
      },
      "outputs": [],
      "source": []
    },
    {
      "cell_type": "code",
      "execution_count": null,
      "metadata": {
        "id": "Thanb-j1WxG1"
      },
      "outputs": [],
      "source": []
    },
    {
      "cell_type": "code",
      "execution_count": null,
      "metadata": {
        "id": "qsAS-1MgWxG2"
      },
      "outputs": [],
      "source": []
    },
    {
      "cell_type": "markdown",
      "metadata": {
        "id": "AANwdmkRWxG2"
      },
      "source": [
        "**EXAMPLE**:\n",
        "\n",
        "CVS is giving free COVID tests.  Their test is 90 percent reliable in that if a person has COVID, the probability is 0.9 that they will test positive; if person does not have the disease there is a probabiity of only 0.1 that the test gives a positive response.\n",
        "\n",
        "Currently, data in your county indicate that you have a 1 in 10,000 chance of having the disease.  Because the test is free and you are there, you decide to take it.  You test positive, what is the chance that you have the disease?\n",
        "\n",
        "- Let $B_1$ represent having the disease and $B_2$ that you don't\n",
        "- Let $A$ represent the positive test\n",
        "\n",
        "Here, we want to use Bayes Theorem to determine $P(B_1 | A)$."
      ]
    },
    {
      "cell_type": "code",
      "execution_count": null,
      "metadata": {
        "colab": {
          "base_uri": "https://localhost:8080/",
          "height": 421
        },
        "id": "eRmgzWngWxG2",
        "outputId": "07e47111-9f17-4aeb-d3ee-48675f7f87f1"
      },
      "outputs": [
        {
          "output_type": "execute_result",
          "data": {
            "text/plain": [
              "<IPython.lib.display.IFrame at 0x7c90140be320>"
            ],
            "text/html": [
              "\n",
              "        <iframe\n",
              "            width=\"300\"\n",
              "            height=\"400\"\n",
              "            src=\"\"\n",
              "            frameborder=\"0\"\n",
              "            allowfullscreen\n",
              "            \n",
              "        ></iframe>\n",
              "        "
            ]
          },
          "metadata": {},
          "execution_count": 6
        }
      ],
      "source": [
        "IFrame(src = '', width = 300, height = 400)"
      ]
    },
    {
      "cell_type": "code",
      "execution_count": null,
      "metadata": {
        "id": "ZoaLC_TkWxG2"
      },
      "outputs": [],
      "source": [
        "##ANSWER:\n"
      ]
    },
    {
      "cell_type": "markdown",
      "metadata": {
        "id": "lGaSq0SrWxG2"
      },
      "source": [
        "**EXAMPLE**\n",
        "\n",
        "Three machines $M_1, M_2, M_3$ produce similar items.  Suppose that 20, 30, and 50 percent of the parts are produced by $M_1, M_2, M_3$ respectively.  Further, suppose that 1, 2, and 3 percent from $M_1, M_2, M_3$ respectively are defective.\n",
        "\n",
        "Suppose we select a single item and find it defective.  What is the probability this was produced by machine $M_2$?"
      ]
    },
    {
      "cell_type": "markdown",
      "metadata": {
        "id": "nDR-gYcYWxG2"
      },
      "source": [
        "$$P(B_2 | A) = \\frac{P(B_2)P(A | B_2)}{\\sum_{j = 1}^3 P(B_j) P(A | B_j)}$$"
      ]
    },
    {
      "cell_type": "code",
      "execution_count": null,
      "metadata": {
        "id": "K-e3TwZ1WxG2"
      },
      "outputs": [],
      "source": [
        "##ANSWER\n"
      ]
    },
    {
      "cell_type": "markdown",
      "metadata": {
        "id": "owgfs-zdWxG3"
      },
      "source": [
        "**EXAMPLE**\n",
        "\n",
        "Suppose that a box contains one fair coin and one coin with a head on each side.  Suppose also that one coin is selected at random and when tossed, a head is obtained.  Determine the probability that the coin is fair.\n",
        "\n",
        "Let $B_1$ be the event that the coin is fair, $B_2$ that it has two heads, and $H_1$ the even that a head is obtained.\n",
        "\n",
        "$$P(B_1 | H_1 ) = \\frac{P(B_1)P(H_1 | B_1)}{P(B_1)P(H_1 | B_1) + P(B_2)P(H_1 | B_2 )}$$"
      ]
    },
    {
      "cell_type": "code",
      "execution_count": null,
      "metadata": {
        "id": "InkJ6L9uWxHA"
      },
      "outputs": [],
      "source": [
        "###ANSWER\n"
      ]
    },
    {
      "cell_type": "markdown",
      "metadata": {
        "id": "vyhFkXRDWxHA"
      },
      "source": [
        "Suppose the coin is tossed again and another head is received.  \n",
        "\n",
        "$$P(B_1 | H_1 \\cap H_2) = \\frac{P(B_1 | H_1) P(H_2 | B_1 \\cap H_1 )}{P(B_1 | H_1)P(H_2 | B_1 \\cap H_1) + P(B_2 | H_1)P(H_2 | B_2 \\cap H_1)}$$"
      ]
    },
    {
      "cell_type": "code",
      "execution_count": null,
      "metadata": {
        "id": "zhc2RO1sWxHA"
      },
      "outputs": [],
      "source": [
        "##ANSWER\n"
      ]
    },
    {
      "cell_type": "code",
      "execution_count": null,
      "metadata": {
        "id": "-HOZ2E3eWxHA"
      },
      "outputs": [],
      "source": []
    },
    {
      "cell_type": "code",
      "execution_count": null,
      "metadata": {
        "colab": {
          "base_uri": "https://localhost:8080/",
          "height": 321
        },
        "id": "iOHj9TO0WxHB",
        "outputId": "2be67e78-1331-4b6e-c2ca-2ec778154142"
      },
      "outputs": [
        {
          "output_type": "execute_result",
          "data": {
            "text/plain": [
              "<IPython.lib.display.IFrame at 0x7c90140bf460>"
            ],
            "text/html": [
              "\n",
              "        <iframe\n",
              "            width=\"300\"\n",
              "            height=\"300\"\n",
              "            src=\"\"\n",
              "            frameborder=\"0\"\n",
              "            allowfullscreen\n",
              "            \n",
              "        ></iframe>\n",
              "        "
            ]
          },
          "metadata": {},
          "execution_count": 11
        }
      ],
      "source": [
        "IFrame(src = '', height = 300, width = 300)"
      ]
    },
    {
      "cell_type": "code",
      "execution_count": null,
      "metadata": {
        "colab": {
          "base_uri": "https://localhost:8080/",
          "height": 1000
        },
        "id": "a6qpiYMgWxHB",
        "outputId": "d8cb680f-86fc-4e1f-e6f2-bd3e97026117"
      },
      "outputs": [
        {
          "output_type": "stream",
          "name": "stdout",
          "text": [
            "Collecting pymc3\n",
            "  Downloading pymc3-3.11.5-py3-none-any.whl (872 kB)\n",
            "\u001b[2K     \u001b[90m━━━━━━━━━━━━━━━━━━━━━━━━━━━━━━━━━━━━━━━\u001b[0m \u001b[32m872.2/872.2 kB\u001b[0m \u001b[31m7.4 MB/s\u001b[0m eta \u001b[36m0:00:00\u001b[0m\n",
            "\u001b[?25hRequirement already satisfied: arviz>=0.11.0 in /usr/local/lib/python3.10/dist-packages (from pymc3) (0.15.1)\n",
            "Requirement already satisfied: cachetools>=4.2.1 in /usr/local/lib/python3.10/dist-packages (from pymc3) (5.3.1)\n",
            "Collecting deprecat (from pymc3)\n",
            "  Downloading deprecat-2.1.1-py2.py3-none-any.whl (9.8 kB)\n",
            "Collecting dill (from pymc3)\n",
            "  Downloading dill-0.3.7-py3-none-any.whl (115 kB)\n",
            "\u001b[2K     \u001b[90m━━━━━━━━━━━━━━━━━━━━━━━━━━━━━━━━━━━━━━\u001b[0m \u001b[32m115.3/115.3 kB\u001b[0m \u001b[31m10.9 MB/s\u001b[0m eta \u001b[36m0:00:00\u001b[0m\n",
            "\u001b[?25hRequirement already satisfied: fastprogress>=0.2.0 in /usr/local/lib/python3.10/dist-packages (from pymc3) (1.0.3)\n",
            "Collecting numpy<1.22.2,>=1.15.0 (from pymc3)\n",
            "  Downloading numpy-1.22.1-cp310-cp310-manylinux_2_17_x86_64.manylinux2014_x86_64.whl (16.8 MB)\n",
            "\u001b[2K     \u001b[90m━━━━━━━━━━━━━━━━━━━━━━━━━━━━━━━━━━━━━━━━\u001b[0m \u001b[32m16.8/16.8 MB\u001b[0m \u001b[31m47.6 MB/s\u001b[0m eta \u001b[36m0:00:00\u001b[0m\n",
            "\u001b[?25hRequirement already satisfied: pandas>=0.24.0 in /usr/local/lib/python3.10/dist-packages (from pymc3) (1.5.3)\n",
            "Requirement already satisfied: patsy>=0.5.1 in /usr/local/lib/python3.10/dist-packages (from pymc3) (0.5.3)\n",
            "Collecting scipy<1.8.0,>=1.7.3 (from pymc3)\n",
            "  Downloading scipy-1.7.3-cp310-cp310-manylinux_2_17_x86_64.manylinux2014_x86_64.whl (39.9 MB)\n",
            "\u001b[2K     \u001b[90m━━━━━━━━━━━━━━━━━━━━━━━━━━━━━━━━━━━━━━━━\u001b[0m \u001b[32m39.9/39.9 MB\u001b[0m \u001b[31m14.3 MB/s\u001b[0m eta \u001b[36m0:00:00\u001b[0m\n",
            "\u001b[?25hCollecting semver>=2.13.0 (from pymc3)\n",
            "  Downloading semver-3.0.1-py3-none-any.whl (17 kB)\n",
            "Collecting theano-pymc==1.1.2 (from pymc3)\n",
            "  Downloading Theano-PyMC-1.1.2.tar.gz (1.8 MB)\n",
            "\u001b[2K     \u001b[90m━━━━━━━━━━━━━━━━━━━━━━━━━━━━━━━━━━━━━━━━\u001b[0m \u001b[32m1.8/1.8 MB\u001b[0m \u001b[31m59.0 MB/s\u001b[0m eta \u001b[36m0:00:00\u001b[0m\n",
            "\u001b[?25h  Preparing metadata (setup.py) ... \u001b[?25l\u001b[?25hdone\n",
            "Requirement already satisfied: typing-extensions>=3.7.4 in /usr/local/lib/python3.10/dist-packages (from pymc3) (4.7.1)\n",
            "Requirement already satisfied: filelock in /usr/local/lib/python3.10/dist-packages (from theano-pymc==1.1.2->pymc3) (3.12.2)\n",
            "Requirement already satisfied: setuptools>=60.0.0 in /usr/local/lib/python3.10/dist-packages (from arviz>=0.11.0->pymc3) (67.7.2)\n",
            "Requirement already satisfied: matplotlib>=3.2 in /usr/local/lib/python3.10/dist-packages (from arviz>=0.11.0->pymc3) (3.7.1)\n",
            "INFO: pip is looking at multiple versions of arviz to determine which version is compatible with other requirements. This could take a while.\n",
            "Collecting arviz>=0.11.0 (from pymc3)\n",
            "  Downloading arviz-0.16.1-py3-none-any.whl (1.7 MB)\n",
            "\u001b[2K     \u001b[90m━━━━━━━━━━━━━━━━━━━━━━━━━━━━━━━━━━━━━━━━\u001b[0m \u001b[32m1.7/1.7 MB\u001b[0m \u001b[31m51.0 MB/s\u001b[0m eta \u001b[36m0:00:00\u001b[0m\n",
            "\u001b[?25h  Downloading arviz-0.16.0-py3-none-any.whl (1.7 MB)\n",
            "\u001b[2K     \u001b[90m━━━━━━━━━━━━━━━━━━━━━━━━━━━━━━━━━━━━━━━━\u001b[0m \u001b[32m1.7/1.7 MB\u001b[0m \u001b[31m60.1 MB/s\u001b[0m eta \u001b[36m0:00:00\u001b[0m\n",
            "\u001b[?25h  Downloading arviz-0.15.0-py3-none-any.whl (1.6 MB)\n",
            "\u001b[2K     \u001b[90m━━━━━━━━━━━━━━━━━━━━━━━━━━━━━━━━━━━━━━━━\u001b[0m \u001b[32m1.6/1.6 MB\u001b[0m \u001b[31m57.5 MB/s\u001b[0m eta \u001b[36m0:00:00\u001b[0m\n",
            "\u001b[?25h  Downloading arviz-0.14.0-py3-none-any.whl (1.7 MB)\n",
            "\u001b[2K     \u001b[90m━━━━━━━━━━━━━━━━━━━━━━━━━━━━━━━━━━━━━━━━\u001b[0m \u001b[32m1.7/1.7 MB\u001b[0m \u001b[31m57.8 MB/s\u001b[0m eta \u001b[36m0:00:00\u001b[0m\n",
            "\u001b[?25h  Downloading arviz-0.13.0-py3-none-any.whl (1.7 MB)\n",
            "\u001b[2K     \u001b[90m━━━━━━━━━━━━━━━━━━━━━━━━━━━━━━━━━━━━━━━━\u001b[0m \u001b[32m1.7/1.7 MB\u001b[0m \u001b[31m44.3 MB/s\u001b[0m eta \u001b[36m0:00:00\u001b[0m\n",
            "\u001b[?25h  Downloading arviz-0.12.1-py3-none-any.whl (1.6 MB)\n",
            "\u001b[2K     \u001b[90m━━━━━━━━━━━━━━━━━━━━━━━━━━━━━━━━━━━━━━━━\u001b[0m \u001b[32m1.6/1.6 MB\u001b[0m \u001b[31m51.8 MB/s\u001b[0m eta \u001b[36m0:00:00\u001b[0m\n",
            "\u001b[?25hRequirement already satisfied: packaging in /usr/local/lib/python3.10/dist-packages (from arviz>=0.11.0->pymc3) (23.1)\n",
            "Requirement already satisfied: xarray>=0.16.1 in /usr/local/lib/python3.10/dist-packages (from arviz>=0.11.0->pymc3) (2022.12.0)\n",
            "Collecting netcdf4 (from arviz>=0.11.0->pymc3)\n",
            "  Downloading netCDF4-1.6.4-cp310-cp310-manylinux_2_17_x86_64.manylinux2014_x86_64.whl (5.4 MB)\n",
            "\u001b[2K     \u001b[90m━━━━━━━━━━━━━━━━━━━━━━━━━━━━━━━━━━━━━━━━\u001b[0m \u001b[32m5.4/5.4 MB\u001b[0m \u001b[31m87.4 MB/s\u001b[0m eta \u001b[36m0:00:00\u001b[0m\n",
            "\u001b[?25hRequirement already satisfied: xarray-einstats>=0.2 in /usr/local/lib/python3.10/dist-packages (from arviz>=0.11.0->pymc3) (0.6.0)\n",
            "Requirement already satisfied: python-dateutil>=2.8.1 in /usr/local/lib/python3.10/dist-packages (from pandas>=0.24.0->pymc3) (2.8.2)\n",
            "Requirement already satisfied: pytz>=2020.1 in /usr/local/lib/python3.10/dist-packages (from pandas>=0.24.0->pymc3) (2022.7.1)\n",
            "Requirement already satisfied: six in /usr/local/lib/python3.10/dist-packages (from patsy>=0.5.1->pymc3) (1.16.0)\n",
            "Requirement already satisfied: wrapt<2,>=1.10 in /usr/local/lib/python3.10/dist-packages (from deprecat->pymc3) (1.14.1)\n",
            "Requirement already satisfied: contourpy>=1.0.1 in /usr/local/lib/python3.10/dist-packages (from matplotlib>=3.2->arviz>=0.11.0->pymc3) (1.1.0)\n",
            "Requirement already satisfied: cycler>=0.10 in /usr/local/lib/python3.10/dist-packages (from matplotlib>=3.2->arviz>=0.11.0->pymc3) (0.11.0)\n",
            "Requirement already satisfied: fonttools>=4.22.0 in /usr/local/lib/python3.10/dist-packages (from matplotlib>=3.2->arviz>=0.11.0->pymc3) (4.41.1)\n",
            "Requirement already satisfied: kiwisolver>=1.0.1 in /usr/local/lib/python3.10/dist-packages (from matplotlib>=3.2->arviz>=0.11.0->pymc3) (1.4.4)\n",
            "Requirement already satisfied: pillow>=6.2.0 in /usr/local/lib/python3.10/dist-packages (from matplotlib>=3.2->arviz>=0.11.0->pymc3) (9.4.0)\n",
            "Requirement already satisfied: pyparsing>=2.3.1 in /usr/local/lib/python3.10/dist-packages (from matplotlib>=3.2->arviz>=0.11.0->pymc3) (3.1.0)\n",
            "Collecting cftime (from netcdf4->arviz>=0.11.0->pymc3)\n",
            "  Downloading cftime-1.6.2-cp310-cp310-manylinux_2_17_x86_64.manylinux2014_x86_64.whl (1.2 MB)\n",
            "\u001b[2K     \u001b[90m━━━━━━━━━━━━━━━━━━━━━━━━━━━━━━━━━━━━━━━━\u001b[0m \u001b[32m1.2/1.2 MB\u001b[0m \u001b[31m71.3 MB/s\u001b[0m eta \u001b[36m0:00:00\u001b[0m\n",
            "\u001b[?25hRequirement already satisfied: certifi in /usr/local/lib/python3.10/dist-packages (from netcdf4->arviz>=0.11.0->pymc3) (2023.7.22)\n",
            "Building wheels for collected packages: theano-pymc\n",
            "  Building wheel for theano-pymc (setup.py) ... \u001b[?25l\u001b[?25hdone\n",
            "  Created wheel for theano-pymc: filename=Theano_PyMC-1.1.2-py3-none-any.whl size=1529962 sha256=7af5c42f42a777d38065da3687fec7bd16de79119c9bfceb2b14514601d71048\n",
            "  Stored in directory: /root/.cache/pip/wheels/c2/da/87/4e3e2d14772741721d4ebe739c16bcf10ca3c6348f740aa852\n",
            "Successfully built theano-pymc\n",
            "Installing collected packages: semver, numpy, dill, deprecat, scipy, cftime, theano-pymc, netcdf4, arviz, pymc3\n",
            "  Attempting uninstall: numpy\n",
            "    Found existing installation: numpy 1.22.4\n",
            "    Uninstalling numpy-1.22.4:\n",
            "      Successfully uninstalled numpy-1.22.4\n",
            "  Attempting uninstall: scipy\n",
            "    Found existing installation: scipy 1.10.1\n",
            "    Uninstalling scipy-1.10.1:\n",
            "      Successfully uninstalled scipy-1.10.1\n",
            "  Attempting uninstall: arviz\n",
            "    Found existing installation: arviz 0.15.1\n",
            "    Uninstalling arviz-0.15.1:\n",
            "      Successfully uninstalled arviz-0.15.1\n",
            "\u001b[31mERROR: pip's dependency resolver does not currently take into account all the packages that are installed. This behaviour is the source of the following dependency conflicts.\n",
            "librosa 0.10.0.post2 requires numpy!=1.22.0,!=1.22.1,!=1.22.2,>=1.20.3, but you have numpy 1.22.1 which is incompatible.\n",
            "pymc 5.1.2 requires arviz>=0.13.0, but you have arviz 0.12.1 which is incompatible.\u001b[0m\u001b[31m\n",
            "\u001b[0mSuccessfully installed arviz-0.12.1 cftime-1.6.2 deprecat-2.1.1 dill-0.3.7 netcdf4-1.6.4 numpy-1.22.1 pymc3-3.11.5 scipy-1.7.3 semver-3.0.1 theano-pymc-1.1.2\n"
          ]
        },
        {
          "output_type": "display_data",
          "data": {
            "application/vnd.colab-display-data+json": {
              "pip_warning": {
                "packages": [
                  "numpy"
                ]
              }
            }
          },
          "metadata": {}
        }
      ],
      "source": [
        "!pip install pymc3 -U"
      ]
    },
    {
      "cell_type": "code",
      "execution_count": null,
      "metadata": {
        "id": "w5GUOmeuWxHB"
      },
      "outputs": [],
      "source": []
    }
  ],
  "metadata": {
    "kernelspec": {
      "display_name": "Python 3",
      "language": "python",
      "name": "python3"
    },
    "language_info": {
      "codemirror_mode": {
        "name": "ipython",
        "version": 3
      },
      "file_extension": ".py",
      "mimetype": "text/x-python",
      "name": "python",
      "nbconvert_exporter": "python",
      "pygments_lexer": "ipython3",
      "version": "3.8.3"
    },
    "colab": {
      "provenance": [],
      "include_colab_link": true
    }
  },
  "nbformat": 4,
  "nbformat_minor": 0
}