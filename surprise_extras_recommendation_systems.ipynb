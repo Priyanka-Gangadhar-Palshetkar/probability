{
  "cells": [
    {
      "cell_type": "markdown",
      "metadata": {
        "id": "view-in-github",
        "colab_type": "text"
      },
      "source": [
        "<a href=\"https://colab.research.google.com/github/iPrinka/MITx-Micromasters-Statistics-Data-Science/blob/main/surprise_extras_recommendation_systems.ipynb\" target=\"_parent\"><img src=\"https://colab.research.google.com/assets/colab-badge.svg\" alt=\"Open In Colab\"/></a>"
      ]
    },
    {
      "cell_type": "markdown",
      "metadata": {
        "id": "rfrQsAeJ_6Z7"
      },
      "source": [
        "### Recommender Systems: Part II"
      ]
    },
    {
      "cell_type": "code",
      "execution_count": null,
      "metadata": {
        "colab": {
          "base_uri": "https://localhost:8080/"
        },
        "id": "MipeVw9f_6Z-",
        "outputId": "4e77c31a-c244-449f-cb7c-71aa40205b77"
      },
      "outputs": [
        {
          "output_type": "stream",
          "name": "stdout",
          "text": [
            "Looking in indexes: https://pypi.org/simple, https://us-python.pkg.dev/colab-wheels/public/simple/\n",
            "Requirement already satisfied: scikit-surprise in /usr/local/lib/python3.9/dist-packages (1.1.3)\n",
            "Requirement already satisfied: numpy>=1.17.3 in /usr/local/lib/python3.9/dist-packages (from scikit-surprise) (1.22.4)\n",
            "Requirement already satisfied: joblib>=1.0.0 in /usr/local/lib/python3.9/dist-packages (from scikit-surprise) (1.2.0)\n",
            "Requirement already satisfied: scipy>=1.3.2 in /usr/local/lib/python3.9/dist-packages (from scikit-surprise) (1.10.1)\n"
          ]
        }
      ],
      "source": [
        "pip install scikit-surprise"
      ]
    },
    {
      "cell_type": "code",
      "execution_count": null,
      "metadata": {
        "id": "TFCZ2E3y_6Z9"
      },
      "outputs": [],
      "source": [
        "import pandas as pd\n",
        "import surprise"
      ]
    },
    {
      "cell_type": "code",
      "execution_count": null,
      "metadata": {
        "id": "x3cuUn7w_6Z-"
      },
      "outputs": [],
      "source": [
        "reviews = pd.read_csv(\"https://s3.amazonaws.com/amazon-reviews-pds/tsv/sample_us.tsv\", sep = '\\t')"
      ]
    },
    {
      "cell_type": "code",
      "execution_count": null,
      "metadata": {
        "colab": {
          "base_uri": "https://localhost:8080/",
          "height": 478
        },
        "id": "3mmaqFqt_6Z-",
        "outputId": "eb1e88ac-b932-4a74-9d47-40e26aa4ee53"
      },
      "outputs": [
        {
          "output_type": "execute_result",
          "data": {
            "text/plain": [
              "  marketplace  customer_id       review_id  product_id  product_parent  \\\n",
              "0          US     18778586   RDIJS7QYB6XNR  B00EDBY7X8       122952789   \n",
              "1          US     24769659  R36ED1U38IELG8  B00D7JFOPC       952062646   \n",
              "2          US     44331596   R1UE3RPRGCOLD  B002LHA74O       818126353   \n",
              "3          US     23310293  R298788GS6I901  B00ARPLCGY       261944918   \n",
              "4          US     38745832    RNX4EXOBBPN5  B00UZOPOFW       717410439   \n",
              "\n",
              "                                       product_title product_category  \\\n",
              "0                         Monopoly Junior Board Game             Toys   \n",
              "1  56 Pieces of Wooden Train Track Compatible wit...             Toys   \n",
              "2         Super Jumbo Playing Cards by S&S Worldwide             Toys   \n",
              "3           Barbie Doll and Fashions Barbie Gift Set             Toys   \n",
              "4  Emazing Lights eLite Flow Glow Sticks - Spinni...             Toys   \n",
              "\n",
              "   star_rating  helpful_votes  total_votes vine verified_purchase  \\\n",
              "0            5              0            0    N                 Y   \n",
              "1            5              0            0    N                 Y   \n",
              "2            2              1            1    N                 Y   \n",
              "3            5              0            0    N                 Y   \n",
              "4            1              1            1    N                 Y   \n",
              "\n",
              "                                     review_headline  \\\n",
              "0                                         Five Stars   \n",
              "1              Good quality track at excellent price   \n",
              "2                                          Two Stars   \n",
              "3  my daughter loved it and i liked the price and...   \n",
              "4                                    DONT BUY THESE!   \n",
              "\n",
              "                                         review_body review_date  \n",
              "0                                       Excellent!!!  2015-08-31  \n",
              "1  Great quality wooden track (better than some o...  2015-08-31  \n",
              "2                  Cards are not as big as pictured.  2015-08-31  \n",
              "3  my daughter loved it and i liked the price and...  2015-08-31  \n",
              "4  Do not buy these! They break very fast I spun ...  2015-08-31  "
            ],
            "text/html": [
              "\n",
              "  <div id=\"df-527ed0ae-ea11-4f4e-8116-612bbbef2bc3\">\n",
              "    <div class=\"colab-df-container\">\n",
              "      <div>\n",
              "<style scoped>\n",
              "    .dataframe tbody tr th:only-of-type {\n",
              "        vertical-align: middle;\n",
              "    }\n",
              "\n",
              "    .dataframe tbody tr th {\n",
              "        vertical-align: top;\n",
              "    }\n",
              "\n",
              "    .dataframe thead th {\n",
              "        text-align: right;\n",
              "    }\n",
              "</style>\n",
              "<table border=\"1\" class=\"dataframe\">\n",
              "  <thead>\n",
              "    <tr style=\"text-align: right;\">\n",
              "      <th></th>\n",
              "      <th>marketplace</th>\n",
              "      <th>customer_id</th>\n",
              "      <th>review_id</th>\n",
              "      <th>product_id</th>\n",
              "      <th>product_parent</th>\n",
              "      <th>product_title</th>\n",
              "      <th>product_category</th>\n",
              "      <th>star_rating</th>\n",
              "      <th>helpful_votes</th>\n",
              "      <th>total_votes</th>\n",
              "      <th>vine</th>\n",
              "      <th>verified_purchase</th>\n",
              "      <th>review_headline</th>\n",
              "      <th>review_body</th>\n",
              "      <th>review_date</th>\n",
              "    </tr>\n",
              "  </thead>\n",
              "  <tbody>\n",
              "    <tr>\n",
              "      <th>0</th>\n",
              "      <td>US</td>\n",
              "      <td>18778586</td>\n",
              "      <td>RDIJS7QYB6XNR</td>\n",
              "      <td>B00EDBY7X8</td>\n",
              "      <td>122952789</td>\n",
              "      <td>Monopoly Junior Board Game</td>\n",
              "      <td>Toys</td>\n",
              "      <td>5</td>\n",
              "      <td>0</td>\n",
              "      <td>0</td>\n",
              "      <td>N</td>\n",
              "      <td>Y</td>\n",
              "      <td>Five Stars</td>\n",
              "      <td>Excellent!!!</td>\n",
              "      <td>2015-08-31</td>\n",
              "    </tr>\n",
              "    <tr>\n",
              "      <th>1</th>\n",
              "      <td>US</td>\n",
              "      <td>24769659</td>\n",
              "      <td>R36ED1U38IELG8</td>\n",
              "      <td>B00D7JFOPC</td>\n",
              "      <td>952062646</td>\n",
              "      <td>56 Pieces of Wooden Train Track Compatible wit...</td>\n",
              "      <td>Toys</td>\n",
              "      <td>5</td>\n",
              "      <td>0</td>\n",
              "      <td>0</td>\n",
              "      <td>N</td>\n",
              "      <td>Y</td>\n",
              "      <td>Good quality track at excellent price</td>\n",
              "      <td>Great quality wooden track (better than some o...</td>\n",
              "      <td>2015-08-31</td>\n",
              "    </tr>\n",
              "    <tr>\n",
              "      <th>2</th>\n",
              "      <td>US</td>\n",
              "      <td>44331596</td>\n",
              "      <td>R1UE3RPRGCOLD</td>\n",
              "      <td>B002LHA74O</td>\n",
              "      <td>818126353</td>\n",
              "      <td>Super Jumbo Playing Cards by S&amp;S Worldwide</td>\n",
              "      <td>Toys</td>\n",
              "      <td>2</td>\n",
              "      <td>1</td>\n",
              "      <td>1</td>\n",
              "      <td>N</td>\n",
              "      <td>Y</td>\n",
              "      <td>Two Stars</td>\n",
              "      <td>Cards are not as big as pictured.</td>\n",
              "      <td>2015-08-31</td>\n",
              "    </tr>\n",
              "    <tr>\n",
              "      <th>3</th>\n",
              "      <td>US</td>\n",
              "      <td>23310293</td>\n",
              "      <td>R298788GS6I901</td>\n",
              "      <td>B00ARPLCGY</td>\n",
              "      <td>261944918</td>\n",
              "      <td>Barbie Doll and Fashions Barbie Gift Set</td>\n",
              "      <td>Toys</td>\n",
              "      <td>5</td>\n",
              "      <td>0</td>\n",
              "      <td>0</td>\n",
              "      <td>N</td>\n",
              "      <td>Y</td>\n",
              "      <td>my daughter loved it and i liked the price and...</td>\n",
              "      <td>my daughter loved it and i liked the price and...</td>\n",
              "      <td>2015-08-31</td>\n",
              "    </tr>\n",
              "    <tr>\n",
              "      <th>4</th>\n",
              "      <td>US</td>\n",
              "      <td>38745832</td>\n",
              "      <td>RNX4EXOBBPN5</td>\n",
              "      <td>B00UZOPOFW</td>\n",
              "      <td>717410439</td>\n",
              "      <td>Emazing Lights eLite Flow Glow Sticks - Spinni...</td>\n",
              "      <td>Toys</td>\n",
              "      <td>1</td>\n",
              "      <td>1</td>\n",
              "      <td>1</td>\n",
              "      <td>N</td>\n",
              "      <td>Y</td>\n",
              "      <td>DONT BUY THESE!</td>\n",
              "      <td>Do not buy these! They break very fast I spun ...</td>\n",
              "      <td>2015-08-31</td>\n",
              "    </tr>\n",
              "  </tbody>\n",
              "</table>\n",
              "</div>\n",
              "      <button class=\"colab-df-convert\" onclick=\"convertToInteractive('df-527ed0ae-ea11-4f4e-8116-612bbbef2bc3')\"\n",
              "              title=\"Convert this dataframe to an interactive table.\"\n",
              "              style=\"display:none;\">\n",
              "        \n",
              "  <svg xmlns=\"http://www.w3.org/2000/svg\" height=\"24px\"viewBox=\"0 0 24 24\"\n",
              "       width=\"24px\">\n",
              "    <path d=\"M0 0h24v24H0V0z\" fill=\"none\"/>\n",
              "    <path d=\"M18.56 5.44l.94 2.06.94-2.06 2.06-.94-2.06-.94-.94-2.06-.94 2.06-2.06.94zm-11 1L8.5 8.5l.94-2.06 2.06-.94-2.06-.94L8.5 2.5l-.94 2.06-2.06.94zm10 10l.94 2.06.94-2.06 2.06-.94-2.06-.94-.94-2.06-.94 2.06-2.06.94z\"/><path d=\"M17.41 7.96l-1.37-1.37c-.4-.4-.92-.59-1.43-.59-.52 0-1.04.2-1.43.59L10.3 9.45l-7.72 7.72c-.78.78-.78 2.05 0 2.83L4 21.41c.39.39.9.59 1.41.59.51 0 1.02-.2 1.41-.59l7.78-7.78 2.81-2.81c.8-.78.8-2.07 0-2.86zM5.41 20L4 18.59l7.72-7.72 1.47 1.35L5.41 20z\"/>\n",
              "  </svg>\n",
              "      </button>\n",
              "      \n",
              "  <style>\n",
              "    .colab-df-container {\n",
              "      display:flex;\n",
              "      flex-wrap:wrap;\n",
              "      gap: 12px;\n",
              "    }\n",
              "\n",
              "    .colab-df-convert {\n",
              "      background-color: #E8F0FE;\n",
              "      border: none;\n",
              "      border-radius: 50%;\n",
              "      cursor: pointer;\n",
              "      display: none;\n",
              "      fill: #1967D2;\n",
              "      height: 32px;\n",
              "      padding: 0 0 0 0;\n",
              "      width: 32px;\n",
              "    }\n",
              "\n",
              "    .colab-df-convert:hover {\n",
              "      background-color: #E2EBFA;\n",
              "      box-shadow: 0px 1px 2px rgba(60, 64, 67, 0.3), 0px 1px 3px 1px rgba(60, 64, 67, 0.15);\n",
              "      fill: #174EA6;\n",
              "    }\n",
              "\n",
              "    [theme=dark] .colab-df-convert {\n",
              "      background-color: #3B4455;\n",
              "      fill: #D2E3FC;\n",
              "    }\n",
              "\n",
              "    [theme=dark] .colab-df-convert:hover {\n",
              "      background-color: #434B5C;\n",
              "      box-shadow: 0px 1px 3px 1px rgba(0, 0, 0, 0.15);\n",
              "      filter: drop-shadow(0px 1px 2px rgba(0, 0, 0, 0.3));\n",
              "      fill: #FFFFFF;\n",
              "    }\n",
              "  </style>\n",
              "\n",
              "      <script>\n",
              "        const buttonEl =\n",
              "          document.querySelector('#df-527ed0ae-ea11-4f4e-8116-612bbbef2bc3 button.colab-df-convert');\n",
              "        buttonEl.style.display =\n",
              "          google.colab.kernel.accessAllowed ? 'block' : 'none';\n",
              "\n",
              "        async function convertToInteractive(key) {\n",
              "          const element = document.querySelector('#df-527ed0ae-ea11-4f4e-8116-612bbbef2bc3');\n",
              "          const dataTable =\n",
              "            await google.colab.kernel.invokeFunction('convertToInteractive',\n",
              "                                                     [key], {});\n",
              "          if (!dataTable) return;\n",
              "\n",
              "          const docLinkHtml = 'Like what you see? Visit the ' +\n",
              "            '<a target=\"_blank\" href=https://colab.research.google.com/notebooks/data_table.ipynb>data table notebook</a>'\n",
              "            + ' to learn more about interactive tables.';\n",
              "          element.innerHTML = '';\n",
              "          dataTable['output_type'] = 'display_data';\n",
              "          await google.colab.output.renderOutput(dataTable, element);\n",
              "          const docLink = document.createElement('div');\n",
              "          docLink.innerHTML = docLinkHtml;\n",
              "          element.appendChild(docLink);\n",
              "        }\n",
              "      </script>\n",
              "    </div>\n",
              "  </div>\n",
              "  "
            ]
          },
          "metadata": {},
          "execution_count": 11
        }
      ],
      "source": [
        "reviews.head()"
      ]
    },
    {
      "cell_type": "markdown",
      "metadata": {
        "id": "9bWLaH2U_6Z_"
      },
      "source": [
        "### Finding Similar Products"
      ]
    },
    {
      "cell_type": "code",
      "execution_count": null,
      "metadata": {
        "id": "oE2Wbwg7_6Z_"
      },
      "outputs": [],
      "source": [
        "#pivot the data\n",
        "rev_df = pd.pivot_table(reviews, index='product_title', columns='customer_id', values='star_rating')"
      ]
    },
    {
      "cell_type": "code",
      "execution_count": null,
      "metadata": {
        "colab": {
          "base_uri": "https://localhost:8080/"
        },
        "id": "P19brhEv_6Z_",
        "outputId": "811c3361-ec9a-4e21-ed26-eac82a7d4907"
      },
      "outputs": [
        {
          "output_type": "execute_result",
          "data": {
            "text/plain": [
              "(49, 48)"
            ]
          },
          "metadata": {},
          "execution_count": 13
        }
      ],
      "source": [
        "rev_df.shape"
      ]
    },
    {
      "cell_type": "code",
      "execution_count": null,
      "metadata": {
        "colab": {
          "base_uri": "https://localhost:8080/",
          "height": 358
        },
        "id": "wQG31ay__6Z_",
        "outputId": "d2b605d6-9a8b-4d11-e9f4-364352418f35"
      },
      "outputs": [
        {
          "output_type": "execute_result",
          "data": {
            "text/plain": [
              "customer_id                                         125518    128540    \\\n",
              "product_title                                                            \n",
              "100 Foot Multicolor Pennant Banner                       NaN       NaN   \n",
              "56 Pieces of Wooden Train Track Compatible with...       NaN       NaN   \n",
              "\n",
              "customer_id                                         433677    1297934   \\\n",
              "product_title                                                            \n",
              "100 Foot Multicolor Pennant Banner                       NaN       NaN   \n",
              "56 Pieces of Wooden Train Track Compatible with...       NaN       NaN   \n",
              "\n",
              "customer_id                                         1662075   2749569   \\\n",
              "product_title                                                            \n",
              "100 Foot Multicolor Pennant Banner                       NaN       NaN   \n",
              "56 Pieces of Wooden Train Track Compatible with...       NaN       NaN   \n",
              "\n",
              "customer_id                                         5543658   6762003   \\\n",
              "product_title                                                            \n",
              "100 Foot Multicolor Pennant Banner                       NaN       NaN   \n",
              "56 Pieces of Wooden Train Track Compatible with...       NaN       NaN   \n",
              "\n",
              "customer_id                                         7360347   11210951  ...  \\\n",
              "product_title                                                           ...   \n",
              "100 Foot Multicolor Pennant Banner                       NaN       NaN  ...   \n",
              "56 Pieces of Wooden Train Track Compatible with...       NaN       NaN  ...   \n",
              "\n",
              "customer_id                                         41168357  42523709  \\\n",
              "product_title                                                            \n",
              "100 Foot Multicolor Pennant Banner                       NaN       NaN   \n",
              "56 Pieces of Wooden Train Track Compatible with...       NaN       NaN   \n",
              "\n",
              "customer_id                                         43173394  43880421  \\\n",
              "product_title                                                            \n",
              "100 Foot Multicolor Pennant Banner                       NaN       NaN   \n",
              "56 Pieces of Wooden Train Track Compatible with...       NaN       NaN   \n",
              "\n",
              "customer_id                                         44331596  44928701  \\\n",
              "product_title                                                            \n",
              "100 Foot Multicolor Pennant Banner                       NaN       NaN   \n",
              "56 Pieces of Wooden Train Track Compatible with...       NaN       NaN   \n",
              "\n",
              "customer_id                                         45601416  47546726  \\\n",
              "product_title                                                            \n",
              "100 Foot Multicolor Pennant Banner                       NaN       NaN   \n",
              "56 Pieces of Wooden Train Track Compatible with...       NaN       NaN   \n",
              "\n",
              "customer_id                                         47781982  52006292  \n",
              "product_title                                                           \n",
              "100 Foot Multicolor Pennant Banner                       NaN       5.0  \n",
              "56 Pieces of Wooden Train Track Compatible with...       NaN       NaN  \n",
              "\n",
              "[2 rows x 48 columns]"
            ],
            "text/html": [
              "\n",
              "  <div id=\"df-b4f7a8e9-d131-45d3-a829-f9ef47c0dc3a\">\n",
              "    <div class=\"colab-df-container\">\n",
              "      <div>\n",
              "<style scoped>\n",
              "    .dataframe tbody tr th:only-of-type {\n",
              "        vertical-align: middle;\n",
              "    }\n",
              "\n",
              "    .dataframe tbody tr th {\n",
              "        vertical-align: top;\n",
              "    }\n",
              "\n",
              "    .dataframe thead th {\n",
              "        text-align: right;\n",
              "    }\n",
              "</style>\n",
              "<table border=\"1\" class=\"dataframe\">\n",
              "  <thead>\n",
              "    <tr style=\"text-align: right;\">\n",
              "      <th>customer_id</th>\n",
              "      <th>125518</th>\n",
              "      <th>128540</th>\n",
              "      <th>433677</th>\n",
              "      <th>1297934</th>\n",
              "      <th>1662075</th>\n",
              "      <th>2749569</th>\n",
              "      <th>5543658</th>\n",
              "      <th>6762003</th>\n",
              "      <th>7360347</th>\n",
              "      <th>11210951</th>\n",
              "      <th>...</th>\n",
              "      <th>41168357</th>\n",
              "      <th>42523709</th>\n",
              "      <th>43173394</th>\n",
              "      <th>43880421</th>\n",
              "      <th>44331596</th>\n",
              "      <th>44928701</th>\n",
              "      <th>45601416</th>\n",
              "      <th>47546726</th>\n",
              "      <th>47781982</th>\n",
              "      <th>52006292</th>\n",
              "    </tr>\n",
              "    <tr>\n",
              "      <th>product_title</th>\n",
              "      <th></th>\n",
              "      <th></th>\n",
              "      <th></th>\n",
              "      <th></th>\n",
              "      <th></th>\n",
              "      <th></th>\n",
              "      <th></th>\n",
              "      <th></th>\n",
              "      <th></th>\n",
              "      <th></th>\n",
              "      <th></th>\n",
              "      <th></th>\n",
              "      <th></th>\n",
              "      <th></th>\n",
              "      <th></th>\n",
              "      <th></th>\n",
              "      <th></th>\n",
              "      <th></th>\n",
              "      <th></th>\n",
              "      <th></th>\n",
              "      <th></th>\n",
              "    </tr>\n",
              "  </thead>\n",
              "  <tbody>\n",
              "    <tr>\n",
              "      <th>100 Foot Multicolor Pennant Banner</th>\n",
              "      <td>NaN</td>\n",
              "      <td>NaN</td>\n",
              "      <td>NaN</td>\n",
              "      <td>NaN</td>\n",
              "      <td>NaN</td>\n",
              "      <td>NaN</td>\n",
              "      <td>NaN</td>\n",
              "      <td>NaN</td>\n",
              "      <td>NaN</td>\n",
              "      <td>NaN</td>\n",
              "      <td>...</td>\n",
              "      <td>NaN</td>\n",
              "      <td>NaN</td>\n",
              "      <td>NaN</td>\n",
              "      <td>NaN</td>\n",
              "      <td>NaN</td>\n",
              "      <td>NaN</td>\n",
              "      <td>NaN</td>\n",
              "      <td>NaN</td>\n",
              "      <td>NaN</td>\n",
              "      <td>5.0</td>\n",
              "    </tr>\n",
              "    <tr>\n",
              "      <th>56 Pieces of Wooden Train Track Compatible with All Major Train Brands</th>\n",
              "      <td>NaN</td>\n",
              "      <td>NaN</td>\n",
              "      <td>NaN</td>\n",
              "      <td>NaN</td>\n",
              "      <td>NaN</td>\n",
              "      <td>NaN</td>\n",
              "      <td>NaN</td>\n",
              "      <td>NaN</td>\n",
              "      <td>NaN</td>\n",
              "      <td>NaN</td>\n",
              "      <td>...</td>\n",
              "      <td>NaN</td>\n",
              "      <td>NaN</td>\n",
              "      <td>NaN</td>\n",
              "      <td>NaN</td>\n",
              "      <td>NaN</td>\n",
              "      <td>NaN</td>\n",
              "      <td>NaN</td>\n",
              "      <td>NaN</td>\n",
              "      <td>NaN</td>\n",
              "      <td>NaN</td>\n",
              "    </tr>\n",
              "  </tbody>\n",
              "</table>\n",
              "<p>2 rows × 48 columns</p>\n",
              "</div>\n",
              "      <button class=\"colab-df-convert\" onclick=\"convertToInteractive('df-b4f7a8e9-d131-45d3-a829-f9ef47c0dc3a')\"\n",
              "              title=\"Convert this dataframe to an interactive table.\"\n",
              "              style=\"display:none;\">\n",
              "        \n",
              "  <svg xmlns=\"http://www.w3.org/2000/svg\" height=\"24px\"viewBox=\"0 0 24 24\"\n",
              "       width=\"24px\">\n",
              "    <path d=\"M0 0h24v24H0V0z\" fill=\"none\"/>\n",
              "    <path d=\"M18.56 5.44l.94 2.06.94-2.06 2.06-.94-2.06-.94-.94-2.06-.94 2.06-2.06.94zm-11 1L8.5 8.5l.94-2.06 2.06-.94-2.06-.94L8.5 2.5l-.94 2.06-2.06.94zm10 10l.94 2.06.94-2.06 2.06-.94-2.06-.94-.94-2.06-.94 2.06-2.06.94z\"/><path d=\"M17.41 7.96l-1.37-1.37c-.4-.4-.92-.59-1.43-.59-.52 0-1.04.2-1.43.59L10.3 9.45l-7.72 7.72c-.78.78-.78 2.05 0 2.83L4 21.41c.39.39.9.59 1.41.59.51 0 1.02-.2 1.41-.59l7.78-7.78 2.81-2.81c.8-.78.8-2.07 0-2.86zM5.41 20L4 18.59l7.72-7.72 1.47 1.35L5.41 20z\"/>\n",
              "  </svg>\n",
              "      </button>\n",
              "      \n",
              "  <style>\n",
              "    .colab-df-container {\n",
              "      display:flex;\n",
              "      flex-wrap:wrap;\n",
              "      gap: 12px;\n",
              "    }\n",
              "\n",
              "    .colab-df-convert {\n",
              "      background-color: #E8F0FE;\n",
              "      border: none;\n",
              "      border-radius: 50%;\n",
              "      cursor: pointer;\n",
              "      display: none;\n",
              "      fill: #1967D2;\n",
              "      height: 32px;\n",
              "      padding: 0 0 0 0;\n",
              "      width: 32px;\n",
              "    }\n",
              "\n",
              "    .colab-df-convert:hover {\n",
              "      background-color: #E2EBFA;\n",
              "      box-shadow: 0px 1px 2px rgba(60, 64, 67, 0.3), 0px 1px 3px 1px rgba(60, 64, 67, 0.15);\n",
              "      fill: #174EA6;\n",
              "    }\n",
              "\n",
              "    [theme=dark] .colab-df-convert {\n",
              "      background-color: #3B4455;\n",
              "      fill: #D2E3FC;\n",
              "    }\n",
              "\n",
              "    [theme=dark] .colab-df-convert:hover {\n",
              "      background-color: #434B5C;\n",
              "      box-shadow: 0px 1px 3px 1px rgba(0, 0, 0, 0.15);\n",
              "      filter: drop-shadow(0px 1px 2px rgba(0, 0, 0, 0.3));\n",
              "      fill: #FFFFFF;\n",
              "    }\n",
              "  </style>\n",
              "\n",
              "      <script>\n",
              "        const buttonEl =\n",
              "          document.querySelector('#df-b4f7a8e9-d131-45d3-a829-f9ef47c0dc3a button.colab-df-convert');\n",
              "        buttonEl.style.display =\n",
              "          google.colab.kernel.accessAllowed ? 'block' : 'none';\n",
              "\n",
              "        async function convertToInteractive(key) {\n",
              "          const element = document.querySelector('#df-b4f7a8e9-d131-45d3-a829-f9ef47c0dc3a');\n",
              "          const dataTable =\n",
              "            await google.colab.kernel.invokeFunction('convertToInteractive',\n",
              "                                                     [key], {});\n",
              "          if (!dataTable) return;\n",
              "\n",
              "          const docLinkHtml = 'Like what you see? Visit the ' +\n",
              "            '<a target=\"_blank\" href=https://colab.research.google.com/notebooks/data_table.ipynb>data table notebook</a>'\n",
              "            + ' to learn more about interactive tables.';\n",
              "          element.innerHTML = '';\n",
              "          dataTable['output_type'] = 'display_data';\n",
              "          await google.colab.output.renderOutput(dataTable, element);\n",
              "          const docLink = document.createElement('div');\n",
              "          docLink.innerHTML = docLinkHtml;\n",
              "          element.appendChild(docLink);\n",
              "        }\n",
              "      </script>\n",
              "    </div>\n",
              "  </div>\n",
              "  "
            ]
          },
          "metadata": {},
          "execution_count": 14
        }
      ],
      "source": [
        "#examine\n",
        "rev_df.head(2)"
      ]
    },
    {
      "cell_type": "code",
      "execution_count": null,
      "metadata": {
        "id": "fi0m-gVQ_6aA"
      },
      "outputs": [],
      "source": [
        "#fill missing values\n",
        "rev_df = rev_df.fillna(0)"
      ]
    },
    {
      "cell_type": "code",
      "execution_count": null,
      "metadata": {
        "colab": {
          "base_uri": "https://localhost:8080/",
          "height": 358
        },
        "id": "4ANOH_Vo_6aA",
        "outputId": "f56360e8-6804-44a9-a33e-8ac963baafd4"
      },
      "outputs": [
        {
          "output_type": "execute_result",
          "data": {
            "text/plain": [
              "customer_id                                         125518    128540    \\\n",
              "product_title                                                            \n",
              "100 Foot Multicolor Pennant Banner                       0.0       0.0   \n",
              "56 Pieces of Wooden Train Track Compatible with...       0.0       0.0   \n",
              "\n",
              "customer_id                                         433677    1297934   \\\n",
              "product_title                                                            \n",
              "100 Foot Multicolor Pennant Banner                       0.0       0.0   \n",
              "56 Pieces of Wooden Train Track Compatible with...       0.0       0.0   \n",
              "\n",
              "customer_id                                         1662075   2749569   \\\n",
              "product_title                                                            \n",
              "100 Foot Multicolor Pennant Banner                       0.0       0.0   \n",
              "56 Pieces of Wooden Train Track Compatible with...       0.0       0.0   \n",
              "\n",
              "customer_id                                         5543658   6762003   \\\n",
              "product_title                                                            \n",
              "100 Foot Multicolor Pennant Banner                       0.0       0.0   \n",
              "56 Pieces of Wooden Train Track Compatible with...       0.0       0.0   \n",
              "\n",
              "customer_id                                         7360347   11210951  ...  \\\n",
              "product_title                                                           ...   \n",
              "100 Foot Multicolor Pennant Banner                       0.0       0.0  ...   \n",
              "56 Pieces of Wooden Train Track Compatible with...       0.0       0.0  ...   \n",
              "\n",
              "customer_id                                         41168357  42523709  \\\n",
              "product_title                                                            \n",
              "100 Foot Multicolor Pennant Banner                       0.0       0.0   \n",
              "56 Pieces of Wooden Train Track Compatible with...       0.0       0.0   \n",
              "\n",
              "customer_id                                         43173394  43880421  \\\n",
              "product_title                                                            \n",
              "100 Foot Multicolor Pennant Banner                       0.0       0.0   \n",
              "56 Pieces of Wooden Train Track Compatible with...       0.0       0.0   \n",
              "\n",
              "customer_id                                         44331596  44928701  \\\n",
              "product_title                                                            \n",
              "100 Foot Multicolor Pennant Banner                       0.0       0.0   \n",
              "56 Pieces of Wooden Train Track Compatible with...       0.0       0.0   \n",
              "\n",
              "customer_id                                         45601416  47546726  \\\n",
              "product_title                                                            \n",
              "100 Foot Multicolor Pennant Banner                       0.0       0.0   \n",
              "56 Pieces of Wooden Train Track Compatible with...       0.0       0.0   \n",
              "\n",
              "customer_id                                         47781982  52006292  \n",
              "product_title                                                           \n",
              "100 Foot Multicolor Pennant Banner                       0.0       5.0  \n",
              "56 Pieces of Wooden Train Track Compatible with...       0.0       0.0  \n",
              "\n",
              "[2 rows x 48 columns]"
            ],
            "text/html": [
              "\n",
              "  <div id=\"df-665db563-cded-4b45-8b78-c13841c6e890\">\n",
              "    <div class=\"colab-df-container\">\n",
              "      <div>\n",
              "<style scoped>\n",
              "    .dataframe tbody tr th:only-of-type {\n",
              "        vertical-align: middle;\n",
              "    }\n",
              "\n",
              "    .dataframe tbody tr th {\n",
              "        vertical-align: top;\n",
              "    }\n",
              "\n",
              "    .dataframe thead th {\n",
              "        text-align: right;\n",
              "    }\n",
              "</style>\n",
              "<table border=\"1\" class=\"dataframe\">\n",
              "  <thead>\n",
              "    <tr style=\"text-align: right;\">\n",
              "      <th>customer_id</th>\n",
              "      <th>125518</th>\n",
              "      <th>128540</th>\n",
              "      <th>433677</th>\n",
              "      <th>1297934</th>\n",
              "      <th>1662075</th>\n",
              "      <th>2749569</th>\n",
              "      <th>5543658</th>\n",
              "      <th>6762003</th>\n",
              "      <th>7360347</th>\n",
              "      <th>11210951</th>\n",
              "      <th>...</th>\n",
              "      <th>41168357</th>\n",
              "      <th>42523709</th>\n",
              "      <th>43173394</th>\n",
              "      <th>43880421</th>\n",
              "      <th>44331596</th>\n",
              "      <th>44928701</th>\n",
              "      <th>45601416</th>\n",
              "      <th>47546726</th>\n",
              "      <th>47781982</th>\n",
              "      <th>52006292</th>\n",
              "    </tr>\n",
              "    <tr>\n",
              "      <th>product_title</th>\n",
              "      <th></th>\n",
              "      <th></th>\n",
              "      <th></th>\n",
              "      <th></th>\n",
              "      <th></th>\n",
              "      <th></th>\n",
              "      <th></th>\n",
              "      <th></th>\n",
              "      <th></th>\n",
              "      <th></th>\n",
              "      <th></th>\n",
              "      <th></th>\n",
              "      <th></th>\n",
              "      <th></th>\n",
              "      <th></th>\n",
              "      <th></th>\n",
              "      <th></th>\n",
              "      <th></th>\n",
              "      <th></th>\n",
              "      <th></th>\n",
              "      <th></th>\n",
              "    </tr>\n",
              "  </thead>\n",
              "  <tbody>\n",
              "    <tr>\n",
              "      <th>100 Foot Multicolor Pennant Banner</th>\n",
              "      <td>0.0</td>\n",
              "      <td>0.0</td>\n",
              "      <td>0.0</td>\n",
              "      <td>0.0</td>\n",
              "      <td>0.0</td>\n",
              "      <td>0.0</td>\n",
              "      <td>0.0</td>\n",
              "      <td>0.0</td>\n",
              "      <td>0.0</td>\n",
              "      <td>0.0</td>\n",
              "      <td>...</td>\n",
              "      <td>0.0</td>\n",
              "      <td>0.0</td>\n",
              "      <td>0.0</td>\n",
              "      <td>0.0</td>\n",
              "      <td>0.0</td>\n",
              "      <td>0.0</td>\n",
              "      <td>0.0</td>\n",
              "      <td>0.0</td>\n",
              "      <td>0.0</td>\n",
              "      <td>5.0</td>\n",
              "    </tr>\n",
              "    <tr>\n",
              "      <th>56 Pieces of Wooden Train Track Compatible with All Major Train Brands</th>\n",
              "      <td>0.0</td>\n",
              "      <td>0.0</td>\n",
              "      <td>0.0</td>\n",
              "      <td>0.0</td>\n",
              "      <td>0.0</td>\n",
              "      <td>0.0</td>\n",
              "      <td>0.0</td>\n",
              "      <td>0.0</td>\n",
              "      <td>0.0</td>\n",
              "      <td>0.0</td>\n",
              "      <td>...</td>\n",
              "      <td>0.0</td>\n",
              "      <td>0.0</td>\n",
              "      <td>0.0</td>\n",
              "      <td>0.0</td>\n",
              "      <td>0.0</td>\n",
              "      <td>0.0</td>\n",
              "      <td>0.0</td>\n",
              "      <td>0.0</td>\n",
              "      <td>0.0</td>\n",
              "      <td>0.0</td>\n",
              "    </tr>\n",
              "  </tbody>\n",
              "</table>\n",
              "<p>2 rows × 48 columns</p>\n",
              "</div>\n",
              "      <button class=\"colab-df-convert\" onclick=\"convertToInteractive('df-665db563-cded-4b45-8b78-c13841c6e890')\"\n",
              "              title=\"Convert this dataframe to an interactive table.\"\n",
              "              style=\"display:none;\">\n",
              "        \n",
              "  <svg xmlns=\"http://www.w3.org/2000/svg\" height=\"24px\"viewBox=\"0 0 24 24\"\n",
              "       width=\"24px\">\n",
              "    <path d=\"M0 0h24v24H0V0z\" fill=\"none\"/>\n",
              "    <path d=\"M18.56 5.44l.94 2.06.94-2.06 2.06-.94-2.06-.94-.94-2.06-.94 2.06-2.06.94zm-11 1L8.5 8.5l.94-2.06 2.06-.94-2.06-.94L8.5 2.5l-.94 2.06-2.06.94zm10 10l.94 2.06.94-2.06 2.06-.94-2.06-.94-.94-2.06-.94 2.06-2.06.94z\"/><path d=\"M17.41 7.96l-1.37-1.37c-.4-.4-.92-.59-1.43-.59-.52 0-1.04.2-1.43.59L10.3 9.45l-7.72 7.72c-.78.78-.78 2.05 0 2.83L4 21.41c.39.39.9.59 1.41.59.51 0 1.02-.2 1.41-.59l7.78-7.78 2.81-2.81c.8-.78.8-2.07 0-2.86zM5.41 20L4 18.59l7.72-7.72 1.47 1.35L5.41 20z\"/>\n",
              "  </svg>\n",
              "      </button>\n",
              "      \n",
              "  <style>\n",
              "    .colab-df-container {\n",
              "      display:flex;\n",
              "      flex-wrap:wrap;\n",
              "      gap: 12px;\n",
              "    }\n",
              "\n",
              "    .colab-df-convert {\n",
              "      background-color: #E8F0FE;\n",
              "      border: none;\n",
              "      border-radius: 50%;\n",
              "      cursor: pointer;\n",
              "      display: none;\n",
              "      fill: #1967D2;\n",
              "      height: 32px;\n",
              "      padding: 0 0 0 0;\n",
              "      width: 32px;\n",
              "    }\n",
              "\n",
              "    .colab-df-convert:hover {\n",
              "      background-color: #E2EBFA;\n",
              "      box-shadow: 0px 1px 2px rgba(60, 64, 67, 0.3), 0px 1px 3px 1px rgba(60, 64, 67, 0.15);\n",
              "      fill: #174EA6;\n",
              "    }\n",
              "\n",
              "    [theme=dark] .colab-df-convert {\n",
              "      background-color: #3B4455;\n",
              "      fill: #D2E3FC;\n",
              "    }\n",
              "\n",
              "    [theme=dark] .colab-df-convert:hover {\n",
              "      background-color: #434B5C;\n",
              "      box-shadow: 0px 1px 3px 1px rgba(0, 0, 0, 0.15);\n",
              "      filter: drop-shadow(0px 1px 2px rgba(0, 0, 0, 0.3));\n",
              "      fill: #FFFFFF;\n",
              "    }\n",
              "  </style>\n",
              "\n",
              "      <script>\n",
              "        const buttonEl =\n",
              "          document.querySelector('#df-665db563-cded-4b45-8b78-c13841c6e890 button.colab-df-convert');\n",
              "        buttonEl.style.display =\n",
              "          google.colab.kernel.accessAllowed ? 'block' : 'none';\n",
              "\n",
              "        async function convertToInteractive(key) {\n",
              "          const element = document.querySelector('#df-665db563-cded-4b45-8b78-c13841c6e890');\n",
              "          const dataTable =\n",
              "            await google.colab.kernel.invokeFunction('convertToInteractive',\n",
              "                                                     [key], {});\n",
              "          if (!dataTable) return;\n",
              "\n",
              "          const docLinkHtml = 'Like what you see? Visit the ' +\n",
              "            '<a target=\"_blank\" href=https://colab.research.google.com/notebooks/data_table.ipynb>data table notebook</a>'\n",
              "            + ' to learn more about interactive tables.';\n",
              "          element.innerHTML = '';\n",
              "          dataTable['output_type'] = 'display_data';\n",
              "          await google.colab.output.renderOutput(dataTable, element);\n",
              "          const docLink = document.createElement('div');\n",
              "          docLink.innerHTML = docLinkHtml;\n",
              "          element.appendChild(docLink);\n",
              "        }\n",
              "      </script>\n",
              "    </div>\n",
              "  </div>\n",
              "  "
            ]
          },
          "metadata": {},
          "execution_count": 16
        }
      ],
      "source": [
        "rev_df.head(2)"
      ]
    },
    {
      "cell_type": "code",
      "execution_count": null,
      "metadata": {
        "id": "DdQSKfzq_6aA"
      },
      "outputs": [],
      "source": [
        "from scipy.sparse import csr_matrix"
      ]
    },
    {
      "cell_type": "code",
      "execution_count": null,
      "metadata": {
        "colab": {
          "base_uri": "https://localhost:8080/"
        },
        "id": "yQTY1UxQ_6aA",
        "outputId": "c55d2c98-b13d-4b70-bb6a-dd9893c7b0fd"
      },
      "outputs": [
        {
          "output_type": "execute_result",
          "data": {
            "text/plain": [
              "<49x48 sparse matrix of type '<class 'numpy.float64'>'\n",
              "\twith 49 stored elements in Compressed Sparse Row format>"
            ]
          },
          "metadata": {},
          "execution_count": 18
        }
      ],
      "source": [
        "#create sparse matrix\n",
        "rev_sparse = csr_matrix(rev_df)\n",
        "rev_sparse"
      ]
    },
    {
      "cell_type": "code",
      "execution_count": null,
      "metadata": {
        "id": "WvFQLDpx_6aB"
      },
      "outputs": [],
      "source": [
        "#print(rev_sparse)"
      ]
    },
    {
      "cell_type": "code",
      "execution_count": null,
      "metadata": {
        "id": "T5woLFlT_6aB"
      },
      "outputs": [],
      "source": [
        "from sklearn.metrics import pairwise_distances"
      ]
    },
    {
      "cell_type": "code",
      "execution_count": null,
      "metadata": {
        "id": "Jkd9nL07_6aB"
      },
      "outputs": [],
      "source": [
        "#determine the distances\n",
        "dists = pairwise_distances(rev_sparse, metric = 'cosine')"
      ]
    },
    {
      "cell_type": "code",
      "execution_count": null,
      "metadata": {
        "colab": {
          "base_uri": "https://localhost:8080/",
          "height": 584
        },
        "id": "5Rm6RHer_6aB",
        "outputId": "b2f46ba2-05ec-4125-eabd-eb8fef1992c9"
      },
      "outputs": [
        {
          "output_type": "execute_result",
          "data": {
            "text/plain": [
              "product_title                                       100 Foot Multicolor Pennant Banner  \\\n",
              "product_title                                                                            \n",
              "100 Foot Multicolor Pennant Banner                                                 1.0   \n",
              "56 Pieces of Wooden Train Track Compatible with...                                 0.0   \n",
              "\n",
              "product_title                                       56 Pieces of Wooden Train Track Compatible with All Major Train Brands  \\\n",
              "product_title                                                                                                                \n",
              "100 Foot Multicolor Pennant Banner                                                                0.0                        \n",
              "56 Pieces of Wooden Train Track Compatible with...                                                1.0                        \n",
              "\n",
              "product_title                                       Alien Frontiers: Factions  \\\n",
              "product_title                                                                   \n",
              "100 Foot Multicolor Pennant Banner                                        0.0   \n",
              "56 Pieces of Wooden Train Track Compatible with...                        0.0   \n",
              "\n",
              "product_title                                       AmiGami Fox and Owl Figure 2-Pack  \\\n",
              "product_title                                                                           \n",
              "100 Foot Multicolor Pennant Banner                                                0.0   \n",
              "56 Pieces of Wooden Train Track Compatible with...                                0.0   \n",
              "\n",
              "product_title                                       BCW - Deluxe Currency Slab - Regular Bill - Dollar / Currency Collecting Supplies  \\\n",
              "product_title                                                                                                                           \n",
              "100 Foot Multicolor Pennant Banner                                                                0.0                                   \n",
              "56 Pieces of Wooden Train Track Compatible with...                                                0.0                                   \n",
              "\n",
              "product_title                                       Baby Einstein Octoplush  \\\n",
              "product_title                                                                 \n",
              "100 Foot Multicolor Pennant Banner                                      0.0   \n",
              "56 Pieces of Wooden Train Track Compatible with...                      0.0   \n",
              "\n",
              "product_title                                       Barbie Doll and Fashions Barbie Gift Set  \\\n",
              "product_title                                                                                  \n",
              "100 Foot Multicolor Pennant Banner                                                       0.0   \n",
              "56 Pieces of Wooden Train Track Compatible with...                                       0.0   \n",
              "\n",
              "product_title                                       Barkology Princess the Poodle Hand Puppet  \\\n",
              "product_title                                                                                   \n",
              "100 Foot Multicolor Pennant Banner                                                        0.0   \n",
              "56 Pieces of Wooden Train Track Compatible with...                                        0.0   \n",
              "\n",
              "product_title                                       Big Bang Cosmic Pegasus (Pegasis) Metal 4D High Performance Generic Battling Top BB-105  \\\n",
              "product_title                                                                                                                                 \n",
              "100 Foot Multicolor Pennant Banner                                                                0.0                                         \n",
              "56 Pieces of Wooden Train Track Compatible with...                                                0.0                                         \n",
              "\n",
              "product_title                                       Cards Against Humanity  \\\n",
              "product_title                                                                \n",
              "100 Foot Multicolor Pennant Banner                                     0.0   \n",
              "56 Pieces of Wooden Train Track Compatible with...                     0.0   \n",
              "\n",
              "product_title                                       ...  \\\n",
              "product_title                                       ...   \n",
              "100 Foot Multicolor Pennant Banner                  ...   \n",
              "56 Pieces of Wooden Train Track Compatible with...  ...   \n",
              "\n",
              "product_title                                       Super Jumbo Playing Cards by S&S Worldwide  \\\n",
              "product_title                                                                                    \n",
              "100 Foot Multicolor Pennant Banner                                                         0.0   \n",
              "56 Pieces of Wooden Train Track Compatible with...                                         0.0   \n",
              "\n",
              "product_title                                       Team Losi 8IGHT-E RTR AVC Electric 4WD Buggy Vehicle (1/8 Scale)  \\\n",
              "product_title                                                                                                          \n",
              "100 Foot Multicolor Pennant Banner                                                                0.0                  \n",
              "56 Pieces of Wooden Train Track Compatible with...                                                0.0                  \n",
              "\n",
              "product_title                                       Teenage Mutant Ninja Turtles T-Machines Tiger Claw in Safari Truck Diecast Vehicle  \\\n",
              "product_title                                                                                                                            \n",
              "100 Foot Multicolor Pennant Banner                                                                0.0                                    \n",
              "56 Pieces of Wooden Train Track Compatible with...                                                0.0                                    \n",
              "\n",
              "product_title                                       The Game of Life Money and Asset Board Game, Fame Edition  \\\n",
              "product_title                                                                                                   \n",
              "100 Foot Multicolor Pennant Banner                                                                0.0           \n",
              "56 Pieces of Wooden Train Track Compatible with...                                                0.0           \n",
              "\n",
              "product_title                                       WOW Toys Town Advent Calendar  \\\n",
              "product_title                                                                       \n",
              "100 Foot Multicolor Pennant Banner                                            0.0   \n",
              "56 Pieces of Wooden Train Track Compatible with...                            0.0   \n",
              "\n",
              "product_title                                       Whiffer Sniffers Mystery Pack 1 Scented Backpack Clip  \\\n",
              "product_title                                                                                               \n",
              "100 Foot Multicolor Pennant Banner                                                                0.0       \n",
              "56 Pieces of Wooden Train Track Compatible with...                                                0.0       \n",
              "\n",
              "product_title                                       Winston Zeddmore & Ecto-1: Funko POP! Rides x Ghostbusters Vinyl Figure  \\\n",
              "product_title                                                                                                                 \n",
              "100 Foot Multicolor Pennant Banner                                                                0.0                         \n",
              "56 Pieces of Wooden Train Track Compatible with...                                                0.0                         \n",
              "\n",
              "product_title                                       Yoga Joes - Green Army Men Toys  \\\n",
              "product_title                                                                         \n",
              "100 Foot Multicolor Pennant Banner                                              0.0   \n",
              "56 Pieces of Wooden Train Track Compatible with...                              0.0   \n",
              "\n",
              "product_title                                       Yu-Gi-Oh! - Solemn Judgment (GLD5-EN045) - Gold Series: Haunted Mine - Limited Edition - Ghost/Gold Hybrid Rare  \\\n",
              "product_title                                                                                                                                                         \n",
              "100 Foot Multicolor Pennant Banner                                                                0.0                                                                 \n",
              "56 Pieces of Wooden Train Track Compatible with...                                                0.0                                                                 \n",
              "\n",
              "product_title                                       ZuZo 2.4GHz 4 CH 6 Axis Gyro RC Quadcopter Drone with Camera & LED Lights, 38 x 38 x 7cm  \n",
              "product_title                                                                                                                                 \n",
              "100 Foot Multicolor Pennant Banner                                                                0.0                                         \n",
              "56 Pieces of Wooden Train Track Compatible with...                                                0.0                                         \n",
              "\n",
              "[2 rows x 49 columns]"
            ],
            "text/html": [
              "\n",
              "  <div id=\"df-51ac7b32-b4ae-4e66-ad09-0c94f7c30a94\">\n",
              "    <div class=\"colab-df-container\">\n",
              "      <div>\n",
              "<style scoped>\n",
              "    .dataframe tbody tr th:only-of-type {\n",
              "        vertical-align: middle;\n",
              "    }\n",
              "\n",
              "    .dataframe tbody tr th {\n",
              "        vertical-align: top;\n",
              "    }\n",
              "\n",
              "    .dataframe thead th {\n",
              "        text-align: right;\n",
              "    }\n",
              "</style>\n",
              "<table border=\"1\" class=\"dataframe\">\n",
              "  <thead>\n",
              "    <tr style=\"text-align: right;\">\n",
              "      <th>product_title</th>\n",
              "      <th>100 Foot Multicolor Pennant Banner</th>\n",
              "      <th>56 Pieces of Wooden Train Track Compatible with All Major Train Brands</th>\n",
              "      <th>Alien Frontiers: Factions</th>\n",
              "      <th>AmiGami Fox and Owl Figure 2-Pack</th>\n",
              "      <th>BCW - Deluxe Currency Slab - Regular Bill - Dollar / Currency Collecting Supplies</th>\n",
              "      <th>Baby Einstein Octoplush</th>\n",
              "      <th>Barbie Doll and Fashions Barbie Gift Set</th>\n",
              "      <th>Barkology Princess the Poodle Hand Puppet</th>\n",
              "      <th>Big Bang Cosmic Pegasus (Pegasis) Metal 4D High Performance Generic Battling Top BB-105</th>\n",
              "      <th>Cards Against Humanity</th>\n",
              "      <th>...</th>\n",
              "      <th>Super Jumbo Playing Cards by S&amp;S Worldwide</th>\n",
              "      <th>Team Losi 8IGHT-E RTR AVC Electric 4WD Buggy Vehicle (1/8 Scale)</th>\n",
              "      <th>Teenage Mutant Ninja Turtles T-Machines Tiger Claw in Safari Truck Diecast Vehicle</th>\n",
              "      <th>The Game of Life Money and Asset Board Game, Fame Edition</th>\n",
              "      <th>WOW Toys Town Advent Calendar</th>\n",
              "      <th>Whiffer Sniffers Mystery Pack 1 Scented Backpack Clip</th>\n",
              "      <th>Winston Zeddmore &amp; Ecto-1: Funko POP! Rides x Ghostbusters Vinyl Figure</th>\n",
              "      <th>Yoga Joes - Green Army Men Toys</th>\n",
              "      <th>Yu-Gi-Oh! - Solemn Judgment (GLD5-EN045) - Gold Series: Haunted Mine - Limited Edition - Ghost/Gold Hybrid Rare</th>\n",
              "      <th>ZuZo 2.4GHz 4 CH 6 Axis Gyro RC Quadcopter Drone with Camera &amp; LED Lights, 38 x 38 x 7cm</th>\n",
              "    </tr>\n",
              "    <tr>\n",
              "      <th>product_title</th>\n",
              "      <th></th>\n",
              "      <th></th>\n",
              "      <th></th>\n",
              "      <th></th>\n",
              "      <th></th>\n",
              "      <th></th>\n",
              "      <th></th>\n",
              "      <th></th>\n",
              "      <th></th>\n",
              "      <th></th>\n",
              "      <th></th>\n",
              "      <th></th>\n",
              "      <th></th>\n",
              "      <th></th>\n",
              "      <th></th>\n",
              "      <th></th>\n",
              "      <th></th>\n",
              "      <th></th>\n",
              "      <th></th>\n",
              "      <th></th>\n",
              "      <th></th>\n",
              "    </tr>\n",
              "  </thead>\n",
              "  <tbody>\n",
              "    <tr>\n",
              "      <th>100 Foot Multicolor Pennant Banner</th>\n",
              "      <td>1.0</td>\n",
              "      <td>0.0</td>\n",
              "      <td>0.0</td>\n",
              "      <td>0.0</td>\n",
              "      <td>0.0</td>\n",
              "      <td>0.0</td>\n",
              "      <td>0.0</td>\n",
              "      <td>0.0</td>\n",
              "      <td>0.0</td>\n",
              "      <td>0.0</td>\n",
              "      <td>...</td>\n",
              "      <td>0.0</td>\n",
              "      <td>0.0</td>\n",
              "      <td>0.0</td>\n",
              "      <td>0.0</td>\n",
              "      <td>0.0</td>\n",
              "      <td>0.0</td>\n",
              "      <td>0.0</td>\n",
              "      <td>0.0</td>\n",
              "      <td>0.0</td>\n",
              "      <td>0.0</td>\n",
              "    </tr>\n",
              "    <tr>\n",
              "      <th>56 Pieces of Wooden Train Track Compatible with All Major Train Brands</th>\n",
              "      <td>0.0</td>\n",
              "      <td>1.0</td>\n",
              "      <td>0.0</td>\n",
              "      <td>0.0</td>\n",
              "      <td>0.0</td>\n",
              "      <td>0.0</td>\n",
              "      <td>0.0</td>\n",
              "      <td>0.0</td>\n",
              "      <td>0.0</td>\n",
              "      <td>0.0</td>\n",
              "      <td>...</td>\n",
              "      <td>0.0</td>\n",
              "      <td>0.0</td>\n",
              "      <td>0.0</td>\n",
              "      <td>0.0</td>\n",
              "      <td>0.0</td>\n",
              "      <td>0.0</td>\n",
              "      <td>0.0</td>\n",
              "      <td>0.0</td>\n",
              "      <td>0.0</td>\n",
              "      <td>0.0</td>\n",
              "    </tr>\n",
              "  </tbody>\n",
              "</table>\n",
              "<p>2 rows × 49 columns</p>\n",
              "</div>\n",
              "      <button class=\"colab-df-convert\" onclick=\"convertToInteractive('df-51ac7b32-b4ae-4e66-ad09-0c94f7c30a94')\"\n",
              "              title=\"Convert this dataframe to an interactive table.\"\n",
              "              style=\"display:none;\">\n",
              "        \n",
              "  <svg xmlns=\"http://www.w3.org/2000/svg\" height=\"24px\"viewBox=\"0 0 24 24\"\n",
              "       width=\"24px\">\n",
              "    <path d=\"M0 0h24v24H0V0z\" fill=\"none\"/>\n",
              "    <path d=\"M18.56 5.44l.94 2.06.94-2.06 2.06-.94-2.06-.94-.94-2.06-.94 2.06-2.06.94zm-11 1L8.5 8.5l.94-2.06 2.06-.94-2.06-.94L8.5 2.5l-.94 2.06-2.06.94zm10 10l.94 2.06.94-2.06 2.06-.94-2.06-.94-.94-2.06-.94 2.06-2.06.94z\"/><path d=\"M17.41 7.96l-1.37-1.37c-.4-.4-.92-.59-1.43-.59-.52 0-1.04.2-1.43.59L10.3 9.45l-7.72 7.72c-.78.78-.78 2.05 0 2.83L4 21.41c.39.39.9.59 1.41.59.51 0 1.02-.2 1.41-.59l7.78-7.78 2.81-2.81c.8-.78.8-2.07 0-2.86zM5.41 20L4 18.59l7.72-7.72 1.47 1.35L5.41 20z\"/>\n",
              "  </svg>\n",
              "      </button>\n",
              "      \n",
              "  <style>\n",
              "    .colab-df-container {\n",
              "      display:flex;\n",
              "      flex-wrap:wrap;\n",
              "      gap: 12px;\n",
              "    }\n",
              "\n",
              "    .colab-df-convert {\n",
              "      background-color: #E8F0FE;\n",
              "      border: none;\n",
              "      border-radius: 50%;\n",
              "      cursor: pointer;\n",
              "      display: none;\n",
              "      fill: #1967D2;\n",
              "      height: 32px;\n",
              "      padding: 0 0 0 0;\n",
              "      width: 32px;\n",
              "    }\n",
              "\n",
              "    .colab-df-convert:hover {\n",
              "      background-color: #E2EBFA;\n",
              "      box-shadow: 0px 1px 2px rgba(60, 64, 67, 0.3), 0px 1px 3px 1px rgba(60, 64, 67, 0.15);\n",
              "      fill: #174EA6;\n",
              "    }\n",
              "\n",
              "    [theme=dark] .colab-df-convert {\n",
              "      background-color: #3B4455;\n",
              "      fill: #D2E3FC;\n",
              "    }\n",
              "\n",
              "    [theme=dark] .colab-df-convert:hover {\n",
              "      background-color: #434B5C;\n",
              "      box-shadow: 0px 1px 3px 1px rgba(0, 0, 0, 0.15);\n",
              "      filter: drop-shadow(0px 1px 2px rgba(0, 0, 0, 0.3));\n",
              "      fill: #FFFFFF;\n",
              "    }\n",
              "  </style>\n",
              "\n",
              "      <script>\n",
              "        const buttonEl =\n",
              "          document.querySelector('#df-51ac7b32-b4ae-4e66-ad09-0c94f7c30a94 button.colab-df-convert');\n",
              "        buttonEl.style.display =\n",
              "          google.colab.kernel.accessAllowed ? 'block' : 'none';\n",
              "\n",
              "        async function convertToInteractive(key) {\n",
              "          const element = document.querySelector('#df-51ac7b32-b4ae-4e66-ad09-0c94f7c30a94');\n",
              "          const dataTable =\n",
              "            await google.colab.kernel.invokeFunction('convertToInteractive',\n",
              "                                                     [key], {});\n",
              "          if (!dataTable) return;\n",
              "\n",
              "          const docLinkHtml = 'Like what you see? Visit the ' +\n",
              "            '<a target=\"_blank\" href=https://colab.research.google.com/notebooks/data_table.ipynb>data table notebook</a>'\n",
              "            + ' to learn more about interactive tables.';\n",
              "          element.innerHTML = '';\n",
              "          dataTable['output_type'] = 'display_data';\n",
              "          await google.colab.output.renderOutput(dataTable, element);\n",
              "          const docLink = document.createElement('div');\n",
              "          docLink.innerHTML = docLinkHtml;\n",
              "          element.appendChild(docLink);\n",
              "        }\n",
              "      </script>\n",
              "    </div>\n",
              "  </div>\n",
              "  "
            ]
          },
          "metadata": {},
          "execution_count": 22
        }
      ],
      "source": [
        "#create a DataFrame of Results\n",
        "dist_df = pd.DataFrame(1 - dists, index = rev_df.index, columns = rev_df.index)\n",
        "dist_df.head(2)#Higher value is more similar"
      ]
    },
    {
      "cell_type": "code",
      "execution_count": null,
      "metadata": {
        "id": "qwJaPenP_6aB"
      },
      "outputs": [],
      "source": [
        "import numpy as np"
      ]
    },
    {
      "cell_type": "code",
      "execution_count": null,
      "metadata": {
        "colab": {
          "base_uri": "https://localhost:8080/",
          "height": 35
        },
        "id": "5ZSQwijD_6aC",
        "outputId": "3d6f1f00-0a99-43db-ef98-3c64c3c105bc"
      },
      "outputs": [
        {
          "output_type": "execute_result",
          "data": {
            "text/plain": [
              "'100 Foot Multicolor Pennant Banner'"
            ],
            "application/vnd.google.colaboratory.intrinsic+json": {
              "type": "string"
            }
          },
          "metadata": {},
          "execution_count": 24
        }
      ],
      "source": [
        "#select a random product\n",
        "dist_df.columns[0]"
      ]
    },
    {
      "cell_type": "code",
      "execution_count": null,
      "metadata": {
        "colab": {
          "base_uri": "https://localhost:8080/"
        },
        "id": "jyDxU_tS_6aC",
        "outputId": "5218f36b-12be-4069-bf75-4e9d18a75e83"
      },
      "outputs": [
        {
          "output_type": "execute_result",
          "data": {
            "text/plain": [
              "product_title\n",
              "100 Foot Multicolor Pennant Banner                                        1.0\n",
              "56 Pieces of Wooden Train Track Compatible with All Major Train Brands    1.0\n",
              "dtype: float64"
            ]
          },
          "metadata": {},
          "execution_count": 25
        }
      ],
      "source": [
        "#subtract from 1\n",
        "dist_df.sum().head(2)"
      ]
    },
    {
      "cell_type": "code",
      "execution_count": null,
      "metadata": {
        "id": "wjKf3iMM_6aC"
      },
      "outputs": [],
      "source": [
        "#look for a review\n"
      ]
    },
    {
      "cell_type": "markdown",
      "metadata": {
        "id": "big-3_fA_6aC"
      },
      "source": [
        "### Trying Surprise"
      ]
    },
    {
      "cell_type": "markdown",
      "metadata": {
        "id": "ElcnEr_c_6aC"
      },
      "source": [
        "- Load in data to dataframe\n",
        "- Create trainset\n",
        "- Use any algorithm's `.fit` method"
      ]
    },
    {
      "cell_type": "code",
      "execution_count": null,
      "metadata": {
        "id": "knCieev9_6aC"
      },
      "outputs": [],
      "source": [
        "import surprise\n",
        "from surprise import SVD, KNNBasic\n",
        "from surprise.model_selection import cross_validate\n",
        "from surprise import Dataset"
      ]
    },
    {
      "cell_type": "code",
      "execution_count": null,
      "metadata": {
        "colab": {
          "base_uri": "https://localhost:8080/"
        },
        "id": "ikbMyCxx_6aD",
        "outputId": "92978c55-4ab9-4a99-d499-0ecd7b527d90"
      },
      "outputs": [
        {
          "output_type": "stream",
          "name": "stdout",
          "text": [
            "Dataset ml-100k could not be found. Do you want to download it? [Y/n] Y\n",
            "Trying to download dataset from https://files.grouplens.org/datasets/movielens/ml-100k.zip...\n",
            "Done! Dataset ml-100k has been saved to /root/.surprise_data/ml-100k\n"
          ]
        }
      ],
      "source": [
        "#load built in data\n",
        "data = Dataset.load_builtin('ml-100k')"
      ]
    },
    {
      "cell_type": "code",
      "execution_count": null,
      "metadata": {
        "id": "6kHC95_w_6aD"
      },
      "outputs": [],
      "source": [
        "#build training data\n",
        "trainset = data.build_full_trainset()"
      ]
    },
    {
      "cell_type": "code",
      "execution_count": null,
      "metadata": {
        "colab": {
          "base_uri": "https://localhost:8080/"
        },
        "id": "iHo7gzkq_6aD",
        "outputId": "0ca4ce79-8d07-4a1c-c551-85279e508185"
      },
      "outputs": [
        {
          "output_type": "stream",
          "name": "stdout",
          "text": [
            "[(0, 0, 3.0), (0, 528, 4.0), (0, 377, 4.0), (0, 522, 3.0), (0, 431, 5.0)]\n"
          ]
        }
      ],
      "source": [
        "print(list(trainset.all_ratings())[:5])"
      ]
    },
    {
      "cell_type": "code",
      "execution_count": null,
      "metadata": {
        "id": "hPzvyzMX_6aD"
      },
      "outputs": [],
      "source": [
        "#KNN Algorithm\n",
        "algo = KNNBasic()"
      ]
    },
    {
      "cell_type": "code",
      "execution_count": null,
      "metadata": {
        "colab": {
          "base_uri": "https://localhost:8080/"
        },
        "id": "lcmrH3j2_6aD",
        "outputId": "58661d82-b455-43f7-d80e-77b859b0a49c"
      },
      "outputs": [
        {
          "output_type": "stream",
          "name": "stdout",
          "text": [
            "Computing the msd similarity matrix...\n",
            "Done computing similarity matrix.\n"
          ]
        },
        {
          "output_type": "execute_result",
          "data": {
            "text/plain": [
              "<surprise.prediction_algorithms.knns.KNNBasic at 0x7efd516aa730>"
            ]
          },
          "metadata": {},
          "execution_count": 32
        }
      ],
      "source": [
        "#fit the algorithm\n",
        "algo.fit(trainset)"
      ]
    },
    {
      "cell_type": "code",
      "execution_count": null,
      "metadata": {
        "colab": {
          "base_uri": "https://localhost:8080/"
        },
        "id": "vunpC05Z_6aE",
        "outputId": "389e9866-b6a6-4d48-856c-fb21c0a4c3fd"
      },
      "outputs": [
        {
          "output_type": "execute_result",
          "data": {
            "text/plain": [
              "Prediction(uid='196', iid='302', r_ui=4, est=4.06292421377939, details={'actual_k': 40, 'was_impossible': False})"
            ]
          },
          "metadata": {},
          "execution_count": 33
        }
      ],
      "source": [
        "#make predictions for user on an item\n",
        "algo.predict('196', '302', r_ui = 4)"
      ]
    },
    {
      "cell_type": "code",
      "execution_count": null,
      "metadata": {
        "colab": {
          "base_uri": "https://localhost:8080/"
        },
        "id": "1wq0wuee_6aE",
        "outputId": "32b1ccae-ac5e-41ca-e157-4442846af992"
      },
      "outputs": [
        {
          "output_type": "stream",
          "name": "stdout",
          "text": [
            "Computing the msd similarity matrix...\n",
            "Done computing similarity matrix.\n",
            "Computing the msd similarity matrix...\n",
            "Done computing similarity matrix.\n",
            "Computing the msd similarity matrix...\n",
            "Done computing similarity matrix.\n",
            "Computing the msd similarity matrix...\n",
            "Done computing similarity matrix.\n",
            "Computing the msd similarity matrix...\n",
            "Done computing similarity matrix.\n"
          ]
        },
        {
          "output_type": "execute_result",
          "data": {
            "text/plain": [
              "{'test_rmse': array([0.97825829, 0.97818126, 0.98014738, 0.98302645, 0.97836731]),\n",
              " 'test_mae': array([0.77206147, 0.77142343, 0.77705508, 0.77767198, 0.7691693 ]),\n",
              " 'fit_time': (0.2435007095336914,\n",
              "  0.42357969284057617,\n",
              "  0.27730703353881836,\n",
              "  0.42587828636169434,\n",
              "  0.25563859939575195),\n",
              " 'test_time': (3.042443037033081,\n",
              "  2.972264051437378,\n",
              "  7.822567701339722,\n",
              "  7.2103354930877686,\n",
              "  2.854018449783325)}"
            ]
          },
          "metadata": {},
          "execution_count": 34
        }
      ],
      "source": [
        "#cross validation\n",
        "cross_validate(algo, data)"
      ]
    },
    {
      "cell_type": "code",
      "execution_count": null,
      "metadata": {
        "colab": {
          "base_uri": "https://localhost:8080/",
          "height": 380
        },
        "id": "TMHfwkeO_6aE",
        "outputId": "cff3a6f4-c58a-4018-b34c-5d23480e7ea7"
      },
      "outputs": [
        {
          "output_type": "stream",
          "name": "stdout",
          "text": [
            "Computing the msd similarity matrix...\n",
            "Done computing similarity matrix.\n",
            "Computing the msd similarity matrix...\n",
            "Done computing similarity matrix.\n",
            "Computing the msd similarity matrix...\n",
            "Done computing similarity matrix.\n",
            "Computing the msd similarity matrix...\n",
            "Done computing similarity matrix.\n",
            "Computing the msd similarity matrix...\n",
            "Done computing similarity matrix.\n"
          ]
        },
        {
          "output_type": "execute_result",
          "data": {
            "text/plain": [
              "   test_rmse  test_mae  fit_time  test_time\n",
              "0   0.981577  0.775286  0.248219   2.933447\n",
              "1   0.974490  0.771013  0.240455   3.442230\n",
              "2   0.973328  0.768219  0.329403   3.205331\n",
              "3   0.983065  0.776848  0.260875   2.934197\n",
              "4   0.973722  0.768057  0.252717   2.828811"
            ],
            "text/html": [
              "\n",
              "  <div id=\"df-2afb6772-890b-4181-855f-87f07bcc248c\">\n",
              "    <div class=\"colab-df-container\">\n",
              "      <div>\n",
              "<style scoped>\n",
              "    .dataframe tbody tr th:only-of-type {\n",
              "        vertical-align: middle;\n",
              "    }\n",
              "\n",
              "    .dataframe tbody tr th {\n",
              "        vertical-align: top;\n",
              "    }\n",
              "\n",
              "    .dataframe thead th {\n",
              "        text-align: right;\n",
              "    }\n",
              "</style>\n",
              "<table border=\"1\" class=\"dataframe\">\n",
              "  <thead>\n",
              "    <tr style=\"text-align: right;\">\n",
              "      <th></th>\n",
              "      <th>test_rmse</th>\n",
              "      <th>test_mae</th>\n",
              "      <th>fit_time</th>\n",
              "      <th>test_time</th>\n",
              "    </tr>\n",
              "  </thead>\n",
              "  <tbody>\n",
              "    <tr>\n",
              "      <th>0</th>\n",
              "      <td>0.981577</td>\n",
              "      <td>0.775286</td>\n",
              "      <td>0.248219</td>\n",
              "      <td>2.933447</td>\n",
              "    </tr>\n",
              "    <tr>\n",
              "      <th>1</th>\n",
              "      <td>0.974490</td>\n",
              "      <td>0.771013</td>\n",
              "      <td>0.240455</td>\n",
              "      <td>3.442230</td>\n",
              "    </tr>\n",
              "    <tr>\n",
              "      <th>2</th>\n",
              "      <td>0.973328</td>\n",
              "      <td>0.768219</td>\n",
              "      <td>0.329403</td>\n",
              "      <td>3.205331</td>\n",
              "    </tr>\n",
              "    <tr>\n",
              "      <th>3</th>\n",
              "      <td>0.983065</td>\n",
              "      <td>0.776848</td>\n",
              "      <td>0.260875</td>\n",
              "      <td>2.934197</td>\n",
              "    </tr>\n",
              "    <tr>\n",
              "      <th>4</th>\n",
              "      <td>0.973722</td>\n",
              "      <td>0.768057</td>\n",
              "      <td>0.252717</td>\n",
              "      <td>2.828811</td>\n",
              "    </tr>\n",
              "  </tbody>\n",
              "</table>\n",
              "</div>\n",
              "      <button class=\"colab-df-convert\" onclick=\"convertToInteractive('df-2afb6772-890b-4181-855f-87f07bcc248c')\"\n",
              "              title=\"Convert this dataframe to an interactive table.\"\n",
              "              style=\"display:none;\">\n",
              "        \n",
              "  <svg xmlns=\"http://www.w3.org/2000/svg\" height=\"24px\"viewBox=\"0 0 24 24\"\n",
              "       width=\"24px\">\n",
              "    <path d=\"M0 0h24v24H0V0z\" fill=\"none\"/>\n",
              "    <path d=\"M18.56 5.44l.94 2.06.94-2.06 2.06-.94-2.06-.94-.94-2.06-.94 2.06-2.06.94zm-11 1L8.5 8.5l.94-2.06 2.06-.94-2.06-.94L8.5 2.5l-.94 2.06-2.06.94zm10 10l.94 2.06.94-2.06 2.06-.94-2.06-.94-.94-2.06-.94 2.06-2.06.94z\"/><path d=\"M17.41 7.96l-1.37-1.37c-.4-.4-.92-.59-1.43-.59-.52 0-1.04.2-1.43.59L10.3 9.45l-7.72 7.72c-.78.78-.78 2.05 0 2.83L4 21.41c.39.39.9.59 1.41.59.51 0 1.02-.2 1.41-.59l7.78-7.78 2.81-2.81c.8-.78.8-2.07 0-2.86zM5.41 20L4 18.59l7.72-7.72 1.47 1.35L5.41 20z\"/>\n",
              "  </svg>\n",
              "      </button>\n",
              "      \n",
              "  <style>\n",
              "    .colab-df-container {\n",
              "      display:flex;\n",
              "      flex-wrap:wrap;\n",
              "      gap: 12px;\n",
              "    }\n",
              "\n",
              "    .colab-df-convert {\n",
              "      background-color: #E8F0FE;\n",
              "      border: none;\n",
              "      border-radius: 50%;\n",
              "      cursor: pointer;\n",
              "      display: none;\n",
              "      fill: #1967D2;\n",
              "      height: 32px;\n",
              "      padding: 0 0 0 0;\n",
              "      width: 32px;\n",
              "    }\n",
              "\n",
              "    .colab-df-convert:hover {\n",
              "      background-color: #E2EBFA;\n",
              "      box-shadow: 0px 1px 2px rgba(60, 64, 67, 0.3), 0px 1px 3px 1px rgba(60, 64, 67, 0.15);\n",
              "      fill: #174EA6;\n",
              "    }\n",
              "\n",
              "    [theme=dark] .colab-df-convert {\n",
              "      background-color: #3B4455;\n",
              "      fill: #D2E3FC;\n",
              "    }\n",
              "\n",
              "    [theme=dark] .colab-df-convert:hover {\n",
              "      background-color: #434B5C;\n",
              "      box-shadow: 0px 1px 3px 1px rgba(0, 0, 0, 0.15);\n",
              "      filter: drop-shadow(0px 1px 2px rgba(0, 0, 0, 0.3));\n",
              "      fill: #FFFFFF;\n",
              "    }\n",
              "  </style>\n",
              "\n",
              "      <script>\n",
              "        const buttonEl =\n",
              "          document.querySelector('#df-2afb6772-890b-4181-855f-87f07bcc248c button.colab-df-convert');\n",
              "        buttonEl.style.display =\n",
              "          google.colab.kernel.accessAllowed ? 'block' : 'none';\n",
              "\n",
              "        async function convertToInteractive(key) {\n",
              "          const element = document.querySelector('#df-2afb6772-890b-4181-855f-87f07bcc248c');\n",
              "          const dataTable =\n",
              "            await google.colab.kernel.invokeFunction('convertToInteractive',\n",
              "                                                     [key], {});\n",
              "          if (!dataTable) return;\n",
              "\n",
              "          const docLinkHtml = 'Like what you see? Visit the ' +\n",
              "            '<a target=\"_blank\" href=https://colab.research.google.com/notebooks/data_table.ipynb>data table notebook</a>'\n",
              "            + ' to learn more about interactive tables.';\n",
              "          element.innerHTML = '';\n",
              "          dataTable['output_type'] = 'display_data';\n",
              "          await google.colab.output.renderOutput(dataTable, element);\n",
              "          const docLink = document.createElement('div');\n",
              "          docLink.innerHTML = docLinkHtml;\n",
              "          element.appendChild(docLink);\n",
              "        }\n",
              "      </script>\n",
              "    </div>\n",
              "  </div>\n",
              "  "
            ]
          },
          "metadata": {},
          "execution_count": 35
        }
      ],
      "source": [
        "#dataframe of results\n",
        "results = cross_validate(algo, data)\n",
        "results_df = pd.DataFrame(results)\n",
        "results_df"
      ]
    },
    {
      "cell_type": "markdown",
      "metadata": {
        "id": "DlKnlZ55_6aE"
      },
      "source": [
        "### Using Our Own Dataset"
      ]
    },
    {
      "cell_type": "code",
      "execution_count": null,
      "metadata": {
        "id": "eQA-zR1z_6aE"
      },
      "outputs": [],
      "source": [
        "reviews = pd.read_csv(\"https://s3.amazonaws.com/amazon-reviews-pds/tsv/sample_us.tsv\", sep = '\\t')"
      ]
    },
    {
      "cell_type": "code",
      "execution_count": null,
      "metadata": {
        "colab": {
          "base_uri": "https://localhost:8080/",
          "height": 478
        },
        "id": "F-Z5O71c_6aF",
        "outputId": "613695a3-d810-424a-9666-e2605b790854"
      },
      "outputs": [
        {
          "output_type": "execute_result",
          "data": {
            "text/plain": [
              "  marketplace  customer_id       review_id  product_id  product_parent  \\\n",
              "0          US     18778586   RDIJS7QYB6XNR  B00EDBY7X8       122952789   \n",
              "1          US     24769659  R36ED1U38IELG8  B00D7JFOPC       952062646   \n",
              "2          US     44331596   R1UE3RPRGCOLD  B002LHA74O       818126353   \n",
              "3          US     23310293  R298788GS6I901  B00ARPLCGY       261944918   \n",
              "4          US     38745832    RNX4EXOBBPN5  B00UZOPOFW       717410439   \n",
              "\n",
              "                                       product_title product_category  \\\n",
              "0                         Monopoly Junior Board Game             Toys   \n",
              "1  56 Pieces of Wooden Train Track Compatible wit...             Toys   \n",
              "2         Super Jumbo Playing Cards by S&S Worldwide             Toys   \n",
              "3           Barbie Doll and Fashions Barbie Gift Set             Toys   \n",
              "4  Emazing Lights eLite Flow Glow Sticks - Spinni...             Toys   \n",
              "\n",
              "   star_rating  helpful_votes  total_votes vine verified_purchase  \\\n",
              "0            5              0            0    N                 Y   \n",
              "1            5              0            0    N                 Y   \n",
              "2            2              1            1    N                 Y   \n",
              "3            5              0            0    N                 Y   \n",
              "4            1              1            1    N                 Y   \n",
              "\n",
              "                                     review_headline  \\\n",
              "0                                         Five Stars   \n",
              "1              Good quality track at excellent price   \n",
              "2                                          Two Stars   \n",
              "3  my daughter loved it and i liked the price and...   \n",
              "4                                    DONT BUY THESE!   \n",
              "\n",
              "                                         review_body review_date  \n",
              "0                                       Excellent!!!  2015-08-31  \n",
              "1  Great quality wooden track (better than some o...  2015-08-31  \n",
              "2                  Cards are not as big as pictured.  2015-08-31  \n",
              "3  my daughter loved it and i liked the price and...  2015-08-31  \n",
              "4  Do not buy these! They break very fast I spun ...  2015-08-31  "
            ],
            "text/html": [
              "\n",
              "  <div id=\"df-9dd5c1bc-2dce-4256-8cea-8be391429926\">\n",
              "    <div class=\"colab-df-container\">\n",
              "      <div>\n",
              "<style scoped>\n",
              "    .dataframe tbody tr th:only-of-type {\n",
              "        vertical-align: middle;\n",
              "    }\n",
              "\n",
              "    .dataframe tbody tr th {\n",
              "        vertical-align: top;\n",
              "    }\n",
              "\n",
              "    .dataframe thead th {\n",
              "        text-align: right;\n",
              "    }\n",
              "</style>\n",
              "<table border=\"1\" class=\"dataframe\">\n",
              "  <thead>\n",
              "    <tr style=\"text-align: right;\">\n",
              "      <th></th>\n",
              "      <th>marketplace</th>\n",
              "      <th>customer_id</th>\n",
              "      <th>review_id</th>\n",
              "      <th>product_id</th>\n",
              "      <th>product_parent</th>\n",
              "      <th>product_title</th>\n",
              "      <th>product_category</th>\n",
              "      <th>star_rating</th>\n",
              "      <th>helpful_votes</th>\n",
              "      <th>total_votes</th>\n",
              "      <th>vine</th>\n",
              "      <th>verified_purchase</th>\n",
              "      <th>review_headline</th>\n",
              "      <th>review_body</th>\n",
              "      <th>review_date</th>\n",
              "    </tr>\n",
              "  </thead>\n",
              "  <tbody>\n",
              "    <tr>\n",
              "      <th>0</th>\n",
              "      <td>US</td>\n",
              "      <td>18778586</td>\n",
              "      <td>RDIJS7QYB6XNR</td>\n",
              "      <td>B00EDBY7X8</td>\n",
              "      <td>122952789</td>\n",
              "      <td>Monopoly Junior Board Game</td>\n",
              "      <td>Toys</td>\n",
              "      <td>5</td>\n",
              "      <td>0</td>\n",
              "      <td>0</td>\n",
              "      <td>N</td>\n",
              "      <td>Y</td>\n",
              "      <td>Five Stars</td>\n",
              "      <td>Excellent!!!</td>\n",
              "      <td>2015-08-31</td>\n",
              "    </tr>\n",
              "    <tr>\n",
              "      <th>1</th>\n",
              "      <td>US</td>\n",
              "      <td>24769659</td>\n",
              "      <td>R36ED1U38IELG8</td>\n",
              "      <td>B00D7JFOPC</td>\n",
              "      <td>952062646</td>\n",
              "      <td>56 Pieces of Wooden Train Track Compatible wit...</td>\n",
              "      <td>Toys</td>\n",
              "      <td>5</td>\n",
              "      <td>0</td>\n",
              "      <td>0</td>\n",
              "      <td>N</td>\n",
              "      <td>Y</td>\n",
              "      <td>Good quality track at excellent price</td>\n",
              "      <td>Great quality wooden track (better than some o...</td>\n",
              "      <td>2015-08-31</td>\n",
              "    </tr>\n",
              "    <tr>\n",
              "      <th>2</th>\n",
              "      <td>US</td>\n",
              "      <td>44331596</td>\n",
              "      <td>R1UE3RPRGCOLD</td>\n",
              "      <td>B002LHA74O</td>\n",
              "      <td>818126353</td>\n",
              "      <td>Super Jumbo Playing Cards by S&amp;S Worldwide</td>\n",
              "      <td>Toys</td>\n",
              "      <td>2</td>\n",
              "      <td>1</td>\n",
              "      <td>1</td>\n",
              "      <td>N</td>\n",
              "      <td>Y</td>\n",
              "      <td>Two Stars</td>\n",
              "      <td>Cards are not as big as pictured.</td>\n",
              "      <td>2015-08-31</td>\n",
              "    </tr>\n",
              "    <tr>\n",
              "      <th>3</th>\n",
              "      <td>US</td>\n",
              "      <td>23310293</td>\n",
              "      <td>R298788GS6I901</td>\n",
              "      <td>B00ARPLCGY</td>\n",
              "      <td>261944918</td>\n",
              "      <td>Barbie Doll and Fashions Barbie Gift Set</td>\n",
              "      <td>Toys</td>\n",
              "      <td>5</td>\n",
              "      <td>0</td>\n",
              "      <td>0</td>\n",
              "      <td>N</td>\n",
              "      <td>Y</td>\n",
              "      <td>my daughter loved it and i liked the price and...</td>\n",
              "      <td>my daughter loved it and i liked the price and...</td>\n",
              "      <td>2015-08-31</td>\n",
              "    </tr>\n",
              "    <tr>\n",
              "      <th>4</th>\n",
              "      <td>US</td>\n",
              "      <td>38745832</td>\n",
              "      <td>RNX4EXOBBPN5</td>\n",
              "      <td>B00UZOPOFW</td>\n",
              "      <td>717410439</td>\n",
              "      <td>Emazing Lights eLite Flow Glow Sticks - Spinni...</td>\n",
              "      <td>Toys</td>\n",
              "      <td>1</td>\n",
              "      <td>1</td>\n",
              "      <td>1</td>\n",
              "      <td>N</td>\n",
              "      <td>Y</td>\n",
              "      <td>DONT BUY THESE!</td>\n",
              "      <td>Do not buy these! They break very fast I spun ...</td>\n",
              "      <td>2015-08-31</td>\n",
              "    </tr>\n",
              "  </tbody>\n",
              "</table>\n",
              "</div>\n",
              "      <button class=\"colab-df-convert\" onclick=\"convertToInteractive('df-9dd5c1bc-2dce-4256-8cea-8be391429926')\"\n",
              "              title=\"Convert this dataframe to an interactive table.\"\n",
              "              style=\"display:none;\">\n",
              "        \n",
              "  <svg xmlns=\"http://www.w3.org/2000/svg\" height=\"24px\"viewBox=\"0 0 24 24\"\n",
              "       width=\"24px\">\n",
              "    <path d=\"M0 0h24v24H0V0z\" fill=\"none\"/>\n",
              "    <path d=\"M18.56 5.44l.94 2.06.94-2.06 2.06-.94-2.06-.94-.94-2.06-.94 2.06-2.06.94zm-11 1L8.5 8.5l.94-2.06 2.06-.94-2.06-.94L8.5 2.5l-.94 2.06-2.06.94zm10 10l.94 2.06.94-2.06 2.06-.94-2.06-.94-.94-2.06-.94 2.06-2.06.94z\"/><path d=\"M17.41 7.96l-1.37-1.37c-.4-.4-.92-.59-1.43-.59-.52 0-1.04.2-1.43.59L10.3 9.45l-7.72 7.72c-.78.78-.78 2.05 0 2.83L4 21.41c.39.39.9.59 1.41.59.51 0 1.02-.2 1.41-.59l7.78-7.78 2.81-2.81c.8-.78.8-2.07 0-2.86zM5.41 20L4 18.59l7.72-7.72 1.47 1.35L5.41 20z\"/>\n",
              "  </svg>\n",
              "      </button>\n",
              "      \n",
              "  <style>\n",
              "    .colab-df-container {\n",
              "      display:flex;\n",
              "      flex-wrap:wrap;\n",
              "      gap: 12px;\n",
              "    }\n",
              "\n",
              "    .colab-df-convert {\n",
              "      background-color: #E8F0FE;\n",
              "      border: none;\n",
              "      border-radius: 50%;\n",
              "      cursor: pointer;\n",
              "      display: none;\n",
              "      fill: #1967D2;\n",
              "      height: 32px;\n",
              "      padding: 0 0 0 0;\n",
              "      width: 32px;\n",
              "    }\n",
              "\n",
              "    .colab-df-convert:hover {\n",
              "      background-color: #E2EBFA;\n",
              "      box-shadow: 0px 1px 2px rgba(60, 64, 67, 0.3), 0px 1px 3px 1px rgba(60, 64, 67, 0.15);\n",
              "      fill: #174EA6;\n",
              "    }\n",
              "\n",
              "    [theme=dark] .colab-df-convert {\n",
              "      background-color: #3B4455;\n",
              "      fill: #D2E3FC;\n",
              "    }\n",
              "\n",
              "    [theme=dark] .colab-df-convert:hover {\n",
              "      background-color: #434B5C;\n",
              "      box-shadow: 0px 1px 3px 1px rgba(0, 0, 0, 0.15);\n",
              "      filter: drop-shadow(0px 1px 2px rgba(0, 0, 0, 0.3));\n",
              "      fill: #FFFFFF;\n",
              "    }\n",
              "  </style>\n",
              "\n",
              "      <script>\n",
              "        const buttonEl =\n",
              "          document.querySelector('#df-9dd5c1bc-2dce-4256-8cea-8be391429926 button.colab-df-convert');\n",
              "        buttonEl.style.display =\n",
              "          google.colab.kernel.accessAllowed ? 'block' : 'none';\n",
              "\n",
              "        async function convertToInteractive(key) {\n",
              "          const element = document.querySelector('#df-9dd5c1bc-2dce-4256-8cea-8be391429926');\n",
              "          const dataTable =\n",
              "            await google.colab.kernel.invokeFunction('convertToInteractive',\n",
              "                                                     [key], {});\n",
              "          if (!dataTable) return;\n",
              "\n",
              "          const docLinkHtml = 'Like what you see? Visit the ' +\n",
              "            '<a target=\"_blank\" href=https://colab.research.google.com/notebooks/data_table.ipynb>data table notebook</a>'\n",
              "            + ' to learn more about interactive tables.';\n",
              "          element.innerHTML = '';\n",
              "          dataTable['output_type'] = 'display_data';\n",
              "          await google.colab.output.renderOutput(dataTable, element);\n",
              "          const docLink = document.createElement('div');\n",
              "          docLink.innerHTML = docLinkHtml;\n",
              "          element.appendChild(docLink);\n",
              "        }\n",
              "      </script>\n",
              "    </div>\n",
              "  </div>\n",
              "  "
            ]
          },
          "metadata": {},
          "execution_count": 37
        }
      ],
      "source": [
        "reviews.head()"
      ]
    },
    {
      "cell_type": "code",
      "execution_count": null,
      "metadata": {
        "id": "Apj47JCa_6aF"
      },
      "outputs": [],
      "source": [
        "#subset to userID, reviewID, rating\n",
        "rev_df = reviews.loc[:, ['customer_id', 'review_id', 'star_rating']]"
      ]
    },
    {
      "cell_type": "code",
      "execution_count": null,
      "metadata": {
        "id": "btpLwySv_6aF"
      },
      "outputs": [],
      "source": [
        "#naming convention\n",
        "rev_df.columns = ['userID', 'itemID', 'rating']"
      ]
    },
    {
      "cell_type": "code",
      "execution_count": null,
      "metadata": {
        "colab": {
          "base_uri": "https://localhost:8080/"
        },
        "id": "FjxA3P03_6aF",
        "outputId": "f2297060-083f-443a-e9c7-c921bae1858e"
      },
      "outputs": [
        {
          "output_type": "execute_result",
          "data": {
            "text/plain": [
              "count    49.000000\n",
              "mean      4.183673\n",
              "std       1.364329\n",
              "min       1.000000\n",
              "25%       4.000000\n",
              "50%       5.000000\n",
              "75%       5.000000\n",
              "max       5.000000\n",
              "Name: rating, dtype: float64"
            ]
          },
          "metadata": {},
          "execution_count": 40
        }
      ],
      "source": [
        "#examine the ratings\n",
        "rev_df['rating'].describe()"
      ]
    },
    {
      "cell_type": "code",
      "execution_count": null,
      "metadata": {
        "id": "1UiIzT7I_6aF"
      },
      "outputs": [],
      "source": [
        "from surprise import Reader\n",
        "from surprise import Dataset\n",
        "from surprise.model_selection import cross_validate"
      ]
    },
    {
      "cell_type": "code",
      "execution_count": null,
      "metadata": {
        "id": "NAVjKoPY_6aF"
      },
      "outputs": [],
      "source": [
        "#create a reader object\n",
        "reader = Reader(rating_scale=(1, 5))"
      ]
    },
    {
      "cell_type": "code",
      "execution_count": null,
      "metadata": {
        "id": "wHc87D_e_6aG"
      },
      "outputs": [],
      "source": [
        "#load in data\n",
        "data = Dataset.load_from_df(rev_df, reader)"
      ]
    },
    {
      "cell_type": "code",
      "execution_count": null,
      "metadata": {
        "id": "oP24ibRs_6aG"
      },
      "outputs": [],
      "source": [
        "#build trainset\n",
        "trainset = data.build_full_trainset()"
      ]
    },
    {
      "cell_type": "code",
      "execution_count": null,
      "metadata": {
        "id": "9EBxqLPk_6aG"
      },
      "outputs": [],
      "source": [
        "from surprise import SVD"
      ]
    },
    {
      "cell_type": "code",
      "execution_count": null,
      "metadata": {
        "id": "iMX9X9pE_6aG"
      },
      "outputs": [],
      "source": [
        "#instantiate algorithm\n",
        "svd = SVD()"
      ]
    },
    {
      "cell_type": "code",
      "execution_count": null,
      "metadata": {
        "id": "piRIlTFT_6aG"
      },
      "outputs": [],
      "source": [
        "#cross validate the algorithm\n",
        "results = cross_validate(svd, data)"
      ]
    },
    {
      "cell_type": "code",
      "execution_count": null,
      "metadata": {
        "colab": {
          "base_uri": "https://localhost:8080/",
          "height": 206
        },
        "id": "rBGcLRHg_6aG",
        "outputId": "7ce937fd-be6c-4ce5-b1d9-deb2a74de982"
      },
      "outputs": [
        {
          "output_type": "execute_result",
          "data": {
            "text/plain": [
              "   test_rmse  test_mae  fit_time  test_time\n",
              "0   0.979608  0.979487  0.003483   0.000135\n",
              "1   1.566287  1.153846  0.001406   0.000122\n",
              "2   0.835994  0.760877  0.001435   0.000118\n",
              "3   1.671040  1.343590  0.001354   0.000133\n",
              "4   1.685122  1.406762  0.001699   0.000143"
            ],
            "text/html": [
              "\n",
              "  <div id=\"df-9a6bd3c7-aaeb-4a28-90c0-63f1d820a081\">\n",
              "    <div class=\"colab-df-container\">\n",
              "      <div>\n",
              "<style scoped>\n",
              "    .dataframe tbody tr th:only-of-type {\n",
              "        vertical-align: middle;\n",
              "    }\n",
              "\n",
              "    .dataframe tbody tr th {\n",
              "        vertical-align: top;\n",
              "    }\n",
              "\n",
              "    .dataframe thead th {\n",
              "        text-align: right;\n",
              "    }\n",
              "</style>\n",
              "<table border=\"1\" class=\"dataframe\">\n",
              "  <thead>\n",
              "    <tr style=\"text-align: right;\">\n",
              "      <th></th>\n",
              "      <th>test_rmse</th>\n",
              "      <th>test_mae</th>\n",
              "      <th>fit_time</th>\n",
              "      <th>test_time</th>\n",
              "    </tr>\n",
              "  </thead>\n",
              "  <tbody>\n",
              "    <tr>\n",
              "      <th>0</th>\n",
              "      <td>0.979608</td>\n",
              "      <td>0.979487</td>\n",
              "      <td>0.003483</td>\n",
              "      <td>0.000135</td>\n",
              "    </tr>\n",
              "    <tr>\n",
              "      <th>1</th>\n",
              "      <td>1.566287</td>\n",
              "      <td>1.153846</td>\n",
              "      <td>0.001406</td>\n",
              "      <td>0.000122</td>\n",
              "    </tr>\n",
              "    <tr>\n",
              "      <th>2</th>\n",
              "      <td>0.835994</td>\n",
              "      <td>0.760877</td>\n",
              "      <td>0.001435</td>\n",
              "      <td>0.000118</td>\n",
              "    </tr>\n",
              "    <tr>\n",
              "      <th>3</th>\n",
              "      <td>1.671040</td>\n",
              "      <td>1.343590</td>\n",
              "      <td>0.001354</td>\n",
              "      <td>0.000133</td>\n",
              "    </tr>\n",
              "    <tr>\n",
              "      <th>4</th>\n",
              "      <td>1.685122</td>\n",
              "      <td>1.406762</td>\n",
              "      <td>0.001699</td>\n",
              "      <td>0.000143</td>\n",
              "    </tr>\n",
              "  </tbody>\n",
              "</table>\n",
              "</div>\n",
              "      <button class=\"colab-df-convert\" onclick=\"convertToInteractive('df-9a6bd3c7-aaeb-4a28-90c0-63f1d820a081')\"\n",
              "              title=\"Convert this dataframe to an interactive table.\"\n",
              "              style=\"display:none;\">\n",
              "        \n",
              "  <svg xmlns=\"http://www.w3.org/2000/svg\" height=\"24px\"viewBox=\"0 0 24 24\"\n",
              "       width=\"24px\">\n",
              "    <path d=\"M0 0h24v24H0V0z\" fill=\"none\"/>\n",
              "    <path d=\"M18.56 5.44l.94 2.06.94-2.06 2.06-.94-2.06-.94-.94-2.06-.94 2.06-2.06.94zm-11 1L8.5 8.5l.94-2.06 2.06-.94-2.06-.94L8.5 2.5l-.94 2.06-2.06.94zm10 10l.94 2.06.94-2.06 2.06-.94-2.06-.94-.94-2.06-.94 2.06-2.06.94z\"/><path d=\"M17.41 7.96l-1.37-1.37c-.4-.4-.92-.59-1.43-.59-.52 0-1.04.2-1.43.59L10.3 9.45l-7.72 7.72c-.78.78-.78 2.05 0 2.83L4 21.41c.39.39.9.59 1.41.59.51 0 1.02-.2 1.41-.59l7.78-7.78 2.81-2.81c.8-.78.8-2.07 0-2.86zM5.41 20L4 18.59l7.72-7.72 1.47 1.35L5.41 20z\"/>\n",
              "  </svg>\n",
              "      </button>\n",
              "      \n",
              "  <style>\n",
              "    .colab-df-container {\n",
              "      display:flex;\n",
              "      flex-wrap:wrap;\n",
              "      gap: 12px;\n",
              "    }\n",
              "\n",
              "    .colab-df-convert {\n",
              "      background-color: #E8F0FE;\n",
              "      border: none;\n",
              "      border-radius: 50%;\n",
              "      cursor: pointer;\n",
              "      display: none;\n",
              "      fill: #1967D2;\n",
              "      height: 32px;\n",
              "      padding: 0 0 0 0;\n",
              "      width: 32px;\n",
              "    }\n",
              "\n",
              "    .colab-df-convert:hover {\n",
              "      background-color: #E2EBFA;\n",
              "      box-shadow: 0px 1px 2px rgba(60, 64, 67, 0.3), 0px 1px 3px 1px rgba(60, 64, 67, 0.15);\n",
              "      fill: #174EA6;\n",
              "    }\n",
              "\n",
              "    [theme=dark] .colab-df-convert {\n",
              "      background-color: #3B4455;\n",
              "      fill: #D2E3FC;\n",
              "    }\n",
              "\n",
              "    [theme=dark] .colab-df-convert:hover {\n",
              "      background-color: #434B5C;\n",
              "      box-shadow: 0px 1px 3px 1px rgba(0, 0, 0, 0.15);\n",
              "      filter: drop-shadow(0px 1px 2px rgba(0, 0, 0, 0.3));\n",
              "      fill: #FFFFFF;\n",
              "    }\n",
              "  </style>\n",
              "\n",
              "      <script>\n",
              "        const buttonEl =\n",
              "          document.querySelector('#df-9a6bd3c7-aaeb-4a28-90c0-63f1d820a081 button.colab-df-convert');\n",
              "        buttonEl.style.display =\n",
              "          google.colab.kernel.accessAllowed ? 'block' : 'none';\n",
              "\n",
              "        async function convertToInteractive(key) {\n",
              "          const element = document.querySelector('#df-9a6bd3c7-aaeb-4a28-90c0-63f1d820a081');\n",
              "          const dataTable =\n",
              "            await google.colab.kernel.invokeFunction('convertToInteractive',\n",
              "                                                     [key], {});\n",
              "          if (!dataTable) return;\n",
              "\n",
              "          const docLinkHtml = 'Like what you see? Visit the ' +\n",
              "            '<a target=\"_blank\" href=https://colab.research.google.com/notebooks/data_table.ipynb>data table notebook</a>'\n",
              "            + ' to learn more about interactive tables.';\n",
              "          element.innerHTML = '';\n",
              "          dataTable['output_type'] = 'display_data';\n",
              "          await google.colab.output.renderOutput(dataTable, element);\n",
              "          const docLink = document.createElement('div');\n",
              "          docLink.innerHTML = docLinkHtml;\n",
              "          element.appendChild(docLink);\n",
              "        }\n",
              "      </script>\n",
              "    </div>\n",
              "  </div>\n",
              "  "
            ]
          },
          "metadata": {},
          "execution_count": 48
        }
      ],
      "source": [
        "pd.DataFrame(results)"
      ]
    },
    {
      "cell_type": "code",
      "execution_count": null,
      "metadata": {
        "colab": {
          "base_uri": "https://localhost:8080/"
        },
        "id": "CTT-LQqq_6aG",
        "outputId": "1172ff26-d55f-41e6-ee92-99e308cea7d0"
      },
      "outputs": [
        {
          "output_type": "execute_result",
          "data": {
            "text/plain": [
              "<surprise.prediction_algorithms.matrix_factorization.SVD at 0x7efd4b36abb0>"
            ]
          },
          "metadata": {},
          "execution_count": 49
        }
      ],
      "source": [
        "#fit the algo without cross validation\n",
        "svd.fit(trainset)"
      ]
    },
    {
      "cell_type": "code",
      "execution_count": null,
      "metadata": {
        "colab": {
          "base_uri": "https://localhost:8080/",
          "height": 112
        },
        "id": "eLSkexpe_6aH",
        "outputId": "7db9424e-82cb-4682-b940-9fa68109fafc"
      },
      "outputs": [
        {
          "output_type": "execute_result",
          "data": {
            "text/plain": [
              "     userID          itemID  rating\n",
              "0  18778586   RDIJS7QYB6XNR       5\n",
              "1  24769659  R36ED1U38IELG8       5"
            ],
            "text/html": [
              "\n",
              "  <div id=\"df-e48a1d28-f228-49de-a547-72eba1ceea1d\">\n",
              "    <div class=\"colab-df-container\">\n",
              "      <div>\n",
              "<style scoped>\n",
              "    .dataframe tbody tr th:only-of-type {\n",
              "        vertical-align: middle;\n",
              "    }\n",
              "\n",
              "    .dataframe tbody tr th {\n",
              "        vertical-align: top;\n",
              "    }\n",
              "\n",
              "    .dataframe thead th {\n",
              "        text-align: right;\n",
              "    }\n",
              "</style>\n",
              "<table border=\"1\" class=\"dataframe\">\n",
              "  <thead>\n",
              "    <tr style=\"text-align: right;\">\n",
              "      <th></th>\n",
              "      <th>userID</th>\n",
              "      <th>itemID</th>\n",
              "      <th>rating</th>\n",
              "    </tr>\n",
              "  </thead>\n",
              "  <tbody>\n",
              "    <tr>\n",
              "      <th>0</th>\n",
              "      <td>18778586</td>\n",
              "      <td>RDIJS7QYB6XNR</td>\n",
              "      <td>5</td>\n",
              "    </tr>\n",
              "    <tr>\n",
              "      <th>1</th>\n",
              "      <td>24769659</td>\n",
              "      <td>R36ED1U38IELG8</td>\n",
              "      <td>5</td>\n",
              "    </tr>\n",
              "  </tbody>\n",
              "</table>\n",
              "</div>\n",
              "      <button class=\"colab-df-convert\" onclick=\"convertToInteractive('df-e48a1d28-f228-49de-a547-72eba1ceea1d')\"\n",
              "              title=\"Convert this dataframe to an interactive table.\"\n",
              "              style=\"display:none;\">\n",
              "        \n",
              "  <svg xmlns=\"http://www.w3.org/2000/svg\" height=\"24px\"viewBox=\"0 0 24 24\"\n",
              "       width=\"24px\">\n",
              "    <path d=\"M0 0h24v24H0V0z\" fill=\"none\"/>\n",
              "    <path d=\"M18.56 5.44l.94 2.06.94-2.06 2.06-.94-2.06-.94-.94-2.06-.94 2.06-2.06.94zm-11 1L8.5 8.5l.94-2.06 2.06-.94-2.06-.94L8.5 2.5l-.94 2.06-2.06.94zm10 10l.94 2.06.94-2.06 2.06-.94-2.06-.94-.94-2.06-.94 2.06-2.06.94z\"/><path d=\"M17.41 7.96l-1.37-1.37c-.4-.4-.92-.59-1.43-.59-.52 0-1.04.2-1.43.59L10.3 9.45l-7.72 7.72c-.78.78-.78 2.05 0 2.83L4 21.41c.39.39.9.59 1.41.59.51 0 1.02-.2 1.41-.59l7.78-7.78 2.81-2.81c.8-.78.8-2.07 0-2.86zM5.41 20L4 18.59l7.72-7.72 1.47 1.35L5.41 20z\"/>\n",
              "  </svg>\n",
              "      </button>\n",
              "      \n",
              "  <style>\n",
              "    .colab-df-container {\n",
              "      display:flex;\n",
              "      flex-wrap:wrap;\n",
              "      gap: 12px;\n",
              "    }\n",
              "\n",
              "    .colab-df-convert {\n",
              "      background-color: #E8F0FE;\n",
              "      border: none;\n",
              "      border-radius: 50%;\n",
              "      cursor: pointer;\n",
              "      display: none;\n",
              "      fill: #1967D2;\n",
              "      height: 32px;\n",
              "      padding: 0 0 0 0;\n",
              "      width: 32px;\n",
              "    }\n",
              "\n",
              "    .colab-df-convert:hover {\n",
              "      background-color: #E2EBFA;\n",
              "      box-shadow: 0px 1px 2px rgba(60, 64, 67, 0.3), 0px 1px 3px 1px rgba(60, 64, 67, 0.15);\n",
              "      fill: #174EA6;\n",
              "    }\n",
              "\n",
              "    [theme=dark] .colab-df-convert {\n",
              "      background-color: #3B4455;\n",
              "      fill: #D2E3FC;\n",
              "    }\n",
              "\n",
              "    [theme=dark] .colab-df-convert:hover {\n",
              "      background-color: #434B5C;\n",
              "      box-shadow: 0px 1px 3px 1px rgba(0, 0, 0, 0.15);\n",
              "      filter: drop-shadow(0px 1px 2px rgba(0, 0, 0, 0.3));\n",
              "      fill: #FFFFFF;\n",
              "    }\n",
              "  </style>\n",
              "\n",
              "      <script>\n",
              "        const buttonEl =\n",
              "          document.querySelector('#df-e48a1d28-f228-49de-a547-72eba1ceea1d button.colab-df-convert');\n",
              "        buttonEl.style.display =\n",
              "          google.colab.kernel.accessAllowed ? 'block' : 'none';\n",
              "\n",
              "        async function convertToInteractive(key) {\n",
              "          const element = document.querySelector('#df-e48a1d28-f228-49de-a547-72eba1ceea1d');\n",
              "          const dataTable =\n",
              "            await google.colab.kernel.invokeFunction('convertToInteractive',\n",
              "                                                     [key], {});\n",
              "          if (!dataTable) return;\n",
              "\n",
              "          const docLinkHtml = 'Like what you see? Visit the ' +\n",
              "            '<a target=\"_blank\" href=https://colab.research.google.com/notebooks/data_table.ipynb>data table notebook</a>'\n",
              "            + ' to learn more about interactive tables.';\n",
              "          element.innerHTML = '';\n",
              "          dataTable['output_type'] = 'display_data';\n",
              "          await google.colab.output.renderOutput(dataTable, element);\n",
              "          const docLink = document.createElement('div');\n",
              "          docLink.innerHTML = docLinkHtml;\n",
              "          element.appendChild(docLink);\n",
              "        }\n",
              "      </script>\n",
              "    </div>\n",
              "  </div>\n",
              "  "
            ]
          },
          "metadata": {},
          "execution_count": 50
        }
      ],
      "source": [
        "rev_df.head(2)"
      ]
    },
    {
      "cell_type": "code",
      "execution_count": null,
      "metadata": {
        "colab": {
          "base_uri": "https://localhost:8080/"
        },
        "id": "HqghTke2_6aH",
        "outputId": "11e580dc-824f-439c-fd48-0db7e4edd07d"
      },
      "outputs": [
        {
          "output_type": "execute_result",
          "data": {
            "text/plain": [
              "Prediction(uid='18778586', iid='R36ED1U38IELG8', r_ui=None, est=4.249212655184626, details={'was_impossible': False})"
            ]
          },
          "metadata": {},
          "execution_count": 51
        }
      ],
      "source": [
        "#compare to SVD\n",
        "svd.predict('18778586', 'R36ED1U38IELG8')"
      ]
    },
    {
      "cell_type": "markdown",
      "metadata": {
        "id": "7pH3IDiR_6aH"
      },
      "source": [
        "### Exploration\n",
        "\n",
        "Use the built in dataset on jokes to explore a few additional recommendation algorithms.  Try using grid search and expore how you can change from an item based to a user based recommendation engine.  Be sure to explore the SVD algorithm and KNN and compare their performance."
      ]
    },
    {
      "cell_type": "code",
      "execution_count": null,
      "metadata": {
        "id": "94ffcs9L_6aH"
      },
      "outputs": [],
      "source": [
        "data = Dataset.load_builtin('jester')"
      ]
    },
    {
      "cell_type": "code",
      "execution_count": null,
      "metadata": {
        "id": "ctwgMXci_6aH"
      },
      "outputs": [],
      "source": [
        "svd = SVD()\n",
        "knn = KNNBasic()"
      ]
    },
    {
      "cell_type": "code",
      "execution_count": null,
      "metadata": {
        "id": "4lZqrfni_6aI"
      },
      "outputs": [],
      "source": [
        "svd_cross_val = cross_validate(svd, data)"
      ]
    },
    {
      "cell_type": "code",
      "execution_count": null,
      "metadata": {
        "id": "gzfVbuB__6aI"
      },
      "outputs": [],
      "source": [
        "knn_cross_val = cross_validate(knn, data)"
      ]
    },
    {
      "cell_type": "code",
      "execution_count": null,
      "metadata": {
        "id": "xyQjS6RC_6aI"
      },
      "outputs": [],
      "source": [
        "pd.DataFrame(svd_cross_val)"
      ]
    },
    {
      "cell_type": "code",
      "execution_count": null,
      "metadata": {
        "id": "2B67g4jC_6aI"
      },
      "outputs": [],
      "source": [
        "pd.DataFrame(knn_cross_val)"
      ]
    },
    {
      "cell_type": "code",
      "execution_count": null,
      "metadata": {
        "id": "xoRRL5VC_6aI"
      },
      "outputs": [],
      "source": []
    }
  ],
  "metadata": {
    "kernelspec": {
      "display_name": "Python 3",
      "language": "python",
      "name": "python3"
    },
    "language_info": {
      "codemirror_mode": {
        "name": "ipython",
        "version": 3
      },
      "file_extension": ".py",
      "mimetype": "text/x-python",
      "name": "python",
      "nbconvert_exporter": "python",
      "pygments_lexer": "ipython3",
      "version": "3.8.3"
    },
    "colab": {
      "provenance": [],
      "include_colab_link": true
    }
  },
  "nbformat": 4,
  "nbformat_minor": 0
}