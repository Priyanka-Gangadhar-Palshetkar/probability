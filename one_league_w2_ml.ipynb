{
  "nbformat": 4,
  "nbformat_minor": 0,
  "metadata": {
    "colab": {
      "provenance": [],
      "include_colab_link": true
    },
    "kernelspec": {
      "name": "python3",
      "display_name": "Python 3"
    },
    "language_info": {
      "name": "python"
    }
  },
  "cells": [
    {
      "cell_type": "markdown",
      "metadata": {
        "id": "view-in-github",
        "colab_type": "text"
      },
      "source": [
        "<a href=\"https://colab.research.google.com/github/Priyanka-Gangadhar-Palshetkar/MITx-Micromasters-Statistics-Data-Science/blob/main/one_league_w2_ml.ipynb\" target=\"_parent\"><img src=\"https://colab.research.google.com/assets/colab-badge.svg\" alt=\"Open In Colab\"/></a>"
      ]
    },
    {
      "cell_type": "markdown",
      "source": [
        "### Week 2: Introduction to Machine Learning\n",
        "\n",
        "**OBJECTIVES**\n",
        "\n",
        "- Understand goals of machine learning algorithms\n",
        "- Differentiate between *regression* and *classification* problems\n",
        "- Use `pandas` to load in datasets \n",
        "- Use `matplotlib` and `seaborn` to visualize data\n",
        "- Build the Perceptron learning algorithm from scratch\n",
        "- Use `sklearn` to implement the Perceptron algorithm"
      ],
      "metadata": {
        "id": "fmx2vImE8JEC"
      }
    },
    {
      "cell_type": "code",
      "source": [
        "import numpy as np\n",
        "import pandas as pd\n",
        "import matplotlib.pyplot as plt\n",
        "import seaborn as sns"
      ],
      "metadata": {
        "id": "MvG88w9n9Elx"
      },
      "execution_count": null,
      "outputs": []
    },
    {
      "cell_type": "code",
      "source": [
        "from sklearn.model_selection import train_test_split \n",
        "from sklearn.linear_model import Perceptron\n",
        "from sklearn.datasets import make_blobs, load_digits"
      ],
      "metadata": {
        "id": "w2eJ9JOu9LUB"
      },
      "execution_count": null,
      "outputs": []
    },
    {
      "cell_type": "code",
      "source": [
        "# !pip install torch torchvision"
      ],
      "metadata": {
        "id": "J7UD6ErIDDM0"
      },
      "execution_count": null,
      "outputs": []
    },
    {
      "cell_type": "code",
      "source": [
        "import torch \n",
        "from torchvision.datasets import FashionMNIST"
      ],
      "metadata": {
        "id": "bXwj9EF0C5oo"
      },
      "execution_count": null,
      "outputs": []
    },
    {
      "cell_type": "markdown",
      "source": [
        "### Machine Learning \n",
        "\n",
        "Machine Learning is in short using data to make predictions -- the machine \"learns\" from the data.  These could be predictions about a category, a number, or a similarity to other data points. Typically, these tasks are broken into three categories:\n",
        "\n",
        "- **Regression**: Predicting a numeric target\n",
        "- **Classification**: Predicting a categorical target\n",
        "- **Clustering**: Grouping data points based on \"similarity\"\n",
        "\n",
        "\n",
        "\n"
      ],
      "metadata": {
        "id": "zcSD7g1n9y2o"
      }
    },
    {
      "cell_type": "code",
      "source": [
        "titanic = sns.load_dataset('titanic')\n",
        "iris = sns.load_dataset('iris')\n",
        "tips = sns.load_dataset('tips')\n",
        "digits, labels = load_digits(return_X_y=True)\n",
        "test_ims = FashionMNIST(root = '.', download = True, train = False)"
      ],
      "metadata": {
        "id": "Q-QIy4jlBttu"
      },
      "execution_count": null,
      "outputs": []
    },
    {
      "cell_type": "markdown",
      "source": [
        "### Regression or Classification?\n",
        "\n",
        "What kind of learning problem is given -- regression or classification?"
      ],
      "metadata": {
        "id": "c0UFTay4QcWK"
      }
    },
    {
      "cell_type": "markdown",
      "source": [
        "**PROBLEM**: Predict whether or not a passenger survived the titanic using passenger age and fare."
      ],
      "metadata": {
        "id": "OiCzjdSVD_b8"
      }
    },
    {
      "cell_type": "code",
      "source": [
        "titanic.head()"
      ],
      "metadata": {
        "id": "4IXrSeNKCfKQ"
      },
      "execution_count": null,
      "outputs": []
    },
    {
      "cell_type": "markdown",
      "source": [
        "**PROBLEM**: Predicting the petal width of a flower using other measurements and species data?"
      ],
      "metadata": {
        "id": "pdFC7Vs8Eq8M"
      }
    },
    {
      "cell_type": "code",
      "source": [
        "iris.head()"
      ],
      "metadata": {
        "id": "2qdV4hGpChGY"
      },
      "execution_count": null,
      "outputs": []
    },
    {
      "cell_type": "markdown",
      "source": [
        "**PROBLEM**: Predicting whether table smoked or not based on the bill and sex of the diners."
      ],
      "metadata": {
        "id": "i5FN-hL8E6PH"
      }
    },
    {
      "cell_type": "code",
      "source": [
        "tips.head()"
      ],
      "metadata": {
        "id": "4i2kZmduCihU"
      },
      "execution_count": null,
      "outputs": []
    },
    {
      "cell_type": "markdown",
      "source": [
        "**PROBLEM**: Predicting the type of fashion object in an image?"
      ],
      "metadata": {
        "id": "GzjaPsGLFHqD"
      }
    },
    {
      "cell_type": "code",
      "source": [
        "plt.imshow(test_ims[0][0], cmap = 'gray');"
      ],
      "metadata": {
        "id": "OGFu12w0CnA-"
      },
      "execution_count": null,
      "outputs": []
    },
    {
      "cell_type": "markdown",
      "source": [
        "### Train and Test Procedure"
      ],
      "metadata": {
        "id": "7bb_qatyDbkx"
      }
    },
    {
      "cell_type": "markdown",
      "source": [
        "```python\n",
        "from sklearn.model_selection import train_test_split\n",
        "```\n",
        "\n",
        "`train_test_split`: splits data into train and test set."
      ],
      "metadata": {
        "id": "XvS_WyqKFYdU"
      }
    },
    {
      "cell_type": "code",
      "source": [
        "#use on X\n"
      ],
      "metadata": {
        "id": "53Xpe2J9FZWs"
      },
      "execution_count": null,
      "outputs": []
    },
    {
      "cell_type": "code",
      "source": [
        "#use on y\n"
      ],
      "metadata": {
        "id": "AqaxeyBaFaCJ"
      },
      "execution_count": null,
      "outputs": []
    },
    {
      "cell_type": "code",
      "source": [
        "#use together and set random state\n"
      ],
      "metadata": {
        "id": "JuPmPjZpia91"
      },
      "execution_count": null,
      "outputs": []
    },
    {
      "cell_type": "markdown",
      "source": [
        "### Loading Datasets\n",
        "\n",
        "For the upcoming assignment in the first module, you will need to load a dataset in and use the data to construct a classification model.  For me, I used the `read_csv` function with an encoding argument and seperator set as the tab `\\t`."
      ],
      "metadata": {
        "id": "iHQJJPJ3FapE"
      }
    },
    {
      "cell_type": "code",
      "source": [
        "test_reviews = pd.read_csv('reviews_test.tsv', encoding= 'unicode_escape', sep = '\\t')"
      ],
      "metadata": {
        "id": "FC-ja70aFtr8"
      },
      "execution_count": null,
      "outputs": []
    },
    {
      "cell_type": "code",
      "source": [],
      "metadata": {
        "id": "YmG96D4bksMp"
      },
      "execution_count": null,
      "outputs": []
    },
    {
      "cell_type": "code",
      "source": [],
      "metadata": {
        "id": "aaU3pkEwkr9C"
      },
      "execution_count": null,
      "outputs": []
    },
    {
      "cell_type": "markdown",
      "source": [
        "**PROBLEM**: Download and load in a dataset using pandas, create train/test split.\n",
        "\n",
        "Head over to Yahoo Finance and download the historical data for Tesla [here](https://finance.yahoo.com/quote/TSLA/history?p=TSLA).  Load in the data and create a train/test split using the adjusted closing price as the target (y) and all other columns as features (X).\n",
        "\n"
      ],
      "metadata": {
        "id": "YeGko1AYF1ZN"
      }
    },
    {
      "cell_type": "code",
      "source": [],
      "metadata": {
        "id": "c-DdxHFVQO2M"
      },
      "execution_count": null,
      "outputs": []
    },
    {
      "cell_type": "code",
      "source": [],
      "metadata": {
        "id": "SBVUkDFkQO0G"
      },
      "execution_count": null,
      "outputs": []
    },
    {
      "cell_type": "code",
      "source": [],
      "metadata": {
        "id": "-NvItvCjQOyB"
      },
      "execution_count": null,
      "outputs": []
    },
    {
      "cell_type": "code",
      "source": [],
      "metadata": {
        "id": "-zZEtGKVQOvJ"
      },
      "execution_count": null,
      "outputs": []
    },
    {
      "cell_type": "code",
      "source": [],
      "metadata": {
        "id": "qBwsuQZaQOs0"
      },
      "execution_count": null,
      "outputs": []
    },
    {
      "cell_type": "code",
      "source": [],
      "metadata": {
        "id": "YdU4epygQOqN"
      },
      "execution_count": null,
      "outputs": []
    },
    {
      "cell_type": "markdown",
      "source": [
        "### A Classification Example"
      ],
      "metadata": {
        "id": "gQYRi5e8FvxP"
      }
    },
    {
      "cell_type": "code",
      "source": [
        "X, y = make_blobs(n_samples = 1000, \n",
        "                  centers = 2, \n",
        "                  cluster_std = 3,\n",
        "                  random_state = 42)"
      ],
      "metadata": {
        "id": "2wW6ehOgFz28"
      },
      "execution_count": null,
      "outputs": []
    },
    {
      "cell_type": "code",
      "source": [],
      "metadata": {
        "id": "Kde_ILmKFzzR"
      },
      "execution_count": null,
      "outputs": []
    },
    {
      "cell_type": "markdown",
      "source": [
        "### Determining weights\n",
        "\n",
        "A simplified expression for the weight update would be:\n",
        "\n",
        "$$w = w - \\alpha(y - \\hat{y})x$$"
      ],
      "metadata": {
        "id": "vSIShHvLNQhL"
      }
    },
    {
      "cell_type": "code",
      "source": [
        "#initial weights\n"
      ],
      "metadata": {
        "id": "fcwN7iGzFzv3"
      },
      "execution_count": null,
      "outputs": []
    },
    {
      "cell_type": "code",
      "source": [
        "#make predictions\n"
      ],
      "metadata": {
        "id": "3cq00BvFFy8M"
      },
      "execution_count": null,
      "outputs": []
    },
    {
      "cell_type": "code",
      "source": [
        "#examine accuracy\n"
      ],
      "metadata": {
        "id": "wPmvOZJ5GLMC"
      },
      "execution_count": null,
      "outputs": []
    },
    {
      "cell_type": "code",
      "source": [
        "#weight update\n"
      ],
      "metadata": {
        "id": "EyMrdw7pp-mi"
      },
      "execution_count": null,
      "outputs": []
    },
    {
      "cell_type": "code",
      "source": [
        "#new weights\n"
      ],
      "metadata": {
        "id": "bXZ3gzmvrkAK"
      },
      "execution_count": null,
      "outputs": []
    },
    {
      "cell_type": "code",
      "source": [
        "#repeatedly update\n"
      ],
      "metadata": {
        "id": "qswQifNQwJpT"
      },
      "execution_count": null,
      "outputs": []
    },
    {
      "cell_type": "code",
      "source": [
        "#final accuracy?\n"
      ],
      "metadata": {
        "id": "IWOGhXOXNJZd"
      },
      "execution_count": null,
      "outputs": []
    },
    {
      "cell_type": "markdown",
      "source": [
        "### Considering the offset\n",
        "\n",
        "In order to incorporate a bias term, we will typically prepend a column of ones to the data and add a weight to reflect this.  Afterward it is the same matrix arithmetic and weight updates."
      ],
      "metadata": {
        "id": "jK824rUnNlYT"
      }
    },
    {
      "cell_type": "code",
      "source": [
        "# add ones for bias term\n"
      ],
      "metadata": {
        "id": "zIybsejbOl2y"
      },
      "execution_count": null,
      "outputs": []
    },
    {
      "cell_type": "code",
      "source": [
        "# instantiate weights\n"
      ],
      "metadata": {
        "id": "skVo9-EdOnrs"
      },
      "execution_count": null,
      "outputs": []
    },
    {
      "cell_type": "code",
      "source": [
        "#update\n"
      ],
      "metadata": {
        "id": "DA7s5C_gOpHc"
      },
      "execution_count": null,
      "outputs": []
    },
    {
      "cell_type": "code",
      "source": [
        "#examine performance\n"
      ],
      "metadata": {
        "id": "JvO3QoN1OsP1"
      },
      "execution_count": null,
      "outputs": []
    },
    {
      "cell_type": "markdown",
      "source": [
        "### Using `sklearn`\n",
        "\n",
        "The three step modeling process:\n",
        "\n",
        "- Instantiate\n",
        "- Fit\n",
        "- Evaluate"
      ],
      "metadata": {
        "id": "S4YPlaR5OxCN"
      }
    },
    {
      "cell_type": "code",
      "source": [
        "#import Perceptron\n"
      ],
      "metadata": {
        "id": "p-PHOVz7O3eG"
      },
      "execution_count": null,
      "outputs": []
    },
    {
      "cell_type": "code",
      "source": [
        "#instantiate\n"
      ],
      "metadata": {
        "id": "i6Sp3CjXO5Th"
      },
      "execution_count": null,
      "outputs": []
    },
    {
      "cell_type": "code",
      "source": [
        "#fit\n"
      ],
      "metadata": {
        "id": "xya1I_ueO6XA"
      },
      "execution_count": null,
      "outputs": []
    },
    {
      "cell_type": "code",
      "source": [
        "#score\n"
      ],
      "metadata": {
        "id": "b3Z5dYb1O7Hh"
      },
      "execution_count": null,
      "outputs": []
    },
    {
      "cell_type": "markdown",
      "source": [
        "**PROBLEM**\n",
        "\n",
        "Consider the `iris` data loaded previously.  Use the `Perceptron` estimator to predict the flower species using all other columns."
      ],
      "metadata": {
        "id": "pP0EC-sJPFRv"
      }
    },
    {
      "cell_type": "code",
      "source": [
        "X = ''\n",
        "y = ''\n",
        "X_train, X_test, y_train, y_test = '', '', '', ''"
      ],
      "metadata": {
        "id": "Fcc7htG7PDFS"
      },
      "execution_count": null,
      "outputs": []
    },
    {
      "cell_type": "code",
      "source": [
        "model = ''"
      ],
      "metadata": {
        "id": "PZJ3yUxUPgHI"
      },
      "execution_count": null,
      "outputs": []
    },
    {
      "cell_type": "code",
      "source": [],
      "metadata": {
        "id": "ru90sZIvPk26"
      },
      "execution_count": null,
      "outputs": []
    },
    {
      "cell_type": "code",
      "source": [],
      "metadata": {
        "id": "2fu2c57qPku1"
      },
      "execution_count": null,
      "outputs": []
    },
    {
      "cell_type": "code",
      "source": [],
      "metadata": {
        "id": "1GPggKwhPkpG"
      },
      "execution_count": null,
      "outputs": []
    },
    {
      "cell_type": "code",
      "source": [],
      "metadata": {
        "id": "EdFHygHlPjL1"
      },
      "execution_count": null,
      "outputs": []
    },
    {
      "cell_type": "markdown",
      "source": [
        "### Analyzing Sentiment\n",
        "\n",
        "Our task this module involves building a classifier for the sentiment task.  We need a few things to make use of the perceptron algorithm here -- namely to transform the text into numeric representations.  We can do so using the `CountVectorizer` from sklearn."
      ],
      "metadata": {
        "id": "XlPBBeqMQzGx"
      }
    },
    {
      "cell_type": "code",
      "source": [
        "from sklearn.feature_extraction.text import CountVectorizer"
      ],
      "metadata": {
        "id": "3yKVBQnWQ0rV"
      },
      "execution_count": null,
      "outputs": []
    },
    {
      "cell_type": "code",
      "source": [
        "#instantiate\n"
      ],
      "metadata": {
        "id": "hsBvv6JpRQl_"
      },
      "execution_count": null,
      "outputs": []
    },
    {
      "cell_type": "code",
      "source": [
        "#transform\n"
      ],
      "metadata": {
        "id": "oAghyTcaRR6u"
      },
      "execution_count": null,
      "outputs": []
    },
    {
      "cell_type": "code",
      "source": [
        "#view results\n"
      ],
      "metadata": {
        "id": "4p1gUb3jRSs_"
      },
      "execution_count": null,
      "outputs": []
    },
    {
      "cell_type": "code",
      "source": [
        "#as an array\n"
      ],
      "metadata": {
        "id": "c5tsa5SgRTtf"
      },
      "execution_count": null,
      "outputs": []
    },
    {
      "cell_type": "code",
      "source": [
        "#train test split\n"
      ],
      "metadata": {
        "id": "BrKDuBtvRU_x"
      },
      "execution_count": null,
      "outputs": []
    },
    {
      "cell_type": "markdown",
      "source": [
        "**PROBLEM**: Use the `Perceptron` estimator from sklearn to build a classifier using the above data and determine its accuracy."
      ],
      "metadata": {
        "id": "v8c3HSVlRWyX"
      }
    },
    {
      "cell_type": "code",
      "source": [],
      "metadata": {
        "id": "pt7CbtDwRfv4"
      },
      "execution_count": null,
      "outputs": []
    },
    {
      "cell_type": "code",
      "source": [],
      "metadata": {
        "id": "adyN727DRfjX"
      },
      "execution_count": null,
      "outputs": []
    },
    {
      "cell_type": "code",
      "source": [],
      "metadata": {
        "id": "fywhY700Rffd"
      },
      "execution_count": null,
      "outputs": []
    },
    {
      "cell_type": "code",
      "source": [],
      "metadata": {
        "id": "DDi_CE-7RfcF"
      },
      "execution_count": null,
      "outputs": []
    },
    {
      "cell_type": "code",
      "source": [],
      "metadata": {
        "id": "aOtl3nM6RfZN"
      },
      "execution_count": null,
      "outputs": []
    },
    {
      "cell_type": "code",
      "source": [],
      "metadata": {
        "id": "7ajUDoqVRfWn"
      },
      "execution_count": null,
      "outputs": []
    },
    {
      "cell_type": "code",
      "source": [],
      "metadata": {
        "id": "cJagnRPBRexu"
      },
      "execution_count": null,
      "outputs": []
    }
  ]
}