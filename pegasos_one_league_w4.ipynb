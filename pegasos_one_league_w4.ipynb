{
  "nbformat": 4,
  "nbformat_minor": 0,
  "metadata": {
    "colab": {
      "provenance": [],
      "include_colab_link": true
    },
    "kernelspec": {
      "name": "python3",
      "display_name": "Python 3"
    },
    "language_info": {
      "name": "python"
    }
  },
  "cells": [
    {
      "cell_type": "markdown",
      "metadata": {
        "id": "view-in-github",
        "colab_type": "text"
      },
      "source": [
        "<a href=\"https://colab.research.google.com/github/Priyanka-Gangadhar-Palshetkar/MITx-Micromasters-Statistics-Data-Science/blob/main/pegasos_one_league_w4.ipynb\" target=\"_parent\"><img src=\"https://colab.research.google.com/assets/colab-badge.svg\" alt=\"Open In Colab\"/></a>"
      ]
    },
    {
      "cell_type": "markdown",
      "source": [
        "#### Week 4: Machine Learning \n",
        "\n",
        "**OBJECTIVES**\n",
        "- Implement PEGASOS algorithm \n",
        "- Compare Perceptron, Average Perceptron, and Pegasos algorithms for classification\n",
        "- Explore Perceptron and SVM with `scikitlearn`"
      ],
      "metadata": {
        "id": "QR6DOi5wpaJU"
      }
    },
    {
      "cell_type": "code",
      "source": [
        "import matplotlib.pyplot as plt\n",
        "import numpy as np\n",
        "import pandas as pd \n",
        "\n",
        "from sklearn.linear_model import SGDClassifier\n",
        "from sklearn.preprocessing import StandardScaler\n",
        "from sklearn.pipeline import Pipeline\n",
        "from sklearn.model_selection import cross_val_score, GridSearchCV"
      ],
      "metadata": {
        "id": "jtyLTMtUBv7O"
      },
      "execution_count": 1,
      "outputs": []
    },
    {
      "cell_type": "markdown",
      "source": [
        "#### PEGASOS Algorithm\n",
        "\n",
        "if $y^{(i)}(\\theta \\cdot x^{(i)}) \\leq 1$:\n",
        "\n",
        "\n",
        "  $$\\theta = (1 - \\eta \\lambda)\\theta + \\eta y^{(i)}x^{(i)}$$\n",
        "\n",
        "else:\n",
        "\n",
        "  $$\\theta = (1 - \\eta \\lambda)\\theta$$"
      ],
      "metadata": {
        "id": "2iLxqEcbqaXW"
      }
    },
    {
      "cell_type": "markdown",
      "source": [
        "```\n",
        "pegasos_single_step_update input:\n",
        "feature_vector: [-0.44344863 -0.415128    0.33549888  0.23596999  0.1697304  -0.19186354\n",
        "  0.10594417  0.10680173  0.08120402 -0.34161713]\n",
        "label: 1\n",
        "L: 0.9560342718892494\n",
        "eta: 0.9478274870593494\n",
        "theta: [ 0.13847134  0.30366944  0.3602441   0.00906745 -0.1279397   0.43571169\n",
        "  0.00206729  0.4012078   0.37103297 -0.13598557]\n",
        "theta_0: 1.9819714009584377\n",
        "pegasos_single_step_update output is (['0.0129948', '0.0284977', '0.0338069', '0.0008509', '-0.0120064', '0.0408891', '0.0001940', '0.0376511', '0.0348194', '-0.0127615'], '1.9819714')\n",
        "```"
      ],
      "metadata": {
        "id": "9HnmlHywveRb"
      }
    },
    {
      "cell_type": "code",
      "source": [
        "import numpy as np"
      ],
      "metadata": {
        "id": "SrHbQjsuvtu5"
      },
      "execution_count": 2,
      "outputs": []
    },
    {
      "cell_type": "code",
      "execution_count": 11,
      "metadata": {
        "id": "KqABerIBvWcw"
      },
      "outputs": [],
      "source": [
        "feature_vector = [-0.44344863 , -0.415128 ,  0.33549888 , 0.23596999,  0.1697304 , -0.19186354, 0.10594417 , 0.10680173 , 0.08120402, -0.34161713]\n",
        "label = 1\n",
        "L =  0.9560342718892494\n",
        "eta =  0.9478274870593494\n",
        "theta =  [ 0.13847134 , 0.30366944 , 0.3602441  , 0.00906745 ,-0.1279397   ,0.43571169, 0.00206729,  0.4012078 ,  0.37103297, -0.13598557]\n",
        "theta_0 = 1.9819714009584377\n",
        "\n",
        "theta = np.array(theta) \n",
        "feature_vector = np.array(feature_vector)"
      ]
    },
    {
      "cell_type": "code",
      "source": [
        "#test condition\n",
        "label * (theta@feature_vector)"
      ],
      "metadata": {
        "id": "AGTjcHn6wrsm",
        "colab": {
          "base_uri": "https://localhost:8080/"
        },
        "outputId": "48af3464-4df4-4c30-a24a-5e8076dae164"
      },
      "execution_count": 12,
      "outputs": [
        {
          "output_type": "execute_result",
          "data": {
            "text/plain": [
              "-0.05012484554876653"
            ]
          },
          "metadata": {},
          "execution_count": 12
        }
      ]
    },
    {
      "cell_type": "code",
      "source": [
        "#include bias term\n",
        "label * (theta@feature_vector + theta_0)"
      ],
      "metadata": {
        "id": "ofI55PxU1Z3z",
        "colab": {
          "base_uri": "https://localhost:8080/"
        },
        "outputId": "69d648c5-4055-4115-cdcf-71701b0f7e9d"
      },
      "execution_count": 13,
      "outputs": [
        {
          "output_type": "execute_result",
          "data": {
            "text/plain": [
              "1.931846555409671"
            ]
          },
          "metadata": {},
          "execution_count": 13
        }
      ]
    },
    {
      "cell_type": "code",
      "source": [
        "#implement the update\n",
        "theta = (1-eta*L)*theta\n",
        "theta"
      ],
      "metadata": {
        "id": "azvjODGo1Zz2",
        "colab": {
          "base_uri": "https://localhost:8080/"
        },
        "outputId": "720d9985-f334-48c3-ff27-c4f9602ecbb2"
      },
      "execution_count": 14,
      "outputs": [
        {
          "output_type": "execute_result",
          "data": {
            "text/plain": [
              "array([ 0.01299477,  0.02849769,  0.03380691,  0.00085093, -0.01200643,\n",
              "        0.04088912,  0.000194  ,  0.03765112,  0.03481938, -0.01276149])"
            ]
          },
          "metadata": {},
          "execution_count": 14
        }
      ]
    },
    {
      "cell_type": "markdown",
      "source": [
        "**EXAMPLE 2**\n",
        "\n",
        "Test the example below to be sure your algorithm is performing correctly."
      ],
      "metadata": {
        "id": "-hnjJ6Hf1ZwK"
      }
    },
    {
      "cell_type": "markdown",
      "source": [
        "```\n",
        "feature_vector: [ 0.06631939 -0.3264986  -0.10624803 -0.09306145  0.12834772  0.06241767\n",
        " -0.12983977 -0.02200566 -0.4283686  -0.4063009 ]\n",
        "label: -1\n",
        "L: 0.4399370508011895\n",
        "eta: 0.3521151798545281\n",
        "theta: [ 0.10688052  0.2692996  -0.48399076 -0.21459193 -0.07127003 -0.31128647\n",
        " -0.29462128 -0.37442059  0.12293973  0.40547262]\n",
        "theta_0: -0.8768832328685103\n",
        "pegasos_single_step_update output is (['0.0903238', '0.2275828', '-0.4090165', '-0.1813498', '-0.0602297', '-0.2630655', '-0.2489819', '-0.3164197', '0.1038953', '0.3426615'], '-0.8768832')\n",
        "```"
      ],
      "metadata": {
        "id": "Z_i7Ookkwrpc"
      }
    },
    {
      "cell_type": "code",
      "source": [
        "feature_vector = [ 0.06631939 ,-0.3264986 , -0.10624803 ,-0.09306145 , 0.12834772 , 0.06241767, -0.12983977 , -0.02200566,  -0.4283686 , -0.4063009 ]\n",
        "label = -1\n",
        "L = 0.4399370508011895\n",
        "eta = 0.3521151798545281\n",
        "theta = [ 0.10688052 , 0.2692996 , -0.48399076, -0.21459193, -0.07127003 ,-0.31128647,-0.29462128, -0.37442059,  0.12293973 , 0.40547262]\n",
        "theta_0 = -0.8768832328685103\n",
        "\n",
        "feature_vector = np.array(feature_vector)\n",
        "theta = np.array(theta)"
      ],
      "metadata": {
        "id": "ukYfQW2Kwrkd"
      },
      "execution_count": 20,
      "outputs": []
    },
    {
      "cell_type": "code",
      "source": [
        "label * (theta@feature_vector)"
      ],
      "metadata": {
        "id": "Pxe689KawrnE",
        "colab": {
          "base_uri": "https://localhost:8080/"
        },
        "outputId": "eaa585e6-9845-4f39-9f45-c41aab640d3a"
      },
      "execution_count": 21,
      "outputs": [
        {
          "output_type": "execute_result",
          "data": {
            "text/plain": [
              "0.20893599157672338"
            ]
          },
          "metadata": {},
          "execution_count": 21
        }
      ]
    },
    {
      "cell_type": "code",
      "source": [
        "label * (theta@feature_vector + theta_0)"
      ],
      "metadata": {
        "id": "xhaiF1J000C_",
        "colab": {
          "base_uri": "https://localhost:8080/"
        },
        "outputId": "450738fa-90cb-412e-9eab-a4ead051f915"
      },
      "execution_count": 22,
      "outputs": [
        {
          "output_type": "execute_result",
          "data": {
            "text/plain": [
              "1.0858192244452338"
            ]
          },
          "metadata": {},
          "execution_count": 22
        }
      ]
    },
    {
      "cell_type": "code",
      "source": [
        "theta = (1-eta*L)*theta\n",
        "theta"
      ],
      "metadata": {
        "id": "ikUVMUjQ0z_l",
        "colab": {
          "base_uri": "https://localhost:8080/"
        },
        "outputId": "f41e6fa8-f175-437c-8e23-4f74bffb89fc"
      },
      "execution_count": 23,
      "outputs": [
        {
          "output_type": "execute_result",
          "data": {
            "text/plain": [
              "array([ 0.09032382,  0.2275828 , -0.40901647, -0.18134981, -0.0602297 ,\n",
              "       -0.26306555, -0.24898194, -0.31641965,  0.10389532,  0.34266146])"
            ]
          },
          "metadata": {},
          "execution_count": 23
        }
      ]
    },
    {
      "cell_type": "markdown",
      "source": [
        "**Pegasos Single Step**"
      ],
      "metadata": {
        "id": "PLJO_0vXt4IR"
      }
    },
    {
      "cell_type": "code",
      "source": [
        "def pegasos_single_step_update(feature_vector, label,L, eta, theta, theta_0):\n",
        "    if label * (theta@feature_vector + theta_0) > 1:\n",
        "      theta = (1-eta*L)*theta\n",
        "    else:\n",
        "      theta = (1-eta*L)*theta + eta * label * feature_vector\n",
        "      theta_0 = theta_0+ eta*label\n",
        "    return theta, theta_0\n"
      ],
      "metadata": {
        "id": "QmK0pNHmwYYq"
      },
      "execution_count": 28,
      "outputs": []
    },
    {
      "cell_type": "markdown",
      "source": [
        "**Pegasos**\n",
        "\n",
        "Now, we update the parameters using a single step update.  In addition to this, we will change the value of $\\eta$ as we go to $\\eta = \\frac{1}{\\sqrt{t}}$. "
      ],
      "metadata": {
        "id": "QZCyHDEKwer3"
      }
    },
    {
      "cell_type": "code",
      "source": [
        "def pegasos(feature_matrix, labels, T, L): \n",
        "    theta = np.zeros(feature_matrix.shape[1])\n",
        "    theta_0 = 0\n",
        "    counter = 1\n",
        "    for n in range(T):\n",
        "        for i in range(feature_matrix.shape[0]):\n",
        "            #eta\n",
        "            eta = 1/np.sqrt(counter)\n",
        "            #update\n",
        "            theta, theta_0 = pegasos_single_step_update(feature_matrix.shape[i], label[i], L, eta, theta, theta_0)\n",
        "            #increment count\n",
        "            counter = counter + 1\n",
        "    return theta, theta_0"
      ],
      "metadata": {
        "id": "OQyu71TF34yE"
      },
      "execution_count": 30,
      "outputs": []
    },
    {
      "cell_type": "markdown",
      "source": [
        "#### Sentiment Analysis"
      ],
      "metadata": {
        "id": "mKm-Iwg-GA_n"
      }
    },
    {
      "cell_type": "code",
      "source": [
        "from google.colab import drive\n",
        "drive.mount('/content/drive')"
      ],
      "metadata": {
        "colab": {
          "base_uri": "https://localhost:8080/"
        },
        "id": "Z2F4xhev3aBt",
        "outputId": "06631e42-9c0d-4b42-cb40-1c4be0aba8b9"
      },
      "execution_count": 33,
      "outputs": [
        {
          "output_type": "stream",
          "name": "stdout",
          "text": [
            "Mounted at /content/drive\n"
          ]
        }
      ]
    },
    {
      "cell_type": "code",
      "source": [
        "train = pd.read_csv('/content/drive/My Drive/Colab Notebooks/reviews_train.tsv', encoding = 'ISO-8859-1', sep = '\\t')"
      ],
      "metadata": {
        "id": "kQ8T_2zi8S7C"
      },
      "execution_count": 34,
      "outputs": []
    },
    {
      "cell_type": "code",
      "source": [
        "train.head()"
      ],
      "metadata": {
        "id": "i_SirbSm8YAW",
        "colab": {
          "base_uri": "https://localhost:8080/",
          "height": 738
        },
        "outputId": "163ce0c2-a12c-4c4c-ab13-55f39932bb51"
      },
      "execution_count": 35,
      "outputs": [
        {
          "output_type": "execute_result",
          "data": {
            "text/plain": [
              "   sentiment   productId          userId  \\\n",
              "0         -1  B000EQYQBO  A2JZVE0Y19VLL0   \n",
              "1         -1  B000LKVHYC  A3NAKOMAS0I5L9   \n",
              "2         -1  B003QRQRY2   ARBO3XW14MNGA   \n",
              "3         -1  B008EG58V8  A1IQXGT4MJUYJ8   \n",
              "4          1  B004WZZY8M  A2TBL6WAZGXB9P   \n",
              "\n",
              "                                             summary  \\\n",
              "0                                         blue chips   \n",
              "1                             Bad even for 'healthy'   \n",
              "2                          Alot of money for one can   \n",
              "3  The Box says \"OATMEAL SQUARES\" which I believe...   \n",
              "4                                         Delicious!   \n",
              "\n",
              "                                                text  helpfulY  helpfulN  \n",
              "0  The chips are okay Not near as flavorful as th...         0         0  \n",
              "1  I had high hopes for this, but it was bad.  Re...         0         0  \n",
              "2  I guess it's only one can since there is nothi...         1         1  \n",
              "3  \"Oatmeal Squares\" is in about the largest prin...         0         0  \n",
              "4  I really enjoyed this flavor, this has a very ...         1         0  "
            ],
            "text/html": [
              "\n",
              "  <div id=\"df-b064d1fc-f20f-4fdd-8bdf-2dfd05cc2b64\">\n",
              "    <div class=\"colab-df-container\">\n",
              "      <div>\n",
              "<style scoped>\n",
              "    .dataframe tbody tr th:only-of-type {\n",
              "        vertical-align: middle;\n",
              "    }\n",
              "\n",
              "    .dataframe tbody tr th {\n",
              "        vertical-align: top;\n",
              "    }\n",
              "\n",
              "    .dataframe thead th {\n",
              "        text-align: right;\n",
              "    }\n",
              "</style>\n",
              "<table border=\"1\" class=\"dataframe\">\n",
              "  <thead>\n",
              "    <tr style=\"text-align: right;\">\n",
              "      <th></th>\n",
              "      <th>sentiment</th>\n",
              "      <th>productId</th>\n",
              "      <th>userId</th>\n",
              "      <th>summary</th>\n",
              "      <th>text</th>\n",
              "      <th>helpfulY</th>\n",
              "      <th>helpfulN</th>\n",
              "    </tr>\n",
              "  </thead>\n",
              "  <tbody>\n",
              "    <tr>\n",
              "      <th>0</th>\n",
              "      <td>-1</td>\n",
              "      <td>B000EQYQBO</td>\n",
              "      <td>A2JZVE0Y19VLL0</td>\n",
              "      <td>blue chips</td>\n",
              "      <td>The chips are okay Not near as flavorful as th...</td>\n",
              "      <td>0</td>\n",
              "      <td>0</td>\n",
              "    </tr>\n",
              "    <tr>\n",
              "      <th>1</th>\n",
              "      <td>-1</td>\n",
              "      <td>B000LKVHYC</td>\n",
              "      <td>A3NAKOMAS0I5L9</td>\n",
              "      <td>Bad even for 'healthy'</td>\n",
              "      <td>I had high hopes for this, but it was bad.  Re...</td>\n",
              "      <td>0</td>\n",
              "      <td>0</td>\n",
              "    </tr>\n",
              "    <tr>\n",
              "      <th>2</th>\n",
              "      <td>-1</td>\n",
              "      <td>B003QRQRY2</td>\n",
              "      <td>ARBO3XW14MNGA</td>\n",
              "      <td>Alot of money for one can</td>\n",
              "      <td>I guess it's only one can since there is nothi...</td>\n",
              "      <td>1</td>\n",
              "      <td>1</td>\n",
              "    </tr>\n",
              "    <tr>\n",
              "      <th>3</th>\n",
              "      <td>-1</td>\n",
              "      <td>B008EG58V8</td>\n",
              "      <td>A1IQXGT4MJUYJ8</td>\n",
              "      <td>The Box says \"OATMEAL SQUARES\" which I believe...</td>\n",
              "      <td>\"Oatmeal Squares\" is in about the largest prin...</td>\n",
              "      <td>0</td>\n",
              "      <td>0</td>\n",
              "    </tr>\n",
              "    <tr>\n",
              "      <th>4</th>\n",
              "      <td>1</td>\n",
              "      <td>B004WZZY8M</td>\n",
              "      <td>A2TBL6WAZGXB9P</td>\n",
              "      <td>Delicious!</td>\n",
              "      <td>I really enjoyed this flavor, this has a very ...</td>\n",
              "      <td>1</td>\n",
              "      <td>0</td>\n",
              "    </tr>\n",
              "  </tbody>\n",
              "</table>\n",
              "</div>\n",
              "      <button class=\"colab-df-convert\" onclick=\"convertToInteractive('df-b064d1fc-f20f-4fdd-8bdf-2dfd05cc2b64')\"\n",
              "              title=\"Convert this dataframe to an interactive table.\"\n",
              "              style=\"display:none;\">\n",
              "        \n",
              "  <svg xmlns=\"http://www.w3.org/2000/svg\" height=\"24px\"viewBox=\"0 0 24 24\"\n",
              "       width=\"24px\">\n",
              "    <path d=\"M0 0h24v24H0V0z\" fill=\"none\"/>\n",
              "    <path d=\"M18.56 5.44l.94 2.06.94-2.06 2.06-.94-2.06-.94-.94-2.06-.94 2.06-2.06.94zm-11 1L8.5 8.5l.94-2.06 2.06-.94-2.06-.94L8.5 2.5l-.94 2.06-2.06.94zm10 10l.94 2.06.94-2.06 2.06-.94-2.06-.94-.94-2.06-.94 2.06-2.06.94z\"/><path d=\"M17.41 7.96l-1.37-1.37c-.4-.4-.92-.59-1.43-.59-.52 0-1.04.2-1.43.59L10.3 9.45l-7.72 7.72c-.78.78-.78 2.05 0 2.83L4 21.41c.39.39.9.59 1.41.59.51 0 1.02-.2 1.41-.59l7.78-7.78 2.81-2.81c.8-.78.8-2.07 0-2.86zM5.41 20L4 18.59l7.72-7.72 1.47 1.35L5.41 20z\"/>\n",
              "  </svg>\n",
              "      </button>\n",
              "      \n",
              "  <style>\n",
              "    .colab-df-container {\n",
              "      display:flex;\n",
              "      flex-wrap:wrap;\n",
              "      gap: 12px;\n",
              "    }\n",
              "\n",
              "    .colab-df-convert {\n",
              "      background-color: #E8F0FE;\n",
              "      border: none;\n",
              "      border-radius: 50%;\n",
              "      cursor: pointer;\n",
              "      display: none;\n",
              "      fill: #1967D2;\n",
              "      height: 32px;\n",
              "      padding: 0 0 0 0;\n",
              "      width: 32px;\n",
              "    }\n",
              "\n",
              "    .colab-df-convert:hover {\n",
              "      background-color: #E2EBFA;\n",
              "      box-shadow: 0px 1px 2px rgba(60, 64, 67, 0.3), 0px 1px 3px 1px rgba(60, 64, 67, 0.15);\n",
              "      fill: #174EA6;\n",
              "    }\n",
              "\n",
              "    [theme=dark] .colab-df-convert {\n",
              "      background-color: #3B4455;\n",
              "      fill: #D2E3FC;\n",
              "    }\n",
              "\n",
              "    [theme=dark] .colab-df-convert:hover {\n",
              "      background-color: #434B5C;\n",
              "      box-shadow: 0px 1px 3px 1px rgba(0, 0, 0, 0.15);\n",
              "      filter: drop-shadow(0px 1px 2px rgba(0, 0, 0, 0.3));\n",
              "      fill: #FFFFFF;\n",
              "    }\n",
              "  </style>\n",
              "\n",
              "      <script>\n",
              "        const buttonEl =\n",
              "          document.querySelector('#df-b064d1fc-f20f-4fdd-8bdf-2dfd05cc2b64 button.colab-df-convert');\n",
              "        buttonEl.style.display =\n",
              "          google.colab.kernel.accessAllowed ? 'block' : 'none';\n",
              "\n",
              "        async function convertToInteractive(key) {\n",
              "          const element = document.querySelector('#df-b064d1fc-f20f-4fdd-8bdf-2dfd05cc2b64');\n",
              "          const dataTable =\n",
              "            await google.colab.kernel.invokeFunction('convertToInteractive',\n",
              "                                                     [key], {});\n",
              "          if (!dataTable) return;\n",
              "\n",
              "          const docLinkHtml = 'Like what you see? Visit the ' +\n",
              "            '<a target=\"_blank\" href=https://colab.research.google.com/notebooks/data_table.ipynb>data table notebook</a>'\n",
              "            + ' to learn more about interactive tables.';\n",
              "          element.innerHTML = '';\n",
              "          dataTable['output_type'] = 'display_data';\n",
              "          await google.colab.output.renderOutput(dataTable, element);\n",
              "          const docLink = document.createElement('div');\n",
              "          docLink.innerHTML = docLinkHtml;\n",
              "          element.appendChild(docLink);\n",
              "        }\n",
              "      </script>\n",
              "    </div>\n",
              "  </div>\n",
              "  "
            ]
          },
          "metadata": {},
          "execution_count": 35
        }
      ]
    },
    {
      "cell_type": "code",
      "source": [
        "test = pd.read_csv('/content/drive/My Drive/Colab Notebooks/reviews_test.tsv', encoding = 'ISO-8859-1', sep = '\\t')"
      ],
      "metadata": {
        "id": "u2tr7kDS8fnX"
      },
      "execution_count": 37,
      "outputs": []
    },
    {
      "cell_type": "code",
      "source": [
        "val = pd.read_csv('/content/drive/My Drive/Colab Notebooks/reviews_val.tsv', encoding = 'ISO-8859-1', sep = '\\t')"
      ],
      "metadata": {
        "id": "zRIvTcQQ8lcC"
      },
      "execution_count": 38,
      "outputs": []
    },
    {
      "cell_type": "markdown",
      "source": [
        "#### Bag of Words Representation"
      ],
      "metadata": {
        "id": "nJYW6uxY8pz6"
      }
    },
    {
      "cell_type": "code",
      "source": [
        "from sklearn.feature_extraction.text import CountVectorizer"
      ],
      "metadata": {
        "id": "FiOQgkj89HvN"
      },
      "execution_count": 39,
      "outputs": []
    },
    {
      "cell_type": "code",
      "source": [
        "#instantiate vectorizer\n",
        "vectorizer = CountVectorizer()"
      ],
      "metadata": {
        "id": "V9BTqyfs9Hr2"
      },
      "execution_count": 40,
      "outputs": []
    },
    {
      "cell_type": "code",
      "source": [
        "X = train.head()['text']\n",
        "y = train.head()['sentiment']"
      ],
      "metadata": {
        "id": "OBqxt7wH9HpT"
      },
      "execution_count": 41,
      "outputs": []
    },
    {
      "cell_type": "code",
      "source": [
        "#create bag of words\n",
        "X_vect = vectorizer.fit_transform(X)"
      ],
      "metadata": {
        "id": "5O6WZPid9Hma"
      },
      "execution_count": 44,
      "outputs": []
    },
    {
      "cell_type": "code",
      "source": [
        "#examine in dataframe\n",
        "pd.DataFrame(X_vect.todense(), columns = vectorizer.get_feature_names_out())"
      ],
      "metadata": {
        "id": "lhhMAmiY9Hje",
        "colab": {
          "base_uri": "https://localhost:8080/",
          "height": 299
        },
        "outputId": "49511066-7562-486e-f103-581f6dd9453f"
      },
      "execution_count": 45,
      "outputs": [
        {
          "output_type": "execute_result",
          "data": {
            "text/plain": [
              "   about  all  an  and  are  as  back  bad  bag  be  ...  we  what  wheat  \\\n",
              "0      0    0   0    0    1   2     0    0    1   0  ...   0     0      0   \n",
              "1      0    0   0    1    0   0     0    2    0   1  ...   0     0      0   \n",
              "2      1    1   0    0    0   0     0    0    0   1  ...   1     0      0   \n",
              "3      2    1   1    3    0   0     0    0    0   2  ...   0     1      3   \n",
              "4      0    0   0    1    0   0     1    0    0   0  ...   0     0      0   \n",
              "\n",
              "   when  which  who  whole  why  wonder  you  \n",
              "0     0      0    0      0    0       0    0  \n",
              "1     0      0    0      1    0       0    0  \n",
              "2     0      0    0      0    0       0    1  \n",
              "3     2      1    1      0    1       1    2  \n",
              "4     0      0    0      0    0       0    0  \n",
              "\n",
              "[5 rows x 129 columns]"
            ],
            "text/html": [
              "\n",
              "  <div id=\"df-d5a74753-1b1a-4975-8c9d-b85f48599d74\">\n",
              "    <div class=\"colab-df-container\">\n",
              "      <div>\n",
              "<style scoped>\n",
              "    .dataframe tbody tr th:only-of-type {\n",
              "        vertical-align: middle;\n",
              "    }\n",
              "\n",
              "    .dataframe tbody tr th {\n",
              "        vertical-align: top;\n",
              "    }\n",
              "\n",
              "    .dataframe thead th {\n",
              "        text-align: right;\n",
              "    }\n",
              "</style>\n",
              "<table border=\"1\" class=\"dataframe\">\n",
              "  <thead>\n",
              "    <tr style=\"text-align: right;\">\n",
              "      <th></th>\n",
              "      <th>about</th>\n",
              "      <th>all</th>\n",
              "      <th>an</th>\n",
              "      <th>and</th>\n",
              "      <th>are</th>\n",
              "      <th>as</th>\n",
              "      <th>back</th>\n",
              "      <th>bad</th>\n",
              "      <th>bag</th>\n",
              "      <th>be</th>\n",
              "      <th>...</th>\n",
              "      <th>we</th>\n",
              "      <th>what</th>\n",
              "      <th>wheat</th>\n",
              "      <th>when</th>\n",
              "      <th>which</th>\n",
              "      <th>who</th>\n",
              "      <th>whole</th>\n",
              "      <th>why</th>\n",
              "      <th>wonder</th>\n",
              "      <th>you</th>\n",
              "    </tr>\n",
              "  </thead>\n",
              "  <tbody>\n",
              "    <tr>\n",
              "      <th>0</th>\n",
              "      <td>0</td>\n",
              "      <td>0</td>\n",
              "      <td>0</td>\n",
              "      <td>0</td>\n",
              "      <td>1</td>\n",
              "      <td>2</td>\n",
              "      <td>0</td>\n",
              "      <td>0</td>\n",
              "      <td>1</td>\n",
              "      <td>0</td>\n",
              "      <td>...</td>\n",
              "      <td>0</td>\n",
              "      <td>0</td>\n",
              "      <td>0</td>\n",
              "      <td>0</td>\n",
              "      <td>0</td>\n",
              "      <td>0</td>\n",
              "      <td>0</td>\n",
              "      <td>0</td>\n",
              "      <td>0</td>\n",
              "      <td>0</td>\n",
              "    </tr>\n",
              "    <tr>\n",
              "      <th>1</th>\n",
              "      <td>0</td>\n",
              "      <td>0</td>\n",
              "      <td>0</td>\n",
              "      <td>1</td>\n",
              "      <td>0</td>\n",
              "      <td>0</td>\n",
              "      <td>0</td>\n",
              "      <td>2</td>\n",
              "      <td>0</td>\n",
              "      <td>1</td>\n",
              "      <td>...</td>\n",
              "      <td>0</td>\n",
              "      <td>0</td>\n",
              "      <td>0</td>\n",
              "      <td>0</td>\n",
              "      <td>0</td>\n",
              "      <td>0</td>\n",
              "      <td>1</td>\n",
              "      <td>0</td>\n",
              "      <td>0</td>\n",
              "      <td>0</td>\n",
              "    </tr>\n",
              "    <tr>\n",
              "      <th>2</th>\n",
              "      <td>1</td>\n",
              "      <td>1</td>\n",
              "      <td>0</td>\n",
              "      <td>0</td>\n",
              "      <td>0</td>\n",
              "      <td>0</td>\n",
              "      <td>0</td>\n",
              "      <td>0</td>\n",
              "      <td>0</td>\n",
              "      <td>1</td>\n",
              "      <td>...</td>\n",
              "      <td>1</td>\n",
              "      <td>0</td>\n",
              "      <td>0</td>\n",
              "      <td>0</td>\n",
              "      <td>0</td>\n",
              "      <td>0</td>\n",
              "      <td>0</td>\n",
              "      <td>0</td>\n",
              "      <td>0</td>\n",
              "      <td>1</td>\n",
              "    </tr>\n",
              "    <tr>\n",
              "      <th>3</th>\n",
              "      <td>2</td>\n",
              "      <td>1</td>\n",
              "      <td>1</td>\n",
              "      <td>3</td>\n",
              "      <td>0</td>\n",
              "      <td>0</td>\n",
              "      <td>0</td>\n",
              "      <td>0</td>\n",
              "      <td>0</td>\n",
              "      <td>2</td>\n",
              "      <td>...</td>\n",
              "      <td>0</td>\n",
              "      <td>1</td>\n",
              "      <td>3</td>\n",
              "      <td>2</td>\n",
              "      <td>1</td>\n",
              "      <td>1</td>\n",
              "      <td>0</td>\n",
              "      <td>1</td>\n",
              "      <td>1</td>\n",
              "      <td>2</td>\n",
              "    </tr>\n",
              "    <tr>\n",
              "      <th>4</th>\n",
              "      <td>0</td>\n",
              "      <td>0</td>\n",
              "      <td>0</td>\n",
              "      <td>1</td>\n",
              "      <td>0</td>\n",
              "      <td>0</td>\n",
              "      <td>1</td>\n",
              "      <td>0</td>\n",
              "      <td>0</td>\n",
              "      <td>0</td>\n",
              "      <td>...</td>\n",
              "      <td>0</td>\n",
              "      <td>0</td>\n",
              "      <td>0</td>\n",
              "      <td>0</td>\n",
              "      <td>0</td>\n",
              "      <td>0</td>\n",
              "      <td>0</td>\n",
              "      <td>0</td>\n",
              "      <td>0</td>\n",
              "      <td>0</td>\n",
              "    </tr>\n",
              "  </tbody>\n",
              "</table>\n",
              "<p>5 rows × 129 columns</p>\n",
              "</div>\n",
              "      <button class=\"colab-df-convert\" onclick=\"convertToInteractive('df-d5a74753-1b1a-4975-8c9d-b85f48599d74')\"\n",
              "              title=\"Convert this dataframe to an interactive table.\"\n",
              "              style=\"display:none;\">\n",
              "        \n",
              "  <svg xmlns=\"http://www.w3.org/2000/svg\" height=\"24px\"viewBox=\"0 0 24 24\"\n",
              "       width=\"24px\">\n",
              "    <path d=\"M0 0h24v24H0V0z\" fill=\"none\"/>\n",
              "    <path d=\"M18.56 5.44l.94 2.06.94-2.06 2.06-.94-2.06-.94-.94-2.06-.94 2.06-2.06.94zm-11 1L8.5 8.5l.94-2.06 2.06-.94-2.06-.94L8.5 2.5l-.94 2.06-2.06.94zm10 10l.94 2.06.94-2.06 2.06-.94-2.06-.94-.94-2.06-.94 2.06-2.06.94z\"/><path d=\"M17.41 7.96l-1.37-1.37c-.4-.4-.92-.59-1.43-.59-.52 0-1.04.2-1.43.59L10.3 9.45l-7.72 7.72c-.78.78-.78 2.05 0 2.83L4 21.41c.39.39.9.59 1.41.59.51 0 1.02-.2 1.41-.59l7.78-7.78 2.81-2.81c.8-.78.8-2.07 0-2.86zM5.41 20L4 18.59l7.72-7.72 1.47 1.35L5.41 20z\"/>\n",
              "  </svg>\n",
              "      </button>\n",
              "      \n",
              "  <style>\n",
              "    .colab-df-container {\n",
              "      display:flex;\n",
              "      flex-wrap:wrap;\n",
              "      gap: 12px;\n",
              "    }\n",
              "\n",
              "    .colab-df-convert {\n",
              "      background-color: #E8F0FE;\n",
              "      border: none;\n",
              "      border-radius: 50%;\n",
              "      cursor: pointer;\n",
              "      display: none;\n",
              "      fill: #1967D2;\n",
              "      height: 32px;\n",
              "      padding: 0 0 0 0;\n",
              "      width: 32px;\n",
              "    }\n",
              "\n",
              "    .colab-df-convert:hover {\n",
              "      background-color: #E2EBFA;\n",
              "      box-shadow: 0px 1px 2px rgba(60, 64, 67, 0.3), 0px 1px 3px 1px rgba(60, 64, 67, 0.15);\n",
              "      fill: #174EA6;\n",
              "    }\n",
              "\n",
              "    [theme=dark] .colab-df-convert {\n",
              "      background-color: #3B4455;\n",
              "      fill: #D2E3FC;\n",
              "    }\n",
              "\n",
              "    [theme=dark] .colab-df-convert:hover {\n",
              "      background-color: #434B5C;\n",
              "      box-shadow: 0px 1px 3px 1px rgba(0, 0, 0, 0.15);\n",
              "      filter: drop-shadow(0px 1px 2px rgba(0, 0, 0, 0.3));\n",
              "      fill: #FFFFFF;\n",
              "    }\n",
              "  </style>\n",
              "\n",
              "      <script>\n",
              "        const buttonEl =\n",
              "          document.querySelector('#df-d5a74753-1b1a-4975-8c9d-b85f48599d74 button.colab-df-convert');\n",
              "        buttonEl.style.display =\n",
              "          google.colab.kernel.accessAllowed ? 'block' : 'none';\n",
              "\n",
              "        async function convertToInteractive(key) {\n",
              "          const element = document.querySelector('#df-d5a74753-1b1a-4975-8c9d-b85f48599d74');\n",
              "          const dataTable =\n",
              "            await google.colab.kernel.invokeFunction('convertToInteractive',\n",
              "                                                     [key], {});\n",
              "          if (!dataTable) return;\n",
              "\n",
              "          const docLinkHtml = 'Like what you see? Visit the ' +\n",
              "            '<a target=\"_blank\" href=https://colab.research.google.com/notebooks/data_table.ipynb>data table notebook</a>'\n",
              "            + ' to learn more about interactive tables.';\n",
              "          element.innerHTML = '';\n",
              "          dataTable['output_type'] = 'display_data';\n",
              "          await google.colab.output.renderOutput(dataTable, element);\n",
              "          const docLink = document.createElement('div');\n",
              "          docLink.innerHTML = docLinkHtml;\n",
              "          element.appendChild(docLink);\n",
              "        }\n",
              "      </script>\n",
              "    </div>\n",
              "  </div>\n",
              "  "
            ]
          },
          "metadata": {},
          "execution_count": 45
        }
      ]
    },
    {
      "cell_type": "code",
      "source": [
        "#compare to X\n",
        "X"
      ],
      "metadata": {
        "id": "_o79CYgT83Wa",
        "colab": {
          "base_uri": "https://localhost:8080/"
        },
        "outputId": "bcae447d-4de8-493e-b155-8d5a19d482d0"
      },
      "execution_count": 46,
      "outputs": [
        {
          "output_type": "execute_result",
          "data": {
            "text/plain": [
              "0    The chips are okay Not near as flavorful as th...\n",
              "1    I had high hopes for this, but it was bad.  Re...\n",
              "2    I guess it's only one can since there is nothi...\n",
              "3    \"Oatmeal Squares\" is in about the largest prin...\n",
              "4    I really enjoyed this flavor, this has a very ...\n",
              "Name: text, dtype: object"
            ]
          },
          "metadata": {},
          "execution_count": 46
        }
      ]
    },
    {
      "cell_type": "markdown",
      "source": [
        "#### Learning with Data"
      ],
      "metadata": {
        "id": "i09DRsHd9Ius"
      }
    },
    {
      "cell_type": "code",
      "source": [
        "thetas = ''\n",
        "theta_0 = ''"
      ],
      "metadata": {
        "id": "6d0pTmHxBn1_"
      },
      "execution_count": null,
      "outputs": []
    },
    {
      "cell_type": "code",
      "source": [
        "theta, theta_0 = ''"
      ],
      "metadata": {
        "id": "nQtOmQij9Y5j"
      },
      "execution_count": null,
      "outputs": []
    },
    {
      "cell_type": "code",
      "source": [
        "theta"
      ],
      "metadata": {
        "id": "g78NZK2pDhie"
      },
      "execution_count": null,
      "outputs": []
    },
    {
      "cell_type": "code",
      "source": [
        "theta_0"
      ],
      "metadata": {
        "id": "mntVWPRMDjR0"
      },
      "execution_count": null,
      "outputs": []
    },
    {
      "cell_type": "markdown",
      "source": [
        "#### Vectorizing all the Data"
      ],
      "metadata": {
        "id": "Uxb_fKQOUUO7"
      }
    },
    {
      "cell_type": "code",
      "source": [
        "#training data\n",
        "cvect = CountVectorizer(max_features=1000, stop_words = 'english')\n",
        "X_train = train['text']\n",
        "y_train = train['sentiment']\n",
        "X_train_vect = cvect.fit_transform(X_train)\n",
        "X_train_vect"
      ],
      "metadata": {
        "id": "ULWMMLyuUTGP",
        "colab": {
          "base_uri": "https://localhost:8080/"
        },
        "outputId": "dc8ad38c-83cc-4d35-bbc3-b03e0a639bf2"
      },
      "execution_count": 52,
      "outputs": [
        {
          "output_type": "execute_result",
          "data": {
            "text/plain": [
              "<4000x1000 sparse matrix of type '<class 'numpy.int64'>'\n",
              "\twith 85455 stored elements in Compressed Sparse Row format>"
            ]
          },
          "metadata": {},
          "execution_count": 52
        }
      ]
    },
    {
      "cell_type": "code",
      "source": [
        "#testing data\n",
        "X_test = test['text']\n",
        "y_test = test['sentiment']\n",
        "X_test_vect = cvect.transform(X_test)\n",
        "X_test_vect"
      ],
      "metadata": {
        "id": "WTKz90ANUSy4",
        "colab": {
          "base_uri": "https://localhost:8080/"
        },
        "outputId": "ff990a4c-34b9-4ef1-8aa1-ca3660252778"
      },
      "execution_count": 53,
      "outputs": [
        {
          "output_type": "execute_result",
          "data": {
            "text/plain": [
              "<500x1000 sparse matrix of type '<class 'numpy.int64'>'\n",
              "\twith 10662 stored elements in Compressed Sparse Row format>"
            ]
          },
          "metadata": {},
          "execution_count": 53
        }
      ]
    },
    {
      "cell_type": "code",
      "source": [
        "#validation data\n",
        "X_val = val['text']\n",
        "y_val = val['sentiment']\n",
        "X_val_vect = cvect.transform(X_val)\n",
        "X_val_vect"
      ],
      "metadata": {
        "id": "3GHzqnWqUSqt",
        "colab": {
          "base_uri": "https://localhost:8080/"
        },
        "outputId": "17180b8a-e90e-4502-e50a-5c3834a8a26a"
      },
      "execution_count": 62,
      "outputs": [
        {
          "output_type": "execute_result",
          "data": {
            "text/plain": [
              "<500x1000 sparse matrix of type '<class 'numpy.int64'>'\n",
              "\twith 10893 stored elements in Compressed Sparse Row format>"
            ]
          },
          "metadata": {},
          "execution_count": 62
        }
      ]
    },
    {
      "cell_type": "markdown",
      "source": [
        "#### Using `sklearn`\n",
        "\n",
        "Using `sklearn` models is similar from one model to the next.  Typically there is a three step modeling process.  \n",
        "\n",
        "- Instantiate\n",
        "- Fit\n",
        "- Predict"
      ],
      "metadata": {
        "id": "TXkX7o6kDkbq"
      }
    },
    {
      "cell_type": "code",
      "source": [
        "#define X and y\n"
      ],
      "metadata": {
        "id": "JKw-b-MLUNBV"
      },
      "execution_count": null,
      "outputs": []
    },
    {
      "cell_type": "code",
      "source": [
        "#instantiate SGDClassifier\n",
        "sgd = SGDClassifier(random_state=42)"
      ],
      "metadata": {
        "id": "mMHhEHpPTxSS"
      },
      "execution_count": 58,
      "outputs": []
    },
    {
      "cell_type": "code",
      "source": [
        "#fit\n",
        "sgd.fit(X_train_vect, y_train)"
      ],
      "metadata": {
        "id": "4WcC9sO6ULLJ",
        "colab": {
          "base_uri": "https://localhost:8080/"
        },
        "outputId": "67b57b08-c68f-47a8-b427-be6d6317022a"
      },
      "execution_count": 59,
      "outputs": [
        {
          "output_type": "execute_result",
          "data": {
            "text/plain": [
              "SGDClassifier(random_state=42)"
            ]
          },
          "metadata": {},
          "execution_count": 59
        }
      ]
    },
    {
      "cell_type": "code",
      "source": [
        "#score on training\n",
        "sgd.score(X_train_vect, y_train)"
      ],
      "metadata": {
        "id": "DxsHnjJuUjQW",
        "colab": {
          "base_uri": "https://localhost:8080/"
        },
        "outputId": "35754ffe-2490-46ae-dc6b-e7c539e6b045"
      },
      "execution_count": 60,
      "outputs": [
        {
          "output_type": "execute_result",
          "data": {
            "text/plain": [
              "0.8985"
            ]
          },
          "metadata": {},
          "execution_count": 60
        }
      ]
    },
    {
      "cell_type": "code",
      "source": [
        "#score on testing\n",
        "sgd.score(X_test_vect, y_test)"
      ],
      "metadata": {
        "id": "horzafrPUlsF",
        "colab": {
          "base_uri": "https://localhost:8080/"
        },
        "outputId": "e978bc0b-9552-4d4d-8106-45b23804ad10"
      },
      "execution_count": 61,
      "outputs": [
        {
          "output_type": "execute_result",
          "data": {
            "text/plain": [
              "0.764"
            ]
          },
          "metadata": {},
          "execution_count": 61
        }
      ]
    },
    {
      "cell_type": "code",
      "source": [
        "#score on validation\n",
        "sgd.score(X_val_vect, y_val)"
      ],
      "metadata": {
        "id": "VNXE0Wr9UnWm",
        "colab": {
          "base_uri": "https://localhost:8080/"
        },
        "outputId": "1be01542-358e-4b22-e2be-9e0c033b8b17"
      },
      "execution_count": 63,
      "outputs": [
        {
          "output_type": "execute_result",
          "data": {
            "text/plain": [
              "0.732"
            ]
          },
          "metadata": {},
          "execution_count": 63
        }
      ]
    },
    {
      "cell_type": "markdown",
      "source": [
        "#### Improving the Models\n",
        "\n",
        "As in the recitation there are likely some parameters to tune in the model including the regularization penalty and adjusting the loss function.  "
      ],
      "metadata": {
        "id": "ac8JB0zfUo0x"
      }
    },
    {
      "cell_type": "code",
      "source": [
        "#SGD Parameters?\n",
        "sgd = SGDClassifier(random_state=42, alpha=0.0003, loss='hinge')"
      ],
      "metadata": {
        "id": "INEb2ipHUzXf"
      },
      "execution_count": 84,
      "outputs": []
    },
    {
      "cell_type": "code",
      "source": [
        "sgd.fit(X_train_vect, y_train)"
      ],
      "metadata": {
        "id": "WguTQEdyVcCe",
        "colab": {
          "base_uri": "https://localhost:8080/"
        },
        "outputId": "02957720-a359-43e8-c3e4-26b924001856"
      },
      "execution_count": 85,
      "outputs": [
        {
          "output_type": "execute_result",
          "data": {
            "text/plain": [
              "SGDClassifier(alpha=0.0003, random_state=42)"
            ]
          },
          "metadata": {},
          "execution_count": 85
        }
      ]
    },
    {
      "cell_type": "code",
      "source": [
        "#score on training\n",
        "sgd.score(X_train_vect, y_train)"
      ],
      "metadata": {
        "id": "TLT0fdwrVeGG",
        "colab": {
          "base_uri": "https://localhost:8080/"
        },
        "outputId": "22207e12-3fc5-47d8-b446-0c72b3c4d691"
      },
      "execution_count": 86,
      "outputs": [
        {
          "output_type": "execute_result",
          "data": {
            "text/plain": [
              "0.912"
            ]
          },
          "metadata": {},
          "execution_count": 86
        }
      ]
    },
    {
      "cell_type": "code",
      "source": [
        "#score on testing\n",
        "sgd.score(X_test_vect, y_test)"
      ],
      "metadata": {
        "id": "uyvr02n6Ve1K",
        "colab": {
          "base_uri": "https://localhost:8080/"
        },
        "outputId": "f8a1871c-0113-47c6-ce29-59c82f7569b1"
      },
      "execution_count": 87,
      "outputs": [
        {
          "output_type": "execute_result",
          "data": {
            "text/plain": [
              "0.774"
            ]
          },
          "metadata": {},
          "execution_count": 87
        }
      ]
    },
    {
      "cell_type": "code",
      "source": [
        "#score on validation\n",
        "sgd.score(X_val_vect, y_val)"
      ],
      "metadata": {
        "id": "7478cDHfVrbt",
        "colab": {
          "base_uri": "https://localhost:8080/"
        },
        "outputId": "3b4a6798-052e-44c6-bc83-62d2526a26ba"
      },
      "execution_count": 88,
      "outputs": [
        {
          "output_type": "execute_result",
          "data": {
            "text/plain": [
              "0.744"
            ]
          },
          "metadata": {},
          "execution_count": 88
        }
      ]
    },
    {
      "cell_type": "markdown",
      "source": [
        "#### Exercise\n",
        "\n",
        "Set up an experiment to using different loss functions and penalty terms.  Select the parameters that perform best on the *test* data."
      ],
      "metadata": {
        "id": "_l7HRpj2VgLS"
      }
    },
    {
      "cell_type": "code",
      "source": [],
      "metadata": {
        "id": "gXS4uJmpWD8P"
      },
      "execution_count": null,
      "outputs": []
    },
    {
      "cell_type": "code",
      "source": [],
      "metadata": {
        "id": "4gubmvZ5WD4V"
      },
      "execution_count": null,
      "outputs": []
    },
    {
      "cell_type": "code",
      "source": [],
      "metadata": {
        "id": "IcxbAShuWD0Z"
      },
      "execution_count": null,
      "outputs": []
    },
    {
      "cell_type": "code",
      "source": [],
      "metadata": {
        "id": "4DI9guSoWB6s"
      },
      "execution_count": null,
      "outputs": []
    },
    {
      "cell_type": "markdown",
      "source": [
        "#### Up Next: The Regression Setting\n",
        "\n"
      ],
      "metadata": {
        "id": "7rSCuOKeWSJo"
      }
    },
    {
      "cell_type": "code",
      "source": [
        "import seaborn as sns"
      ],
      "metadata": {
        "id": "2iYmyuiBWZ4T"
      },
      "execution_count": null,
      "outputs": []
    },
    {
      "cell_type": "code",
      "source": [
        "tips = sns.load_dataset('tips')\n",
        "tips.head()"
      ],
      "metadata": {
        "id": "SAFQn9tbWbAl"
      },
      "execution_count": null,
      "outputs": []
    },
    {
      "cell_type": "code",
      "source": [
        "#X and y\n"
      ],
      "metadata": {
        "id": "Bn1z9ITjWdxD"
      },
      "execution_count": null,
      "outputs": []
    },
    {
      "cell_type": "code",
      "source": [
        "#parameters\n"
      ],
      "metadata": {
        "id": "A7qMLc-1Wjhe"
      },
      "execution_count": null,
      "outputs": []
    },
    {
      "cell_type": "code",
      "source": [
        "#prediction\n"
      ],
      "metadata": {
        "id": "4xUOxxVaWnU6"
      },
      "execution_count": null,
      "outputs": []
    },
    {
      "cell_type": "code",
      "source": [
        "#loss\n"
      ],
      "metadata": {
        "id": "JlYN8De2WpJv"
      },
      "execution_count": null,
      "outputs": []
    },
    {
      "cell_type": "markdown",
      "source": [
        "$$w_{i + 1} = w_i + \\alpha (y - \\theta X)X$$"
      ],
      "metadata": {
        "id": "F52rEsnmWqv0"
      }
    },
    {
      "cell_type": "code",
      "source": [
        "#update the weight\n"
      ],
      "metadata": {
        "id": "BnNPSoY_W5oL"
      },
      "execution_count": null,
      "outputs": []
    },
    {
      "cell_type": "markdown",
      "source": [
        "#### Using `sklearn`"
      ],
      "metadata": {
        "id": "vlIKdjbKW_v3"
      }
    },
    {
      "cell_type": "code",
      "source": [
        "from sklearn.linear_model import SGDRegressor"
      ],
      "metadata": {
        "id": "whxPh9HYXCI2"
      },
      "execution_count": null,
      "outputs": []
    },
    {
      "cell_type": "code",
      "source": [
        "#instantiate\n"
      ],
      "metadata": {
        "id": "3o5j0jbKXFFX"
      },
      "execution_count": null,
      "outputs": []
    },
    {
      "cell_type": "code",
      "source": [
        "#fit\n"
      ],
      "metadata": {
        "id": "lv5qdZfnXGEk"
      },
      "execution_count": null,
      "outputs": []
    },
    {
      "cell_type": "code",
      "source": [
        "#predict\n"
      ],
      "metadata": {
        "id": "EL1X_XOaXG2_"
      },
      "execution_count": null,
      "outputs": []
    },
    {
      "cell_type": "code",
      "source": [
        "#score\n"
      ],
      "metadata": {
        "id": "9TctbaxEXHlp"
      },
      "execution_count": null,
      "outputs": []
    },
    {
      "cell_type": "code",
      "source": [],
      "metadata": {
        "id": "82rdULXKXJJ4"
      },
      "execution_count": null,
      "outputs": []
    }
  ]
}