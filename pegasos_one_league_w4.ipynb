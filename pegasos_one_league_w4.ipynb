{
  "nbformat": 4,
  "nbformat_minor": 0,
  "metadata": {
    "colab": {
      "provenance": [],
      "include_colab_link": true
    },
    "kernelspec": {
      "name": "python3",
      "display_name": "Python 3"
    },
    "language_info": {
      "name": "python"
    }
  },
  "cells": [
    {
      "cell_type": "markdown",
      "metadata": {
        "id": "view-in-github",
        "colab_type": "text"
      },
      "source": [
        "<a href=\"https://colab.research.google.com/github/Priyanka-Gangadhar-Palshetkar/MITx-Micromasters-Statistics-Data-Science/blob/main/pegasos_one_league_w4.ipynb\" target=\"_parent\"><img src=\"https://colab.research.google.com/assets/colab-badge.svg\" alt=\"Open In Colab\"/></a>"
      ]
    },
    {
      "cell_type": "markdown",
      "source": [
        "#### Week 4: Machine Learning \n",
        "\n",
        "**OBJECTIVES**\n",
        "- Implement PEGASOS algorithm \n",
        "- Compare Perceptron, Average Perceptron, and Pegasos algorithms for classification\n",
        "- Explore Perceptron and SVM with `scikitlearn`"
      ],
      "metadata": {
        "id": "QR6DOi5wpaJU"
      }
    },
    {
      "cell_type": "code",
      "source": [
        "import matplotlib.pyplot as plt\n",
        "import numpy as np\n",
        "import pandas as pd \n",
        "\n",
        "from sklearn.linear_model import SGDClassifier\n",
        "from sklearn.preprocessing import StandardScaler\n",
        "from sklearn.pipeline import Pipeline\n",
        "from sklearn.model_selection import cross_val_score, GridSearchCV"
      ],
      "metadata": {
        "id": "jtyLTMtUBv7O"
      },
      "execution_count": 1,
      "outputs": []
    },
    {
      "cell_type": "markdown",
      "source": [
        "#### PEGASOS Algorithm\n",
        "\n",
        "if $y^{(i)}(\\theta \\cdot x^{(i)}) \\leq 1$:\n",
        "\n",
        "\n",
        "  $$\\theta = (1 - \\eta \\lambda)\\theta + \\eta y^{(i)}x^{(i)}$$\n",
        "\n",
        "else:\n",
        "\n",
        "  $$\\theta = (1 - \\eta \\lambda)\\theta$$"
      ],
      "metadata": {
        "id": "2iLxqEcbqaXW"
      }
    },
    {
      "cell_type": "markdown",
      "source": [
        "```\n",
        "pegasos_single_step_update input:\n",
        "feature_vector: [-0.44344863 -0.415128    0.33549888  0.23596999  0.1697304  -0.19186354\n",
        "  0.10594417  0.10680173  0.08120402 -0.34161713]\n",
        "label: 1\n",
        "L: 0.9560342718892494\n",
        "eta: 0.9478274870593494\n",
        "theta: [ 0.13847134  0.30366944  0.3602441   0.00906745 -0.1279397   0.43571169\n",
        "  0.00206729  0.4012078   0.37103297 -0.13598557]\n",
        "theta_0: 1.9819714009584377\n",
        "pegasos_single_step_update output is (['0.0129948', '0.0284977', '0.0338069', '0.0008509', '-0.0120064', '0.0408891', '0.0001940', '0.0376511', '0.0348194', '-0.0127615'], '1.9819714')\n",
        "```"
      ],
      "metadata": {
        "id": "9HnmlHywveRb"
      }
    },
    {
      "cell_type": "code",
      "source": [
        "import numpy as np"
      ],
      "metadata": {
        "id": "SrHbQjsuvtu5"
      },
      "execution_count": 2,
      "outputs": []
    },
    {
      "cell_type": "code",
      "execution_count": 3,
      "metadata": {
        "id": "KqABerIBvWcw"
      },
      "outputs": [],
      "source": [
        "feature_vector = [-0.44344863 , -0.415128 ,  0.33549888 , 0.23596999,  0.1697304 , -0.19186354, 0.10594417 , 0.10680173 , 0.08120402, -0.34161713]\n",
        "label = 1\n",
        "L =  0.9560342718892494\n",
        "eta =  0.9478274870593494\n",
        "theta =  [ 0.13847134 , 0.30366944 , 0.3602441  , 0.00906745 ,-0.1279397   ,0.43571169, 0.00206729,  0.4012078 ,  0.37103297, -0.13598557]\n",
        "theta_0 = 1.9819714009584377\n",
        "\n",
        "theta = np.array(theta) \n",
        "feature_vector = np.array(feature_vector)"
      ]
    },
    {
      "cell_type": "code",
      "source": [
        "#test condition\n",
        "label * (theta@feature_vector)"
      ],
      "metadata": {
        "id": "AGTjcHn6wrsm",
        "colab": {
          "base_uri": "https://localhost:8080/"
        },
        "outputId": "a45e9960-f746-475e-e8c5-6ae2c84c7750"
      },
      "execution_count": 7,
      "outputs": [
        {
          "output_type": "execute_result",
          "data": {
            "text/plain": [
              "-0.05012484554876653"
            ]
          },
          "metadata": {},
          "execution_count": 7
        }
      ]
    },
    {
      "cell_type": "code",
      "source": [
        "#include bias term\n",
        "label * (theta@feature_vector + theta_0)"
      ],
      "metadata": {
        "id": "ofI55PxU1Z3z",
        "colab": {
          "base_uri": "https://localhost:8080/"
        },
        "outputId": "7f77fe82-2ab3-4e38-fcb0-45eebb903515"
      },
      "execution_count": 8,
      "outputs": [
        {
          "output_type": "execute_result",
          "data": {
            "text/plain": [
              "1.931846555409671"
            ]
          },
          "metadata": {},
          "execution_count": 8
        }
      ]
    },
    {
      "cell_type": "code",
      "source": [
        "#implement the update\n",
        "theta = (1 - eta * L) * theta\n",
        "theta"
      ],
      "metadata": {
        "id": "azvjODGo1Zz2",
        "colab": {
          "base_uri": "https://localhost:8080/"
        },
        "outputId": "25ebad47-2e63-4582-b39f-e4ce85b540f7"
      },
      "execution_count": 10,
      "outputs": [
        {
          "output_type": "execute_result",
          "data": {
            "text/plain": [
              "array([ 1.21948644e-03,  2.67434954e-03,  3.17259005e-03,  7.98550250e-05,\n",
              "       -1.12673662e-03,  3.83721641e-03,  1.82061654e-05,  3.53334828e-03,\n",
              "        3.26760524e-03, -1.19759481e-03])"
            ]
          },
          "metadata": {},
          "execution_count": 10
        }
      ]
    },
    {
      "cell_type": "markdown",
      "source": [
        "**EXAMPLE 2**\n",
        "\n",
        "Test the example below to be sure your algorithm is performing correctly."
      ],
      "metadata": {
        "id": "-hnjJ6Hf1ZwK"
      }
    },
    {
      "cell_type": "markdown",
      "source": [
        "```\n",
        "feature_vector: [ 0.06631939 -0.3264986  -0.10624803 -0.09306145  0.12834772  0.06241767\n",
        " -0.12983977 -0.02200566 -0.4283686  -0.4063009 ]\n",
        "label: -1\n",
        "L: 0.4399370508011895\n",
        "eta: 0.3521151798545281\n",
        "theta: [ 0.10688052  0.2692996  -0.48399076 -0.21459193 -0.07127003 -0.31128647\n",
        " -0.29462128 -0.37442059  0.12293973  0.40547262]\n",
        "theta_0: -0.8768832328685103\n",
        "pegasos_single_step_update output is (['0.0903238', '0.2275828', '-0.4090165', '-0.1813498', '-0.0602297', '-0.2630655', '-0.2489819', '-0.3164197', '0.1038953', '0.3426615'], '-0.8768832')\n",
        "```"
      ],
      "metadata": {
        "id": "Z_i7Ookkwrpc"
      }
    },
    {
      "cell_type": "code",
      "source": [
        "feature_vector = [ 0.06631939 ,-0.3264986 , -0.10624803 ,-0.09306145 , 0.12834772 , 0.06241767, -0.12983977 , -0.02200566,  -0.4283686 , -0.4063009 ]\n",
        "label = -1\n",
        "L = 0.4399370508011895\n",
        "eta = 0.3521151798545281\n",
        "theta = [ 0.10688052 , 0.2692996 , -0.48399076, -0.21459193, -0.07127003 ,-0.31128647,-0.29462128, -0.37442059,  0.12293973 , 0.40547262]\n",
        "theta_0 = -0.8768832328685103\n",
        "\n",
        "feature_vector = np.array(feature_vector)\n",
        "theta = np.array(theta)"
      ],
      "metadata": {
        "id": "ukYfQW2Kwrkd"
      },
      "execution_count": null,
      "outputs": []
    },
    {
      "cell_type": "code",
      "source": [
        " "
      ],
      "metadata": {
        "id": "Pxe689KawrnE"
      },
      "execution_count": null,
      "outputs": []
    },
    {
      "cell_type": "code",
      "source": [],
      "metadata": {
        "id": "xhaiF1J000C_"
      },
      "execution_count": null,
      "outputs": []
    },
    {
      "cell_type": "code",
      "source": [],
      "metadata": {
        "id": "ikUVMUjQ0z_l"
      },
      "execution_count": null,
      "outputs": []
    },
    {
      "cell_type": "markdown",
      "source": [
        "**Pegasos Single Step**"
      ],
      "metadata": {
        "id": "PLJO_0vXt4IR"
      }
    },
    {
      "cell_type": "code",
      "source": [
        "def pegasos_single_step_update(feature_vector, label,L, eta, theta, theta_0):\n",
        "\n",
        "    pass\n"
      ],
      "metadata": {
        "id": "QmK0pNHmwYYq"
      },
      "execution_count": null,
      "outputs": []
    },
    {
      "cell_type": "markdown",
      "source": [
        "**Pegasos**\n",
        "\n",
        "Now, we update the parameters using a single step update.  In addition to this, we will change the value of $\\eta$ as we go to $\\eta = \\frac{1}{\\sqrt{t}}$. "
      ],
      "metadata": {
        "id": "QZCyHDEKwer3"
      }
    },
    {
      "cell_type": "code",
      "source": [
        "def pegasos(feature_matrix, labels, T, L): \n",
        "    theta = np.zeros(feature_matrix.shape[1])\n",
        "    theta_0 = 0\n",
        "    counter = 0\n",
        "    for n in range(T):\n",
        "        for i in range(feature_matrix.shape[0]):\n",
        "            #eta\n",
        "            \n",
        "            #update\n",
        "            \n",
        "            #increment count\n",
        "\n",
        "    return theta, theta_0"
      ],
      "metadata": {
        "id": "OQyu71TF34yE"
      },
      "execution_count": null,
      "outputs": []
    },
    {
      "cell_type": "markdown",
      "source": [
        "#### Sentiment Analysis"
      ],
      "metadata": {
        "id": "mKm-Iwg-GA_n"
      }
    },
    {
      "cell_type": "code",
      "source": [
        "train = pd.read_csv('reviews_train.tsv', encoding = 'ISO-8859-1', sep = '\\t')"
      ],
      "metadata": {
        "id": "kQ8T_2zi8S7C"
      },
      "execution_count": null,
      "outputs": []
    },
    {
      "cell_type": "code",
      "source": [
        "train.head()"
      ],
      "metadata": {
        "id": "i_SirbSm8YAW"
      },
      "execution_count": null,
      "outputs": []
    },
    {
      "cell_type": "code",
      "source": [
        "test = pd.read_csv('reviews_test.tsv', encoding = 'ISO-8859-1', sep = '\\t')"
      ],
      "metadata": {
        "id": "u2tr7kDS8fnX"
      },
      "execution_count": null,
      "outputs": []
    },
    {
      "cell_type": "code",
      "source": [
        "val = pd.read_csv('reviews_val.tsv', encoding = 'ISO-8859-1', sep = '\\t')"
      ],
      "metadata": {
        "id": "zRIvTcQQ8lcC"
      },
      "execution_count": null,
      "outputs": []
    },
    {
      "cell_type": "markdown",
      "source": [
        "#### Bag of Words Representation"
      ],
      "metadata": {
        "id": "nJYW6uxY8pz6"
      }
    },
    {
      "cell_type": "code",
      "source": [
        "from sklearn.feature_extraction.text import CountVectorizer"
      ],
      "metadata": {
        "id": "FiOQgkj89HvN"
      },
      "execution_count": null,
      "outputs": []
    },
    {
      "cell_type": "code",
      "source": [
        "#instantiate vectorizer\n"
      ],
      "metadata": {
        "id": "V9BTqyfs9Hr2"
      },
      "execution_count": null,
      "outputs": []
    },
    {
      "cell_type": "code",
      "source": [
        "X = train.head()['text']\n",
        "y = train.head()['sentiment']"
      ],
      "metadata": {
        "id": "OBqxt7wH9HpT"
      },
      "execution_count": null,
      "outputs": []
    },
    {
      "cell_type": "code",
      "source": [
        "#create bag of words\n"
      ],
      "metadata": {
        "id": "5O6WZPid9Hma"
      },
      "execution_count": null,
      "outputs": []
    },
    {
      "cell_type": "code",
      "source": [
        "#examine in dataframe\n"
      ],
      "metadata": {
        "id": "lhhMAmiY9Hje"
      },
      "execution_count": null,
      "outputs": []
    },
    {
      "cell_type": "code",
      "source": [
        "#compare to X\n"
      ],
      "metadata": {
        "id": "_o79CYgT83Wa"
      },
      "execution_count": null,
      "outputs": []
    },
    {
      "cell_type": "markdown",
      "source": [
        "#### Learning with Data"
      ],
      "metadata": {
        "id": "i09DRsHd9Ius"
      }
    },
    {
      "cell_type": "code",
      "source": [
        "thetas = ''\n",
        "theta_0 = ''"
      ],
      "metadata": {
        "id": "6d0pTmHxBn1_"
      },
      "execution_count": null,
      "outputs": []
    },
    {
      "cell_type": "code",
      "source": [
        "theta, theta_0 = ''"
      ],
      "metadata": {
        "id": "nQtOmQij9Y5j"
      },
      "execution_count": null,
      "outputs": []
    },
    {
      "cell_type": "code",
      "source": [
        "theta"
      ],
      "metadata": {
        "id": "g78NZK2pDhie"
      },
      "execution_count": null,
      "outputs": []
    },
    {
      "cell_type": "code",
      "source": [
        "theta_0"
      ],
      "metadata": {
        "id": "mntVWPRMDjR0"
      },
      "execution_count": null,
      "outputs": []
    },
    {
      "cell_type": "markdown",
      "source": [
        "#### Vectorizing all the Data"
      ],
      "metadata": {
        "id": "Uxb_fKQOUUO7"
      }
    },
    {
      "cell_type": "code",
      "source": [
        "#training data\n",
        "X_train, y_train = '', ''"
      ],
      "metadata": {
        "id": "ULWMMLyuUTGP"
      },
      "execution_count": null,
      "outputs": []
    },
    {
      "cell_type": "code",
      "source": [
        "#testing data\n",
        "X_test, y_test = '', ''"
      ],
      "metadata": {
        "id": "WTKz90ANUSy4"
      },
      "execution_count": null,
      "outputs": []
    },
    {
      "cell_type": "code",
      "source": [
        "#validation data\n",
        "X_val, y_val = '', ''"
      ],
      "metadata": {
        "id": "3GHzqnWqUSqt"
      },
      "execution_count": null,
      "outputs": []
    },
    {
      "cell_type": "markdown",
      "source": [
        "#### Using `sklearn`\n",
        "\n",
        "Using `sklearn` models is similar from one model to the next.  Typically there is a three step modeling process.  \n",
        "\n",
        "- Instantiate\n",
        "- Fit\n",
        "- Predict"
      ],
      "metadata": {
        "id": "TXkX7o6kDkbq"
      }
    },
    {
      "cell_type": "code",
      "source": [
        "#define X and y\n"
      ],
      "metadata": {
        "id": "JKw-b-MLUNBV"
      },
      "execution_count": null,
      "outputs": []
    },
    {
      "cell_type": "code",
      "source": [
        "#instantiate SGDClassifier\n"
      ],
      "metadata": {
        "id": "mMHhEHpPTxSS"
      },
      "execution_count": null,
      "outputs": []
    },
    {
      "cell_type": "code",
      "source": [
        "#fit\n"
      ],
      "metadata": {
        "id": "4WcC9sO6ULLJ"
      },
      "execution_count": null,
      "outputs": []
    },
    {
      "cell_type": "code",
      "source": [
        "#score on training\n"
      ],
      "metadata": {
        "id": "DxsHnjJuUjQW"
      },
      "execution_count": null,
      "outputs": []
    },
    {
      "cell_type": "code",
      "source": [
        "#score on testing\n"
      ],
      "metadata": {
        "id": "horzafrPUlsF"
      },
      "execution_count": null,
      "outputs": []
    },
    {
      "cell_type": "code",
      "source": [
        "#score on validation\n"
      ],
      "metadata": {
        "id": "VNXE0Wr9UnWm"
      },
      "execution_count": null,
      "outputs": []
    },
    {
      "cell_type": "markdown",
      "source": [
        "#### Improving the Models\n",
        "\n",
        "As in the recitation there are likely some parameters to tune in the model including the regularization penalty and adjusting the loss function.  "
      ],
      "metadata": {
        "id": "ac8JB0zfUo0x"
      }
    },
    {
      "cell_type": "code",
      "source": [
        "#SGD Parameters?\n"
      ],
      "metadata": {
        "id": "INEb2ipHUzXf"
      },
      "execution_count": null,
      "outputs": []
    },
    {
      "cell_type": "code",
      "source": [
        "#perceptron\n"
      ],
      "metadata": {
        "id": "WguTQEdyVcCe"
      },
      "execution_count": null,
      "outputs": []
    },
    {
      "cell_type": "code",
      "source": [
        "#hinge\n"
      ],
      "metadata": {
        "id": "TLT0fdwrVeGG"
      },
      "execution_count": null,
      "outputs": []
    },
    {
      "cell_type": "code",
      "source": [
        "#regularization\n"
      ],
      "metadata": {
        "id": "uyvr02n6Ve1K"
      },
      "execution_count": null,
      "outputs": []
    },
    {
      "cell_type": "code",
      "source": [
        "#cross validate\n"
      ],
      "metadata": {
        "id": "7478cDHfVrbt"
      },
      "execution_count": null,
      "outputs": []
    },
    {
      "cell_type": "markdown",
      "source": [
        "#### Exercise\n",
        "\n",
        "Set up an experiment to using different loss functions and penalty terms.  Select the parameters that perform best on the *test* data."
      ],
      "metadata": {
        "id": "_l7HRpj2VgLS"
      }
    },
    {
      "cell_type": "code",
      "source": [],
      "metadata": {
        "id": "gXS4uJmpWD8P"
      },
      "execution_count": null,
      "outputs": []
    },
    {
      "cell_type": "code",
      "source": [],
      "metadata": {
        "id": "4gubmvZ5WD4V"
      },
      "execution_count": null,
      "outputs": []
    },
    {
      "cell_type": "code",
      "source": [],
      "metadata": {
        "id": "IcxbAShuWD0Z"
      },
      "execution_count": null,
      "outputs": []
    },
    {
      "cell_type": "code",
      "source": [],
      "metadata": {
        "id": "4DI9guSoWB6s"
      },
      "execution_count": null,
      "outputs": []
    },
    {
      "cell_type": "markdown",
      "source": [
        "#### Up Next: The Regression Setting\n",
        "\n"
      ],
      "metadata": {
        "id": "7rSCuOKeWSJo"
      }
    },
    {
      "cell_type": "code",
      "source": [
        "import seaborn as sns"
      ],
      "metadata": {
        "id": "2iYmyuiBWZ4T"
      },
      "execution_count": null,
      "outputs": []
    },
    {
      "cell_type": "code",
      "source": [
        "tips = sns.load_dataset('tips')\n",
        "tips.head()"
      ],
      "metadata": {
        "id": "SAFQn9tbWbAl"
      },
      "execution_count": null,
      "outputs": []
    },
    {
      "cell_type": "code",
      "source": [
        "#X and y\n"
      ],
      "metadata": {
        "id": "Bn1z9ITjWdxD"
      },
      "execution_count": null,
      "outputs": []
    },
    {
      "cell_type": "code",
      "source": [
        "#parameters\n"
      ],
      "metadata": {
        "id": "A7qMLc-1Wjhe"
      },
      "execution_count": null,
      "outputs": []
    },
    {
      "cell_type": "code",
      "source": [
        "#prediction\n"
      ],
      "metadata": {
        "id": "4xUOxxVaWnU6"
      },
      "execution_count": null,
      "outputs": []
    },
    {
      "cell_type": "code",
      "source": [
        "#loss\n"
      ],
      "metadata": {
        "id": "JlYN8De2WpJv"
      },
      "execution_count": null,
      "outputs": []
    },
    {
      "cell_type": "markdown",
      "source": [
        "$$w_{i + 1} = w_i + \\alpha (y - \\theta X)X$$"
      ],
      "metadata": {
        "id": "F52rEsnmWqv0"
      }
    },
    {
      "cell_type": "code",
      "source": [
        "#update the weight\n"
      ],
      "metadata": {
        "id": "BnNPSoY_W5oL"
      },
      "execution_count": null,
      "outputs": []
    },
    {
      "cell_type": "markdown",
      "source": [
        "#### Using `sklearn`"
      ],
      "metadata": {
        "id": "vlIKdjbKW_v3"
      }
    },
    {
      "cell_type": "code",
      "source": [
        "from sklearn.linear_model import SGDRegressor"
      ],
      "metadata": {
        "id": "whxPh9HYXCI2"
      },
      "execution_count": null,
      "outputs": []
    },
    {
      "cell_type": "code",
      "source": [
        "#instantiate\n"
      ],
      "metadata": {
        "id": "3o5j0jbKXFFX"
      },
      "execution_count": null,
      "outputs": []
    },
    {
      "cell_type": "code",
      "source": [
        "#fit\n"
      ],
      "metadata": {
        "id": "lv5qdZfnXGEk"
      },
      "execution_count": null,
      "outputs": []
    },
    {
      "cell_type": "code",
      "source": [
        "#predict\n"
      ],
      "metadata": {
        "id": "EL1X_XOaXG2_"
      },
      "execution_count": null,
      "outputs": []
    },
    {
      "cell_type": "code",
      "source": [
        "#score\n"
      ],
      "metadata": {
        "id": "9TctbaxEXHlp"
      },
      "execution_count": null,
      "outputs": []
    },
    {
      "cell_type": "code",
      "source": [],
      "metadata": {
        "id": "82rdULXKXJJ4"
      },
      "execution_count": null,
      "outputs": []
    }
  ]
}