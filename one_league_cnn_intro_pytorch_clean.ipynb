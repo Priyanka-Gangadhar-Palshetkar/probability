{
  "nbformat": 4,
  "nbformat_minor": 0,
  "metadata": {
    "colab": {
      "provenance": [],
      "include_colab_link": true
    },
    "kernelspec": {
      "name": "python3",
      "display_name": "Python 3"
    },
    "language_info": {
      "name": "python"
    },
    "accelerator": "GPU",
    "gpuClass": "standard"
  },
  "cells": [
    {
      "cell_type": "markdown",
      "metadata": {
        "id": "view-in-github",
        "colab_type": "text"
      },
      "source": [
        "<a href=\"https://colab.research.google.com/github/iPrinka/MITx-Micromasters-Statistics-Data-Science/blob/main/one_league_cnn_intro_pytorch_clean.ipynb\" target=\"_parent\"><img src=\"https://colab.research.google.com/assets/colab-badge.svg\" alt=\"Open In Colab\"/></a>"
      ]
    },
    {
      "cell_type": "markdown",
      "source": [
        "### Datasets and Convnets in `pytorch`\n",
        "\n",
        "- Build model on `.csv` dataset for binary classification\n",
        "- Build Convolutional Network Architecture with `pytorch`\n",
        "- Build in Regularization with L2 Norm and Dropout"
      ],
      "metadata": {
        "id": "YouhtCkUUew9"
      }
    },
    {
      "cell_type": "code",
      "source": [
        "from torchvision.datasets import ImageFolder\n",
        "from torch.utils.data import Dataset, DataLoader\n",
        "\n",
        "import torch\n",
        "from torch import optim\n",
        "from torchvision.transforms import ToTensor, Resize, Compose, Normalize\n",
        "import torch.nn as nn \n",
        "\n",
        "import pandas as pd\n",
        "import numpy as np\n",
        "import matplotlib.pyplot as plt\n",
        "\n",
        "from sklearn.linear_model import SGDClassifier, LogisticRegression"
      ],
      "metadata": {
        "id": "IM9dptJbr2Ig"
      },
      "execution_count": null,
      "outputs": []
    },
    {
      "cell_type": "code",
      "source": [
        "#mounting the drive\n",
        "!ls"
      ],
      "metadata": {
        "id": "HcPmUjDXr2F4"
      },
      "execution_count": null,
      "outputs": []
    },
    {
      "cell_type": "markdown",
      "source": [
        "#### Problem: Classifying Diabetes Incidence\n",
        "\n",
        "Using your classification knowledge, build and train at least 3 different classification models, and compare their performance.  For your third model, try to use `pytorch` to build and train a simple network.  "
      ],
      "metadata": {
        "id": "T1zEonm4g4mJ"
      }
    },
    {
      "cell_type": "code",
      "source": [
        "#loading csv with pandas\n",
        "df = pd.read_csv('diabetes.csv')"
      ],
      "metadata": {
        "id": "0SWAhWlIr1-t"
      },
      "execution_count": null,
      "outputs": []
    },
    {
      "cell_type": "code",
      "source": [
        "df.head()"
      ],
      "metadata": {
        "id": "uZryzQ0Sr18Z"
      },
      "execution_count": null,
      "outputs": []
    },
    {
      "cell_type": "code",
      "source": [
        "df.info()"
      ],
      "metadata": {
        "id": "Rs187L4dr16H"
      },
      "execution_count": null,
      "outputs": []
    },
    {
      "cell_type": "code",
      "source": [
        "df.info()"
      ],
      "metadata": {
        "id": "oCG_ntIus_UX"
      },
      "execution_count": null,
      "outputs": []
    },
    {
      "cell_type": "code",
      "source": [],
      "metadata": {
        "id": "4bm7hNOyhm5f"
      },
      "execution_count": null,
      "outputs": []
    },
    {
      "cell_type": "code",
      "source": [],
      "metadata": {
        "id": "wkfbVwAnhmrX"
      },
      "execution_count": null,
      "outputs": []
    },
    {
      "cell_type": "code",
      "source": [],
      "metadata": {
        "id": "VZkv2H_0hmmr"
      },
      "execution_count": null,
      "outputs": []
    },
    {
      "cell_type": "code",
      "source": [],
      "metadata": {
        "id": "4ZGNEyLshmjQ"
      },
      "execution_count": null,
      "outputs": []
    },
    {
      "cell_type": "code",
      "source": [],
      "metadata": {
        "id": "VTxFFURehmfz"
      },
      "execution_count": null,
      "outputs": []
    },
    {
      "cell_type": "code",
      "source": [],
      "metadata": {
        "id": "9AeUKRYnhmcI"
      },
      "execution_count": null,
      "outputs": []
    },
    {
      "cell_type": "markdown",
      "source": [
        "#### Datasets in `pytorch` \n",
        "\n",
        "- `Dataset`: Retrieves items from data\n",
        "- `DataLoader`: Creates batches of data using the `Dataset`"
      ],
      "metadata": {
        "id": "uXdT9jovhnur"
      }
    },
    {
      "cell_type": "code",
      "source": [
        "#creating a dataset class\n",
        "class MyDataset(Dataset):\n",
        "  pass"
      ],
      "metadata": {
        "id": "8yXJ8uFztB4B"
      },
      "execution_count": null,
      "outputs": []
    },
    {
      "cell_type": "code",
      "source": [
        "#instance of the class\n",
        "dset = MyDataset(df)"
      ],
      "metadata": {
        "id": "KFlMXL9utB0V"
      },
      "execution_count": null,
      "outputs": []
    },
    {
      "cell_type": "code",
      "source": [
        "#DataLoader with batches\n",
        "loader = DataLoader(dset, batch_size = 24)"
      ],
      "metadata": {
        "id": "YtYHWbvktBw_"
      },
      "execution_count": null,
      "outputs": []
    },
    {
      "cell_type": "markdown",
      "source": [
        "#### Training a Model"
      ],
      "metadata": {
        "id": "JhUJkI15PPj5"
      }
    },
    {
      "cell_type": "code",
      "source": [
        "#declare gpu if available\n",
        "device = \"cuda\" if torch.cuda.is_available() else \"cpu\""
      ],
      "metadata": {
        "id": "UyBE8wfOu_Lg"
      },
      "execution_count": null,
      "outputs": []
    },
    {
      "cell_type": "code",
      "source": [
        "device"
      ],
      "metadata": {
        "id": "AmeKSU7jZ2d6"
      },
      "execution_count": null,
      "outputs": []
    },
    {
      "cell_type": "code",
      "source": [
        "#basic linear model\n"
      ],
      "metadata": {
        "id": "DVy_E5jJuVOc"
      },
      "execution_count": null,
      "outputs": []
    },
    {
      "cell_type": "code",
      "source": [
        "#move to gpu\n"
      ],
      "metadata": {
        "id": "qNk8wV50vHt1"
      },
      "execution_count": null,
      "outputs": []
    },
    {
      "cell_type": "code",
      "source": [
        "#optimizer\n",
        "\n",
        "#loss function\n"
      ],
      "metadata": {
        "id": "RSMAF0dluVLc"
      },
      "execution_count": null,
      "outputs": []
    },
    {
      "cell_type": "code",
      "source": [
        "def training_loop(epochs, optimizer, model, loss_func, loader):\n",
        "  for epoch in range(1, epochs + 1):\n",
        "    loss_train = 0.0\n",
        "    for x, y in loader:\n",
        "      x = x.to(device)\n",
        "      y = y.to(device)\n",
        "      #output from model\n",
        "      output = model(x)\n",
        "      #loss\n",
        "      loss = loss_func(output, y)\n",
        "      #zero out optimizer\n",
        "      optimizer.zero_grad()\n",
        "      #backpropagate\n",
        "      loss.backward()\n",
        "      #step\n",
        "      optimizer.step()\n",
        "      #track loss\n",
        "      loss_train += loss.item()\n",
        "    if epoch == 1 or epoch % 100 == 0:\n",
        "      print(f'Epoch {epoch}, Loss {loss_train}.')"
      ],
      "metadata": {
        "id": "wyTBTsHvtBte"
      },
      "execution_count": null,
      "outputs": []
    },
    {
      "cell_type": "code",
      "source": [
        "#train for 100 epochs\n",
        "training_loop(1000, optimizer, model, loss_func, loader)"
      ],
      "metadata": {
        "id": "AHMK2XdLuVJA"
      },
      "execution_count": null,
      "outputs": []
    },
    {
      "cell_type": "code",
      "source": [
        "#evaluating\n",
        "total = 0\n",
        "correct = 0\n",
        "with torch.no_grad():\n",
        "  for x, y in loader:\n",
        "    x = x.to(device)\n",
        "    y = y.to(device)\n",
        "    #output of model\n",
        "    out = model(x)\n",
        "    #turn to predictions\n",
        "    _, preds = torch.max(out, dim = 1)\n",
        "    #compute number correct and total\n",
        "    total += y.shape[0]\n",
        "    correct += int((preds == y).sum())\n",
        "    "
      ],
      "metadata": {
        "id": "51dsYoPKuVF1"
      },
      "execution_count": null,
      "outputs": []
    },
    {
      "cell_type": "code",
      "source": [
        "#accuracy?\n",
        "correct/total"
      ],
      "metadata": {
        "id": "qnjIS7YuuVDM"
      },
      "execution_count": null,
      "outputs": []
    },
    {
      "cell_type": "code",
      "source": [
        "#baseline? -- NULL MODEL\n",
        "df['Outcome'].value_counts(normalize = True)"
      ],
      "metadata": {
        "id": "dyOTNfPrtBqI"
      },
      "execution_count": null,
      "outputs": []
    },
    {
      "cell_type": "markdown",
      "source": [
        "#### Image Example"
      ],
      "metadata": {
        "id": "kqwGbG7qRxLY"
      }
    },
    {
      "cell_type": "code",
      "source": [
        "from torchvision import datasets"
      ],
      "metadata": {
        "id": "av8yIywYx0Lp"
      },
      "execution_count": null,
      "outputs": []
    },
    {
      "cell_type": "code",
      "source": [
        "#download cifar10 as train\n",
        "cifar10 = datasets.CIFAR10('.', download = True, transform = ToTensor())"
      ],
      "metadata": {
        "id": "Dy_QTKwVx0Hl"
      },
      "execution_count": null,
      "outputs": []
    },
    {
      "cell_type": "code",
      "source": [
        "#transformed dataset\n",
        "transformed_cifar10 = datasets.CIFAR10('.', download = True, transform = Compose([ToTensor(), Normalize((0.4914, 0.4822, 0.4465), \n",
        "                                                                                                        (0.2470, 0.2435, 0.2616))]))"
      ],
      "metadata": {
        "id": "QP8COTEe30M4"
      },
      "execution_count": null,
      "outputs": []
    },
    {
      "cell_type": "code",
      "source": [
        "#transformed validation dataset\n",
        "transformed_cifar10_val = datasets.CIFAR10('.', download = True, train = False, transform = Compose([ToTensor(), Normalize((0.4914, 0.4822, 0.4465), \n",
        "                                                                                                        (0.2470, 0.2435, 0.2616))]))"
      ],
      "metadata": {
        "id": "pFMcwi2aE6UJ"
      },
      "execution_count": null,
      "outputs": []
    },
    {
      "cell_type": "code",
      "source": [
        "#binarization\n",
        "labels = {0:0, 1:1}\n",
        "names = ['airplane', 'car']\n",
        "cifar_binary = [(im, labels[label]) for im, label in transformed_cifar10 if label in [0, 1]]\n",
        "cifar_binary_val = [(im, labels[label]) for im, label in transformed_cifar10_val if label in [0, 1]]"
      ],
      "metadata": {
        "id": "NgLshkJM4Otp"
      },
      "execution_count": null,
      "outputs": []
    },
    {
      "cell_type": "code",
      "source": [
        "plt.imshow(cifar_binary[10][0][0, :, :], cmap = 'gray')"
      ],
      "metadata": {
        "id": "gd0qP2WF5nIz"
      },
      "execution_count": null,
      "outputs": []
    },
    {
      "cell_type": "markdown",
      "source": [
        "#### Convolutional Neural Network\n",
        "\n",
        "![](https://upload.wikimedia.org/wikipedia/commons/thumb/6/63/Typical_cnn.png/790px-Typical_cnn.png)"
      ],
      "metadata": {
        "id": "N6gP0GquigIq"
      }
    },
    {
      "cell_type": "markdown",
      "source": [
        "#### Building the Convolutional Network\n",
        "\n",
        "$$\\text{INPUT} = (C_{in}, H_{in}, W_{in})$$\n",
        "\n",
        "$$\\text{OUTPUT} = (C_{out}, H_{out}, W_{out})$$\n",
        "\n",
        "$$H_{out} = \\left\\lfloor\\frac{H_{in}  + 2 \\times \\text{padding}[0] - \\text{dilation}[0]\n",
        "                    \\times (\\text{kernel\\_size}[0] - 1) - 1}{\\text{stride}[0]} + 1\\right\\rfloor$$\n",
        "\n",
        "$$W_{out} = \\left\\lfloor\\frac{W_{in}  + 2 \\times \\text{padding}[1] - \\text{dilation}[1]\n",
        "                    \\times (\\text{kernel\\_size}[1] - 1) - 1}{\\text{stride}[1]} + 1\\right\\rfloor$$"
      ],
      "metadata": {
        "id": "ScGzrD8liUCF"
      }
    },
    {
      "cell_type": "code",
      "source": [
        "#defining the network as a module\n"
      ],
      "metadata": {
        "id": "4VgkSohv5vh0"
      },
      "execution_count": null,
      "outputs": []
    },
    {
      "cell_type": "code",
      "source": [
        "#model, optimizer, and loss\n",
        "model = CNet()\n",
        "optimizer = optim.SGD(model.parameters(), lr = 0.01)\n",
        "loss = nn.CrossEntropyLoss()"
      ],
      "metadata": {
        "id": "aCUyVsZqBXbX"
      },
      "execution_count": null,
      "outputs": []
    },
    {
      "cell_type": "code",
      "source": [
        "#model to gpu\n",
        "model = model.to(device)"
      ],
      "metadata": {
        "id": "5mHzaE5xDi_5"
      },
      "execution_count": null,
      "outputs": []
    },
    {
      "cell_type": "code",
      "source": [
        "#train batches\n",
        "train_loader = DataLoader(cifar_binary, batch_size = 32)"
      ],
      "metadata": {
        "id": "n_lfFbz9DWDE"
      },
      "execution_count": null,
      "outputs": []
    },
    {
      "cell_type": "code",
      "source": [
        "#train the model\n",
        "training_loop(100, optimizer, model, loss, train_loader)"
      ],
      "metadata": {
        "id": "06uGzJJ3C_5Z"
      },
      "execution_count": null,
      "outputs": []
    },
    {
      "cell_type": "code",
      "source": [
        "#validation loader\n",
        "val_loader = DataLoader(cifar_binary_val, batch_size = 32, shuffle = False)"
      ],
      "metadata": {
        "id": "G0Q1Ef3sDgou"
      },
      "execution_count": null,
      "outputs": []
    },
    {
      "cell_type": "code",
      "source": [
        "#validation function\n",
        "def validate(model, train_loader, val_loader):\n",
        "  for name, dataset in [(\"Train\", train_loader), (\"Test\", val_loader)]:\n",
        "    correct = 0\n",
        "    total = 0\n",
        "    with torch.no_grad():\n",
        "      for imgs, labels in dataset:\n",
        "        imgs = imgs.to(device)\n",
        "        labels = labels.to(device)\n",
        "        out = model(imgs)\n",
        "        _, preds = torch.max(out, dim = 1)\n",
        "        total += labels.shape[0]\n",
        "        correct += int((preds == labels).sum())\n",
        "      print(f\"{name}: Accuracy: {correct/total}\")"
      ],
      "metadata": {
        "id": "sdd8PcyAFl64"
      },
      "execution_count": null,
      "outputs": []
    },
    {
      "cell_type": "code",
      "source": [
        "#examine the accuracy\n",
        "validate(model, train_loader, val_loader)"
      ],
      "metadata": {
        "id": "QCCzztSIGa7e"
      },
      "execution_count": null,
      "outputs": []
    },
    {
      "cell_type": "code",
      "source": [
        "#save the model\n",
        "torch.save(model.state_dict(), 'car_vs_plane.pt')"
      ],
      "metadata": {
        "id": "eK5unIICGhdI"
      },
      "execution_count": null,
      "outputs": []
    },
    {
      "cell_type": "code",
      "source": [
        "#reload the model\n",
        "reloaded = torch.load('car_vs_plane.pt')\n",
        "reloaded"
      ],
      "metadata": {
        "id": "ett1RNN5HFP6"
      },
      "execution_count": null,
      "outputs": []
    },
    {
      "cell_type": "markdown",
      "source": [
        "#### Problem\n",
        "\n",
        "Load in the Digit Dataset from `pytorch`."
      ],
      "metadata": {
        "id": "-GcMNLCbfCdm"
      }
    },
    {
      "cell_type": "code",
      "source": [],
      "metadata": {
        "id": "d_wQGqnalUfJ"
      },
      "execution_count": null,
      "outputs": []
    },
    {
      "cell_type": "code",
      "source": [],
      "metadata": {
        "id": "62F86_cXlUbc"
      },
      "execution_count": null,
      "outputs": []
    },
    {
      "cell_type": "code",
      "source": [],
      "metadata": {
        "id": "95zVklHIlUYU"
      },
      "execution_count": null,
      "outputs": []
    },
    {
      "cell_type": "code",
      "source": [],
      "metadata": {
        "id": "f_3kGQzhlUVR"
      },
      "execution_count": null,
      "outputs": []
    },
    {
      "cell_type": "code",
      "source": [],
      "metadata": {
        "id": "tHzCWpQ1lUSh"
      },
      "execution_count": null,
      "outputs": []
    },
    {
      "cell_type": "code",
      "source": [],
      "metadata": {
        "id": "b1KozmbYlUPw"
      },
      "execution_count": null,
      "outputs": []
    },
    {
      "cell_type": "code",
      "source": [],
      "metadata": {
        "id": "06VPoyA_lUNm"
      },
      "execution_count": null,
      "outputs": []
    },
    {
      "cell_type": "code",
      "source": [],
      "metadata": {
        "id": "ZhLziLPclUKw"
      },
      "execution_count": null,
      "outputs": []
    },
    {
      "cell_type": "code",
      "source": [],
      "metadata": {
        "id": "p_sEnW8VlUH7"
      },
      "execution_count": null,
      "outputs": []
    },
    {
      "cell_type": "code",
      "source": [],
      "metadata": {
        "id": "bppxLHaflUFK"
      },
      "execution_count": null,
      "outputs": []
    },
    {
      "cell_type": "markdown",
      "source": [
        "#### Regularization\n",
        "\n",
        "- Weight Decay\n",
        "- Dropout"
      ],
      "metadata": {
        "id": "atXVuji6S1cZ"
      }
    },
    {
      "cell_type": "code",
      "source": [
        "def training_loop_l2(epochs, optimizer, model, loss_func, loader):\n",
        "  for epoch in range(1, epochs + 1):\n",
        "    loss_train = 0.0\n",
        "    for x, y in loader:\n",
        "      x = x.to(device)\n",
        "      y = y.to(device)\n",
        "      outputs = model(x)\n",
        "      loss = loss_func(outputs, y)\n",
        "      ###lambda\n",
        "      l2_lambda = 0.01\n",
        "      ###compute the l2 term\n",
        "      l2_norm = sum(param.pow(2).sum() for param in model.parameters())\n",
        "      ###update loss\n",
        "      loss = loss + l2_lambda*l2_norm\n",
        "      optimizer.zero_grad()\n",
        "      loss.backward()\n",
        "      optimizer.step()\n",
        "      loss_train += loss.item()\n",
        "    if epoch == 1 or epoch % 10 == 0:\n",
        "      print(f'Epoch {epoch}, Loss {loss_train}.')"
      ],
      "metadata": {
        "id": "U0ioO7sqHJVp"
      },
      "execution_count": null,
      "outputs": []
    },
    {
      "cell_type": "code",
      "source": [
        "class CNetDropout(nn.Module):\n",
        "  def __init__(self, n_chans1 = 16):\n",
        "    super.__init__()\n",
        "    self.n_chans1 = n_chans1\n",
        "    self.conv1 = nn.Conv2d(3, n_chans1, 3, padding = 1)\n",
        "    #add dropout\n",
        "    self.conv1_dropout = nn.Dropout(.2)\n",
        "    self.conv2 = nn.Conv2d(n_chans1, n_chans1 // 2, 3, padding = 1)\n",
        "    #add dropout\n",
        "    self.conv2_dropout = nn.Dropout(.2)\n",
        "    self.lin1 = nn.Linear(8*8*n_chans1 // 2, 32)\n",
        "    self.lin2 = nn.Linear(32, 2)\n",
        "\n",
        "  def forward(self, x):\n",
        "    x = F.max_pool2d(torch.tanh(self.conv1(x)), 2)\n",
        "    #use dropout\n",
        "    x = self.conv1_dropout(x)\n",
        "    x = F.max_pool2d(torch.tanh(self.conv2(x)), 2)\n",
        "    #use dropout\n",
        "    x = self.conv2_dropout(x)\n",
        "    x = x.view(-1, 8*8*8*self.n_chans1 // 2)\n",
        "    x = torch.tanh(self.lin1(x))\n",
        "    x = self.lin2(x)\n",
        "    return x \n"
      ],
      "metadata": {
        "id": "WXYVpDYKHvNf"
      },
      "execution_count": null,
      "outputs": []
    },
    {
      "cell_type": "code",
      "source": [],
      "metadata": {
        "id": "MJPRaFgiTX15"
      },
      "execution_count": null,
      "outputs": []
    }
  ]
}